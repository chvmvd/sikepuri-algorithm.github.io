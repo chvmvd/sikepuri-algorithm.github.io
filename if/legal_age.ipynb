{
 "cells": [
  {
   "cell_type": "code",
   "execution_count": 1,
   "metadata": {
    "execution": {
     "iopub.execute_input": "2023-04-30T12:19:02.595649Z",
     "iopub.status.busy": "2023-04-30T12:19:02.595175Z",
     "iopub.status.idle": "2023-04-30T12:19:02.604528Z",
     "shell.execute_reply": "2023-04-30T12:19:02.603707Z"
    }
   },
   "outputs": [
    {
     "name": "stdout",
     "output_type": "stream",
     "text": [
      "成人です。\n"
     ]
    }
   ],
   "source": [
    "age = 18\n",
    "\n",
    "if age >= 18:\n",
    "    print(\"成人です。\")\n",
    "else:\n",
    "    print(\"未成年です。\")"
   ]
  }
 ],
 "metadata": {
  "language_info": {
   "codemirror_mode": {
    "name": "ipython",
    "version": 3
   },
   "file_extension": ".py",
   "mimetype": "text/x-python",
   "name": "python",
   "nbconvert_exporter": "python",
   "pygments_lexer": "ipython3",
   "version": "3.10.11"
  }
 },
 "nbformat": 4,
 "nbformat_minor": 2
}
