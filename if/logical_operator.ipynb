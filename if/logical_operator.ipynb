{
 "cells": [
  {
   "cell_type": "code",
   "execution_count": 1,
   "metadata": {
    "execution": {
     "iopub.execute_input": "2023-02-07T00:43:13.220590Z",
     "iopub.status.busy": "2023-02-07T00:43:13.220126Z",
     "iopub.status.idle": "2023-02-07T00:43:13.228067Z",
     "shell.execute_reply": "2023-02-07T00:43:13.227438Z"
    }
   },
   "outputs": [
    {
     "name": "stdout",
     "output_type": "stream",
     "text": [
      "False\n"
     ]
    }
   ],
   "source": [
    "age = 18\n",
    "\n",
    "print(age > 20 or age == 20)"
   ]
  }
 ],
 "metadata": {
  "language_info": {
   "codemirror_mode": {
    "name": "ipython",
    "version": 3
   },
   "file_extension": ".py",
   "mimetype": "text/x-python",
   "name": "python",
   "nbconvert_exporter": "python",
   "pygments_lexer": "ipython3",
   "version": "3.10.9"
  }
 },
 "nbformat": 4,
 "nbformat_minor": 2
}
