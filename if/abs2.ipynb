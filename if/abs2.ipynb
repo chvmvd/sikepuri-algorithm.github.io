{
 "cells": [
  {
   "cell_type": "code",
   "execution_count": 1,
   "metadata": {
    "execution": {
     "iopub.execute_input": "2023-02-04T09:40:41.306302Z",
     "iopub.status.busy": "2023-02-04T09:40:41.305835Z",
     "iopub.status.idle": "2023-02-04T09:40:41.315358Z",
     "shell.execute_reply": "2023-02-04T09:40:41.314617Z"
    }
   },
   "outputs": [
    {
     "name": "stdout",
     "output_type": "stream",
     "text": [
      "10\n"
     ]
    }
   ],
   "source": [
    "def abs_val(n):\n",
    "    if n < 0:\n",
    "        n = -n\n",
    "    return n\n",
    "\n",
    "\n",
    "print(abs_val(-10))"
   ]
  }
 ],
 "metadata": {
  "language_info": {
   "codemirror_mode": {
    "name": "ipython",
    "version": 3
   },
   "file_extension": ".py",
   "mimetype": "text/x-python",
   "name": "python",
   "nbconvert_exporter": "python",
   "pygments_lexer": "ipython3",
   "version": "3.10.9"
  }
 },
 "nbformat": 4,
 "nbformat_minor": 2
}
