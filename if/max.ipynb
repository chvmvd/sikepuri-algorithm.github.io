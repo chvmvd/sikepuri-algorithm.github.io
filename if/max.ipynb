{
 "cells": [
  {
   "cell_type": "code",
   "execution_count": 1,
   "metadata": {
    "execution": {
     "iopub.execute_input": "2023-02-03T08:23:11.952913Z",
     "iopub.status.busy": "2023-02-03T08:23:11.952589Z",
     "iopub.status.idle": "2023-02-03T08:23:11.963232Z",
     "shell.execute_reply": "2023-02-03T08:23:11.961832Z"
    }
   },
   "outputs": [
    {
     "name": "stdout",
     "output_type": "stream",
     "text": [
      "80\n"
     ]
    }
   ],
   "source": [
    "def max_val(scores):\n",
    "    m = scores[0]\n",
    "    for i in range(1, len(scores)):\n",
    "        if m < scores[i]:\n",
    "            m = scores[i]\n",
    "    return m\n",
    "\n",
    "\n",
    "SCORES = [55, 32, 16, 51, 80, 19]\n",
    "print(max_val(SCORES))"
   ]
  }
 ],
 "metadata": {
  "language_info": {
   "codemirror_mode": {
    "name": "ipython",
    "version": 3
   },
   "file_extension": ".py",
   "mimetype": "text/x-python",
   "name": "python",
   "nbconvert_exporter": "python",
   "pygments_lexer": "ipython3",
   "version": "3.10.9"
  }
 },
 "nbformat": 4,
 "nbformat_minor": 2
}
