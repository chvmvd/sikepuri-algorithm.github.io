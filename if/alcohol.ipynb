{
 "cells": [
  {
   "cell_type": "code",
   "execution_count": 1,
   "metadata": {
    "execution": {
     "iopub.execute_input": "2023-04-30T07:31:39.099156Z",
     "iopub.status.busy": "2023-04-30T07:31:39.098904Z",
     "iopub.status.idle": "2023-04-30T07:31:39.107852Z",
     "shell.execute_reply": "2023-04-30T07:31:39.107078Z"
    }
   },
   "outputs": [
    {
     "name": "stdout",
     "output_type": "stream",
     "text": [
      "お酒は二十歳になってから！\n"
     ]
    }
   ],
   "source": [
    "age = 19\n",
    "if age < 20:\n",
    "    print(\"お酒は二十歳になってから！\")"
   ]
  }
 ],
 "metadata": {
  "language_info": {
   "codemirror_mode": {
    "name": "ipython",
    "version": 3
   },
   "file_extension": ".py",
   "mimetype": "text/x-python",
   "name": "python",
   "nbconvert_exporter": "python",
   "pygments_lexer": "ipython3",
   "version": "3.10.11"
  }
 },
 "nbformat": 4,
 "nbformat_minor": 2
}
