{
 "cells": [
  {
   "cell_type": "code",
   "execution_count": 1,
   "metadata": {
    "execution": {
     "iopub.execute_input": "2023-02-07T03:31:02.666454Z",
     "iopub.status.busy": "2023-02-07T03:31:02.665945Z",
     "iopub.status.idle": "2023-02-07T03:31:02.673360Z",
     "shell.execute_reply": "2023-02-07T03:31:02.672744Z"
    }
   },
   "outputs": [
    {
     "name": "stdout",
     "output_type": "stream",
     "text": [
      "お酒は二十歳になってから！\n"
     ]
    }
   ],
   "source": [
    "age = 19\n",
    "if age < 20:\n",
    "    print(\"お酒は二十歳になってから！\")"
   ]
  }
 ],
 "metadata": {
  "language_info": {
   "codemirror_mode": {
    "name": "ipython",
    "version": 3
   },
   "file_extension": ".py",
   "mimetype": "text/x-python",
   "name": "python",
   "nbconvert_exporter": "python",
   "pygments_lexer": "ipython3",
   "version": "3.10.9"
  }
 },
 "nbformat": 4,
 "nbformat_minor": 2
}
