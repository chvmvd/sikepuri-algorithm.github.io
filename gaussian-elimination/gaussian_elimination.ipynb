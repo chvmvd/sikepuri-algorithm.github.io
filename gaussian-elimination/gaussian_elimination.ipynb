{
 "nbformat": 4,
 "nbformat_minor": 2,
 "metadata": {},
 "cells": [
  {
   "metadata": {},
   "source": [
    "def gaussian_elimination(a):\n",
    "    # 前進消去\n",
    "    for i in range(len(a)):\n",
    "        # pivot倍で行を割る\n",
    "        pivot = a[i][i]\n",
    "        for j in range(i, len(a[i])):\n",
    "            a[i][j] /= pivot\n",
    "\n",
    "        # i + 1行目以降を掃き出す\n",
    "        for j in range(i + 1, len(a)):\n",
    "            factor = a[j][i]\n",
    "            for k in range(i, len(a[i])):\n",
    "                a[j][k] -= factor * a[i][k]\n",
    "\n",
    "    # 後退代入\n",
    "    x = [0 for _ in range(len(a[0]) - 1)]\n",
    "    for i in reversed(range(len(a))):\n",
    "        x[i] = a[i][len(a[i]) - 1]\n",
    "        for j in range(i):\n",
    "            a[j][len(a[i]) - 1] -= a[j][i] * x[i]\n",
    "    return x\n",
    "\n",
    "\n",
    "print(gaussian_elimination([[1, -2, 3, 3], [-1, 3, -2, 1], [1, -1, 6, 11]]))"
   ],
   "cell_type": "code",
   "outputs": [
    {
     "output_type": "stream",
     "name": "stdout",
     "text": [
      "[1.0, 2.0, 2.0]\n"
     ]
    }
   ],
   "execution_count": null
  }
 ]
}
