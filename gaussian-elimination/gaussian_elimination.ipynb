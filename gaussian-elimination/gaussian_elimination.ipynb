{
 "cells": [
  {
   "cell_type": "code",
   "execution_count": 1,
   "metadata": {
    "execution": {
     "iopub.execute_input": "2023-02-06T23:41:37.980748Z",
     "iopub.status.busy": "2023-02-06T23:41:37.979987Z",
     "iopub.status.idle": "2023-02-06T23:41:37.992567Z",
     "shell.execute_reply": "2023-02-06T23:41:37.991779Z"
    }
   },
   "outputs": [
    {
     "name": "stdout",
     "output_type": "stream",
     "text": [
      "[1.0, 2.0, 2.0]\n"
     ]
    }
   ],
   "source": [
    "def gaussian_elimination(a):\n",
    "    # 前進消去\n",
    "    for i in range(len(a)):\n",
    "        # pivot倍で行を割る\n",
    "        pivot = a[i][i]\n",
    "        for j in range(i, len(a[i])):\n",
    "            a[i][j] /= pivot\n",
    "\n",
    "        # i + 1行目以降を掃き出す\n",
    "        for j in range(i + 1, len(a)):\n",
    "            factor = a[j][i]\n",
    "            for k in range(i, len(a[i])):\n",
    "                a[j][k] -= factor * a[i][k]\n",
    "\n",
    "    # 後退代入\n",
    "    x = [0 for _ in range(len(a[0]) - 1)]\n",
    "    for i in reversed(range(len(a))):\n",
    "        x[i] = a[i][len(a[i]) - 1]\n",
    "        for j in range(i):\n",
    "            a[j][len(a[i]) - 1] -= a[j][i] * x[i]\n",
    "    return x\n",
    "\n",
    "\n",
    "print(gaussian_elimination([[1, -2, 3, 3], [-1, 3, -2, 1], [1, -1, 6, 11]]))"
   ]
  }
 ],
 "metadata": {
  "language_info": {
   "codemirror_mode": {
    "name": "ipython",
    "version": 3
   },
   "file_extension": ".py",
   "mimetype": "text/x-python",
   "name": "python",
   "nbconvert_exporter": "python",
   "pygments_lexer": "ipython3",
   "version": "3.10.9"
  }
 },
 "nbformat": 4,
 "nbformat_minor": 2
}
