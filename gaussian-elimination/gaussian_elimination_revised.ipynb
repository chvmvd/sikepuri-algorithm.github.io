{
 "nbformat": 4,
 "nbformat_minor": 2,
 "metadata": {},
 "cells": [
  {
   "metadata": {},
   "source": [
    "def gaussian_elimination_revised(a):\n",
    "    # 前進消去\n",
    "    for i in range(len(a)):\n",
    "        # 部分ピボット選択\n",
    "        for j in range(i + 1, len(a)):\n",
    "            if abs(a[i][i]) < abs(a[j][i]):\n",
    "                tmp = a[i]\n",
    "                a[i] = a[j]\n",
    "                a[j] = tmp\n",
    "        # pivot倍で行を割る\n",
    "        pivot = a[i][i]\n",
    "        for j in range(i, len(a[i])):\n",
    "            a[i][j] /= pivot\n",
    "\n",
    "        # i+1行目以降を掃き出す\n",
    "        for j in range(i + 1, len(a)):\n",
    "            factor = a[j][i]\n",
    "            for k in range(i, len(a[i])):\n",
    "                a[j][k] -= factor * a[i][k]\n",
    "    # 後退代入\n",
    "    x = []\n",
    "    for i in reversed(range(len(a))):\n",
    "        tmp = a[i][len(a[i]) - 1] / a[i][i]\n",
    "        for j in range(i):\n",
    "            a[j][len(a[i]) - 1] -= a[j][i] * tmp\n",
    "        x = [tmp] + x\n",
    "    return x\n",
    "\n",
    "\n",
    "print(gaussian_elimination_revised([[0, -2, 3, 2], [-1, 3, -2, 1], [1, -1, 6, 11]]))"
   ],
   "cell_type": "code",
   "outputs": [
    {
     "output_type": "stream",
     "name": "stdout",
     "text": [
      "[1.0, 2.0, 2.0]\n"
     ]
    }
   ],
   "execution_count": null
  }
 ]
}
