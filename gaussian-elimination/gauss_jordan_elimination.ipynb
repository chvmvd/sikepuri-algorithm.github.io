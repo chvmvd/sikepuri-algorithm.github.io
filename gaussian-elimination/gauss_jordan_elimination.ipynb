{
 "cells": [
  {
   "cell_type": "code",
   "execution_count": 1,
   "metadata": {
    "execution": {
     "iopub.execute_input": "2023-02-07T03:22:10.138732Z",
     "iopub.status.busy": "2023-02-07T03:22:10.138424Z",
     "iopub.status.idle": "2023-02-07T03:22:10.150644Z",
     "shell.execute_reply": "2023-02-07T03:22:10.150042Z"
    }
   },
   "outputs": [
    {
     "name": "stdout",
     "output_type": "stream",
     "text": [
      "[1.0, 2.0, 2.0]\n"
     ]
    }
   ],
   "source": [
    "def gauss_jordan_elimination(a):\n",
    "    # 前進消去\n",
    "    for i in range(len(a)):\n",
    "        # 部分ピボット選択\n",
    "        for j in range(i + 1, len(a)):\n",
    "            if abs(a[i][i]) < abs(a[j][i]):\n",
    "                a[i], a[j] = a[j], a[i]\n",
    "\n",
    "        # pivot倍で行を割る\n",
    "        pivot = a[i][i]\n",
    "        for j in range(i, len(a[i])):\n",
    "            a[i][j] /= pivot\n",
    "\n",
    "        # 掃き出す\n",
    "        for j in range(len(a)):\n",
    "            if j != i:\n",
    "                factor = a[j][i]\n",
    "                for k in range(i, len(a[i])):\n",
    "                    a[j][k] -= factor * a[i][k]\n",
    "    x = []\n",
    "    for i in range(len(a)):\n",
    "        x.append(a[i][len(a[i]) - 1])\n",
    "    return x\n",
    "\n",
    "\n",
    "print(gauss_jordan_elimination([[0, -2, 3, 2], [-1, 3, -2, 1], [1, -1, 6, 11]]))"
   ]
  }
 ],
 "metadata": {
  "language_info": {
   "codemirror_mode": {
    "name": "ipython",
    "version": 3
   },
   "file_extension": ".py",
   "mimetype": "text/x-python",
   "name": "python",
   "nbconvert_exporter": "python",
   "pygments_lexer": "ipython3",
   "version": "3.10.9"
  }
 },
 "nbformat": 4,
 "nbformat_minor": 2
}
