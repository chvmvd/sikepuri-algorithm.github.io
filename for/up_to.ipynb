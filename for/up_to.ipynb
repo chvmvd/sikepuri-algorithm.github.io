{
 "cells": [
  {
   "cell_type": "code",
   "execution_count": 1,
   "metadata": {
    "execution": {
     "iopub.execute_input": "2023-02-19T07:01:15.137061Z",
     "iopub.status.busy": "2023-02-19T07:01:15.136777Z",
     "iopub.status.idle": "2023-02-19T07:01:15.145146Z",
     "shell.execute_reply": "2023-02-19T07:01:15.144161Z"
    }
   },
   "outputs": [
    {
     "name": "stdout",
     "output_type": "stream",
     "text": [
      "55\n"
     ]
    }
   ],
   "source": [
    "def up_to(n):\n",
    "    sum_val = 0\n",
    "    for i in range(1, n + 1):\n",
    "        sum_val += i\n",
    "    return sum_val\n",
    "\n",
    "\n",
    "print(up_to(10))"
   ]
  }
 ],
 "metadata": {
  "language_info": {
   "codemirror_mode": {
    "name": "ipython",
    "version": 3
   },
   "file_extension": ".py",
   "mimetype": "text/x-python",
   "name": "python",
   "nbconvert_exporter": "python",
   "pygments_lexer": "ipython3",
   "version": "3.10.10"
  }
 },
 "nbformat": 4,
 "nbformat_minor": 2
}
