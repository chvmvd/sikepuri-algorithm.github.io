{
 "cells": [
  {
   "cell_type": "code",
   "execution_count": 1,
   "metadata": {
    "execution": {
     "iopub.execute_input": "2023-02-04T07:17:32.955124Z",
     "iopub.status.busy": "2023-02-04T07:17:32.954454Z",
     "iopub.status.idle": "2023-02-04T07:17:32.963489Z",
     "shell.execute_reply": "2023-02-04T07:17:32.962830Z"
    }
   },
   "outputs": [
    {
     "name": "stdout",
     "output_type": "stream",
     "text": [
      "55\n"
     ]
    }
   ],
   "source": [
    "sum_val = 0\n",
    "i = 1\n",
    "while i <= 10:\n",
    "    sum_val += i\n",
    "    i += 1\n",
    "print(sum_val)"
   ]
  }
 ],
 "metadata": {
  "language_info": {
   "codemirror_mode": {
    "name": "ipython",
    "version": 3
   },
   "file_extension": ".py",
   "mimetype": "text/x-python",
   "name": "python",
   "nbconvert_exporter": "python",
   "pygments_lexer": "ipython3",
   "version": "3.10.9"
  }
 },
 "nbformat": 4,
 "nbformat_minor": 2
}
