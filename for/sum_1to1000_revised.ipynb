{
 "cells": [
  {
   "cell_type": "code",
   "execution_count": 1,
   "metadata": {
    "execution": {
     "iopub.execute_input": "2023-02-06T14:33:52.325653Z",
     "iopub.status.busy": "2023-02-06T14:33:52.325226Z",
     "iopub.status.idle": "2023-02-06T14:33:52.333559Z",
     "shell.execute_reply": "2023-02-06T14:33:52.333042Z"
    }
   },
   "outputs": [
    {
     "name": "stdout",
     "output_type": "stream",
     "text": [
      "500500\n"
     ]
    }
   ],
   "source": [
    "sum_val = 0\n",
    "for i in range(1, 1001):\n",
    "    sum_val += i\n",
    "print(sum_val)"
   ]
  }
 ],
 "metadata": {
  "language_info": {
   "codemirror_mode": {
    "name": "ipython",
    "version": 3
   },
   "file_extension": ".py",
   "mimetype": "text/x-python",
   "name": "python",
   "nbconvert_exporter": "python",
   "pygments_lexer": "ipython3",
   "version": "3.10.9"
  }
 },
 "nbformat": 4,
 "nbformat_minor": 2
}
