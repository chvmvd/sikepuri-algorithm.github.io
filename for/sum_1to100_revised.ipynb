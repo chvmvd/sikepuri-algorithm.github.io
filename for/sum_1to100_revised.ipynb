{
 "cells": [
  {
   "cell_type": "code",
   "execution_count": 1,
   "metadata": {
    "execution": {
     "iopub.execute_input": "2023-04-30T03:42:35.872744Z",
     "iopub.status.busy": "2023-04-30T03:42:35.872541Z",
     "iopub.status.idle": "2023-04-30T03:42:35.880590Z",
     "shell.execute_reply": "2023-04-30T03:42:35.879270Z"
    }
   },
   "outputs": [
    {
     "name": "stdout",
     "output_type": "stream",
     "text": [
      "5050\n"
     ]
    }
   ],
   "source": [
    "sum_val = 0\n",
    "for i in range(1, 101):\n",
    "    sum_val += i\n",
    "print(sum_val)"
   ]
  }
 ],
 "metadata": {
  "language_info": {
   "codemirror_mode": {
    "name": "ipython",
    "version": 3
   },
   "file_extension": ".py",
   "mimetype": "text/x-python",
   "name": "python",
   "nbconvert_exporter": "python",
   "pygments_lexer": "ipython3",
   "version": "3.10.11"
  }
 },
 "nbformat": 4,
 "nbformat_minor": 2
}
