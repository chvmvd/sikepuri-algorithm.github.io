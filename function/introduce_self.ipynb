{
 "cells": [
  {
   "cell_type": "code",
   "execution_count": 1,
   "metadata": {
    "execution": {
     "iopub.execute_input": "2023-02-06T14:34:10.610557Z",
     "iopub.status.busy": "2023-02-06T14:34:10.610184Z",
     "iopub.status.idle": "2023-02-06T14:34:10.621037Z",
     "shell.execute_reply": "2023-02-06T14:34:10.620346Z"
    }
   },
   "outputs": [
    {
     "name": "stdout",
     "output_type": "stream",
     "text": [
      "私の名前は、田中です。\n"
     ]
    }
   ],
   "source": [
    "def introduce_self(name):\n",
    "    print(\"私の名前は、\" + name + \"です。\")\n",
    "\n",
    "\n",
    "introduce_self(\"田中\")"
   ]
  }
 ],
 "metadata": {
  "language_info": {
   "codemirror_mode": {
    "name": "ipython",
    "version": 3
   },
   "file_extension": ".py",
   "mimetype": "text/x-python",
   "name": "python",
   "nbconvert_exporter": "python",
   "pygments_lexer": "ipython3",
   "version": "3.10.9"
  }
 },
 "nbformat": 4,
 "nbformat_minor": 2
}
