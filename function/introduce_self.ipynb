{
 "cells": [
  {
   "cell_type": "code",
   "execution_count": 1,
   "metadata": {
    "execution": {
     "iopub.execute_input": "2023-02-03T08:58:36.752915Z",
     "iopub.status.busy": "2023-02-03T08:58:36.752621Z",
     "iopub.status.idle": "2023-02-03T08:58:36.763818Z",
     "shell.execute_reply": "2023-02-03T08:58:36.762923Z"
    }
   },
   "outputs": [
    {
     "name": "stdout",
     "output_type": "stream",
     "text": [
      "私の名前は、田中です。\n"
     ]
    }
   ],
   "source": [
    "def introduce_self(name):\n",
    "    print(\"私の名前は、\" + name + \"です。\")\n",
    "\n",
    "\n",
    "introduce_self(\"田中\")"
   ]
  }
 ],
 "metadata": {
  "language_info": {
   "codemirror_mode": {
    "name": "ipython",
    "version": 3
   },
   "file_extension": ".py",
   "mimetype": "text/x-python",
   "name": "python",
   "nbconvert_exporter": "python",
   "pygments_lexer": "ipython3",
   "version": "3.10.9"
  }
 },
 "nbformat": 4,
 "nbformat_minor": 2
}
