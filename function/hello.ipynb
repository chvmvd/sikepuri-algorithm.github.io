{
 "cells": [
  {
   "cell_type": "code",
   "execution_count": 1,
   "metadata": {
    "execution": {
     "iopub.execute_input": "2023-02-09T09:02:17.085627Z",
     "iopub.status.busy": "2023-02-09T09:02:17.084965Z",
     "iopub.status.idle": "2023-02-09T09:02:17.094638Z",
     "shell.execute_reply": "2023-02-09T09:02:17.093887Z"
    }
   },
   "outputs": [
    {
     "name": "stdout",
     "output_type": "stream",
     "text": [
      "Hello!\n",
      "Hello!\n",
      "Hello!\n"
     ]
    }
   ],
   "source": [
    "def hello():\n",
    "    print(\"Hello!\")\n",
    "\n",
    "\n",
    "hello()\n",
    "hello()\n",
    "hello()"
   ]
  }
 ],
 "metadata": {
  "language_info": {
   "codemirror_mode": {
    "name": "ipython",
    "version": 3
   },
   "file_extension": ".py",
   "mimetype": "text/x-python",
   "name": "python",
   "nbconvert_exporter": "python",
   "pygments_lexer": "ipython3",
   "version": "3.10.9"
  }
 },
 "nbformat": 4,
 "nbformat_minor": 2
}
