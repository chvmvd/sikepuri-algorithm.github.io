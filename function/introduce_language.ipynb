{
 "cells": [
  {
   "cell_type": "code",
   "execution_count": 1,
   "metadata": {
    "execution": {
     "iopub.execute_input": "2023-02-03T08:58:33.417023Z",
     "iopub.status.busy": "2023-02-03T08:58:33.416724Z",
     "iopub.status.idle": "2023-02-03T08:58:33.427398Z",
     "shell.execute_reply": "2023-02-03T08:58:33.426480Z"
    }
   },
   "outputs": [
    {
     "name": "stdout",
     "output_type": "stream",
     "text": [
      "私の名前は、東大太郎です。中国語選択です。\n"
     ]
    }
   ],
   "source": [
    "def introduce_self(name, language):\n",
    "    print(\"私の名前は、\" + name + \"です。\" + language + \"選択です。\")\n",
    "\n",
    "\n",
    "introduce_self(\"東大太郎\", \"中国語\")"
   ]
  }
 ],
 "metadata": {
  "language_info": {
   "codemirror_mode": {
    "name": "ipython",
    "version": 3
   },
   "file_extension": ".py",
   "mimetype": "text/x-python",
   "name": "python",
   "nbconvert_exporter": "python",
   "pygments_lexer": "ipython3",
   "version": "3.10.9"
  }
 },
 "nbformat": 4,
 "nbformat_minor": 2
}
