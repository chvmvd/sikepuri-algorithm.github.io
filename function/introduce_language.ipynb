{
 "cells": [
  {
   "cell_type": "code",
   "execution_count": 1,
   "metadata": {
    "execution": {
     "iopub.execute_input": "2023-02-09T14:00:11.703763Z",
     "iopub.status.busy": "2023-02-09T14:00:11.703398Z",
     "iopub.status.idle": "2023-02-09T14:00:11.713640Z",
     "shell.execute_reply": "2023-02-09T14:00:11.712426Z"
    }
   },
   "outputs": [
    {
     "name": "stdout",
     "output_type": "stream",
     "text": [
      "私の名前は、東大太郎です。中国語選択です。\n"
     ]
    }
   ],
   "source": [
    "def introduce_self(name, language):\n",
    "    print(\"私の名前は、\" + name + \"です。\" + language + \"選択です。\")\n",
    "\n",
    "\n",
    "introduce_self(\"東大太郎\", \"中国語\")"
   ]
  }
 ],
 "metadata": {
  "language_info": {
   "codemirror_mode": {
    "name": "ipython",
    "version": 3
   },
   "file_extension": ".py",
   "mimetype": "text/x-python",
   "name": "python",
   "nbconvert_exporter": "python",
   "pygments_lexer": "ipython3",
   "version": "3.10.9"
  }
 },
 "nbformat": 4,
 "nbformat_minor": 2
}
