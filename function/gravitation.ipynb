{
 "cells": [
  {
   "cell_type": "code",
   "execution_count": 1,
   "metadata": {
    "execution": {
     "iopub.execute_input": "2023-02-03T08:58:28.375807Z",
     "iopub.status.busy": "2023-02-03T08:58:28.375021Z",
     "iopub.status.idle": "2023-02-03T08:58:28.388735Z",
     "shell.execute_reply": "2023-02-03T08:58:28.387866Z"
    }
   },
   "outputs": [
    {
     "data": {
      "text/plain": [
       "2.0099999999999998e-08"
      ]
     },
     "execution_count": 1,
     "metadata": {},
     "output_type": "execute_result"
    }
   ],
   "source": [
    "G = 6.7 * 10 ** (-11)\n",
    "\n",
    "\n",
    "def F(r, M, m):\n",
    "    return G * M * m / r**2\n",
    "\n",
    "\n",
    "F(2, 60, 20)"
   ]
  }
 ],
 "metadata": {
  "language_info": {
   "codemirror_mode": {
    "name": "ipython",
    "version": 3
   },
   "file_extension": ".py",
   "mimetype": "text/x-python",
   "name": "python",
   "nbconvert_exporter": "python",
   "pygments_lexer": "ipython3",
   "version": "3.10.9"
  }
 },
 "nbformat": 4,
 "nbformat_minor": 2
}
