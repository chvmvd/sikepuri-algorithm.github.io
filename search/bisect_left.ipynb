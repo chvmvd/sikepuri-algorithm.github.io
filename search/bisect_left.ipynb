{
 "cells": [
  {
   "cell_type": "code",
   "execution_count": 1,
   "metadata": {
    "execution": {
     "iopub.execute_input": "2023-02-04T06:18:05.600882Z",
     "iopub.status.busy": "2023-02-04T06:18:05.600681Z",
     "iopub.status.idle": "2023-02-04T06:18:05.607805Z",
     "shell.execute_reply": "2023-02-04T06:18:05.607244Z"
    }
   },
   "outputs": [],
   "source": [
    "import bisect"
   ]
  },
  {
   "cell_type": "code",
   "execution_count": 2,
   "metadata": {
    "execution": {
     "iopub.execute_input": "2023-02-04T06:18:05.610409Z",
     "iopub.status.busy": "2023-02-04T06:18:05.609904Z",
     "iopub.status.idle": "2023-02-04T06:18:05.613606Z",
     "shell.execute_reply": "2023-02-04T06:18:05.613108Z"
    }
   },
   "outputs": [
    {
     "name": "stdout",
     "output_type": "stream",
     "text": [
      "1\n"
     ]
    }
   ],
   "source": [
    "data = [1, 3, 3, 3, 4, 6, 8, 10, 10]\n",
    "\n",
    "print(bisect.bisect_left(data, 3))"
   ]
  }
 ],
 "metadata": {
  "language_info": {
   "codemirror_mode": {
    "name": "ipython",
    "version": 3
   },
   "file_extension": ".py",
   "mimetype": "text/x-python",
   "name": "python",
   "nbconvert_exporter": "python",
   "pygments_lexer": "ipython3",
   "version": "3.10.9"
  }
 },
 "nbformat": 4,
 "nbformat_minor": 2
}
