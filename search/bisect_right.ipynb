{
 "cells": [
  {
   "cell_type": "code",
   "execution_count": 1,
   "metadata": {
    "execution": {
     "iopub.execute_input": "2023-02-06T23:44:37.603013Z",
     "iopub.status.busy": "2023-02-06T23:44:37.602381Z",
     "iopub.status.idle": "2023-02-06T23:44:37.611196Z",
     "shell.execute_reply": "2023-02-06T23:44:37.610539Z"
    }
   },
   "outputs": [],
   "source": [
    "import bisect"
   ]
  },
  {
   "cell_type": "code",
   "execution_count": 2,
   "metadata": {
    "execution": {
     "iopub.execute_input": "2023-02-06T23:44:37.614418Z",
     "iopub.status.busy": "2023-02-06T23:44:37.613659Z",
     "iopub.status.idle": "2023-02-06T23:44:37.618897Z",
     "shell.execute_reply": "2023-02-06T23:44:37.618295Z"
    }
   },
   "outputs": [
    {
     "name": "stdout",
     "output_type": "stream",
     "text": [
      "4\n"
     ]
    }
   ],
   "source": [
    "data = [1, 3, 3, 3, 4, 6, 8, 10, 10]\n",
    "\n",
    "print(bisect.bisect_right(data, 3))"
   ]
  }
 ],
 "metadata": {
  "language_info": {
   "codemirror_mode": {
    "name": "ipython",
    "version": 3
   },
   "file_extension": ".py",
   "mimetype": "text/x-python",
   "name": "python",
   "nbconvert_exporter": "python",
   "pygments_lexer": "ipython3",
   "version": "3.10.9"
  }
 },
 "nbformat": 4,
 "nbformat_minor": 2
}
