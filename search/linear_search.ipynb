{
 "cells": [
  {
   "cell_type": "code",
   "execution_count": 1,
   "metadata": {
    "execution": {
     "iopub.execute_input": "2023-02-04T04:29:52.281164Z",
     "iopub.status.busy": "2023-02-04T04:29:52.280928Z",
     "iopub.status.idle": "2023-02-04T04:29:52.289655Z",
     "shell.execute_reply": "2023-02-04T04:29:52.288843Z"
    }
   },
   "outputs": [
    {
     "name": "stdout",
     "output_type": "stream",
     "text": [
      "8\n"
     ]
    }
   ],
   "source": [
    "def linear_search(data, name):\n",
    "    for i in range(len(data)):\n",
    "        if data[i] == name:\n",
    "            return i\n",
    "\n",
    "\n",
    "students = [\n",
    "    \"伊藤\",\n",
    "    \"井上\",\n",
    "    \"加藤\",\n",
    "    \"木村\",\n",
    "    \"小林\",\n",
    "    \"斎藤\",\n",
    "    \"佐々木\",\n",
    "    \"佐藤\",\n",
    "    \"清水\",\n",
    "    \"鈴木\",\n",
    "    \"高橋\",\n",
    "    \"田中\",\n",
    "    \"中村\",\n",
    "    \"林\",\n",
    "    \"松本\",\n",
    "    \"山田\",\n",
    "    \"山口\",\n",
    "    \"山本\",\n",
    "    \"吉田\",\n",
    "    \"渡辺\",\n",
    "]\n",
    "\n",
    "print(linear_search(students, \"佐藤\") + 1)"
   ]
  }
 ],
 "metadata": {
  "language_info": {
   "codemirror_mode": {
    "name": "ipython",
    "version": 3
   },
   "file_extension": ".py",
   "mimetype": "text/x-python",
   "name": "python",
   "nbconvert_exporter": "python",
   "pygments_lexer": "ipython3",
   "version": "3.10.9"
  }
 },
 "nbformat": 4,
 "nbformat_minor": 2
}
