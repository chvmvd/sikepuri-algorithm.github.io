{
  "nbformat": 4,
  "nbformat_minor": 2,
  "metadata": {},
  "cells": [
    {
      "metadata": {},
      "source": [
        "def binary_search(data, number):\n",
        "    start, end = -1, len(data)\n",
        "    while end - start > 1:\n",
        "        center = (start + end) // 2\n",
        "        if data[center] < number:\n",
        "            start = center\n",
        "        else:\n",
        "            end = center\n",
        "    return end\n",
        "\n",
        "\n",
        "data = [2, 10, 23, 37, 51, 57, 66, 88, 95]\n",
        "\n",
        "print(binary_search(data, 51) + 1)"
      ],
      "cell_type": "code",
      "outputs": [
        {
          "output_type": "stream",
          "name": "stdout",
          "text": [
            "5\n"
          ]
        }
      ],
      "execution_count": null
    }
  ]
}
