{
 "cells": [
  {
   "cell_type": "code",
   "execution_count": 1,
   "metadata": {
    "execution": {
     "iopub.execute_input": "2023-07-02T10:46:06.849658Z",
     "iopub.status.busy": "2023-07-02T10:46:06.849129Z",
     "iopub.status.idle": "2023-07-02T10:46:06.859941Z",
     "shell.execute_reply": "2023-07-02T10:46:06.859120Z"
    }
   },
   "outputs": [
    {
     "name": "stdout",
     "output_type": "stream",
     "text": [
      "5\n"
     ]
    }
   ],
   "source": [
    "def binary_search(data, number):\n",
    "    start, end = -1, len(data)\n",
    "    while end - start > 1:\n",
    "        center = (start + end) // 2\n",
    "        # highlight-next-line\n",
    "        if data[center] <= number:\n",
    "            start = center\n",
    "        else:\n",
    "            end = center\n",
    "    # highlight-next-line\n",
    "    return start\n",
    "\n",
    "\n",
    "data = [1, 2, 3, 4, 5, 5, 7, 8, 10]\n",
    "print(binary_search(data, 5))"
   ]
  }
 ],
 "metadata": {
  "language_info": {
   "codemirror_mode": {
    "name": "ipython",
    "version": 3
   },
   "file_extension": ".py",
   "mimetype": "text/x-python",
   "name": "python",
   "nbconvert_exporter": "python",
   "pygments_lexer": "ipython3",
   "version": "3.10.12"
  }
 },
 "nbformat": 4,
 "nbformat_minor": 2
}
