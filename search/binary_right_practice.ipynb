{
 "cells": [
  {
   "cell_type": "code",
   "execution_count": 1,
   "metadata": {
    "execution": {
     "iopub.execute_input": "2023-02-07T03:33:17.441737Z",
     "iopub.status.busy": "2023-02-07T03:33:17.441512Z",
     "iopub.status.idle": "2023-02-07T03:33:17.450200Z",
     "shell.execute_reply": "2023-02-07T03:33:17.449360Z"
    }
   },
   "outputs": [
    {
     "name": "stdout",
     "output_type": "stream",
     "text": [
      "5\n"
     ]
    }
   ],
   "source": [
    "def binary_search(data, number):\n",
    "    start, end = -1, len(data)\n",
    "    while end - start > 1:\n",
    "        center = (start + end) // 2\n",
    "        if data[center] <= number:\n",
    "            start = center\n",
    "        else:\n",
    "            end = center\n",
    "    return start\n",
    "\n",
    "\n",
    "data = [1, 2, 3, 4, 5, 5, 7, 8, 10]\n",
    "print(binary_search(data, 5))"
   ]
  }
 ],
 "metadata": {
  "language_info": {
   "codemirror_mode": {
    "name": "ipython",
    "version": 3
   },
   "file_extension": ".py",
   "mimetype": "text/x-python",
   "name": "python",
   "nbconvert_exporter": "python",
   "pygments_lexer": "ipython3",
   "version": "3.10.9"
  }
 },
 "nbformat": 4,
 "nbformat_minor": 2
}
