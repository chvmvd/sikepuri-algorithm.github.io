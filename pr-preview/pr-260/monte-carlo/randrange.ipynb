{
 "cells": [
  {
   "cell_type": "code",
   "execution_count": 1,
   "metadata": {
    "execution": {
     "iopub.execute_input": "2023-04-30T12:10:58.144410Z",
     "iopub.status.busy": "2023-04-30T12:10:58.144144Z",
     "iopub.status.idle": "2023-04-30T12:10:58.152251Z",
     "shell.execute_reply": "2023-04-30T12:10:58.151567Z"
    }
   },
   "outputs": [],
   "source": [
    "import random"
   ]
  },
  {
   "cell_type": "code",
   "execution_count": 2,
   "metadata": {
    "execution": {
     "iopub.execute_input": "2023-04-30T12:10:58.155836Z",
     "iopub.status.busy": "2023-04-30T12:10:58.155451Z",
     "iopub.status.idle": "2023-04-30T12:10:58.160417Z",
     "shell.execute_reply": "2023-04-30T12:10:58.158902Z"
    }
   },
   "outputs": [
    {
     "name": "stdout",
     "output_type": "stream",
     "text": [
      "2\n"
     ]
    }
   ],
   "source": [
    "print(random.randrange(2, 4, 1))"
   ]
  }
 ],
 "metadata": {
  "language_info": {
   "codemirror_mode": {
    "name": "ipython",
    "version": 3
   },
   "file_extension": ".py",
   "mimetype": "text/x-python",
   "name": "python",
   "nbconvert_exporter": "python",
   "pygments_lexer": "ipython3",
   "version": "3.10.11"
  }
 },
 "nbformat": 4,
 "nbformat_minor": 2
}
