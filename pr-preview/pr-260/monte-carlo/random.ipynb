{
 "cells": [
  {
   "cell_type": "code",
   "execution_count": 1,
   "metadata": {
    "execution": {
     "iopub.execute_input": "2023-04-30T12:10:56.800226Z",
     "iopub.status.busy": "2023-04-30T12:10:56.799950Z",
     "iopub.status.idle": "2023-04-30T12:10:56.808542Z",
     "shell.execute_reply": "2023-04-30T12:10:56.807626Z"
    }
   },
   "outputs": [],
   "source": [
    "import random"
   ]
  },
  {
   "cell_type": "code",
   "execution_count": 2,
   "metadata": {
    "execution": {
     "iopub.execute_input": "2023-04-30T12:10:56.812278Z",
     "iopub.status.busy": "2023-04-30T12:10:56.811563Z",
     "iopub.status.idle": "2023-04-30T12:10:56.816601Z",
     "shell.execute_reply": "2023-04-30T12:10:56.815876Z"
    }
   },
   "outputs": [
    {
     "name": "stdout",
     "output_type": "stream",
     "text": [
      "0.7913335604935181\n"
     ]
    }
   ],
   "source": [
    "print(random.random())"
   ]
  }
 ],
 "metadata": {
  "language_info": {
   "codemirror_mode": {
    "name": "ipython",
    "version": 3
   },
   "file_extension": ".py",
   "mimetype": "text/x-python",
   "name": "python",
   "nbconvert_exporter": "python",
   "pygments_lexer": "ipython3",
   "version": "3.10.11"
  }
 },
 "nbformat": 4,
 "nbformat_minor": 2
}
