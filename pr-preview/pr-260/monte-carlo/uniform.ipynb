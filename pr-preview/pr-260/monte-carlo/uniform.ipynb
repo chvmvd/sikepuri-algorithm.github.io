{
 "cells": [
  {
   "cell_type": "code",
   "execution_count": 1,
   "metadata": {
    "execution": {
     "iopub.execute_input": "2023-04-30T12:10:59.565003Z",
     "iopub.status.busy": "2023-04-30T12:10:59.564399Z",
     "iopub.status.idle": "2023-04-30T12:10:59.572222Z",
     "shell.execute_reply": "2023-04-30T12:10:59.571442Z"
    }
   },
   "outputs": [],
   "source": [
    "import random"
   ]
  },
  {
   "cell_type": "code",
   "execution_count": 2,
   "metadata": {
    "execution": {
     "iopub.execute_input": "2023-04-30T12:10:59.575492Z",
     "iopub.status.busy": "2023-04-30T12:10:59.574880Z",
     "iopub.status.idle": "2023-04-30T12:10:59.581414Z",
     "shell.execute_reply": "2023-04-30T12:10:59.580240Z"
    }
   },
   "outputs": [
    {
     "name": "stdout",
     "output_type": "stream",
     "text": [
      "3.40125940813898\n"
     ]
    }
   ],
   "source": [
    "print(random.uniform(2, 4))"
   ]
  }
 ],
 "metadata": {
  "language_info": {
   "codemirror_mode": {
    "name": "ipython",
    "version": 3
   },
   "file_extension": ".py",
   "mimetype": "text/x-python",
   "name": "python",
   "nbconvert_exporter": "python",
   "pygments_lexer": "ipython3",
   "version": "3.10.11"
  }
 },
 "nbformat": 4,
 "nbformat_minor": 2
}
