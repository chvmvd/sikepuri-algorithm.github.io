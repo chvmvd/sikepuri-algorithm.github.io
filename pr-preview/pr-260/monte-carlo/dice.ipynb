{
 "cells": [
  {
   "cell_type": "code",
   "execution_count": 1,
   "metadata": {
    "execution": {
     "iopub.execute_input": "2023-04-30T12:10:53.800379Z",
     "iopub.status.busy": "2023-04-30T12:10:53.799847Z",
     "iopub.status.idle": "2023-04-30T12:10:53.808505Z",
     "shell.execute_reply": "2023-04-30T12:10:53.807462Z"
    }
   },
   "outputs": [],
   "source": [
    "import random"
   ]
  },
  {
   "cell_type": "code",
   "execution_count": 2,
   "metadata": {
    "execution": {
     "iopub.execute_input": "2023-04-30T12:10:53.811483Z",
     "iopub.status.busy": "2023-04-30T12:10:53.811073Z",
     "iopub.status.idle": "2023-04-30T12:10:53.910682Z",
     "shell.execute_reply": "2023-04-30T12:10:53.909485Z"
    }
   },
   "outputs": [
    {
     "name": "stdout",
     "output_type": "stream",
     "text": [
      "0.16509\n"
     ]
    }
   ],
   "source": [
    "def calc_dice_probability(n):\n",
    "    one = 0\n",
    "    for _ in range(n):\n",
    "        if random.randint(1, 6) == 1:\n",
    "            one += 1\n",
    "    return one / n\n",
    "\n",
    "\n",
    "print(calc_dice_probability(100000))"
   ]
  }
 ],
 "metadata": {
  "language_info": {
   "codemirror_mode": {
    "name": "ipython",
    "version": 3
   },
   "file_extension": ".py",
   "mimetype": "text/x-python",
   "name": "python",
   "nbconvert_exporter": "python",
   "pygments_lexer": "ipython3",
   "version": "3.10.11"
  }
 },
 "nbformat": 4,
 "nbformat_minor": 2
}
