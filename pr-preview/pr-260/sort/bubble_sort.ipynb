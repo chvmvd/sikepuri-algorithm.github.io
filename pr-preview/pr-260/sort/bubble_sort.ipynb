{
 "cells": [
  {
   "cell_type": "code",
   "execution_count": 1,
   "metadata": {
    "execution": {
     "iopub.execute_input": "2023-04-30T12:12:42.718009Z",
     "iopub.status.busy": "2023-04-30T12:12:42.717146Z",
     "iopub.status.idle": "2023-04-30T12:12:42.729381Z",
     "shell.execute_reply": "2023-04-30T12:12:42.728491Z"
    }
   },
   "outputs": [
    {
     "name": "stdout",
     "output_type": "stream",
     "text": [
      "[1, 2, 3, 4, 5, 6, 7, 8, 9, 10]\n"
     ]
    }
   ],
   "source": [
    "def bubble_sort(data):\n",
    "    n = len(data)\n",
    "    for i in range(n):\n",
    "        for j in range(i + 1, n):\n",
    "            if data[i] > data[j]:\n",
    "                data[i], data[j] = data[j], data[i]\n",
    "    return data\n",
    "\n",
    "\n",
    "data = [3, 8, 2, 5, 1, 10, 6, 9, 4, 7]\n",
    "print(bubble_sort(data))"
   ]
  }
 ],
 "metadata": {
  "language_info": {
   "codemirror_mode": {
    "name": "ipython",
    "version": 3
   },
   "file_extension": ".py",
   "mimetype": "text/x-python",
   "name": "python",
   "nbconvert_exporter": "python",
   "pygments_lexer": "ipython3",
   "version": "3.10.11"
  }
 },
 "nbformat": 4,
 "nbformat_minor": 2
}
