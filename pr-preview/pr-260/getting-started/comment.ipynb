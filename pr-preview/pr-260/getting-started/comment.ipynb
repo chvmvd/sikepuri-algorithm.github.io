{
 "cells": [
  {
   "cell_type": "code",
   "execution_count": 1,
   "metadata": {
    "execution": {
     "iopub.execute_input": "2023-04-30T12:08:53.179725Z",
     "iopub.status.busy": "2023-04-30T12:08:53.179269Z",
     "iopub.status.idle": "2023-04-30T12:08:53.198872Z",
     "shell.execute_reply": "2023-04-30T12:08:53.198000Z"
    }
   },
   "outputs": [
    {
     "name": "stdout",
     "output_type": "stream",
     "text": [
      "Hello World!\n"
     ]
    }
   ],
   "source": [
    "# この部分はコメントです。\n",
    "print(\"Hello World!\")  # この部分もコメントです。"
   ]
  }
 ],
 "metadata": {
  "language_info": {
   "codemirror_mode": {
    "name": "ipython",
    "version": 3
   },
   "file_extension": ".py",
   "mimetype": "text/x-python",
   "name": "python",
   "nbconvert_exporter": "python",
   "pygments_lexer": "ipython3",
   "version": "3.10.11"
  }
 },
 "nbformat": 4,
 "nbformat_minor": 2
}
