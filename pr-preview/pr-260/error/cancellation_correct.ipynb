{
 "cells": [
  {
   "cell_type": "code",
   "execution_count": 1,
   "metadata": {
    "execution": {
     "iopub.execute_input": "2023-04-30T12:07:38.270846Z",
     "iopub.status.busy": "2023-04-30T12:07:38.270391Z",
     "iopub.status.idle": "2023-04-30T12:07:38.279514Z",
     "shell.execute_reply": "2023-04-30T12:07:38.278707Z"
    }
   },
   "outputs": [],
   "source": [
    "import math"
   ]
  },
  {
   "cell_type": "code",
   "execution_count": 2,
   "metadata": {
    "execution": {
     "iopub.execute_input": "2023-04-30T12:07:38.282953Z",
     "iopub.status.busy": "2023-04-30T12:07:38.282450Z",
     "iopub.status.idle": "2023-04-30T12:07:38.287255Z",
     "shell.execute_reply": "2023-04-30T12:07:38.286451Z"
    }
   },
   "outputs": [
    {
     "name": "stdout",
     "output_type": "stream",
     "text": [
      "0.0031622776602079072\n"
     ]
    }
   ],
   "source": [
    "print(2 / (math.sqrt(100001) + math.sqrt(99999)))"
   ]
  }
 ],
 "metadata": {
  "language_info": {
   "codemirror_mode": {
    "name": "ipython",
    "version": 3
   },
   "file_extension": ".py",
   "mimetype": "text/x-python",
   "name": "python",
   "nbconvert_exporter": "python",
   "pygments_lexer": "ipython3",
   "version": "3.10.11"
  }
 },
 "nbformat": 4,
 "nbformat_minor": 2
}
