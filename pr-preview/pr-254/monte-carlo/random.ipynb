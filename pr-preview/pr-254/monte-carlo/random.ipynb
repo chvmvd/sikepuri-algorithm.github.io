{
 "cells": [
  {
   "cell_type": "code",
   "execution_count": 1,
   "metadata": {
    "execution": {
     "iopub.execute_input": "2023-04-30T03:52:24.443826Z",
     "iopub.status.busy": "2023-04-30T03:52:24.443177Z",
     "iopub.status.idle": "2023-04-30T03:52:24.452055Z",
     "shell.execute_reply": "2023-04-30T03:52:24.451062Z"
    }
   },
   "outputs": [],
   "source": [
    "import random"
   ]
  },
  {
   "cell_type": "code",
   "execution_count": 2,
   "metadata": {
    "execution": {
     "iopub.execute_input": "2023-04-30T03:52:24.455583Z",
     "iopub.status.busy": "2023-04-30T03:52:24.455306Z",
     "iopub.status.idle": "2023-04-30T03:52:24.460818Z",
     "shell.execute_reply": "2023-04-30T03:52:24.459188Z"
    }
   },
   "outputs": [
    {
     "name": "stdout",
     "output_type": "stream",
     "text": [
      "0.3914758340136921\n"
     ]
    }
   ],
   "source": [
    "print(random.random())"
   ]
  }
 ],
 "metadata": {
  "language_info": {
   "codemirror_mode": {
    "name": "ipython",
    "version": 3
   },
   "file_extension": ".py",
   "mimetype": "text/x-python",
   "name": "python",
   "nbconvert_exporter": "python",
   "pygments_lexer": "ipython3",
   "version": "3.10.11"
  }
 },
 "nbformat": 4,
 "nbformat_minor": 2
}
