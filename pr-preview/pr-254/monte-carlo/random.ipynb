{
 "cells": [
  {
   "cell_type": "code",
   "execution_count": 1,
   "metadata": {
    "execution": {
     "iopub.execute_input": "2023-04-30T04:01:32.984517Z",
     "iopub.status.busy": "2023-04-30T04:01:32.984162Z",
     "iopub.status.idle": "2023-04-30T04:01:32.991923Z",
     "shell.execute_reply": "2023-04-30T04:01:32.991303Z"
    }
   },
   "outputs": [],
   "source": [
    "import random"
   ]
  },
  {
   "cell_type": "code",
   "execution_count": 2,
   "metadata": {
    "execution": {
     "iopub.execute_input": "2023-04-30T04:01:32.994763Z",
     "iopub.status.busy": "2023-04-30T04:01:32.994358Z",
     "iopub.status.idle": "2023-04-30T04:01:32.999662Z",
     "shell.execute_reply": "2023-04-30T04:01:32.999045Z"
    }
   },
   "outputs": [
    {
     "name": "stdout",
     "output_type": "stream",
     "text": [
      "0.6373023870995301\n"
     ]
    }
   ],
   "source": [
    "print(random.random())"
   ]
  }
 ],
 "metadata": {
  "language_info": {
   "codemirror_mode": {
    "name": "ipython",
    "version": 3
   },
   "file_extension": ".py",
   "mimetype": "text/x-python",
   "name": "python",
   "nbconvert_exporter": "python",
   "pygments_lexer": "ipython3",
   "version": "3.10.11"
  }
 },
 "nbformat": 4,
 "nbformat_minor": 2
}
