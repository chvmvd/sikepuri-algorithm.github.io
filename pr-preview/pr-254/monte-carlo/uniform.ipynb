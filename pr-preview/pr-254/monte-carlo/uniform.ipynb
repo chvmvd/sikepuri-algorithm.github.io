{
 "cells": [
  {
   "cell_type": "code",
   "execution_count": 1,
   "metadata": {
    "execution": {
     "iopub.execute_input": "2023-04-30T04:01:35.756059Z",
     "iopub.status.busy": "2023-04-30T04:01:35.755792Z",
     "iopub.status.idle": "2023-04-30T04:01:35.763649Z",
     "shell.execute_reply": "2023-04-30T04:01:35.763032Z"
    }
   },
   "outputs": [],
   "source": [
    "import random"
   ]
  },
  {
   "cell_type": "code",
   "execution_count": 2,
   "metadata": {
    "execution": {
     "iopub.execute_input": "2023-04-30T04:01:35.766453Z",
     "iopub.status.busy": "2023-04-30T04:01:35.766063Z",
     "iopub.status.idle": "2023-04-30T04:01:35.769681Z",
     "shell.execute_reply": "2023-04-30T04:01:35.769154Z"
    }
   },
   "outputs": [
    {
     "name": "stdout",
     "output_type": "stream",
     "text": [
      "3.7681777808851535\n"
     ]
    }
   ],
   "source": [
    "print(random.uniform(2, 4))"
   ]
  }
 ],
 "metadata": {
  "language_info": {
   "codemirror_mode": {
    "name": "ipython",
    "version": 3
   },
   "file_extension": ".py",
   "mimetype": "text/x-python",
   "name": "python",
   "nbconvert_exporter": "python",
   "pygments_lexer": "ipython3",
   "version": "3.10.11"
  }
 },
 "nbformat": 4,
 "nbformat_minor": 2
}
