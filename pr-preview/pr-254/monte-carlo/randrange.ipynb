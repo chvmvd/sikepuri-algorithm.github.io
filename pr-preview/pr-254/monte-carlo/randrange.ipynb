{
 "cells": [
  {
   "cell_type": "code",
   "execution_count": 1,
   "metadata": {
    "execution": {
     "iopub.execute_input": "2023-04-30T04:01:34.396577Z",
     "iopub.status.busy": "2023-04-30T04:01:34.396338Z",
     "iopub.status.idle": "2023-04-30T04:01:34.403747Z",
     "shell.execute_reply": "2023-04-30T04:01:34.403045Z"
    }
   },
   "outputs": [],
   "source": [
    "import random"
   ]
  },
  {
   "cell_type": "code",
   "execution_count": 2,
   "metadata": {
    "execution": {
     "iopub.execute_input": "2023-04-30T04:01:34.406811Z",
     "iopub.status.busy": "2023-04-30T04:01:34.406239Z",
     "iopub.status.idle": "2023-04-30T04:01:34.410212Z",
     "shell.execute_reply": "2023-04-30T04:01:34.409548Z"
    }
   },
   "outputs": [
    {
     "name": "stdout",
     "output_type": "stream",
     "text": [
      "3\n"
     ]
    }
   ],
   "source": [
    "print(random.randrange(2, 4, 1))"
   ]
  }
 ],
 "metadata": {
  "language_info": {
   "codemirror_mode": {
    "name": "ipython",
    "version": 3
   },
   "file_extension": ".py",
   "mimetype": "text/x-python",
   "name": "python",
   "nbconvert_exporter": "python",
   "pygments_lexer": "ipython3",
   "version": "3.10.11"
  }
 },
 "nbformat": 4,
 "nbformat_minor": 2
}
