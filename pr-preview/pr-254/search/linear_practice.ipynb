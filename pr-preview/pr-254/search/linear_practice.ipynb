{
 "cells": [
  {
   "cell_type": "code",
   "execution_count": 1,
   "metadata": {
    "execution": {
     "iopub.execute_input": "2023-04-30T03:53:32.322122Z",
     "iopub.status.busy": "2023-04-30T03:53:32.321839Z",
     "iopub.status.idle": "2023-04-30T03:53:32.332897Z",
     "shell.execute_reply": "2023-04-30T03:53:32.331875Z"
    }
   },
   "outputs": [
    {
     "name": "stdout",
     "output_type": "stream",
     "text": [
      "4\n"
     ]
    }
   ],
   "source": [
    "def linear_search(data, number):\n",
    "    for i in range(len(data)):\n",
    "        # highlight-next-line\n",
    "        if number <= data[i]:\n",
    "            return i\n",
    "\n",
    "\n",
    "data = [1, 2, 3, 4, 5, 5, 7, 8, 10]\n",
    "print(linear_search(data, 5))"
   ]
  }
 ],
 "metadata": {
  "language_info": {
   "codemirror_mode": {
    "name": "ipython",
    "version": 3
   },
   "file_extension": ".py",
   "mimetype": "text/x-python",
   "name": "python",
   "nbconvert_exporter": "python",
   "pygments_lexer": "ipython3",
   "version": "3.10.11"
  }
 },
 "nbformat": 4,
 "nbformat_minor": 2
}
