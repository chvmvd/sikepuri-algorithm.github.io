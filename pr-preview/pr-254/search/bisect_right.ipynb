{
 "cells": [
  {
   "cell_type": "code",
   "execution_count": 1,
   "metadata": {
    "execution": {
     "iopub.execute_input": "2023-04-30T04:02:25.897931Z",
     "iopub.status.busy": "2023-04-30T04:02:25.897323Z",
     "iopub.status.idle": "2023-04-30T04:02:25.904429Z",
     "shell.execute_reply": "2023-04-30T04:02:25.903788Z"
    }
   },
   "outputs": [],
   "source": [
    "import bisect"
   ]
  },
  {
   "cell_type": "code",
   "execution_count": 2,
   "metadata": {
    "execution": {
     "iopub.execute_input": "2023-04-30T04:02:25.907213Z",
     "iopub.status.busy": "2023-04-30T04:02:25.906793Z",
     "iopub.status.idle": "2023-04-30T04:02:25.910759Z",
     "shell.execute_reply": "2023-04-30T04:02:25.910088Z"
    }
   },
   "outputs": [
    {
     "name": "stdout",
     "output_type": "stream",
     "text": [
      "4\n"
     ]
    }
   ],
   "source": [
    "data = [1, 3, 3, 3, 4, 6, 8, 10, 10]\n",
    "\n",
    "print(bisect.bisect_right(data, 3))"
   ]
  }
 ],
 "metadata": {
  "language_info": {
   "codemirror_mode": {
    "name": "ipython",
    "version": 3
   },
   "file_extension": ".py",
   "mimetype": "text/x-python",
   "name": "python",
   "nbconvert_exporter": "python",
   "pygments_lexer": "ipython3",
   "version": "3.10.11"
  }
 },
 "nbformat": 4,
 "nbformat_minor": 2
}
