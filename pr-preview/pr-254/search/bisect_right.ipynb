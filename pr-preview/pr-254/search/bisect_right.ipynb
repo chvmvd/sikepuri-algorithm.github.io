{
 "cells": [
  {
   "cell_type": "code",
   "execution_count": 1,
   "metadata": {
    "execution": {
     "iopub.execute_input": "2023-04-30T04:57:09.361764Z",
     "iopub.status.busy": "2023-04-30T04:57:09.361510Z",
     "iopub.status.idle": "2023-04-30T04:57:09.369033Z",
     "shell.execute_reply": "2023-04-30T04:57:09.368446Z"
    }
   },
   "outputs": [],
   "source": [
    "import bisect"
   ]
  },
  {
   "cell_type": "code",
   "execution_count": 2,
   "metadata": {
    "execution": {
     "iopub.execute_input": "2023-04-30T04:57:09.371613Z",
     "iopub.status.busy": "2023-04-30T04:57:09.371266Z",
     "iopub.status.idle": "2023-04-30T04:57:09.376206Z",
     "shell.execute_reply": "2023-04-30T04:57:09.375532Z"
    }
   },
   "outputs": [
    {
     "name": "stdout",
     "output_type": "stream",
     "text": [
      "4\n"
     ]
    }
   ],
   "source": [
    "data = [1, 3, 3, 3, 4, 6, 8, 10, 10]\n",
    "\n",
    "print(bisect.bisect_right(data, 3))"
   ]
  }
 ],
 "metadata": {
  "language_info": {
   "codemirror_mode": {
    "name": "ipython",
    "version": 3
   },
   "file_extension": ".py",
   "mimetype": "text/x-python",
   "name": "python",
   "nbconvert_exporter": "python",
   "pygments_lexer": "ipython3",
   "version": "3.10.11"
  }
 },
 "nbformat": 4,
 "nbformat_minor": 2
}
