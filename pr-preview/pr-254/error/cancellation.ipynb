{
 "cells": [
  {
   "cell_type": "code",
   "execution_count": 1,
   "metadata": {
    "execution": {
     "iopub.execute_input": "2023-04-30T04:53:17.728553Z",
     "iopub.status.busy": "2023-04-30T04:53:17.728316Z",
     "iopub.status.idle": "2023-04-30T04:53:17.735636Z",
     "shell.execute_reply": "2023-04-30T04:53:17.735054Z"
    }
   },
   "outputs": [],
   "source": [
    "import math"
   ]
  },
  {
   "cell_type": "code",
   "execution_count": 2,
   "metadata": {
    "execution": {
     "iopub.execute_input": "2023-04-30T04:53:17.738359Z",
     "iopub.status.busy": "2023-04-30T04:53:17.737936Z",
     "iopub.status.idle": "2023-04-30T04:53:17.746413Z",
     "shell.execute_reply": "2023-04-30T04:53:17.745800Z"
    }
   },
   "outputs": [
    {
     "data": {
      "text/plain": [
       "0.003162277660237578"
      ]
     },
     "execution_count": 2,
     "metadata": {},
     "output_type": "execute_result"
    }
   ],
   "source": [
    "math.sqrt(100001) - math.sqrt(99999)"
   ]
  }
 ],
 "metadata": {
  "language_info": {
   "codemirror_mode": {
    "name": "ipython",
    "version": 3
   },
   "file_extension": ".py",
   "mimetype": "text/x-python",
   "name": "python",
   "nbconvert_exporter": "python",
   "pygments_lexer": "ipython3",
   "version": "3.10.11"
  }
 },
 "nbformat": 4,
 "nbformat_minor": 2
}
