{
 "cells": [
  {
   "cell_type": "code",
   "execution_count": 1,
   "metadata": {
    "execution": {
     "iopub.execute_input": "2023-04-30T04:03:17.049005Z",
     "iopub.status.busy": "2023-04-30T04:03:17.048736Z",
     "iopub.status.idle": "2023-04-30T04:03:17.060478Z",
     "shell.execute_reply": "2023-04-30T04:03:17.059881Z"
    }
   },
   "outputs": [
    {
     "data": {
      "text/plain": [
       "337.5"
      ]
     },
     "execution_count": 1,
     "metadata": {},
     "output_type": "execute_result"
    }
   ],
   "source": [
    "t = 10\n",
    "331.5 + 0.6 * t"
   ]
  }
 ],
 "metadata": {
  "language_info": {
   "codemirror_mode": {
    "name": "ipython",
    "version": 3
   },
   "file_extension": ".py",
   "mimetype": "text/x-python",
   "name": "python",
   "nbconvert_exporter": "python",
   "pygments_lexer": "ipython3",
   "version": "3.10.11"
  }
 },
 "nbformat": 4,
 "nbformat_minor": 2
}
