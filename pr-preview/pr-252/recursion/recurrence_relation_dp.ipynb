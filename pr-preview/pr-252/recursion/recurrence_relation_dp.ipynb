{
 "cells": [
  {
   "cell_type": "code",
   "execution_count": 1,
   "metadata": {
    "execution": {
     "iopub.execute_input": "2023-04-30T03:40:36.286080Z",
     "iopub.status.busy": "2023-04-30T03:40:36.285866Z",
     "iopub.status.idle": "2023-04-30T03:40:36.294366Z",
     "shell.execute_reply": "2023-04-30T03:40:36.293764Z"
    }
   },
   "outputs": [
    {
     "name": "stdout",
     "output_type": "stream",
     "text": [
      "10\n"
     ]
    }
   ],
   "source": [
    "def a(n):\n",
    "    s = 1\n",
    "    for i in range(n - 1):\n",
    "        s += 1\n",
    "    return s\n",
    "\n",
    "\n",
    "print(a(10))"
   ]
  }
 ],
 "metadata": {
  "language_info": {
   "codemirror_mode": {
    "name": "ipython",
    "version": 3
   },
   "file_extension": ".py",
   "mimetype": "text/x-python",
   "name": "python",
   "nbconvert_exporter": "python",
   "pygments_lexer": "ipython3",
   "version": "3.10.11"
  }
 },
 "nbformat": 4,
 "nbformat_minor": 2
}
