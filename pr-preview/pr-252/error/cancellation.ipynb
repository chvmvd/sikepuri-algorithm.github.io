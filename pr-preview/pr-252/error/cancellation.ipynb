{
 "cells": [
  {
   "cell_type": "code",
   "execution_count": 1,
   "metadata": {
    "execution": {
     "iopub.execute_input": "2023-04-30T03:37:07.198532Z",
     "iopub.status.busy": "2023-04-30T03:37:07.197999Z",
     "iopub.status.idle": "2023-04-30T03:37:07.205437Z",
     "shell.execute_reply": "2023-04-30T03:37:07.204845Z"
    }
   },
   "outputs": [],
   "source": [
    "import math"
   ]
  },
  {
   "cell_type": "code",
   "execution_count": 2,
   "metadata": {
    "execution": {
     "iopub.execute_input": "2023-04-30T03:37:07.208097Z",
     "iopub.status.busy": "2023-04-30T03:37:07.207782Z",
     "iopub.status.idle": "2023-04-30T03:37:07.215991Z",
     "shell.execute_reply": "2023-04-30T03:37:07.215446Z"
    }
   },
   "outputs": [
    {
     "data": {
      "text/plain": [
       "0.003162277660237578"
      ]
     },
     "execution_count": 2,
     "metadata": {},
     "output_type": "execute_result"
    }
   ],
   "source": [
    "math.sqrt(100001) - math.sqrt(99999)"
   ]
  }
 ],
 "metadata": {
  "language_info": {
   "codemirror_mode": {
    "name": "ipython",
    "version": 3
   },
   "file_extension": ".py",
   "mimetype": "text/x-python",
   "name": "python",
   "nbconvert_exporter": "python",
   "pygments_lexer": "ipython3",
   "version": "3.10.11"
  }
 },
 "nbformat": 4,
 "nbformat_minor": 2
}
