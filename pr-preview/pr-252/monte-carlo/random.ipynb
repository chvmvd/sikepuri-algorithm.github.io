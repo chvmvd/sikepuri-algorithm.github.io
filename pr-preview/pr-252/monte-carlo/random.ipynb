{
 "cells": [
  {
   "cell_type": "code",
   "execution_count": 1,
   "metadata": {
    "execution": {
     "iopub.execute_input": "2023-04-30T03:39:55.399838Z",
     "iopub.status.busy": "2023-04-30T03:39:55.399318Z",
     "iopub.status.idle": "2023-04-30T03:39:55.406753Z",
     "shell.execute_reply": "2023-04-30T03:39:55.406173Z"
    }
   },
   "outputs": [],
   "source": [
    "import random"
   ]
  },
  {
   "cell_type": "code",
   "execution_count": 2,
   "metadata": {
    "execution": {
     "iopub.execute_input": "2023-04-30T03:39:55.409188Z",
     "iopub.status.busy": "2023-04-30T03:39:55.408878Z",
     "iopub.status.idle": "2023-04-30T03:39:55.413234Z",
     "shell.execute_reply": "2023-04-30T03:39:55.412612Z"
    }
   },
   "outputs": [
    {
     "name": "stdout",
     "output_type": "stream",
     "text": [
      "0.1561307298988095\n"
     ]
    }
   ],
   "source": [
    "print(random.random())"
   ]
  }
 ],
 "metadata": {
  "language_info": {
   "codemirror_mode": {
    "name": "ipython",
    "version": 3
   },
   "file_extension": ".py",
   "mimetype": "text/x-python",
   "name": "python",
   "nbconvert_exporter": "python",
   "pygments_lexer": "ipython3",
   "version": "3.10.11"
  }
 },
 "nbformat": 4,
 "nbformat_minor": 2
}
