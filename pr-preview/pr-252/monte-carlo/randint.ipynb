{
 "cells": [
  {
   "cell_type": "code",
   "execution_count": 1,
   "metadata": {
    "execution": {
     "iopub.execute_input": "2023-04-30T03:39:54.076857Z",
     "iopub.status.busy": "2023-04-30T03:39:54.076645Z",
     "iopub.status.idle": "2023-04-30T03:39:54.084042Z",
     "shell.execute_reply": "2023-04-30T03:39:54.083483Z"
    }
   },
   "outputs": [],
   "source": [
    "import random"
   ]
  },
  {
   "cell_type": "code",
   "execution_count": 2,
   "metadata": {
    "execution": {
     "iopub.execute_input": "2023-04-30T03:39:54.086526Z",
     "iopub.status.busy": "2023-04-30T03:39:54.086006Z",
     "iopub.status.idle": "2023-04-30T03:39:54.090472Z",
     "shell.execute_reply": "2023-04-30T03:39:54.089856Z"
    }
   },
   "outputs": [
    {
     "name": "stdout",
     "output_type": "stream",
     "text": [
      "4\n"
     ]
    }
   ],
   "source": [
    "print(random.randint(2, 4))"
   ]
  }
 ],
 "metadata": {
  "language_info": {
   "codemirror_mode": {
    "name": "ipython",
    "version": 3
   },
   "file_extension": ".py",
   "mimetype": "text/x-python",
   "name": "python",
   "nbconvert_exporter": "python",
   "pygments_lexer": "ipython3",
   "version": "3.10.11"
  }
 },
 "nbformat": 4,
 "nbformat_minor": 2
}
