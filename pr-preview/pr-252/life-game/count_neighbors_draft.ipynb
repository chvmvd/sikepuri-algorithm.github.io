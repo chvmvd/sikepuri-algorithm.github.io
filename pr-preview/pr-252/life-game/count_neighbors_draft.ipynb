{
 "cells": [
  {
   "cell_type": "code",
   "execution_count": 1,
   "metadata": {
    "execution": {
     "iopub.execute_input": "2023-04-30T03:39:35.825032Z",
     "iopub.status.busy": "2023-04-30T03:39:35.824825Z",
     "iopub.status.idle": "2023-04-30T03:39:35.833656Z",
     "shell.execute_reply": "2023-04-30T03:39:35.832539Z"
    }
   },
   "outputs": [
    {
     "name": "stdout",
     "output_type": "stream",
     "text": [
      "3\n"
     ]
    }
   ],
   "source": [
    "def count_neighbors(board, i, j):\n",
    "    cnt = 0\n",
    "    for k in range(i - 1, i + 2):\n",
    "        for l in range(j - 1, j + 2):\n",
    "            cnt += board[k][l]\n",
    "    return cnt - board[i][j]\n",
    "\n",
    "\n",
    "board = [[1, 1, 0], [1, 0, 0], [0, 0, 0]]\n",
    "print(count_neighbors(board, 1, 1))"
   ]
  }
 ],
 "metadata": {
  "language_info": {
   "codemirror_mode": {
    "name": "ipython",
    "version": 3
   },
   "file_extension": ".py",
   "mimetype": "text/x-python",
   "name": "python",
   "nbconvert_exporter": "python",
   "pygments_lexer": "ipython3",
   "version": "3.10.11"
  }
 },
 "nbformat": 4,
 "nbformat_minor": 2
}
