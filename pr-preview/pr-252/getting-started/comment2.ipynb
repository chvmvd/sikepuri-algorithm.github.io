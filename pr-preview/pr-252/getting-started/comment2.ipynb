{
 "cells": [
  {
   "cell_type": "code",
   "execution_count": 1,
   "metadata": {
    "execution": {
     "iopub.execute_input": "2023-04-30T03:38:09.558524Z",
     "iopub.status.busy": "2023-04-30T03:38:09.558301Z",
     "iopub.status.idle": "2023-04-30T03:38:09.566252Z",
     "shell.execute_reply": "2023-04-30T03:38:09.565663Z"
    }
   },
   "outputs": [
    {
     "name": "stdout",
     "output_type": "stream",
     "text": [
      "Hello World!\n"
     ]
    }
   ],
   "source": [
    "# 次の行は、実行されません。\n",
    "# print(\"Hello World!\")\n",
    "print(\"Hello World!\")"
   ]
  }
 ],
 "metadata": {
  "language_info": {
   "codemirror_mode": {
    "name": "ipython",
    "version": 3
   },
   "file_extension": ".py",
   "mimetype": "text/x-python",
   "name": "python",
   "nbconvert_exporter": "python",
   "pygments_lexer": "ipython3",
   "version": "3.10.11"
  }
 },
 "nbformat": 4,
 "nbformat_minor": 2
}
