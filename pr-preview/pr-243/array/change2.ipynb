{
 "cells": [
  {
   "cell_type": "code",
   "execution_count": null,
   "metadata": {},
   "outputs": [],
   "source": [
    "scores = [96, 56, 42, 74, 86]\n",
    "scores[0] = 37\n",
    "print(scores)"
   ]
  }
 ],
 "metadata": {},
 "nbformat": 4,
 "nbformat_minor": 2
}
