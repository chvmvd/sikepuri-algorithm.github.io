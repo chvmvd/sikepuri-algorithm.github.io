{
 "cells": [
  {
   "cell_type": "code",
   "execution_count": 1,
   "metadata": {
    "execution": {
     "iopub.execute_input": "2023-02-18T15:03:40.812701Z",
     "iopub.status.busy": "2023-02-18T15:03:40.812433Z",
     "iopub.status.idle": "2023-02-18T15:03:40.827608Z",
     "shell.execute_reply": "2023-02-18T15:03:40.822783Z"
    }
   },
   "outputs": [
    {
     "name": "stdout",
     "output_type": "stream",
     "text": [
      "70.8\n"
     ]
    }
   ],
   "source": [
    "score1 = 96\n",
    "score2 = 56\n",
    "score3 = 42\n",
    "score4 = 74\n",
    "score5 = 86\n",
    "print((score1 + score2 + score3 + score4 + score5) / 5)"
   ]
  }
 ],
 "metadata": {
  "language_info": {
   "codemirror_mode": {
    "name": "ipython",
    "version": 3
   },
   "file_extension": ".py",
   "mimetype": "text/x-python",
   "name": "python",
   "nbconvert_exporter": "python",
   "pygments_lexer": "ipython3",
   "version": "3.10.10"
  }
 },
 "nbformat": 4,
 "nbformat_minor": 2
}
