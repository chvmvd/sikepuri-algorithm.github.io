{
 "cells": [
  {
   "cell_type": "code",
   "execution_count": null,
   "metadata": {},
   "outputs": [],
   "source": [
    "scores = [96, 56, 42, 74, 86]\n",
    "sum_val = 0\n",
    "for i in range(len(scores)):\n",
    "    sum_val += scores[i]\n",
    "print(sum_val / 5)"
   ]
  }
 ],
 "metadata": {},
 "nbformat": 4,
 "nbformat_minor": 2
}
