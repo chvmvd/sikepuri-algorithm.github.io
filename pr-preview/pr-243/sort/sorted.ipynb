{
 "cells": [
  {
   "cell_type": "code",
   "execution_count": 1,
   "metadata": {
    "execution": {
     "iopub.execute_input": "2023-02-18T15:09:55.303189Z",
     "iopub.status.busy": "2023-02-18T15:09:55.302868Z",
     "iopub.status.idle": "2023-02-18T15:09:55.313411Z",
     "shell.execute_reply": "2023-02-18T15:09:55.312563Z"
    }
   },
   "outputs": [
    {
     "name": "stdout",
     "output_type": "stream",
     "text": [
      "[1, 2, 3, 4, 5, 6, 7, 8, 9, 10]\n"
     ]
    }
   ],
   "source": [
    "data = [3, 8, 2, 5, 1, 10, 6, 9, 4, 7]\n",
    "print(sorted(data))"
   ]
  }
 ],
 "metadata": {
  "language_info": {
   "codemirror_mode": {
    "name": "ipython",
    "version": 3
   },
   "file_extension": ".py",
   "mimetype": "text/x-python",
   "name": "python",
   "nbconvert_exporter": "python",
   "pygments_lexer": "ipython3",
   "version": "3.10.10"
  }
 },
 "nbformat": 4,
 "nbformat_minor": 2
}
