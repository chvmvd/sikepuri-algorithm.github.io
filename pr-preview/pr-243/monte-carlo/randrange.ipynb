{
 "cells": [
  {
   "cell_type": "code",
   "execution_count": 1,
   "metadata": {
    "execution": {
     "iopub.execute_input": "2023-02-18T15:07:50.842104Z",
     "iopub.status.busy": "2023-02-18T15:07:50.841776Z",
     "iopub.status.idle": "2023-02-18T15:07:50.851804Z",
     "shell.execute_reply": "2023-02-18T15:07:50.850440Z"
    }
   },
   "outputs": [],
   "source": [
    "import random"
   ]
  },
  {
   "cell_type": "code",
   "execution_count": 2,
   "metadata": {
    "execution": {
     "iopub.execute_input": "2023-02-18T15:07:50.854896Z",
     "iopub.status.busy": "2023-02-18T15:07:50.854377Z",
     "iopub.status.idle": "2023-02-18T15:07:50.860238Z",
     "shell.execute_reply": "2023-02-18T15:07:50.859135Z"
    }
   },
   "outputs": [
    {
     "name": "stdout",
     "output_type": "stream",
     "text": [
      "3\n"
     ]
    }
   ],
   "source": [
    "print(random.randrange(2, 4, 1))"
   ]
  }
 ],
 "metadata": {
  "language_info": {
   "codemirror_mode": {
    "name": "ipython",
    "version": 3
   },
   "file_extension": ".py",
   "mimetype": "text/x-python",
   "name": "python",
   "nbconvert_exporter": "python",
   "pygments_lexer": "ipython3",
   "version": "3.10.10"
  }
 },
 "nbformat": 4,
 "nbformat_minor": 2
}
