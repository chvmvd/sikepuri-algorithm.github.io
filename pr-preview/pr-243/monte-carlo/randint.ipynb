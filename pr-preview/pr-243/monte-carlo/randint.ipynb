{
 "cells": [
  {
   "cell_type": "code",
   "execution_count": 1,
   "metadata": {
    "execution": {
     "iopub.execute_input": "2023-02-18T15:07:47.613894Z",
     "iopub.status.busy": "2023-02-18T15:07:47.613584Z",
     "iopub.status.idle": "2023-02-18T15:07:47.628247Z",
     "shell.execute_reply": "2023-02-18T15:07:47.626095Z"
    }
   },
   "outputs": [],
   "source": [
    "import random"
   ]
  },
  {
   "cell_type": "code",
   "execution_count": 2,
   "metadata": {
    "execution": {
     "iopub.execute_input": "2023-02-18T15:07:47.633079Z",
     "iopub.status.busy": "2023-02-18T15:07:47.632439Z",
     "iopub.status.idle": "2023-02-18T15:07:47.638023Z",
     "shell.execute_reply": "2023-02-18T15:07:47.636802Z"
    }
   },
   "outputs": [
    {
     "name": "stdout",
     "output_type": "stream",
     "text": [
      "3\n"
     ]
    }
   ],
   "source": [
    "print(random.randint(2, 4))"
   ]
  }
 ],
 "metadata": {
  "language_info": {
   "codemirror_mode": {
    "name": "ipython",
    "version": 3
   },
   "file_extension": ".py",
   "mimetype": "text/x-python",
   "name": "python",
   "nbconvert_exporter": "python",
   "pygments_lexer": "ipython3",
   "version": "3.10.10"
  }
 },
 "nbformat": 4,
 "nbformat_minor": 2
}
