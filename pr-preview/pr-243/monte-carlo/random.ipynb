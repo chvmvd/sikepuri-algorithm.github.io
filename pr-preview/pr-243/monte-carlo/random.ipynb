{
 "cells": [
  {
   "cell_type": "code",
   "execution_count": 1,
   "metadata": {
    "execution": {
     "iopub.execute_input": "2023-02-18T15:07:49.157460Z",
     "iopub.status.busy": "2023-02-18T15:07:49.156910Z",
     "iopub.status.idle": "2023-02-18T15:07:49.165952Z",
     "shell.execute_reply": "2023-02-18T15:07:49.165070Z"
    }
   },
   "outputs": [],
   "source": [
    "import random"
   ]
  },
  {
   "cell_type": "code",
   "execution_count": 2,
   "metadata": {
    "execution": {
     "iopub.execute_input": "2023-02-18T15:07:49.169057Z",
     "iopub.status.busy": "2023-02-18T15:07:49.168788Z",
     "iopub.status.idle": "2023-02-18T15:07:49.173297Z",
     "shell.execute_reply": "2023-02-18T15:07:49.172471Z"
    }
   },
   "outputs": [
    {
     "name": "stdout",
     "output_type": "stream",
     "text": [
      "0.2329911814075173\n"
     ]
    }
   ],
   "source": [
    "print(random.random())"
   ]
  }
 ],
 "metadata": {
  "language_info": {
   "codemirror_mode": {
    "name": "ipython",
    "version": 3
   },
   "file_extension": ".py",
   "mimetype": "text/x-python",
   "name": "python",
   "nbconvert_exporter": "python",
   "pygments_lexer": "ipython3",
   "version": "3.10.10"
  }
 },
 "nbformat": 4,
 "nbformat_minor": 2
}
