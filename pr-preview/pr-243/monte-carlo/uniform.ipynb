{
 "cells": [
  {
   "cell_type": "code",
   "execution_count": 1,
   "metadata": {
    "execution": {
     "iopub.execute_input": "2023-02-18T15:07:52.314397Z",
     "iopub.status.busy": "2023-02-18T15:07:52.314046Z",
     "iopub.status.idle": "2023-02-18T15:07:52.323733Z",
     "shell.execute_reply": "2023-02-18T15:07:52.322741Z"
    }
   },
   "outputs": [],
   "source": [
    "import random"
   ]
  },
  {
   "cell_type": "code",
   "execution_count": 2,
   "metadata": {
    "execution": {
     "iopub.execute_input": "2023-02-18T15:07:52.327287Z",
     "iopub.status.busy": "2023-02-18T15:07:52.327012Z",
     "iopub.status.idle": "2023-02-18T15:07:52.332061Z",
     "shell.execute_reply": "2023-02-18T15:07:52.330998Z"
    }
   },
   "outputs": [
    {
     "name": "stdout",
     "output_type": "stream",
     "text": [
      "2.491630745021226\n"
     ]
    }
   ],
   "source": [
    "print(random.uniform(2, 4))"
   ]
  }
 ],
 "metadata": {
  "language_info": {
   "codemirror_mode": {
    "name": "ipython",
    "version": 3
   },
   "file_extension": ".py",
   "mimetype": "text/x-python",
   "name": "python",
   "nbconvert_exporter": "python",
   "pygments_lexer": "ipython3",
   "version": "3.10.10"
  }
 },
 "nbformat": 4,
 "nbformat_minor": 2
}
