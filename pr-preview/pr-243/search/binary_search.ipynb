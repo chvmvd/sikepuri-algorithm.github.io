{
 "cells": [
  {
   "cell_type": "code",
   "execution_count": 1,
   "metadata": {
    "execution": {
     "iopub.execute_input": "2023-02-18T15:08:49.621270Z",
     "iopub.status.busy": "2023-02-18T15:08:49.620911Z",
     "iopub.status.idle": "2023-02-18T15:08:49.634964Z",
     "shell.execute_reply": "2023-02-18T15:08:49.633930Z"
    }
   },
   "outputs": [
    {
     "name": "stdout",
     "output_type": "stream",
     "text": [
      "5\n"
     ]
    }
   ],
   "source": [
    "def binary_search(data, number):\n",
    "    start, end = -1, len(data)\n",
    "    while end - start > 1:\n",
    "        center = (start + end) // 2\n",
    "        if data[center] < number:\n",
    "            start = center\n",
    "        else:\n",
    "            end = center\n",
    "    return end\n",
    "\n",
    "\n",
    "data = [2, 10, 23, 37, 51, 57, 66, 88, 95]\n",
    "\n",
    "print(binary_search(data, 51) + 1)"
   ]
  }
 ],
 "metadata": {
  "language_info": {
   "codemirror_mode": {
    "name": "ipython",
    "version": 3
   },
   "file_extension": ".py",
   "mimetype": "text/x-python",
   "name": "python",
   "nbconvert_exporter": "python",
   "pygments_lexer": "ipython3",
   "version": "3.10.10"
  }
 },
 "nbformat": 4,
 "nbformat_minor": 2
}
