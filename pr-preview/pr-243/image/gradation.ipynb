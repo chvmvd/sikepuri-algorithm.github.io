{
 "cells": [
  {
   "cell_type": "code",
   "execution_count": null,
   "metadata": {},
   "outputs": [],
   "source": [
    "!pip install ita"
   ]
  },
  {
   "cell_type": "code",
   "execution_count": null,
   "metadata": {},
   "outputs": [],
   "source": [
    "import ita\n",
    "\n",
    "%matplotlib inline"
   ]
  },
  {
   "cell_type": "code",
   "execution_count": null,
   "metadata": {},
   "outputs": [],
   "source": [
    "def calc_weighted_mean(top_left, top_right, bottom_left, bottom_right, s, t):\n",
    "    return (top_left * (1 - s) + top_right * s) * (1 - t) + (\n",
    "        bottom_left * (1 - s) + bottom_right * s\n",
    "    ) * t\n",
    "\n",
    "\n",
    "image = []\n",
    "n = 100\n",
    "for i in range(n):\n",
    "    row = []\n",
    "    for j in range(n):\n",
    "        top_left = [1, 1, 1]\n",
    "        top_right = [1, 0, 0]\n",
    "        bottom_left = [0, 1, 0]\n",
    "        bottom_right = [0, 0, 1]\n",
    "        row.append([0, 0, 0])\n",
    "        for k in range(3):\n",
    "            row[j][k] = calc_weighted_mean(\n",
    "                top_left[k],\n",
    "                top_right[k],\n",
    "                bottom_left[k],\n",
    "                bottom_right[k],\n",
    "                j / (n - 1),\n",
    "                i / (n - 1),\n",
    "            )\n",
    "    image.append(row)\n",
    "\n",
    "ita.plot.image_show(image)"
   ]
  }
 ],
 "metadata": {},
 "nbformat": 4,
 "nbformat_minor": 2
}
