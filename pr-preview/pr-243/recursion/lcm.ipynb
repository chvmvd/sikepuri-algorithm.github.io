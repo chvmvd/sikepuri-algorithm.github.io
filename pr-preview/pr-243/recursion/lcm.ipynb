{
 "cells": [
  {
   "cell_type": "code",
   "execution_count": 1,
   "metadata": {
    "execution": {
     "iopub.execute_input": "2023-02-18T15:08:34.028185Z",
     "iopub.status.busy": "2023-02-18T15:08:34.027904Z",
     "iopub.status.idle": "2023-02-18T15:08:34.038697Z",
     "shell.execute_reply": "2023-02-18T15:08:34.037715Z"
    }
   },
   "outputs": [
    {
     "name": "stdout",
     "output_type": "stream",
     "text": [
      "90.0\n"
     ]
    }
   ],
   "source": [
    "def gcd(a, b):\n",
    "    if b == 0:\n",
    "        return a\n",
    "    else:\n",
    "        return gcd(b, a % b)\n",
    "\n",
    "\n",
    "def lcm(a, b):\n",
    "    return a * b / gcd(a, b)\n",
    "\n",
    "\n",
    "print(lcm(30, 18))"
   ]
  }
 ],
 "metadata": {
  "language_info": {
   "codemirror_mode": {
    "name": "ipython",
    "version": 3
   },
   "file_extension": ".py",
   "mimetype": "text/x-python",
   "name": "python",
   "nbconvert_exporter": "python",
   "pygments_lexer": "ipython3",
   "version": "3.10.10"
  }
 },
 "nbformat": 4,
 "nbformat_minor": 2
}
