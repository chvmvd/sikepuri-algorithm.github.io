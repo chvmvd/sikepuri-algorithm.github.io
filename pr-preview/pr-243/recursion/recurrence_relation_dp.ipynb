{
 "cells": [
  {
   "cell_type": "code",
   "execution_count": null,
   "metadata": {},
   "outputs": [],
   "source": [
    "def a(n):\n",
    "    s = 1\n",
    "    for i in range(n - 1):\n",
    "        s += 1\n",
    "    return s\n",
    "\n",
    "\n",
    "print(a(10))"
   ]
  }
 ],
 "metadata": {},
 "nbformat": 4,
 "nbformat_minor": 2
}
