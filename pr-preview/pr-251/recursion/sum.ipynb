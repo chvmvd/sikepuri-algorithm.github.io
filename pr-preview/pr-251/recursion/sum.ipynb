{
 "cells": [
  {
   "cell_type": "code",
   "execution_count": 1,
   "metadata": {
    "execution": {
     "iopub.execute_input": "2023-04-30T03:40:40.241513Z",
     "iopub.status.busy": "2023-04-30T03:40:40.241242Z",
     "iopub.status.idle": "2023-04-30T03:40:40.250437Z",
     "shell.execute_reply": "2023-04-30T03:40:40.249818Z"
    }
   },
   "outputs": [
    {
     "name": "stdout",
     "output_type": "stream",
     "text": [
      "55\n"
     ]
    }
   ],
   "source": [
    "def calc_sum(n):\n",
    "    if n == 1:\n",
    "        return 1\n",
    "    else:\n",
    "        return calc_sum(n - 1) + n\n",
    "\n",
    "\n",
    "print(calc_sum(10))"
   ]
  }
 ],
 "metadata": {
  "language_info": {
   "codemirror_mode": {
    "name": "ipython",
    "version": 3
   },
   "file_extension": ".py",
   "mimetype": "text/x-python",
   "name": "python",
   "nbconvert_exporter": "python",
   "pygments_lexer": "ipython3",
   "version": "3.10.11"
  }
 },
 "nbformat": 4,
 "nbformat_minor": 2
}
