{
 "cells": [
  {
   "cell_type": "code",
   "execution_count": 1,
   "metadata": {
    "execution": {
     "iopub.execute_input": "2023-04-30T03:36:40.186557Z",
     "iopub.status.busy": "2023-04-30T03:36:40.185960Z",
     "iopub.status.idle": "2023-04-30T03:36:40.193508Z",
     "shell.execute_reply": "2023-04-30T03:36:40.192937Z"
    }
   },
   "outputs": [],
   "source": [
    "scores = [96, 56, 42, 74, 86]\n",
    "scores[0] = 37"
   ]
  }
 ],
 "metadata": {
  "language_info": {
   "codemirror_mode": {
    "name": "ipython",
    "version": 3
   },
   "file_extension": ".py",
   "mimetype": "text/x-python",
   "name": "python",
   "nbconvert_exporter": "python",
   "pygments_lexer": "ipython3",
   "version": "3.10.11"
  }
 },
 "nbformat": 4,
 "nbformat_minor": 2
}
