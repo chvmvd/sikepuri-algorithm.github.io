{
 "cells": [
  {
   "cell_type": "code",
   "execution_count": 1,
   "metadata": {
    "execution": {
     "iopub.execute_input": "2023-04-30T03:42:22.799685Z",
     "iopub.status.busy": "2023-04-30T03:42:22.799094Z",
     "iopub.status.idle": "2023-04-30T03:42:24.092054Z",
     "shell.execute_reply": "2023-04-30T03:42:24.091258Z"
    }
   },
   "outputs": [
    {
     "name": "stdout",
     "output_type": "stream",
     "text": [
      "Requirement already satisfied: pandas in /home/runner/.cache/pypoetry/virtualenvs/sikepuri-of-algorithm-327BGRWj-py3.10/lib/python3.10/site-packages (2.0.1)\r\n",
      "Requirement already satisfied: python-dateutil>=2.8.2 in /home/runner/.cache/pypoetry/virtualenvs/sikepuri-of-algorithm-327BGRWj-py3.10/lib/python3.10/site-packages (from pandas) (2.8.2)\r\n",
      "Requirement already satisfied: pytz>=2020.1 in /home/runner/.cache/pypoetry/virtualenvs/sikepuri-of-algorithm-327BGRWj-py3.10/lib/python3.10/site-packages (from pandas) (2023.3)\r\n",
      "Requirement already satisfied: tzdata>=2022.1 in /home/runner/.cache/pypoetry/virtualenvs/sikepuri-of-algorithm-327BGRWj-py3.10/lib/python3.10/site-packages (from pandas) (2023.3)\r\n",
      "Requirement already satisfied: numpy>=1.21.0 in /home/runner/.cache/pypoetry/virtualenvs/sikepuri-of-algorithm-327BGRWj-py3.10/lib/python3.10/site-packages (from pandas) (1.24.3)\r\n",
      "Requirement already satisfied: six>=1.5 in /home/runner/.cache/pypoetry/virtualenvs/sikepuri-of-algorithm-327BGRWj-py3.10/lib/python3.10/site-packages (from python-dateutil>=2.8.2->pandas) (1.16.0)\r\n",
      "\r\n",
      "\u001b[1m[\u001b[0m\u001b[34;49mnotice\u001b[0m\u001b[1;39;49m]\u001b[0m\u001b[39;49m A new release of pip is available: \u001b[0m\u001b[31;49m23.1\u001b[0m\u001b[39;49m -> \u001b[0m\u001b[32;49m23.1.2\u001b[0m\r\n",
      "\u001b[1m[\u001b[0m\u001b[34;49mnotice\u001b[0m\u001b[1;39;49m]\u001b[0m\u001b[39;49m To update, run: \u001b[0m\u001b[32;49mpip install --upgrade pip\u001b[0m\r\n"
     ]
    }
   ],
   "source": [
    "!pip install pandas"
   ]
  },
  {
   "cell_type": "code",
   "execution_count": 2,
   "metadata": {
    "execution": {
     "iopub.execute_input": "2023-04-30T03:42:24.095325Z",
     "iopub.status.busy": "2023-04-30T03:42:24.094799Z",
     "iopub.status.idle": "2023-04-30T03:42:24.337731Z",
     "shell.execute_reply": "2023-04-30T03:42:24.337083Z"
    }
   },
   "outputs": [],
   "source": [
    "import pandas as pd"
   ]
  },
  {
   "cell_type": "code",
   "execution_count": 3,
   "metadata": {
    "execution": {
     "iopub.execute_input": "2023-04-30T03:42:24.340906Z",
     "iopub.status.busy": "2023-04-30T03:42:24.340299Z",
     "iopub.status.idle": "2023-04-30T03:42:24.345416Z",
     "shell.execute_reply": "2023-04-30T03:42:24.344785Z"
    }
   },
   "outputs": [
    {
     "name": "stdout",
     "output_type": "stream",
     "text": [
      "0    0\n",
      "1    1\n",
      "2    2\n",
      "dtype: int64\n"
     ]
    }
   ],
   "source": [
    "s1 = pd.Series([0, 1, 2])\n",
    "print(s1)"
   ]
  }
 ],
 "metadata": {
  "language_info": {
   "codemirror_mode": {
    "name": "ipython",
    "version": 3
   },
   "file_extension": ".py",
   "mimetype": "text/x-python",
   "name": "python",
   "nbconvert_exporter": "python",
   "pygments_lexer": "ipython3",
   "version": "3.10.11"
  }
 },
 "nbformat": 4,
 "nbformat_minor": 2
}
