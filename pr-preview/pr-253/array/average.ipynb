{
 "cells": [
  {
   "cell_type": "code",
   "execution_count": 1,
   "metadata": {
    "execution": {
     "iopub.execute_input": "2023-04-30T03:38:55.782077Z",
     "iopub.status.busy": "2023-04-30T03:38:55.781853Z",
     "iopub.status.idle": "2023-04-30T03:38:55.803848Z",
     "shell.execute_reply": "2023-04-30T03:38:55.797638Z"
    }
   },
   "outputs": [
    {
     "name": "stdout",
     "output_type": "stream",
     "text": [
      "70.8\n"
     ]
    }
   ],
   "source": [
    "score1 = 96\n",
    "score2 = 56\n",
    "score3 = 42\n",
    "score4 = 74\n",
    "score5 = 86\n",
    "print((score1 + score2 + score3 + score4 + score5) / 5)"
   ]
  }
 ],
 "metadata": {
  "language_info": {
   "codemirror_mode": {
    "name": "ipython",
    "version": 3
   },
   "file_extension": ".py",
   "mimetype": "text/x-python",
   "name": "python",
   "nbconvert_exporter": "python",
   "pygments_lexer": "ipython3",
   "version": "3.10.11"
  }
 },
 "nbformat": 4,
 "nbformat_minor": 2
}
