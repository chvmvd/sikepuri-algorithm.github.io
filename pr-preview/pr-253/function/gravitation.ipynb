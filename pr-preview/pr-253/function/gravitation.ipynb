{
 "cells": [
  {
   "cell_type": "code",
   "execution_count": 1,
   "metadata": {
    "execution": {
     "iopub.execute_input": "2023-04-30T03:40:06.750797Z",
     "iopub.status.busy": "2023-04-30T03:40:06.750241Z",
     "iopub.status.idle": "2023-04-30T03:40:06.762067Z",
     "shell.execute_reply": "2023-04-30T03:40:06.761524Z"
    }
   },
   "outputs": [
    {
     "data": {
      "text/plain": [
       "2.0099999999999998e-08"
      ]
     },
     "execution_count": 1,
     "metadata": {},
     "output_type": "execute_result"
    }
   ],
   "source": [
    "G = 6.7 * 10 ** (-11)\n",
    "\n",
    "\n",
    "def F(r, M, m):\n",
    "    return G * M * m / r**2\n",
    "\n",
    "\n",
    "F(2, 60, 20)"
   ]
  }
 ],
 "metadata": {
  "language_info": {
   "codemirror_mode": {
    "name": "ipython",
    "version": 3
   },
   "file_extension": ".py",
   "mimetype": "text/x-python",
   "name": "python",
   "nbconvert_exporter": "python",
   "pygments_lexer": "ipython3",
   "version": "3.10.11"
  }
 },
 "nbformat": 4,
 "nbformat_minor": 2
}
