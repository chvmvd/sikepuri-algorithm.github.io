{
 "cells": [
  {
   "cell_type": "code",
   "execution_count": 1,
   "metadata": {
    "execution": {
     "iopub.execute_input": "2023-04-30T03:42:03.668185Z",
     "iopub.status.busy": "2023-04-30T03:42:03.667970Z",
     "iopub.status.idle": "2023-04-30T03:42:03.674888Z",
     "shell.execute_reply": "2023-04-30T03:42:03.674347Z"
    }
   },
   "outputs": [],
   "source": [
    "import random"
   ]
  },
  {
   "cell_type": "code",
   "execution_count": 2,
   "metadata": {
    "execution": {
     "iopub.execute_input": "2023-04-30T03:42:03.677416Z",
     "iopub.status.busy": "2023-04-30T03:42:03.676919Z",
     "iopub.status.idle": "2023-04-30T03:42:03.680583Z",
     "shell.execute_reply": "2023-04-30T03:42:03.679958Z"
    }
   },
   "outputs": [
    {
     "name": "stdout",
     "output_type": "stream",
     "text": [
      "0.37924563503000197\n"
     ]
    }
   ],
   "source": [
    "print(random.random())"
   ]
  }
 ],
 "metadata": {
  "language_info": {
   "codemirror_mode": {
    "name": "ipython",
    "version": 3
   },
   "file_extension": ".py",
   "mimetype": "text/x-python",
   "name": "python",
   "nbconvert_exporter": "python",
   "pygments_lexer": "ipython3",
   "version": "3.10.11"
  }
 },
 "nbformat": 4,
 "nbformat_minor": 2
}
