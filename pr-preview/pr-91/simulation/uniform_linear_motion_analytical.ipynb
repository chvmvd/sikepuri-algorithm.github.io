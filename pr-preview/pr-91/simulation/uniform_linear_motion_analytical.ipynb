{
  "nbformat": 4,
  "nbformat_minor": 2,
  "metadata": {},
  "cells": [
    {
      "metadata": {},
      "source": [
        "def uniform_linear_motion(x0, v0, t):\n",
        "    return x0 + v0 * t\n",
        "\n",
        "\n",
        "print(uniform_linear_motion(0, 10, 10))"
      ],
      "cell_type": "code",
      "outputs": [
        {
          "output_type": "stream",
          "name": "stdout",
          "text": [
            "100\n"
          ]
        }
      ],
      "execution_count": null
    }
  ]
}
