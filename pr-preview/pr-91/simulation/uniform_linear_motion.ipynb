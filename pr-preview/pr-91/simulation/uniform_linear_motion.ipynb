{
  "nbformat": 4,
  "nbformat_minor": 2,
  "metadata": {},
  "cells": [
    {
      "metadata": {},
      "source": [
        "def uniform_linear_motion_step(x, v0, dt):\n",
        "    return x + v0 * dt\n",
        "\n",
        "\n",
        "def uniform_linear_motion(x0, v0, t, dt):\n",
        "    x = x0\n",
        "    n = int(t / dt)\n",
        "    for i in range(n):\n",
        "        x = uniform_linear_motion_step(x, v0, dt)\n",
        "    return x\n",
        "\n",
        "\n",
        "print(uniform_linear_motion(0, 10, 10, 0.1))"
      ],
      "cell_type": "code",
      "outputs": [
        {
          "output_type": "stream",
          "name": "stdout",
          "text": [
            "100.0\n"
          ]
        }
      ],
      "execution_count": null
    }
  ]
}
