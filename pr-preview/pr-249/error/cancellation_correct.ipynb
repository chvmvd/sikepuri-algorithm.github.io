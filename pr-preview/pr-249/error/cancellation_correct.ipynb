{
 "cells": [
  {
   "cell_type": "code",
   "execution_count": 1,
   "metadata": {
    "execution": {
     "iopub.execute_input": "2023-04-30T03:33:14.012320Z",
     "iopub.status.busy": "2023-04-30T03:33:14.012021Z",
     "iopub.status.idle": "2023-04-30T03:33:14.020014Z",
     "shell.execute_reply": "2023-04-30T03:33:14.019266Z"
    }
   },
   "outputs": [],
   "source": [
    "import math"
   ]
  },
  {
   "cell_type": "code",
   "execution_count": 2,
   "metadata": {
    "execution": {
     "iopub.execute_input": "2023-04-30T03:33:14.023036Z",
     "iopub.status.busy": "2023-04-30T03:33:14.022497Z",
     "iopub.status.idle": "2023-04-30T03:33:14.028225Z",
     "shell.execute_reply": "2023-04-30T03:33:14.027566Z"
    }
   },
   "outputs": [
    {
     "name": "stdout",
     "output_type": "stream",
     "text": [
      "0.0031622776602079072\n"
     ]
    }
   ],
   "source": [
    "print(2 / (math.sqrt(100001) + math.sqrt(99999)))"
   ]
  }
 ],
 "metadata": {
  "language_info": {
   "codemirror_mode": {
    "name": "ipython",
    "version": 3
   },
   "file_extension": ".py",
   "mimetype": "text/x-python",
   "name": "python",
   "nbconvert_exporter": "python",
   "pygments_lexer": "ipython3",
   "version": "3.10.11"
  }
 },
 "nbformat": 4,
 "nbformat_minor": 2
}
