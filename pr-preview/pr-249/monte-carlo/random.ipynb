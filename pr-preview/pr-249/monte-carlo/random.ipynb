{
 "cells": [
  {
   "cell_type": "code",
   "execution_count": 1,
   "metadata": {
    "execution": {
     "iopub.execute_input": "2023-04-30T03:36:24.517672Z",
     "iopub.status.busy": "2023-04-30T03:36:24.517409Z",
     "iopub.status.idle": "2023-04-30T03:36:24.524784Z",
     "shell.execute_reply": "2023-04-30T03:36:24.524107Z"
    }
   },
   "outputs": [],
   "source": [
    "import random"
   ]
  },
  {
   "cell_type": "code",
   "execution_count": 2,
   "metadata": {
    "execution": {
     "iopub.execute_input": "2023-04-30T03:36:24.527670Z",
     "iopub.status.busy": "2023-04-30T03:36:24.527249Z",
     "iopub.status.idle": "2023-04-30T03:36:24.531087Z",
     "shell.execute_reply": "2023-04-30T03:36:24.530425Z"
    }
   },
   "outputs": [
    {
     "name": "stdout",
     "output_type": "stream",
     "text": [
      "0.3690175060643661\n"
     ]
    }
   ],
   "source": [
    "print(random.random())"
   ]
  }
 ],
 "metadata": {
  "language_info": {
   "codemirror_mode": {
    "name": "ipython",
    "version": 3
   },
   "file_extension": ".py",
   "mimetype": "text/x-python",
   "name": "python",
   "nbconvert_exporter": "python",
   "pygments_lexer": "ipython3",
   "version": "3.10.11"
  }
 },
 "nbformat": 4,
 "nbformat_minor": 2
}
