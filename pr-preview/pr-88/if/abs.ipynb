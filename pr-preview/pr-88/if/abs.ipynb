{
 "nbformat": 4,
 "nbformat_minor": 2,
 "metadata": {},
 "cells": [
  {
   "metadata": {},
   "source": [
    "def abs_val(n):\n",
    "    if n >= 0:\n",
    "        return n\n",
    "    else:\n",
    "        return -n\n",
    "\n",
    "\n",
    "print(abs_val(-10))"
   ],
   "cell_type": "code",
   "outputs": [
    {
     "output_type": "stream",
     "name": "stdout",
     "text": [
      "10\n"
     ]
    }
   ],
   "execution_count": null
  }
 ]
}
