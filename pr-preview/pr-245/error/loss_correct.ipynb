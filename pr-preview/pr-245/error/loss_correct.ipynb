{
 "cells": [
  {
   "cell_type": "code",
   "execution_count": 1,
   "metadata": {
    "execution": {
     "iopub.execute_input": "2023-02-19T03:20:34.907309Z",
     "iopub.status.busy": "2023-02-19T03:20:34.906917Z",
     "iopub.status.idle": "2023-02-19T03:20:35.659131Z",
     "shell.execute_reply": "2023-02-19T03:20:35.658439Z"
    }
   },
   "outputs": [
    {
     "name": "stdout",
     "output_type": "stream",
     "text": [
      "10000000001.0\n"
     ]
    }
   ],
   "source": [
    "r = 0\n",
    "for i in range(10000000):\n",
    "    r += 0.0000001\n",
    "r += 10000000000\n",
    "print(r)"
   ]
  }
 ],
 "metadata": {
  "language_info": {
   "codemirror_mode": {
    "name": "ipython",
    "version": 3
   },
   "file_extension": ".py",
   "mimetype": "text/x-python",
   "name": "python",
   "nbconvert_exporter": "python",
   "pygments_lexer": "ipython3",
   "version": "3.10.10"
  }
 },
 "nbformat": 4,
 "nbformat_minor": 2
}
