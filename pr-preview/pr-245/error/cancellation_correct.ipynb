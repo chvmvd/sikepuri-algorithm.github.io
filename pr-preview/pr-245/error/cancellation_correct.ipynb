{
 "cells": [
  {
   "cell_type": "code",
   "execution_count": 1,
   "metadata": {
    "execution": {
     "iopub.execute_input": "2023-02-19T03:09:52.022758Z",
     "iopub.status.busy": "2023-02-19T03:09:52.022437Z",
     "iopub.status.idle": "2023-02-19T03:09:52.032538Z",
     "shell.execute_reply": "2023-02-19T03:09:52.031586Z"
    }
   },
   "outputs": [],
   "source": [
    "import math"
   ]
  },
  {
   "cell_type": "code",
   "execution_count": 2,
   "metadata": {
    "execution": {
     "iopub.execute_input": "2023-02-19T03:09:52.036002Z",
     "iopub.status.busy": "2023-02-19T03:09:52.035727Z",
     "iopub.status.idle": "2023-02-19T03:09:52.041112Z",
     "shell.execute_reply": "2023-02-19T03:09:52.040243Z"
    }
   },
   "outputs": [
    {
     "name": "stdout",
     "output_type": "stream",
     "text": [
      "0.0031622776602079072\n"
     ]
    }
   ],
   "source": [
    "print(2 / (math.sqrt(100001) + math.sqrt(99999)))"
   ]
  }
 ],
 "metadata": {
  "language_info": {
   "codemirror_mode": {
    "name": "ipython",
    "version": 3
   },
   "file_extension": ".py",
   "mimetype": "text/x-python",
   "name": "python",
   "nbconvert_exporter": "python",
   "pygments_lexer": "ipython3",
   "version": "3.10.10"
  }
 },
 "nbformat": 4,
 "nbformat_minor": 2
}
