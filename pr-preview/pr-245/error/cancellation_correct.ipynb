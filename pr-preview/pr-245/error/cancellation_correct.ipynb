{
 "cells": [
  {
   "cell_type": "code",
   "execution_count": 1,
   "metadata": {
    "execution": {
     "iopub.execute_input": "2023-02-19T06:09:51.080379Z",
     "iopub.status.busy": "2023-02-19T06:09:51.080139Z",
     "iopub.status.idle": "2023-02-19T06:09:51.087776Z",
     "shell.execute_reply": "2023-02-19T06:09:51.087197Z"
    }
   },
   "outputs": [],
   "source": [
    "import math"
   ]
  },
  {
   "cell_type": "code",
   "execution_count": 2,
   "metadata": {
    "execution": {
     "iopub.execute_input": "2023-02-19T06:09:51.090424Z",
     "iopub.status.busy": "2023-02-19T06:09:51.089920Z",
     "iopub.status.idle": "2023-02-19T06:09:51.094255Z",
     "shell.execute_reply": "2023-02-19T06:09:51.093683Z"
    }
   },
   "outputs": [
    {
     "name": "stdout",
     "output_type": "stream",
     "text": [
      "0.0031622776602079072\n"
     ]
    }
   ],
   "source": [
    "print(2 / (math.sqrt(100001) + math.sqrt(99999)))"
   ]
  }
 ],
 "metadata": {
  "language_info": {
   "codemirror_mode": {
    "name": "ipython",
    "version": 3
   },
   "file_extension": ".py",
   "mimetype": "text/x-python",
   "name": "python",
   "nbconvert_exporter": "python",
   "pygments_lexer": "ipython3",
   "version": "3.10.10"
  }
 },
 "nbformat": 4,
 "nbformat_minor": 2
}
