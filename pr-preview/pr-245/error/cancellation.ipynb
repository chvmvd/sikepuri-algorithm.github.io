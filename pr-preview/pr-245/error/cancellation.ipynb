{
 "cells": [
  {
   "cell_type": "code",
   "execution_count": 1,
   "metadata": {
    "execution": {
     "iopub.execute_input": "2023-02-19T02:27:15.974449Z",
     "iopub.status.busy": "2023-02-19T02:27:15.974220Z",
     "iopub.status.idle": "2023-02-19T02:27:15.981285Z",
     "shell.execute_reply": "2023-02-19T02:27:15.980707Z"
    }
   },
   "outputs": [],
   "source": [
    "import math"
   ]
  },
  {
   "cell_type": "code",
   "execution_count": 2,
   "metadata": {
    "execution": {
     "iopub.execute_input": "2023-02-19T02:27:15.983720Z",
     "iopub.status.busy": "2023-02-19T02:27:15.983406Z",
     "iopub.status.idle": "2023-02-19T02:27:15.990635Z",
     "shell.execute_reply": "2023-02-19T02:27:15.990020Z"
    }
   },
   "outputs": [
    {
     "data": {
      "text/plain": [
       "0.003162277660237578"
      ]
     },
     "execution_count": 2,
     "metadata": {},
     "output_type": "execute_result"
    }
   ],
   "source": [
    "math.sqrt(100001) - math.sqrt(99999)"
   ]
  }
 ],
 "metadata": {
  "language_info": {
   "codemirror_mode": {
    "name": "ipython",
    "version": 3
   },
   "file_extension": ".py",
   "mimetype": "text/x-python",
   "name": "python",
   "nbconvert_exporter": "python",
   "pygments_lexer": "ipython3",
   "version": "3.10.10"
  }
 },
 "nbformat": 4,
 "nbformat_minor": 2
}
