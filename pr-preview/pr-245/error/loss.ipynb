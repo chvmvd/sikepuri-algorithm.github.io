{
 "cells": [
  {
   "cell_type": "code",
   "execution_count": 1,
   "metadata": {
    "execution": {
     "iopub.execute_input": "2023-02-19T03:20:32.839233Z",
     "iopub.status.busy": "2023-02-19T03:20:32.839021Z",
     "iopub.status.idle": "2023-02-19T03:20:33.692448Z",
     "shell.execute_reply": "2023-02-19T03:20:33.691757Z"
    }
   },
   "outputs": [
    {
     "name": "stdout",
     "output_type": "stream",
     "text": [
      "10000000000.0\n"
     ]
    }
   ],
   "source": [
    "r = 0\n",
    "r += 10000000000\n",
    "for i in range(10000000):\n",
    "    r += 0.0000001\n",
    "print(r)"
   ]
  }
 ],
 "metadata": {
  "language_info": {
   "codemirror_mode": {
    "name": "ipython",
    "version": 3
   },
   "file_extension": ".py",
   "mimetype": "text/x-python",
   "name": "python",
   "nbconvert_exporter": "python",
   "pygments_lexer": "ipython3",
   "version": "3.10.10"
  }
 },
 "nbformat": 4,
 "nbformat_minor": 2
}
