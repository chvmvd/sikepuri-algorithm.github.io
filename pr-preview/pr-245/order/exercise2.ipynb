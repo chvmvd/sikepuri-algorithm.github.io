{
 "cells": [
  {
   "cell_type": "code",
   "execution_count": null,
   "metadata": {},
   "outputs": [],
   "source": [
    "def calc_max(data):\n",
    "    max_val = data[0]\n",
    "    for i in range(1, len(data)):\n",
    "        if max_val < data[i]:\n",
    "            max_val = data[i]\n",
    "    return max_val\n",
    "\n",
    "\n",
    "print(calc_max([1, 4, 3, 5, 2]))"
   ]
  }
 ],
 "metadata": {},
 "nbformat": 4,
 "nbformat_minor": 2
}
