{
 "cells": [
  {
   "cell_type": "code",
   "execution_count": 1,
   "metadata": {
    "execution": {
     "iopub.execute_input": "2023-02-19T03:14:34.134655Z",
     "iopub.status.busy": "2023-02-19T03:14:34.134052Z",
     "iopub.status.idle": "2023-02-19T03:14:34.143710Z",
     "shell.execute_reply": "2023-02-19T03:14:34.142673Z"
    }
   },
   "outputs": [],
   "source": [
    "import math"
   ]
  },
  {
   "cell_type": "code",
   "execution_count": 2,
   "metadata": {
    "execution": {
     "iopub.execute_input": "2023-02-19T03:14:34.146990Z",
     "iopub.status.busy": "2023-02-19T03:14:34.146714Z",
     "iopub.status.idle": "2023-02-19T03:14:34.155413Z",
     "shell.execute_reply": "2023-02-19T03:14:34.153202Z"
    }
   },
   "outputs": [
    {
     "name": "stdout",
     "output_type": "stream",
     "text": [
      "[84.85281374238573, 6.648813742385697]\n"
     ]
    }
   ],
   "source": [
    "g = 9.8\n",
    "\n",
    "\n",
    "def parabolic_motion_step(x, y, u, v, dt):\n",
    "    x = x + u * dt\n",
    "    y = y + v * dt\n",
    "    u = u\n",
    "    v = v - g * dt\n",
    "    return [x, y, u, v]\n",
    "\n",
    "\n",
    "def parabolic_motion(v0, theta, t, dt):\n",
    "    x = 0\n",
    "    y = 0\n",
    "    u = v0 * math.cos(theta)\n",
    "    v = v0 * math.sin(theta)\n",
    "    n = int(t / dt)\n",
    "    for i in range(n):\n",
    "        x, y, u, v = parabolic_motion_step(x, y, u, v, dt)\n",
    "    return [x, y]\n",
    "\n",
    "\n",
    "print(parabolic_motion(30, math.pi / 4, 4, 0.01))"
   ]
  }
 ],
 "metadata": {
  "language_info": {
   "codemirror_mode": {
    "name": "ipython",
    "version": 3
   },
   "file_extension": ".py",
   "mimetype": "text/x-python",
   "name": "python",
   "nbconvert_exporter": "python",
   "pygments_lexer": "ipython3",
   "version": "3.10.10"
  }
 },
 "nbformat": 4,
 "nbformat_minor": 2
}
