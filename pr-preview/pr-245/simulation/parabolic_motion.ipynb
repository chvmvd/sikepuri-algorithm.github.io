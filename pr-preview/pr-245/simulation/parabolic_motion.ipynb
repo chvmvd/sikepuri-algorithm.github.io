{
 "cells": [
  {
   "cell_type": "code",
   "execution_count": null,
   "metadata": {},
   "outputs": [],
   "source": [
    "import math"
   ]
  },
  {
   "cell_type": "code",
   "execution_count": null,
   "metadata": {},
   "outputs": [],
   "source": [
    "g = 9.8\n",
    "\n",
    "\n",
    "def parabolic_motion_step(x, y, u, v, dt):\n",
    "    x = x + u * dt\n",
    "    y = y + v * dt\n",
    "    u = u\n",
    "    v = v - g * dt\n",
    "    return [x, y, u, v]\n",
    "\n",
    "\n",
    "def parabolic_motion(v0, theta, t, dt):\n",
    "    x = 0\n",
    "    y = 0\n",
    "    u = v0 * math.cos(theta)\n",
    "    v = v0 * math.sin(theta)\n",
    "    n = int(t / dt)\n",
    "    for i in range(n):\n",
    "        x, y, u, v = parabolic_motion_step(x, y, u, v, dt)\n",
    "    return [x, y]\n",
    "\n",
    "\n",
    "print(parabolic_motion(30, math.pi / 4, 4, 0.01))"
   ]
  }
 ],
 "metadata": {},
 "nbformat": 4,
 "nbformat_minor": 2
}
