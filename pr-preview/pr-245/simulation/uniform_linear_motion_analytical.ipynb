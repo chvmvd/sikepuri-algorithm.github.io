{
 "cells": [
  {
   "cell_type": "code",
   "execution_count": null,
   "metadata": {},
   "outputs": [],
   "source": [
    "def uniform_linear_motion(x0, v0, t):\n",
    "    return x0 + v0 * t\n",
    "\n",
    "\n",
    "print(uniform_linear_motion(0, 10, 10))"
   ]
  }
 ],
 "metadata": {},
 "nbformat": 4,
 "nbformat_minor": 2
}
