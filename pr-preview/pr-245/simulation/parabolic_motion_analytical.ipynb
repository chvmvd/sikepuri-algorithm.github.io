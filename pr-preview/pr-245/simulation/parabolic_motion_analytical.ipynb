{
 "cells": [
  {
   "cell_type": "code",
   "execution_count": null,
   "metadata": {},
   "outputs": [],
   "source": [
    "!pip install ita"
   ]
  },
  {
   "cell_type": "code",
   "execution_count": null,
   "metadata": {},
   "outputs": [],
   "source": [
    "import math\n",
    "\n",
    "import ita\n",
    "\n",
    "%matplotlib inline"
   ]
  },
  {
   "cell_type": "code",
   "execution_count": null,
   "metadata": {},
   "outputs": [],
   "source": [
    "def draw_cell(x, y):\n",
    "    image = [[0 for _ in range(100)] for _ in range(100)]\n",
    "    image[len(image) - 1 - y][x] = 1\n",
    "    return image\n",
    "\n",
    "\n",
    "g = 9.8\n",
    "\n",
    "\n",
    "def parabolic_motion(v0, theta, t, dt):\n",
    "    result = []\n",
    "    n = int(t / dt)\n",
    "    for i in range(n):\n",
    "        t = dt * i\n",
    "        result.append(\n",
    "            [v0 * t * math.cos(theta), -1 / 2 * g * t**2 + v0 * t * math.sin(theta)]\n",
    "        )\n",
    "    return result\n",
    "\n",
    "\n",
    "result = parabolic_motion(30, math.pi / 4, 4, 0.01)\n",
    "images = []\n",
    "for i in range(10):\n",
    "    images.append(\n",
    "        draw_cell(\n",
    "            int(result[i * int(len(result) / 10)][0]),\n",
    "            int(result[i * int(len(result) / 10)][1]),\n",
    "        )\n",
    "    )\n",
    "ita.plot.animation_show(images)"
   ]
  }
 ],
 "metadata": {},
 "nbformat": 4,
 "nbformat_minor": 2
}
