{
 "cells": [
  {
   "cell_type": "code",
   "execution_count": 1,
   "metadata": {
    "execution": {
     "iopub.execute_input": "2023-02-19T06:10:38.599736Z",
     "iopub.status.busy": "2023-02-19T06:10:38.599161Z",
     "iopub.status.idle": "2023-02-19T06:10:38.607517Z",
     "shell.execute_reply": "2023-02-19T06:10:38.606845Z"
    }
   },
   "outputs": [
    {
     "name": "stdout",
     "output_type": "stream",
     "text": [
      "Hello!\n",
      "Hello!\n",
      "Hello!\n"
     ]
    }
   ],
   "source": [
    "def hello():\n",
    "    print(\"Hello!\")\n",
    "\n",
    "\n",
    "hello()\n",
    "hello()\n",
    "hello()"
   ]
  }
 ],
 "metadata": {
  "language_info": {
   "codemirror_mode": {
    "name": "ipython",
    "version": 3
   },
   "file_extension": ".py",
   "mimetype": "text/x-python",
   "name": "python",
   "nbconvert_exporter": "python",
   "pygments_lexer": "ipython3",
   "version": "3.10.10"
  }
 },
 "nbformat": 4,
 "nbformat_minor": 2
}
