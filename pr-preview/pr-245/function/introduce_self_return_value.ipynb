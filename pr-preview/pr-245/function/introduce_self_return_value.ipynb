{
 "cells": [
  {
   "cell_type": "code",
   "execution_count": 1,
   "metadata": {
    "execution": {
     "iopub.execute_input": "2023-02-19T04:48:41.776260Z",
     "iopub.status.busy": "2023-02-19T04:48:41.776026Z",
     "iopub.status.idle": "2023-02-19T04:48:41.784318Z",
     "shell.execute_reply": "2023-02-19T04:48:41.783666Z"
    }
   },
   "outputs": [
    {
     "name": "stdout",
     "output_type": "stream",
     "text": [
      "私の名前は、小林です。\n"
     ]
    }
   ],
   "source": [
    "def introduce_self(name):\n",
    "    return \"私の名前は、\" + name + \"です。\"\n",
    "\n",
    "\n",
    "print(introduce_self(\"小林\"))"
   ]
  }
 ],
 "metadata": {
  "language_info": {
   "codemirror_mode": {
    "name": "ipython",
    "version": 3
   },
   "file_extension": ".py",
   "mimetype": "text/x-python",
   "name": "python",
   "nbconvert_exporter": "python",
   "pygments_lexer": "ipython3",
   "version": "3.10.10"
  }
 },
 "nbformat": 4,
 "nbformat_minor": 2
}
