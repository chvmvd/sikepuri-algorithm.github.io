{
 "cells": [
  {
   "cell_type": "code",
   "execution_count": null,
   "metadata": {},
   "outputs": [],
   "source": [
    "G = 6.7 * 10 ** (-11)\n",
    "\n",
    "\n",
    "def F(r, M, m):\n",
    "    return G * M * m / r**2\n",
    "\n",
    "\n",
    "F(2, 60, 20)"
   ]
  }
 ],
 "metadata": {},
 "nbformat": 4,
 "nbformat_minor": 2
}
