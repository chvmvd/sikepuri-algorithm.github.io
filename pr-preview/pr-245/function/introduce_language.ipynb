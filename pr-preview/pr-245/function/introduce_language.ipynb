{
 "cells": [
  {
   "cell_type": "code",
   "execution_count": null,
   "metadata": {},
   "outputs": [],
   "source": [
    "def introduce_self(name, language):\n",
    "    print(\"私の名前は、\" + name + \"です。\" + language + \"選択です。\")\n",
    "\n",
    "\n",
    "introduce_self(\"東大太郎\", \"中国語\")"
   ]
  }
 ],
 "metadata": {},
 "nbformat": 4,
 "nbformat_minor": 2
}
