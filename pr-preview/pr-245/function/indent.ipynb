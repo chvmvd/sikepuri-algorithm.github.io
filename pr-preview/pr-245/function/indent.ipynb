{
 "cells": [
  {
   "cell_type": "code",
   "execution_count": null,
   "metadata": {},
   "outputs": [],
   "source": [
    "def f(x):\n",
    "return x**2\n",
    "\n",
    "f(2)+f(3)"
   ]
  }
 ],
 "metadata": {},
 "nbformat": 4,
 "nbformat_minor": 2
}
