{
 "cells": [
  {
   "cell_type": "code",
   "execution_count": null,
   "metadata": {},
   "outputs": [],
   "source": [
    "def calc_sum2d(scores):\n",
    "    sum_val = 0\n",
    "    for i in range(len(scores)):\n",
    "        for j in range(len(scores[i])):\n",
    "            sum_val += scores[i][j]\n",
    "    return sum_val\n",
    "\n",
    "\n",
    "scores = [[83, 75, 32], [73, 53, 84], [63, 48, 64]]\n",
    "\n",
    "print(calc_sum2d(scores))"
   ]
  }
 ],
 "metadata": {},
 "nbformat": 4,
 "nbformat_minor": 2
}
