{
 "cells": [
  {
   "cell_type": "code",
   "execution_count": null,
   "metadata": {},
   "outputs": [],
   "source": [
    "def calc_sum3d(scores):\n",
    "    sum_val = 0\n",
    "    for i in range(len(scores)):\n",
    "        for j in range(len(scores[i])):\n",
    "            for k in range(len(scores[i][j])):\n",
    "                sum_val += scores[i][j][k]\n",
    "    return sum_val\n",
    "\n",
    "\n",
    "scores = [[[51, 56, 10], [47, 52, 58]], [[24, 92, 34], [28, 44, 19]]]\n",
    "\n",
    "print(calc_sum3d(scores))"
   ]
  }
 ],
 "metadata": {},
 "nbformat": 4,
 "nbformat_minor": 2
}
