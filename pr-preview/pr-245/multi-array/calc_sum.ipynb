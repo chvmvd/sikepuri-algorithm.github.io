{
 "cells": [
  {
   "cell_type": "code",
   "execution_count": null,
   "metadata": {},
   "outputs": [],
   "source": [
    "def calc_sum1d(scores):\n",
    "    sum_val = 0\n",
    "    for i in range(len(scores)):\n",
    "        sum_val += scores[i]\n",
    "    return sum_val\n",
    "\n",
    "\n",
    "a_scores = [83, 75, 32]\n",
    "b_scores = [73, 53, 84]\n",
    "c_scores = [63, 48, 64]\n",
    "\n",
    "print(calc_sum1d(a_scores) + calc_sum1d(b_scores) + calc_sum1d(c_scores))"
   ]
  }
 ],
 "metadata": {},
 "nbformat": 4,
 "nbformat_minor": 2
}
