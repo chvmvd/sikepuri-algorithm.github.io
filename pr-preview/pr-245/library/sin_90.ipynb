{
 "cells": [
  {
   "cell_type": "code",
   "execution_count": 1,
   "metadata": {
    "execution": {
     "iopub.execute_input": "2023-02-19T03:12:45.478761Z",
     "iopub.status.busy": "2023-02-19T03:12:45.478376Z",
     "iopub.status.idle": "2023-02-19T03:12:45.497709Z",
     "shell.execute_reply": "2023-02-19T03:12:45.496775Z"
    }
   },
   "outputs": [
    {
     "data": {
      "text/plain": [
       "1.0"
      ]
     },
     "execution_count": 1,
     "metadata": {},
     "output_type": "execute_result"
    }
   ],
   "source": [
    "import math\n",
    "\n",
    "PI = math.pi\n",
    "math.sin(PI / 2)"
   ]
  }
 ],
 "metadata": {
  "language_info": {
   "codemirror_mode": {
    "name": "ipython",
    "version": 3
   },
   "file_extension": ".py",
   "mimetype": "text/x-python",
   "name": "python",
   "nbconvert_exporter": "python",
   "pygments_lexer": "ipython3",
   "version": "3.10.10"
  }
 },
 "nbformat": 4,
 "nbformat_minor": 2
}
