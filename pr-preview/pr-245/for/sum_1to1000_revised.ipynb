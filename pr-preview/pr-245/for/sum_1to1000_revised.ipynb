{
 "cells": [
  {
   "cell_type": "code",
   "execution_count": 1,
   "metadata": {
    "execution": {
     "iopub.execute_input": "2023-02-19T02:39:55.312591Z",
     "iopub.status.busy": "2023-02-19T02:39:55.312311Z",
     "iopub.status.idle": "2023-02-19T02:39:55.320422Z",
     "shell.execute_reply": "2023-02-19T02:39:55.319774Z"
    }
   },
   "outputs": [
    {
     "name": "stdout",
     "output_type": "stream",
     "text": [
      "500500\n"
     ]
    }
   ],
   "source": [
    "sum_val = 0\n",
    "for i in range(1, 1001):\n",
    "    sum_val += i\n",
    "print(sum_val)"
   ]
  }
 ],
 "metadata": {
  "language_info": {
   "codemirror_mode": {
    "name": "ipython",
    "version": 3
   },
   "file_extension": ".py",
   "mimetype": "text/x-python",
   "name": "python",
   "nbconvert_exporter": "python",
   "pygments_lexer": "ipython3",
   "version": "3.10.10"
  }
 },
 "nbformat": 4,
 "nbformat_minor": 2
}
