{
 "cells": [
  {
   "cell_type": "code",
   "execution_count": null,
   "metadata": {},
   "outputs": [],
   "source": [
    "sum_val = 0\n",
    "i = 1\n",
    "while i <= 10:\n",
    "    sum_val += i\n",
    "    i += 1\n",
    "print(sum_val)"
   ]
  }
 ],
 "metadata": {},
 "nbformat": 4,
 "nbformat_minor": 2
}
