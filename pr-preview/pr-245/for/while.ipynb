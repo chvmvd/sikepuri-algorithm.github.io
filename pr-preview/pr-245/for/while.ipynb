{
 "cells": [
  {
   "cell_type": "code",
   "execution_count": 1,
   "metadata": {
    "execution": {
     "iopub.execute_input": "2023-02-19T06:18:32.464105Z",
     "iopub.status.busy": "2023-02-19T06:18:32.463888Z",
     "iopub.status.idle": "2023-02-19T06:18:32.471750Z",
     "shell.execute_reply": "2023-02-19T06:18:32.471115Z"
    }
   },
   "outputs": [
    {
     "name": "stdout",
     "output_type": "stream",
     "text": [
      "55\n"
     ]
    }
   ],
   "source": [
    "sum_val = 0\n",
    "i = 1\n",
    "while i <= 10:\n",
    "    sum_val += i\n",
    "    i += 1\n",
    "print(sum_val)"
   ]
  }
 ],
 "metadata": {
  "language_info": {
   "codemirror_mode": {
    "name": "ipython",
    "version": 3
   },
   "file_extension": ".py",
   "mimetype": "text/x-python",
   "name": "python",
   "nbconvert_exporter": "python",
   "pygments_lexer": "ipython3",
   "version": "3.10.10"
  }
 },
 "nbformat": 4,
 "nbformat_minor": 2
}
