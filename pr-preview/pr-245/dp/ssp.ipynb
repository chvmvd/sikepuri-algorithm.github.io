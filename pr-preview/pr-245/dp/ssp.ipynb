{
 "cells": [
  {
   "cell_type": "code",
   "execution_count": 1,
   "metadata": {
    "execution": {
     "iopub.execute_input": "2023-02-19T06:09:48.496962Z",
     "iopub.status.busy": "2023-02-19T06:09:48.496689Z",
     "iopub.status.idle": "2023-02-19T06:09:48.506747Z",
     "shell.execute_reply": "2023-02-19T06:09:48.506083Z"
    }
   },
   "outputs": [
    {
     "name": "stdout",
     "output_type": "stream",
     "text": [
      "True\n"
     ]
    }
   ],
   "source": [
    "def ssp(a, N):\n",
    "    # 初期化\n",
    "    dp = [[False for _ in range(N + 1)] for _ in range(len(a) + 1)]\n",
    "    for i in range(len(a) + 1):\n",
    "        dp[i][0] = True\n",
    "    # DP\n",
    "    for i in range(1, len(a) + 1):\n",
    "        for j in range(N + 1):\n",
    "            if a[i - 1] > j:\n",
    "                dp[i][j] = dp[i - 1][j]\n",
    "            else:\n",
    "                dp[i][j] = dp[i - 1][j] or dp[i - 1][j - a[i - 1]]\n",
    "    return dp[len(a)][N]\n",
    "\n",
    "\n",
    "print(ssp([3, 4, 6], 10))"
   ]
  }
 ],
 "metadata": {
  "language_info": {
   "codemirror_mode": {
    "name": "ipython",
    "version": 3
   },
   "file_extension": ".py",
   "mimetype": "text/x-python",
   "name": "python",
   "nbconvert_exporter": "python",
   "pygments_lexer": "ipython3",
   "version": "3.10.10"
  }
 },
 "nbformat": 4,
 "nbformat_minor": 2
}
