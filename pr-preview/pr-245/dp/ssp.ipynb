{
 "cells": [
  {
   "cell_type": "code",
   "execution_count": null,
   "metadata": {},
   "outputs": [],
   "source": [
    "def ssp(a, N):\n",
    "    # 初期化\n",
    "    dp = [[False for _ in range(N + 1)] for _ in range(len(a) + 1)]\n",
    "    for i in range(len(a) + 1):\n",
    "        dp[i][0] = True\n",
    "    # DP\n",
    "    for i in range(1, len(a) + 1):\n",
    "        for j in range(N + 1):\n",
    "            if a[i - 1] > j:\n",
    "                dp[i][j] = dp[i - 1][j]\n",
    "            else:\n",
    "                dp[i][j] = dp[i - 1][j] or dp[i - 1][j - a[i - 1]]\n",
    "    return dp[len(a)][N]\n",
    "\n",
    "\n",
    "print(ssp([3, 4, 6], 10))"
   ]
  }
 ],
 "metadata": {},
 "nbformat": 4,
 "nbformat_minor": 2
}
