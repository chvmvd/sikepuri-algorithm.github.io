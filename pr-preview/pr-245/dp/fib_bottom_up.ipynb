{
 "nbformat": 4,
 "nbformat_minor": 2,
 "metadata": {},
 "cells": [
  {
   "metadata": {},
   "source": [
    "def fib(n):\n",
    "    dp = [0, 1]\n",
    "    if n == 0 or n == 1:\n",
    "        return dp[n]\n",
    "    for i in range(2, n + 1):\n",
    "        dp.append(dp[i - 1] + dp[i - 2])\n",
    "    return dp[n]\n",
    "\n",
    "\n",
    "print(fib(100))"
   ],
   "cell_type": "code",
   "outputs": [],
   "execution_count": null
  }
 ]
}
