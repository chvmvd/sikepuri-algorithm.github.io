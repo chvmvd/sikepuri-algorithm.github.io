{
 "cells": [
  {
   "cell_type": "code",
   "execution_count": null,
   "metadata": {},
   "outputs": [],
   "source": [
    "!pip install ita"
   ]
  },
  {
   "cell_type": "code",
   "execution_count": null,
   "metadata": {},
   "outputs": [],
   "source": [
    "import ita\n",
    "\n",
    "%matplotlib inline"
   ]
  },
  {
   "cell_type": "code",
   "execution_count": null,
   "metadata": {},
   "outputs": [],
   "source": [
    "n = 100\n",
    "image = []\n",
    "for i in range(n):\n",
    "    row = []\n",
    "    for j in range(n):\n",
    "        right_color = [0, 0, 1]\n",
    "        left_color = [1, 1, 1]\n",
    "        row.append(\n",
    "            [\n",
    "                (left_color[0] * (n - 1 - j) + right_color[0] * j) / (n - 1),\n",
    "                (left_color[1] * (n - 1 - j) + right_color[1] * j) / (n - 1),\n",
    "                (left_color[2] * (n - 1 - j) + right_color[2] * j) / (n - 1),\n",
    "            ]\n",
    "        )\n",
    "    image.append(row)\n",
    "ita.plot.image_show(image)"
   ]
  }
 ],
 "metadata": {},
 "nbformat": 4,
 "nbformat_minor": 2
}
