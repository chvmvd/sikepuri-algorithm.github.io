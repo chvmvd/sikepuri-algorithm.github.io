{
 "cells": [
  {
   "cell_type": "code",
   "execution_count": null,
   "metadata": {},
   "outputs": [],
   "source": [
    "def abs_val(n):\n",
    "    if n < 0:\n",
    "        n = -n\n",
    "    return n\n",
    "\n",
    "\n",
    "print(abs_val(-10))"
   ]
  }
 ],
 "metadata": {},
 "nbformat": 4,
 "nbformat_minor": 2
}
