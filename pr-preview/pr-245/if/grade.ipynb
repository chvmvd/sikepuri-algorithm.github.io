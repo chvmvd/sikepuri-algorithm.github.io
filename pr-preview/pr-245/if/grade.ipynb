{
 "cells": [
  {
   "cell_type": "code",
   "execution_count": 1,
   "metadata": {
    "execution": {
     "iopub.execute_input": "2023-02-19T04:49:07.944270Z",
     "iopub.status.busy": "2023-02-19T04:49:07.943768Z",
     "iopub.status.idle": "2023-02-19T04:49:07.954274Z",
     "shell.execute_reply": "2023-02-19T04:49:07.952725Z"
    }
   },
   "outputs": [
    {
     "name": "stdout",
     "output_type": "stream",
     "text": [
      "良です。よく理解できています！\n"
     ]
    }
   ],
   "source": [
    "def evaluate_grade(point):\n",
    "    if point >= 90:\n",
    "        print(\"優上です。非常に素晴らしい成績です！\")\n",
    "    elif point >= 80:\n",
    "        print(\"優です。素晴らしい成績です！\")\n",
    "    elif point >= 65:\n",
    "        print(\"良です。よく理解できています！\")\n",
    "    elif point >= 50:\n",
    "        print(\"可です。よく勉強しています。\")\n",
    "    else:\n",
    "        print(\"不可です。もう少し頑張りましょう。\")\n",
    "\n",
    "\n",
    "evaluate_grade(79)"
   ]
  }
 ],
 "metadata": {
  "language_info": {
   "codemirror_mode": {
    "name": "ipython",
    "version": 3
   },
   "file_extension": ".py",
   "mimetype": "text/x-python",
   "name": "python",
   "nbconvert_exporter": "python",
   "pygments_lexer": "ipython3",
   "version": "3.10.10"
  }
 },
 "nbformat": 4,
 "nbformat_minor": 2
}
