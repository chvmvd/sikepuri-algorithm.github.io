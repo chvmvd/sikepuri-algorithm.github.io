{
 "cells": [
  {
   "cell_type": "code",
   "execution_count": 1,
   "metadata": {
    "execution": {
     "iopub.execute_input": "2023-02-19T04:41:28.062497Z",
     "iopub.status.busy": "2023-02-19T04:41:28.062281Z",
     "iopub.status.idle": "2023-02-19T04:41:28.070471Z",
     "shell.execute_reply": "2023-02-19T04:41:28.069840Z"
    }
   },
   "outputs": [
    {
     "name": "stdout",
     "output_type": "stream",
     "text": [
      "10\n"
     ]
    }
   ],
   "source": [
    "def abs_val(n):\n",
    "    if n >= 0:\n",
    "        return n\n",
    "    else:\n",
    "        return -n\n",
    "\n",
    "\n",
    "print(abs_val(-10))"
   ]
  }
 ],
 "metadata": {
  "language_info": {
   "codemirror_mode": {
    "name": "ipython",
    "version": 3
   },
   "file_extension": ".py",
   "mimetype": "text/x-python",
   "name": "python",
   "nbconvert_exporter": "python",
   "pygments_lexer": "ipython3",
   "version": "3.10.10"
  }
 },
 "nbformat": 4,
 "nbformat_minor": 2
}
