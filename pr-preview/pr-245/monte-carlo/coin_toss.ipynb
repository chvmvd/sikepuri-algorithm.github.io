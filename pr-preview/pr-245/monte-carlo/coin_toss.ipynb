{
 "cells": [
  {
   "cell_type": "code",
   "execution_count": 1,
   "metadata": {
    "execution": {
     "iopub.execute_input": "2023-02-19T06:12:38.171987Z",
     "iopub.status.busy": "2023-02-19T06:12:38.171686Z",
     "iopub.status.idle": "2023-02-19T06:12:38.178867Z",
     "shell.execute_reply": "2023-02-19T06:12:38.178205Z"
    }
   },
   "outputs": [],
   "source": [
    "import random"
   ]
  },
  {
   "cell_type": "code",
   "execution_count": 2,
   "metadata": {
    "execution": {
     "iopub.execute_input": "2023-02-19T06:12:38.181847Z",
     "iopub.status.busy": "2023-02-19T06:12:38.181305Z",
     "iopub.status.idle": "2023-02-19T06:12:38.274417Z",
     "shell.execute_reply": "2023-02-19T06:12:38.273522Z"
    }
   },
   "outputs": [
    {
     "name": "stdout",
     "output_type": "stream",
     "text": [
      "0.498\n"
     ]
    }
   ],
   "source": [
    "def calc_coin_probability(n):\n",
    "    head = 0\n",
    "    for _ in range(n):\n",
    "        if random.randint(0, 1) == 1:\n",
    "            head += 1\n",
    "    return head / n\n",
    "\n",
    "\n",
    "print(calc_coin_probability(100000))"
   ]
  }
 ],
 "metadata": {
  "language_info": {
   "codemirror_mode": {
    "name": "ipython",
    "version": 3
   },
   "file_extension": ".py",
   "mimetype": "text/x-python",
   "name": "python",
   "nbconvert_exporter": "python",
   "pygments_lexer": "ipython3",
   "version": "3.10.10"
  }
 },
 "nbformat": 4,
 "nbformat_minor": 2
}
