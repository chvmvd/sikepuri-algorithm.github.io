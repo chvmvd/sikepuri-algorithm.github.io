{
 "cells": [
  {
   "cell_type": "code",
   "execution_count": 1,
   "metadata": {
    "execution": {
     "iopub.execute_input": "2023-02-19T03:23:05.780527Z",
     "iopub.status.busy": "2023-02-19T03:23:05.779997Z",
     "iopub.status.idle": "2023-02-19T03:23:05.787329Z",
     "shell.execute_reply": "2023-02-19T03:23:05.786779Z"
    }
   },
   "outputs": [],
   "source": [
    "import random"
   ]
  },
  {
   "cell_type": "code",
   "execution_count": 2,
   "metadata": {
    "execution": {
     "iopub.execute_input": "2023-02-19T03:23:05.790123Z",
     "iopub.status.busy": "2023-02-19T03:23:05.789659Z",
     "iopub.status.idle": "2023-02-19T03:23:05.882886Z",
     "shell.execute_reply": "2023-02-19T03:23:05.882286Z"
    }
   },
   "outputs": [
    {
     "name": "stdout",
     "output_type": "stream",
     "text": [
      "0.50183\n"
     ]
    }
   ],
   "source": [
    "def calc_coin_probability(n):\n",
    "    head = 0\n",
    "    for _ in range(n):\n",
    "        if random.randint(0, 1) == 1:\n",
    "            head += 1\n",
    "    return head / n\n",
    "\n",
    "\n",
    "print(calc_coin_probability(100000))"
   ]
  }
 ],
 "metadata": {
  "language_info": {
   "codemirror_mode": {
    "name": "ipython",
    "version": 3
   },
   "file_extension": ".py",
   "mimetype": "text/x-python",
   "name": "python",
   "nbconvert_exporter": "python",
   "pygments_lexer": "ipython3",
   "version": "3.10.10"
  }
 },
 "nbformat": 4,
 "nbformat_minor": 2
}
