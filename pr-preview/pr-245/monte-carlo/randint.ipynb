{
 "cells": [
  {
   "cell_type": "code",
   "execution_count": 1,
   "metadata": {
    "execution": {
     "iopub.execute_input": "2023-02-19T06:20:39.821763Z",
     "iopub.status.busy": "2023-02-19T06:20:39.821219Z",
     "iopub.status.idle": "2023-02-19T06:20:39.828070Z",
     "shell.execute_reply": "2023-02-19T06:20:39.827510Z"
    }
   },
   "outputs": [],
   "source": [
    "import random"
   ]
  },
  {
   "cell_type": "code",
   "execution_count": 2,
   "metadata": {
    "execution": {
     "iopub.execute_input": "2023-02-19T06:20:39.830394Z",
     "iopub.status.busy": "2023-02-19T06:20:39.830068Z",
     "iopub.status.idle": "2023-02-19T06:20:39.834466Z",
     "shell.execute_reply": "2023-02-19T06:20:39.833857Z"
    }
   },
   "outputs": [
    {
     "name": "stdout",
     "output_type": "stream",
     "text": [
      "2\n"
     ]
    }
   ],
   "source": [
    "print(random.randint(2, 4))"
   ]
  }
 ],
 "metadata": {
  "language_info": {
   "codemirror_mode": {
    "name": "ipython",
    "version": 3
   },
   "file_extension": ".py",
   "mimetype": "text/x-python",
   "name": "python",
   "nbconvert_exporter": "python",
   "pygments_lexer": "ipython3",
   "version": "3.10.10"
  }
 },
 "nbformat": 4,
 "nbformat_minor": 2
}
