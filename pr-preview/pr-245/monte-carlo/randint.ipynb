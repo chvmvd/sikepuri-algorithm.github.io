{
 "cells": [
  {
   "cell_type": "code",
   "execution_count": 1,
   "metadata": {
    "execution": {
     "iopub.execute_input": "2023-02-19T02:30:01.016164Z",
     "iopub.status.busy": "2023-02-19T02:30:01.015769Z",
     "iopub.status.idle": "2023-02-19T02:30:01.022661Z",
     "shell.execute_reply": "2023-02-19T02:30:01.022053Z"
    }
   },
   "outputs": [],
   "source": [
    "import random"
   ]
  },
  {
   "cell_type": "code",
   "execution_count": 2,
   "metadata": {
    "execution": {
     "iopub.execute_input": "2023-02-19T02:30:01.025371Z",
     "iopub.status.busy": "2023-02-19T02:30:01.025057Z",
     "iopub.status.idle": "2023-02-19T02:30:01.028532Z",
     "shell.execute_reply": "2023-02-19T02:30:01.027910Z"
    }
   },
   "outputs": [
    {
     "name": "stdout",
     "output_type": "stream",
     "text": [
      "4\n"
     ]
    }
   ],
   "source": [
    "print(random.randint(2, 4))"
   ]
  }
 ],
 "metadata": {
  "language_info": {
   "codemirror_mode": {
    "name": "ipython",
    "version": 3
   },
   "file_extension": ".py",
   "mimetype": "text/x-python",
   "name": "python",
   "nbconvert_exporter": "python",
   "pygments_lexer": "ipython3",
   "version": "3.10.10"
  }
 },
 "nbformat": 4,
 "nbformat_minor": 2
}
