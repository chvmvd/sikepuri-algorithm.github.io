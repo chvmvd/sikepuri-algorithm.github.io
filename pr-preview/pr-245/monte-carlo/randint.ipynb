{
 "cells": [
  {
   "cell_type": "code",
   "execution_count": 1,
   "metadata": {
    "execution": {
     "iopub.execute_input": "2023-02-19T04:43:07.194946Z",
     "iopub.status.busy": "2023-02-19T04:43:07.194736Z",
     "iopub.status.idle": "2023-02-19T04:43:07.201724Z",
     "shell.execute_reply": "2023-02-19T04:43:07.201168Z"
    }
   },
   "outputs": [],
   "source": [
    "import random"
   ]
  },
  {
   "cell_type": "code",
   "execution_count": 2,
   "metadata": {
    "execution": {
     "iopub.execute_input": "2023-02-19T04:43:07.204093Z",
     "iopub.status.busy": "2023-02-19T04:43:07.203790Z",
     "iopub.status.idle": "2023-02-19T04:43:07.208210Z",
     "shell.execute_reply": "2023-02-19T04:43:07.207595Z"
    }
   },
   "outputs": [
    {
     "name": "stdout",
     "output_type": "stream",
     "text": [
      "2\n"
     ]
    }
   ],
   "source": [
    "print(random.randint(2, 4))"
   ]
  }
 ],
 "metadata": {
  "language_info": {
   "codemirror_mode": {
    "name": "ipython",
    "version": 3
   },
   "file_extension": ".py",
   "mimetype": "text/x-python",
   "name": "python",
   "nbconvert_exporter": "python",
   "pygments_lexer": "ipython3",
   "version": "3.10.10"
  }
 },
 "nbformat": 4,
 "nbformat_minor": 2
}
