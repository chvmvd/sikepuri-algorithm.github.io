{
 "cells": [
  {
   "cell_type": "code",
   "execution_count": 1,
   "metadata": {
    "execution": {
     "iopub.execute_input": "2023-02-19T04:43:08.512773Z",
     "iopub.status.busy": "2023-02-19T04:43:08.512544Z",
     "iopub.status.idle": "2023-02-19T04:43:08.519815Z",
     "shell.execute_reply": "2023-02-19T04:43:08.519249Z"
    }
   },
   "outputs": [],
   "source": [
    "import random"
   ]
  },
  {
   "cell_type": "code",
   "execution_count": 2,
   "metadata": {
    "execution": {
     "iopub.execute_input": "2023-02-19T04:43:08.522556Z",
     "iopub.status.busy": "2023-02-19T04:43:08.521816Z",
     "iopub.status.idle": "2023-02-19T04:43:08.526522Z",
     "shell.execute_reply": "2023-02-19T04:43:08.525841Z"
    }
   },
   "outputs": [
    {
     "name": "stdout",
     "output_type": "stream",
     "text": [
      "0.7897150219492446\n"
     ]
    }
   ],
   "source": [
    "print(random.random())"
   ]
  }
 ],
 "metadata": {
  "language_info": {
   "codemirror_mode": {
    "name": "ipython",
    "version": 3
   },
   "file_extension": ".py",
   "mimetype": "text/x-python",
   "name": "python",
   "nbconvert_exporter": "python",
   "pygments_lexer": "ipython3",
   "version": "3.10.10"
  }
 },
 "nbformat": 4,
 "nbformat_minor": 2
}
