{
 "cells": [
  {
   "cell_type": "code",
   "execution_count": 1,
   "metadata": {
    "execution": {
     "iopub.execute_input": "2023-02-19T02:42:13.440124Z",
     "iopub.status.busy": "2023-02-19T02:42:13.439730Z",
     "iopub.status.idle": "2023-02-19T02:42:13.447662Z",
     "shell.execute_reply": "2023-02-19T02:42:13.447046Z"
    }
   },
   "outputs": [],
   "source": [
    "import random"
   ]
  },
  {
   "cell_type": "code",
   "execution_count": 2,
   "metadata": {
    "execution": {
     "iopub.execute_input": "2023-02-19T02:42:13.450409Z",
     "iopub.status.busy": "2023-02-19T02:42:13.449842Z",
     "iopub.status.idle": "2023-02-19T02:42:13.454138Z",
     "shell.execute_reply": "2023-02-19T02:42:13.453565Z"
    }
   },
   "outputs": [
    {
     "name": "stdout",
     "output_type": "stream",
     "text": [
      "0.25034539959256896\n"
     ]
    }
   ],
   "source": [
    "print(random.random())"
   ]
  }
 ],
 "metadata": {
  "language_info": {
   "codemirror_mode": {
    "name": "ipython",
    "version": 3
   },
   "file_extension": ".py",
   "mimetype": "text/x-python",
   "name": "python",
   "nbconvert_exporter": "python",
   "pygments_lexer": "ipython3",
   "version": "3.10.10"
  }
 },
 "nbformat": 4,
 "nbformat_minor": 2
}
