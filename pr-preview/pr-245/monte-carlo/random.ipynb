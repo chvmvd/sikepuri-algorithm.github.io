{
 "cells": [
  {
   "cell_type": "code",
   "execution_count": 1,
   "metadata": {
    "execution": {
     "iopub.execute_input": "2023-02-19T03:13:19.503078Z",
     "iopub.status.busy": "2023-02-19T03:13:19.502734Z",
     "iopub.status.idle": "2023-02-19T03:13:19.512365Z",
     "shell.execute_reply": "2023-02-19T03:13:19.511458Z"
    }
   },
   "outputs": [],
   "source": [
    "import random"
   ]
  },
  {
   "cell_type": "code",
   "execution_count": 2,
   "metadata": {
    "execution": {
     "iopub.execute_input": "2023-02-19T03:13:19.515543Z",
     "iopub.status.busy": "2023-02-19T03:13:19.515275Z",
     "iopub.status.idle": "2023-02-19T03:13:19.521927Z",
     "shell.execute_reply": "2023-02-19T03:13:19.521073Z"
    }
   },
   "outputs": [
    {
     "name": "stdout",
     "output_type": "stream",
     "text": [
      "0.9242983234884958\n"
     ]
    }
   ],
   "source": [
    "print(random.random())"
   ]
  }
 ],
 "metadata": {
  "language_info": {
   "codemirror_mode": {
    "name": "ipython",
    "version": 3
   },
   "file_extension": ".py",
   "mimetype": "text/x-python",
   "name": "python",
   "nbconvert_exporter": "python",
   "pygments_lexer": "ipython3",
   "version": "3.10.10"
  }
 },
 "nbformat": 4,
 "nbformat_minor": 2
}
