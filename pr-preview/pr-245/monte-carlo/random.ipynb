{
 "cells": [
  {
   "cell_type": "code",
   "execution_count": 1,
   "metadata": {
    "execution": {
     "iopub.execute_input": "2023-02-19T04:50:32.717384Z",
     "iopub.status.busy": "2023-02-19T04:50:32.717176Z",
     "iopub.status.idle": "2023-02-19T04:50:32.724992Z",
     "shell.execute_reply": "2023-02-19T04:50:32.724405Z"
    }
   },
   "outputs": [],
   "source": [
    "import random"
   ]
  },
  {
   "cell_type": "code",
   "execution_count": 2,
   "metadata": {
    "execution": {
     "iopub.execute_input": "2023-02-19T04:50:32.727429Z",
     "iopub.status.busy": "2023-02-19T04:50:32.727097Z",
     "iopub.status.idle": "2023-02-19T04:50:32.731458Z",
     "shell.execute_reply": "2023-02-19T04:50:32.730889Z"
    }
   },
   "outputs": [
    {
     "name": "stdout",
     "output_type": "stream",
     "text": [
      "0.6283502297510355\n"
     ]
    }
   ],
   "source": [
    "print(random.random())"
   ]
  }
 ],
 "metadata": {
  "language_info": {
   "codemirror_mode": {
    "name": "ipython",
    "version": 3
   },
   "file_extension": ".py",
   "mimetype": "text/x-python",
   "name": "python",
   "nbconvert_exporter": "python",
   "pygments_lexer": "ipython3",
   "version": "3.10.10"
  }
 },
 "nbformat": 4,
 "nbformat_minor": 2
}
