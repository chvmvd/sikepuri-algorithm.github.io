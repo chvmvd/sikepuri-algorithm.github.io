{
 "cells": [
  {
   "cell_type": "code",
   "execution_count": 1,
   "metadata": {
    "execution": {
     "iopub.execute_input": "2023-02-19T06:20:41.095091Z",
     "iopub.status.busy": "2023-02-19T06:20:41.094478Z",
     "iopub.status.idle": "2023-02-19T06:20:41.101443Z",
     "shell.execute_reply": "2023-02-19T06:20:41.100885Z"
    }
   },
   "outputs": [],
   "source": [
    "import random"
   ]
  },
  {
   "cell_type": "code",
   "execution_count": 2,
   "metadata": {
    "execution": {
     "iopub.execute_input": "2023-02-19T06:20:41.103970Z",
     "iopub.status.busy": "2023-02-19T06:20:41.103485Z",
     "iopub.status.idle": "2023-02-19T06:20:41.107573Z",
     "shell.execute_reply": "2023-02-19T06:20:41.106996Z"
    }
   },
   "outputs": [
    {
     "name": "stdout",
     "output_type": "stream",
     "text": [
      "0.9924704970004657\n"
     ]
    }
   ],
   "source": [
    "print(random.random())"
   ]
  }
 ],
 "metadata": {
  "language_info": {
   "codemirror_mode": {
    "name": "ipython",
    "version": 3
   },
   "file_extension": ".py",
   "mimetype": "text/x-python",
   "name": "python",
   "nbconvert_exporter": "python",
   "pygments_lexer": "ipython3",
   "version": "3.10.10"
  }
 },
 "nbformat": 4,
 "nbformat_minor": 2
}
