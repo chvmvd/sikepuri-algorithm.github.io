{
 "cells": [
  {
   "cell_type": "code",
   "execution_count": 1,
   "metadata": {
    "execution": {
     "iopub.execute_input": "2023-02-19T06:12:42.548997Z",
     "iopub.status.busy": "2023-02-19T06:12:42.548741Z",
     "iopub.status.idle": "2023-02-19T06:12:42.556161Z",
     "shell.execute_reply": "2023-02-19T06:12:42.555553Z"
    }
   },
   "outputs": [],
   "source": [
    "import random"
   ]
  },
  {
   "cell_type": "code",
   "execution_count": 2,
   "metadata": {
    "execution": {
     "iopub.execute_input": "2023-02-19T06:12:42.558974Z",
     "iopub.status.busy": "2023-02-19T06:12:42.558443Z",
     "iopub.status.idle": "2023-02-19T06:12:42.562720Z",
     "shell.execute_reply": "2023-02-19T06:12:42.562136Z"
    }
   },
   "outputs": [
    {
     "name": "stdout",
     "output_type": "stream",
     "text": [
      "0.04963125181946315\n"
     ]
    }
   ],
   "source": [
    "print(random.random())"
   ]
  }
 ],
 "metadata": {
  "language_info": {
   "codemirror_mode": {
    "name": "ipython",
    "version": 3
   },
   "file_extension": ".py",
   "mimetype": "text/x-python",
   "name": "python",
   "nbconvert_exporter": "python",
   "pygments_lexer": "ipython3",
   "version": "3.10.10"
  }
 },
 "nbformat": 4,
 "nbformat_minor": 2
}
