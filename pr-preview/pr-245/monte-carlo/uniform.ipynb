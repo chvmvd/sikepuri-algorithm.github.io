{
 "cells": [
  {
   "cell_type": "code",
   "execution_count": 1,
   "metadata": {
    "execution": {
     "iopub.execute_input": "2023-02-19T06:12:45.281224Z",
     "iopub.status.busy": "2023-02-19T06:12:45.280953Z",
     "iopub.status.idle": "2023-02-19T06:12:45.288531Z",
     "shell.execute_reply": "2023-02-19T06:12:45.287941Z"
    }
   },
   "outputs": [],
   "source": [
    "import random"
   ]
  },
  {
   "cell_type": "code",
   "execution_count": 2,
   "metadata": {
    "execution": {
     "iopub.execute_input": "2023-02-19T06:12:45.291292Z",
     "iopub.status.busy": "2023-02-19T06:12:45.290768Z",
     "iopub.status.idle": "2023-02-19T06:12:45.295476Z",
     "shell.execute_reply": "2023-02-19T06:12:45.294815Z"
    }
   },
   "outputs": [
    {
     "name": "stdout",
     "output_type": "stream",
     "text": [
      "3.321046348027159\n"
     ]
    }
   ],
   "source": [
    "print(random.uniform(2, 4))"
   ]
  }
 ],
 "metadata": {
  "language_info": {
   "codemirror_mode": {
    "name": "ipython",
    "version": 3
   },
   "file_extension": ".py",
   "mimetype": "text/x-python",
   "name": "python",
   "nbconvert_exporter": "python",
   "pygments_lexer": "ipython3",
   "version": "3.10.10"
  }
 },
 "nbformat": 4,
 "nbformat_minor": 2
}
