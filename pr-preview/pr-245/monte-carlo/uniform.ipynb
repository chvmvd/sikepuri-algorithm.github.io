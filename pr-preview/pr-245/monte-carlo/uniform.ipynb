{
 "cells": [
  {
   "cell_type": "code",
   "execution_count": 1,
   "metadata": {
    "execution": {
     "iopub.execute_input": "2023-02-19T04:43:11.403471Z",
     "iopub.status.busy": "2023-02-19T04:43:11.403270Z",
     "iopub.status.idle": "2023-02-19T04:43:11.410004Z",
     "shell.execute_reply": "2023-02-19T04:43:11.409391Z"
    }
   },
   "outputs": [],
   "source": [
    "import random"
   ]
  },
  {
   "cell_type": "code",
   "execution_count": 2,
   "metadata": {
    "execution": {
     "iopub.execute_input": "2023-02-19T04:43:11.412512Z",
     "iopub.status.busy": "2023-02-19T04:43:11.412026Z",
     "iopub.status.idle": "2023-02-19T04:43:11.416716Z",
     "shell.execute_reply": "2023-02-19T04:43:11.415864Z"
    }
   },
   "outputs": [
    {
     "name": "stdout",
     "output_type": "stream",
     "text": [
      "3.2343941512725767\n"
     ]
    }
   ],
   "source": [
    "print(random.uniform(2, 4))"
   ]
  }
 ],
 "metadata": {
  "language_info": {
   "codemirror_mode": {
    "name": "ipython",
    "version": 3
   },
   "file_extension": ".py",
   "mimetype": "text/x-python",
   "name": "python",
   "nbconvert_exporter": "python",
   "pygments_lexer": "ipython3",
   "version": "3.10.10"
  }
 },
 "nbformat": 4,
 "nbformat_minor": 2
}
