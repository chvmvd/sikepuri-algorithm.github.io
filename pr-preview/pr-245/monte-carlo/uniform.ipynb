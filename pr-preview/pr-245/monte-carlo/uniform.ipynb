{
 "cells": [
  {
   "cell_type": "code",
   "execution_count": 1,
   "metadata": {
    "execution": {
     "iopub.execute_input": "2023-02-19T03:13:22.675060Z",
     "iopub.status.busy": "2023-02-19T03:13:22.674113Z",
     "iopub.status.idle": "2023-02-19T03:13:22.682975Z",
     "shell.execute_reply": "2023-02-19T03:13:22.681822Z"
    }
   },
   "outputs": [],
   "source": [
    "import random"
   ]
  },
  {
   "cell_type": "code",
   "execution_count": 2,
   "metadata": {
    "execution": {
     "iopub.execute_input": "2023-02-19T03:13:22.686543Z",
     "iopub.status.busy": "2023-02-19T03:13:22.686257Z",
     "iopub.status.idle": "2023-02-19T03:13:22.692225Z",
     "shell.execute_reply": "2023-02-19T03:13:22.691128Z"
    }
   },
   "outputs": [
    {
     "name": "stdout",
     "output_type": "stream",
     "text": [
      "3.2298582457457927\n"
     ]
    }
   ],
   "source": [
    "print(random.uniform(2, 4))"
   ]
  }
 ],
 "metadata": {
  "language_info": {
   "codemirror_mode": {
    "name": "ipython",
    "version": 3
   },
   "file_extension": ".py",
   "mimetype": "text/x-python",
   "name": "python",
   "nbconvert_exporter": "python",
   "pygments_lexer": "ipython3",
   "version": "3.10.10"
  }
 },
 "nbformat": 4,
 "nbformat_minor": 2
}
