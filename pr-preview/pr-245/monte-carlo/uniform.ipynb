{
 "cells": [
  {
   "cell_type": "code",
   "execution_count": 1,
   "metadata": {
    "execution": {
     "iopub.execute_input": "2023-02-19T02:30:05.205445Z",
     "iopub.status.busy": "2023-02-19T02:30:05.205209Z",
     "iopub.status.idle": "2023-02-19T02:30:05.212271Z",
     "shell.execute_reply": "2023-02-19T02:30:05.211704Z"
    }
   },
   "outputs": [],
   "source": [
    "import random"
   ]
  },
  {
   "cell_type": "code",
   "execution_count": 2,
   "metadata": {
    "execution": {
     "iopub.execute_input": "2023-02-19T02:30:05.214754Z",
     "iopub.status.busy": "2023-02-19T02:30:05.214441Z",
     "iopub.status.idle": "2023-02-19T02:30:05.218934Z",
     "shell.execute_reply": "2023-02-19T02:30:05.218313Z"
    }
   },
   "outputs": [
    {
     "name": "stdout",
     "output_type": "stream",
     "text": [
      "2.8683771177492856\n"
     ]
    }
   ],
   "source": [
    "print(random.uniform(2, 4))"
   ]
  }
 ],
 "metadata": {
  "language_info": {
   "codemirror_mode": {
    "name": "ipython",
    "version": 3
   },
   "file_extension": ".py",
   "mimetype": "text/x-python",
   "name": "python",
   "nbconvert_exporter": "python",
   "pygments_lexer": "ipython3",
   "version": "3.10.10"
  }
 },
 "nbformat": 4,
 "nbformat_minor": 2
}
