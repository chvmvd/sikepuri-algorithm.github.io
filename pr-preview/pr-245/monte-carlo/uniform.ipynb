{
 "cells": [
  {
   "cell_type": "code",
   "execution_count": 1,
   "metadata": {
    "execution": {
     "iopub.execute_input": "2023-02-19T06:20:43.595600Z",
     "iopub.status.busy": "2023-02-19T06:20:43.595037Z",
     "iopub.status.idle": "2023-02-19T06:20:43.601749Z",
     "shell.execute_reply": "2023-02-19T06:20:43.601203Z"
    }
   },
   "outputs": [],
   "source": [
    "import random"
   ]
  },
  {
   "cell_type": "code",
   "execution_count": 2,
   "metadata": {
    "execution": {
     "iopub.execute_input": "2023-02-19T06:20:43.604220Z",
     "iopub.status.busy": "2023-02-19T06:20:43.603894Z",
     "iopub.status.idle": "2023-02-19T06:20:43.607481Z",
     "shell.execute_reply": "2023-02-19T06:20:43.606983Z"
    }
   },
   "outputs": [
    {
     "name": "stdout",
     "output_type": "stream",
     "text": [
      "2.4392169540972475\n"
     ]
    }
   ],
   "source": [
    "print(random.uniform(2, 4))"
   ]
  }
 ],
 "metadata": {
  "language_info": {
   "codemirror_mode": {
    "name": "ipython",
    "version": 3
   },
   "file_extension": ".py",
   "mimetype": "text/x-python",
   "name": "python",
   "nbconvert_exporter": "python",
   "pygments_lexer": "ipython3",
   "version": "3.10.10"
  }
 },
 "nbformat": 4,
 "nbformat_minor": 2
}
