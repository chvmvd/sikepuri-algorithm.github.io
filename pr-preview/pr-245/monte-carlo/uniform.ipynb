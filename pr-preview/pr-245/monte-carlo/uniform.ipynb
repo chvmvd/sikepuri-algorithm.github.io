{
 "cells": [
  {
   "cell_type": "code",
   "execution_count": 1,
   "metadata": {
    "execution": {
     "iopub.execute_input": "2023-02-19T02:42:16.081203Z",
     "iopub.status.busy": "2023-02-19T02:42:16.080771Z",
     "iopub.status.idle": "2023-02-19T02:42:16.088990Z",
     "shell.execute_reply": "2023-02-19T02:42:16.088398Z"
    }
   },
   "outputs": [],
   "source": [
    "import random"
   ]
  },
  {
   "cell_type": "code",
   "execution_count": 2,
   "metadata": {
    "execution": {
     "iopub.execute_input": "2023-02-19T02:42:16.091791Z",
     "iopub.status.busy": "2023-02-19T02:42:16.091381Z",
     "iopub.status.idle": "2023-02-19T02:42:16.096172Z",
     "shell.execute_reply": "2023-02-19T02:42:16.095516Z"
    }
   },
   "outputs": [
    {
     "name": "stdout",
     "output_type": "stream",
     "text": [
      "2.5348386940557655\n"
     ]
    }
   ],
   "source": [
    "print(random.uniform(2, 4))"
   ]
  }
 ],
 "metadata": {
  "language_info": {
   "codemirror_mode": {
    "name": "ipython",
    "version": 3
   },
   "file_extension": ".py",
   "mimetype": "text/x-python",
   "name": "python",
   "nbconvert_exporter": "python",
   "pygments_lexer": "ipython3",
   "version": "3.10.10"
  }
 },
 "nbformat": 4,
 "nbformat_minor": 2
}
