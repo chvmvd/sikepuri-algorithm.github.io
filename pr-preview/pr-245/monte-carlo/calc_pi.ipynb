{
 "cells": [
  {
   "cell_type": "code",
   "execution_count": 1,
   "metadata": {
    "execution": {
     "iopub.execute_input": "2023-02-19T02:29:56.261453Z",
     "iopub.status.busy": "2023-02-19T02:29:56.261213Z",
     "iopub.status.idle": "2023-02-19T02:29:56.268419Z",
     "shell.execute_reply": "2023-02-19T02:29:56.267864Z"
    }
   },
   "outputs": [],
   "source": [
    "import random"
   ]
  },
  {
   "cell_type": "code",
   "execution_count": 2,
   "metadata": {
    "execution": {
     "iopub.execute_input": "2023-02-19T02:29:56.270753Z",
     "iopub.status.busy": "2023-02-19T02:29:56.270429Z",
     "iopub.status.idle": "2023-02-19T02:29:56.656524Z",
     "shell.execute_reply": "2023-02-19T02:29:56.655875Z"
    }
   },
   "outputs": [
    {
     "name": "stdout",
     "output_type": "stream",
     "text": [
      "3.143664\n"
     ]
    }
   ],
   "source": [
    "def calc_pi(n):\n",
    "    s = 0\n",
    "    for _ in range(n):\n",
    "        x = random.random()\n",
    "        y = random.random()\n",
    "        if x**2 + y**2 < 1:\n",
    "            s += 1\n",
    "    return s / n * 4\n",
    "\n",
    "\n",
    "print(calc_pi(1000000))"
   ]
  }
 ],
 "metadata": {
  "language_info": {
   "codemirror_mode": {
    "name": "ipython",
    "version": 3
   },
   "file_extension": ".py",
   "mimetype": "text/x-python",
   "name": "python",
   "nbconvert_exporter": "python",
   "pygments_lexer": "ipython3",
   "version": "3.10.10"
  }
 },
 "nbformat": 4,
 "nbformat_minor": 2
}
