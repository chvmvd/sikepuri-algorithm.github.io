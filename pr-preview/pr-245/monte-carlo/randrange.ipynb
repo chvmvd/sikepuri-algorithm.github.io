{
 "cells": [
  {
   "cell_type": "code",
   "execution_count": 1,
   "metadata": {
    "execution": {
     "iopub.execute_input": "2023-02-19T03:13:21.194481Z",
     "iopub.status.busy": "2023-02-19T03:13:21.194135Z",
     "iopub.status.idle": "2023-02-19T03:13:21.203584Z",
     "shell.execute_reply": "2023-02-19T03:13:21.202742Z"
    }
   },
   "outputs": [],
   "source": [
    "import random"
   ]
  },
  {
   "cell_type": "code",
   "execution_count": 2,
   "metadata": {
    "execution": {
     "iopub.execute_input": "2023-02-19T03:13:21.207234Z",
     "iopub.status.busy": "2023-02-19T03:13:21.206984Z",
     "iopub.status.idle": "2023-02-19T03:13:21.212134Z",
     "shell.execute_reply": "2023-02-19T03:13:21.210748Z"
    }
   },
   "outputs": [
    {
     "name": "stdout",
     "output_type": "stream",
     "text": [
      "3\n"
     ]
    }
   ],
   "source": [
    "print(random.randrange(2, 4, 1))"
   ]
  }
 ],
 "metadata": {
  "language_info": {
   "codemirror_mode": {
    "name": "ipython",
    "version": 3
   },
   "file_extension": ".py",
   "mimetype": "text/x-python",
   "name": "python",
   "nbconvert_exporter": "python",
   "pygments_lexer": "ipython3",
   "version": "3.10.10"
  }
 },
 "nbformat": 4,
 "nbformat_minor": 2
}
