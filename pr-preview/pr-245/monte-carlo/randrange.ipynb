{
 "cells": [
  {
   "cell_type": "code",
   "execution_count": 1,
   "metadata": {
    "execution": {
     "iopub.execute_input": "2023-02-19T06:20:42.383682Z",
     "iopub.status.busy": "2023-02-19T06:20:42.383455Z",
     "iopub.status.idle": "2023-02-19T06:20:42.390711Z",
     "shell.execute_reply": "2023-02-19T06:20:42.390170Z"
    }
   },
   "outputs": [],
   "source": [
    "import random"
   ]
  },
  {
   "cell_type": "code",
   "execution_count": 2,
   "metadata": {
    "execution": {
     "iopub.execute_input": "2023-02-19T06:20:42.393239Z",
     "iopub.status.busy": "2023-02-19T06:20:42.392713Z",
     "iopub.status.idle": "2023-02-19T06:20:42.396422Z",
     "shell.execute_reply": "2023-02-19T06:20:42.395809Z"
    }
   },
   "outputs": [
    {
     "name": "stdout",
     "output_type": "stream",
     "text": [
      "3\n"
     ]
    }
   ],
   "source": [
    "print(random.randrange(2, 4, 1))"
   ]
  }
 ],
 "metadata": {
  "language_info": {
   "codemirror_mode": {
    "name": "ipython",
    "version": 3
   },
   "file_extension": ".py",
   "mimetype": "text/x-python",
   "name": "python",
   "nbconvert_exporter": "python",
   "pygments_lexer": "ipython3",
   "version": "3.10.10"
  }
 },
 "nbformat": 4,
 "nbformat_minor": 2
}
