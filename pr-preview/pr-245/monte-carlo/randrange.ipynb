{
 "cells": [
  {
   "cell_type": "code",
   "execution_count": 1,
   "metadata": {
    "execution": {
     "iopub.execute_input": "2023-02-19T02:30:03.775550Z",
     "iopub.status.busy": "2023-02-19T02:30:03.775338Z",
     "iopub.status.idle": "2023-02-19T02:30:03.783114Z",
     "shell.execute_reply": "2023-02-19T02:30:03.782545Z"
    }
   },
   "outputs": [],
   "source": [
    "import random"
   ]
  },
  {
   "cell_type": "code",
   "execution_count": 2,
   "metadata": {
    "execution": {
     "iopub.execute_input": "2023-02-19T02:30:03.785535Z",
     "iopub.status.busy": "2023-02-19T02:30:03.785215Z",
     "iopub.status.idle": "2023-02-19T02:30:03.789708Z",
     "shell.execute_reply": "2023-02-19T02:30:03.789080Z"
    }
   },
   "outputs": [
    {
     "name": "stdout",
     "output_type": "stream",
     "text": [
      "2\n"
     ]
    }
   ],
   "source": [
    "print(random.randrange(2, 4, 1))"
   ]
  }
 ],
 "metadata": {
  "language_info": {
   "codemirror_mode": {
    "name": "ipython",
    "version": 3
   },
   "file_extension": ".py",
   "mimetype": "text/x-python",
   "name": "python",
   "nbconvert_exporter": "python",
   "pygments_lexer": "ipython3",
   "version": "3.10.10"
  }
 },
 "nbformat": 4,
 "nbformat_minor": 2
}
