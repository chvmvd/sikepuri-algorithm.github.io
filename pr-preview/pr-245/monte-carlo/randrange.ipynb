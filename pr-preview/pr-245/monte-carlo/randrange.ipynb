{
 "cells": [
  {
   "cell_type": "code",
   "execution_count": 1,
   "metadata": {
    "execution": {
     "iopub.execute_input": "2023-02-19T06:12:43.830131Z",
     "iopub.status.busy": "2023-02-19T06:12:43.829468Z",
     "iopub.status.idle": "2023-02-19T06:12:43.836718Z",
     "shell.execute_reply": "2023-02-19T06:12:43.836141Z"
    }
   },
   "outputs": [],
   "source": [
    "import random"
   ]
  },
  {
   "cell_type": "code",
   "execution_count": 2,
   "metadata": {
    "execution": {
     "iopub.execute_input": "2023-02-19T06:12:43.839336Z",
     "iopub.status.busy": "2023-02-19T06:12:43.838927Z",
     "iopub.status.idle": "2023-02-19T06:12:43.842662Z",
     "shell.execute_reply": "2023-02-19T06:12:43.842013Z"
    }
   },
   "outputs": [
    {
     "name": "stdout",
     "output_type": "stream",
     "text": [
      "3\n"
     ]
    }
   ],
   "source": [
    "print(random.randrange(2, 4, 1))"
   ]
  }
 ],
 "metadata": {
  "language_info": {
   "codemirror_mode": {
    "name": "ipython",
    "version": 3
   },
   "file_extension": ".py",
   "mimetype": "text/x-python",
   "name": "python",
   "nbconvert_exporter": "python",
   "pygments_lexer": "ipython3",
   "version": "3.10.10"
  }
 },
 "nbformat": 4,
 "nbformat_minor": 2
}
