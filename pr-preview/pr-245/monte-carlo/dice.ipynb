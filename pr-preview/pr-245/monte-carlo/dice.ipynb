{
 "cells": [
  {
   "cell_type": "code",
   "execution_count": 1,
   "metadata": {
    "execution": {
     "iopub.execute_input": "2023-02-19T04:50:29.771649Z",
     "iopub.status.busy": "2023-02-19T04:50:29.771189Z",
     "iopub.status.idle": "2023-02-19T04:50:29.778420Z",
     "shell.execute_reply": "2023-02-19T04:50:29.777874Z"
    }
   },
   "outputs": [],
   "source": [
    "import random"
   ]
  },
  {
   "cell_type": "code",
   "execution_count": 2,
   "metadata": {
    "execution": {
     "iopub.execute_input": "2023-02-19T04:50:29.780724Z",
     "iopub.status.busy": "2023-02-19T04:50:29.780378Z",
     "iopub.status.idle": "2023-02-19T04:50:29.868565Z",
     "shell.execute_reply": "2023-02-19T04:50:29.867998Z"
    }
   },
   "outputs": [
    {
     "name": "stdout",
     "output_type": "stream",
     "text": [
      "0.16548\n"
     ]
    }
   ],
   "source": [
    "def calc_dice_probability(n):\n",
    "    one = 0\n",
    "    for _ in range(n):\n",
    "        if random.randint(1, 6) == 1:\n",
    "            one += 1\n",
    "    return one / n\n",
    "\n",
    "\n",
    "print(calc_dice_probability(100000))"
   ]
  }
 ],
 "metadata": {
  "language_info": {
   "codemirror_mode": {
    "name": "ipython",
    "version": 3
   },
   "file_extension": ".py",
   "mimetype": "text/x-python",
   "name": "python",
   "nbconvert_exporter": "python",
   "pygments_lexer": "ipython3",
   "version": "3.10.10"
  }
 },
 "nbformat": 4,
 "nbformat_minor": 2
}
