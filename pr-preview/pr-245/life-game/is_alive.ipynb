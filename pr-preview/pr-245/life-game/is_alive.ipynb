{
 "cells": [
  {
   "cell_type": "code",
   "execution_count": 1,
   "metadata": {
    "execution": {
     "iopub.execute_input": "2023-02-19T03:22:52.227791Z",
     "iopub.status.busy": "2023-02-19T03:22:52.227253Z",
     "iopub.status.idle": "2023-02-19T03:22:52.237585Z",
     "shell.execute_reply": "2023-02-19T03:22:52.236968Z"
    }
   },
   "outputs": [
    {
     "name": "stdout",
     "output_type": "stream",
     "text": [
      "1\n"
     ]
    }
   ],
   "source": [
    "def count_neighbors(board, i, j):\n",
    "    cnt = 0\n",
    "    for k in range(i - 1, i + 2):\n",
    "        for l in range(j - 1, j + 2):\n",
    "            if 0 <= k < len(board) and 0 <= l < len(board[k]):\n",
    "                cnt += board[k][l]\n",
    "    return cnt - board[i][j]\n",
    "\n",
    "\n",
    "# highlight-start\n",
    "def is_alive(board, i, j):\n",
    "    neighbors_cnt = count_neighbors(board, i, j)\n",
    "    if board[i][j] == 0:\n",
    "        if neighbors_cnt == 3:\n",
    "            return 1\n",
    "        else:\n",
    "            return 0\n",
    "    else:\n",
    "        if 2 <= neighbors_cnt <= 3:\n",
    "            return 1\n",
    "        elif neighbors_cnt <= 1:\n",
    "            return 0\n",
    "        elif neighbors_cnt >= 4:\n",
    "            return 0\n",
    "\n",
    "\n",
    "# highlight-end\n",
    "\n",
    "\n",
    "board = [[1, 1, 0], [1, 0, 0], [0, 0, 0]]\n",
    "print(is_alive(board, 0, 0))"
   ]
  }
 ],
 "metadata": {
  "language_info": {
   "codemirror_mode": {
    "name": "ipython",
    "version": 3
   },
   "file_extension": ".py",
   "mimetype": "text/x-python",
   "name": "python",
   "nbconvert_exporter": "python",
   "pygments_lexer": "ipython3",
   "version": "3.10.10"
  }
 },
 "nbformat": 4,
 "nbformat_minor": 2
}
