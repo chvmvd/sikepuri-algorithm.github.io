{
 "cells": [
  {
   "cell_type": "code",
   "execution_count": null,
   "metadata": {},
   "outputs": [],
   "source": [
    "def average(scores):\n",
    "    sum = 0\n",
    "    for i in range(len(scores)):\n",
    "        sum += scores[i]\n",
    "    return sum / len(scores)\n",
    "\n",
    "\n",
    "def variance(scores):\n",
    "    sum = 0\n",
    "    for i in range(len(scores)):\n",
    "        sum += (scores[i] - average(scores)) ** 2\n",
    "    return sum / len(scores)\n",
    "\n",
    "\n",
    "scores = [26, 78, 83, 20, 10, 11, 22, 16, 41, 95]\n",
    "print(variance(scores))"
   ]
  }
 ],
 "metadata": {},
 "nbformat": 4,
 "nbformat_minor": 2
}
