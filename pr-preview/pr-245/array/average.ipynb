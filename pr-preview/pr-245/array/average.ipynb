{
 "cells": [
  {
   "cell_type": "code",
   "execution_count": null,
   "metadata": {},
   "outputs": [],
   "source": [
    "score1 = 96\n",
    "score2 = 56\n",
    "score3 = 42\n",
    "score4 = 74\n",
    "score5 = 86\n",
    "print((score1 + score2 + score3 + score4 + score5) / 5)"
   ]
  }
 ],
 "metadata": {},
 "nbformat": 4,
 "nbformat_minor": 2
}
