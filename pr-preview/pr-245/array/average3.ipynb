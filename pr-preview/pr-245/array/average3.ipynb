{
 "cells": [
  {
   "cell_type": "code",
   "execution_count": 1,
   "metadata": {
    "execution": {
     "iopub.execute_input": "2023-02-19T03:09:17.442473Z",
     "iopub.status.busy": "2023-02-19T03:09:17.442134Z",
     "iopub.status.idle": "2023-02-19T03:09:17.452233Z",
     "shell.execute_reply": "2023-02-19T03:09:17.451223Z"
    }
   },
   "outputs": [
    {
     "name": "stdout",
     "output_type": "stream",
     "text": [
      "70.8\n"
     ]
    }
   ],
   "source": [
    "scores = [96, 56, 42, 74, 86]\n",
    "sum_val = 0\n",
    "for i in range(len(scores)):\n",
    "    sum_val += scores[i]\n",
    "print(sum_val / 5)"
   ]
  }
 ],
 "metadata": {
  "language_info": {
   "codemirror_mode": {
    "name": "ipython",
    "version": 3
   },
   "file_extension": ".py",
   "mimetype": "text/x-python",
   "name": "python",
   "nbconvert_exporter": "python",
   "pygments_lexer": "ipython3",
   "version": "3.10.10"
  }
 },
 "nbformat": 4,
 "nbformat_minor": 2
}
