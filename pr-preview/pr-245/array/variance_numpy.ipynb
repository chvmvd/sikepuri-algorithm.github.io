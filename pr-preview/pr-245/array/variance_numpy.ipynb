{
 "cells": [
  {
   "cell_type": "code",
   "execution_count": 1,
   "metadata": {
    "execution": {
     "iopub.execute_input": "2023-02-19T02:27:06.483319Z",
     "iopub.status.busy": "2023-02-19T02:27:06.482895Z",
     "iopub.status.idle": "2023-02-19T02:27:06.539566Z",
     "shell.execute_reply": "2023-02-19T02:27:06.539007Z"
    }
   },
   "outputs": [
    {
     "name": "stdout",
     "output_type": "stream",
     "text": [
      "955.5600000000001\n"
     ]
    }
   ],
   "source": [
    "import numpy\n",
    "\n",
    "scores = [26, 78, 83, 20, 10, 11, 22, 16, 41, 95]\n",
    "print(numpy.var(scores))"
   ]
  }
 ],
 "metadata": {
  "language_info": {
   "codemirror_mode": {
    "name": "ipython",
    "version": 3
   },
   "file_extension": ".py",
   "mimetype": "text/x-python",
   "name": "python",
   "nbconvert_exporter": "python",
   "pygments_lexer": "ipython3",
   "version": "3.10.10"
  }
 },
 "nbformat": 4,
 "nbformat_minor": 2
}
