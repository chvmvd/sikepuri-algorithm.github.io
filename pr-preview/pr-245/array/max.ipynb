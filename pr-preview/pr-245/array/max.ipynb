{
 "cells": [
  {
   "cell_type": "code",
   "execution_count": 1,
   "metadata": {
    "execution": {
     "iopub.execute_input": "2023-02-19T04:40:04.438697Z",
     "iopub.status.busy": "2023-02-19T04:40:04.438468Z",
     "iopub.status.idle": "2023-02-19T04:40:04.447846Z",
     "shell.execute_reply": "2023-02-19T04:40:04.447274Z"
    }
   },
   "outputs": [
    {
     "name": "stdout",
     "output_type": "stream",
     "text": [
      "95\n"
     ]
    }
   ],
   "source": [
    "def calc_max(scores):\n",
    "    max_val = scores[0]\n",
    "    for i in range(1, len(scores)):\n",
    "        if max_val < scores[i]:\n",
    "            max_val = scores[i]\n",
    "    return max_val\n",
    "\n",
    "\n",
    "scores = [26, 78, 83, 20, 10, 11, 22, 16, 41, 95]\n",
    "print(calc_max(scores))"
   ]
  }
 ],
 "metadata": {
  "language_info": {
   "codemirror_mode": {
    "name": "ipython",
    "version": 3
   },
   "file_extension": ".py",
   "mimetype": "text/x-python",
   "name": "python",
   "nbconvert_exporter": "python",
   "pygments_lexer": "ipython3",
   "version": "3.10.10"
  }
 },
 "nbformat": 4,
 "nbformat_minor": 2
}
