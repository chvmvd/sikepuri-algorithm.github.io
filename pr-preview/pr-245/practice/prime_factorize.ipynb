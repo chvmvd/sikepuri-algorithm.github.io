{
 "cells": [
  {
   "cell_type": "code",
   "execution_count": 1,
   "metadata": {
    "execution": {
     "iopub.execute_input": "2023-02-19T02:30:32.777033Z",
     "iopub.status.busy": "2023-02-19T02:30:32.776817Z",
     "iopub.status.idle": "2023-02-19T02:30:32.785367Z",
     "shell.execute_reply": "2023-02-19T02:30:32.784494Z"
    }
   },
   "outputs": [
    {
     "name": "stdout",
     "output_type": "stream",
     "text": [
      "2\n",
      "2\n",
      "2\n",
      "3\n"
     ]
    }
   ],
   "source": [
    "def prime_factorize(n):\n",
    "    i = 2\n",
    "    while n != 1:\n",
    "        if n % i == 0:\n",
    "            n /= i\n",
    "            print(i)\n",
    "        else:\n",
    "            i += 1\n",
    "\n",
    "\n",
    "prime_factorize(24)"
   ]
  }
 ],
 "metadata": {
  "language_info": {
   "codemirror_mode": {
    "name": "ipython",
    "version": 3
   },
   "file_extension": ".py",
   "mimetype": "text/x-python",
   "name": "python",
   "nbconvert_exporter": "python",
   "pygments_lexer": "ipython3",
   "version": "3.10.10"
  }
 },
 "nbformat": 4,
 "nbformat_minor": 2
}
