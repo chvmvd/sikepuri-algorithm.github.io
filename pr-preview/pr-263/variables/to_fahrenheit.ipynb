{
 "cells": [
  {
   "cell_type": "code",
   "execution_count": 1,
   "metadata": {
    "execution": {
     "iopub.execute_input": "2023-10-22T03:35:31.811088Z",
     "iopub.status.busy": "2023-10-22T03:35:31.810797Z",
     "iopub.status.idle": "2023-10-22T03:35:31.828254Z",
     "shell.execute_reply": "2023-10-22T03:35:31.826907Z"
    }
   },
   "outputs": [
    {
     "data": {
      "text/plain": [
       "68.0"
      ]
     },
     "execution_count": 1,
     "metadata": {},
     "output_type": "execute_result"
    }
   ],
   "source": [
    "C = 20\n",
    "C * (9 / 5) + 32"
   ]
  }
 ],
 "metadata": {
  "language_info": {
   "codemirror_mode": {
    "name": "ipython",
    "version": 3
   },
   "file_extension": ".py",
   "mimetype": "text/x-python",
   "name": "python",
   "nbconvert_exporter": "python",
   "pygments_lexer": "ipython3",
   "version": "3.10.13"
  }
 },
 "nbformat": 4,
 "nbformat_minor": 2
}
