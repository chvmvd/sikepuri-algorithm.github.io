{
 "cells": [
  {
   "cell_type": "code",
   "execution_count": 1,
   "metadata": {
    "execution": {
     "iopub.execute_input": "2023-10-22T03:32:55.036445Z",
     "iopub.status.busy": "2023-10-22T03:32:55.035547Z",
     "iopub.status.idle": "2023-10-22T03:32:55.045714Z",
     "shell.execute_reply": "2023-10-22T03:32:55.043595Z"
    }
   },
   "outputs": [],
   "source": [
    "import random"
   ]
  },
  {
   "cell_type": "code",
   "execution_count": 2,
   "metadata": {
    "execution": {
     "iopub.execute_input": "2023-10-22T03:32:55.049010Z",
     "iopub.status.busy": "2023-10-22T03:32:55.048748Z",
     "iopub.status.idle": "2023-10-22T03:32:55.053660Z",
     "shell.execute_reply": "2023-10-22T03:32:55.052673Z"
    }
   },
   "outputs": [
    {
     "name": "stdout",
     "output_type": "stream",
     "text": [
      "2.626821830627593\n"
     ]
    }
   ],
   "source": [
    "print(random.uniform(2, 4))"
   ]
  }
 ],
 "metadata": {
  "language_info": {
   "codemirror_mode": {
    "name": "ipython",
    "version": 3
   },
   "file_extension": ".py",
   "mimetype": "text/x-python",
   "name": "python",
   "nbconvert_exporter": "python",
   "pygments_lexer": "ipython3",
   "version": "3.10.13"
  }
 },
 "nbformat": 4,
 "nbformat_minor": 2
}
