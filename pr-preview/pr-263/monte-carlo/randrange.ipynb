{
 "cells": [
  {
   "cell_type": "code",
   "execution_count": 1,
   "metadata": {
    "execution": {
     "iopub.execute_input": "2023-10-22T03:32:53.255381Z",
     "iopub.status.busy": "2023-10-22T03:32:53.255100Z",
     "iopub.status.idle": "2023-10-22T03:32:53.265089Z",
     "shell.execute_reply": "2023-10-22T03:32:53.263811Z"
    }
   },
   "outputs": [],
   "source": [
    "import random"
   ]
  },
  {
   "cell_type": "code",
   "execution_count": 2,
   "metadata": {
    "execution": {
     "iopub.execute_input": "2023-10-22T03:32:53.269649Z",
     "iopub.status.busy": "2023-10-22T03:32:53.268545Z",
     "iopub.status.idle": "2023-10-22T03:32:53.274658Z",
     "shell.execute_reply": "2023-10-22T03:32:53.273395Z"
    }
   },
   "outputs": [
    {
     "name": "stdout",
     "output_type": "stream",
     "text": [
      "3\n"
     ]
    }
   ],
   "source": [
    "print(random.randrange(2, 4, 1))"
   ]
  }
 ],
 "metadata": {
  "language_info": {
   "codemirror_mode": {
    "name": "ipython",
    "version": 3
   },
   "file_extension": ".py",
   "mimetype": "text/x-python",
   "name": "python",
   "nbconvert_exporter": "python",
   "pygments_lexer": "ipython3",
   "version": "3.10.13"
  }
 },
 "nbformat": 4,
 "nbformat_minor": 2
}
