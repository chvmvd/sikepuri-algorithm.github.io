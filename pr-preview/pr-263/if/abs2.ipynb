{
 "cells": [
  {
   "cell_type": "code",
   "execution_count": 1,
   "metadata": {
    "execution": {
     "iopub.execute_input": "2023-10-22T03:30:07.285391Z",
     "iopub.status.busy": "2023-10-22T03:30:07.284902Z",
     "iopub.status.idle": "2023-10-22T03:30:07.299116Z",
     "shell.execute_reply": "2023-10-22T03:30:07.298032Z"
    }
   },
   "outputs": [
    {
     "name": "stdout",
     "output_type": "stream",
     "text": [
      "10\n"
     ]
    }
   ],
   "source": [
    "def abs_val(n):\n",
    "    if n < 0:\n",
    "        n = -n\n",
    "    return n\n",
    "\n",
    "\n",
    "print(abs_val(-10))"
   ]
  }
 ],
 "metadata": {
  "language_info": {
   "codemirror_mode": {
    "name": "ipython",
    "version": 3
   },
   "file_extension": ".py",
   "mimetype": "text/x-python",
   "name": "python",
   "nbconvert_exporter": "python",
   "pygments_lexer": "ipython3",
   "version": "3.10.13"
  }
 },
 "nbformat": 4,
 "nbformat_minor": 2
}
