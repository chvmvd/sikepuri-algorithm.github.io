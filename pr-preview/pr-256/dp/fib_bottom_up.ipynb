{
 "cells": [
  {
   "cell_type": "code",
   "execution_count": 1,
   "metadata": {
    "execution": {
     "iopub.execute_input": "2023-04-30T05:42:47.024714Z",
     "iopub.status.busy": "2023-04-30T05:42:47.024374Z",
     "iopub.status.idle": "2023-04-30T05:42:47.033457Z",
     "shell.execute_reply": "2023-04-30T05:42:47.032722Z"
    }
   },
   "outputs": [
    {
     "name": "stdout",
     "output_type": "stream",
     "text": [
      "354224848179261915075\n"
     ]
    }
   ],
   "source": [
    "def fib(n):\n",
    "    dp = [0, 1]\n",
    "    if n == 0 or n == 1:\n",
    "        return dp[n]\n",
    "    for i in range(2, n + 1):\n",
    "        dp.append(dp[i - 1] + dp[i - 2])\n",
    "    return dp[n]\n",
    "\n",
    "\n",
    "print(fib(100))"
   ]
  }
 ],
 "metadata": {
  "language_info": {
   "codemirror_mode": {
    "name": "ipython",
    "version": 3
   },
   "file_extension": ".py",
   "mimetype": "text/x-python",
   "name": "python",
   "nbconvert_exporter": "python",
   "pygments_lexer": "ipython3",
   "version": "3.10.11"
  }
 },
 "nbformat": 4,
 "nbformat_minor": 2
}
