{
 "cells": [
  {
   "cell_type": "code",
   "execution_count": 1,
   "metadata": {
    "execution": {
     "iopub.execute_input": "2023-04-30T06:01:41.558350Z",
     "iopub.status.busy": "2023-04-30T06:01:41.558040Z",
     "iopub.status.idle": "2023-04-30T06:01:41.569993Z",
     "shell.execute_reply": "2023-04-30T06:01:41.569035Z"
    }
   },
   "outputs": [
    {
     "name": "stdout",
     "output_type": "stream",
     "text": [
      "[37, 56, 42, 74, 86]\n"
     ]
    }
   ],
   "source": [
    "scores = [96, 56, 42, 74, 86]\n",
    "i = 1\n",
    "laterScore = 37\n",
    "scores[i - 1] = laterScore\n",
    "print(scores)"
   ]
  }
 ],
 "metadata": {
  "language_info": {
   "codemirror_mode": {
    "name": "ipython",
    "version": 3
   },
   "file_extension": ".py",
   "mimetype": "text/x-python",
   "name": "python",
   "nbconvert_exporter": "python",
   "pygments_lexer": "ipython3",
   "version": "3.10.11"
  }
 },
 "nbformat": 4,
 "nbformat_minor": 2
}
