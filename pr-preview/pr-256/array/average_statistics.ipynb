{
 "cells": [
  {
   "cell_type": "code",
   "execution_count": 1,
   "metadata": {
    "execution": {
     "iopub.execute_input": "2023-04-30T06:01:33.777404Z",
     "iopub.status.busy": "2023-04-30T06:01:33.777094Z",
     "iopub.status.idle": "2023-04-30T06:01:33.819775Z",
     "shell.execute_reply": "2023-04-30T06:01:33.818614Z"
    }
   },
   "outputs": [
    {
     "name": "stdout",
     "output_type": "stream",
     "text": [
      "40.2\n"
     ]
    }
   ],
   "source": [
    "import statistics\n",
    "\n",
    "scores = [26, 78, 83, 20, 10, 11, 22, 16, 41, 95]\n",
    "print(statistics.mean(scores))"
   ]
  }
 ],
 "metadata": {
  "language_info": {
   "codemirror_mode": {
    "name": "ipython",
    "version": 3
   },
   "file_extension": ".py",
   "mimetype": "text/x-python",
   "name": "python",
   "nbconvert_exporter": "python",
   "pygments_lexer": "ipython3",
   "version": "3.10.11"
  }
 },
 "nbformat": 4,
 "nbformat_minor": 2
}
