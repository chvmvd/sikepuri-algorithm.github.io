{
 "cells": [
  {
   "cell_type": "code",
   "execution_count": 1,
   "metadata": {
    "execution": {
     "iopub.execute_input": "2023-04-30T05:54:45.336857Z",
     "iopub.status.busy": "2023-04-30T05:54:45.336526Z",
     "iopub.status.idle": "2023-04-30T05:54:45.345960Z",
     "shell.execute_reply": "2023-04-30T05:54:45.344861Z"
    }
   },
   "outputs": [],
   "source": [
    "import random"
   ]
  },
  {
   "cell_type": "code",
   "execution_count": 2,
   "metadata": {
    "execution": {
     "iopub.execute_input": "2023-04-30T05:54:45.349984Z",
     "iopub.status.busy": "2023-04-30T05:54:45.349382Z",
     "iopub.status.idle": "2023-04-30T05:54:45.356383Z",
     "shell.execute_reply": "2023-04-30T05:54:45.355048Z"
    }
   },
   "outputs": [
    {
     "name": "stdout",
     "output_type": "stream",
     "text": [
      "2\n"
     ]
    }
   ],
   "source": [
    "print(random.randint(2, 4))"
   ]
  }
 ],
 "metadata": {
  "language_info": {
   "codemirror_mode": {
    "name": "ipython",
    "version": 3
   },
   "file_extension": ".py",
   "mimetype": "text/x-python",
   "name": "python",
   "nbconvert_exporter": "python",
   "pygments_lexer": "ipython3",
   "version": "3.10.11"
  }
 },
 "nbformat": 4,
 "nbformat_minor": 2
}
