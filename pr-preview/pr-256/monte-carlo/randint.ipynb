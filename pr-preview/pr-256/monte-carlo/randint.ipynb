{
 "cells": [
  {
   "cell_type": "code",
   "execution_count": 1,
   "metadata": {
    "execution": {
     "iopub.execute_input": "2023-04-30T05:45:40.097787Z",
     "iopub.status.busy": "2023-04-30T05:45:40.097344Z",
     "iopub.status.idle": "2023-04-30T05:45:40.104635Z",
     "shell.execute_reply": "2023-04-30T05:45:40.103838Z"
    }
   },
   "outputs": [],
   "source": [
    "import random"
   ]
  },
  {
   "cell_type": "code",
   "execution_count": 2,
   "metadata": {
    "execution": {
     "iopub.execute_input": "2023-04-30T05:45:40.107399Z",
     "iopub.status.busy": "2023-04-30T05:45:40.106899Z",
     "iopub.status.idle": "2023-04-30T05:45:40.111421Z",
     "shell.execute_reply": "2023-04-30T05:45:40.110534Z"
    }
   },
   "outputs": [
    {
     "name": "stdout",
     "output_type": "stream",
     "text": [
      "3\n"
     ]
    }
   ],
   "source": [
    "print(random.randint(2, 4))"
   ]
  }
 ],
 "metadata": {
  "language_info": {
   "codemirror_mode": {
    "name": "ipython",
    "version": 3
   },
   "file_extension": ".py",
   "mimetype": "text/x-python",
   "name": "python",
   "nbconvert_exporter": "python",
   "pygments_lexer": "ipython3",
   "version": "3.10.11"
  }
 },
 "nbformat": 4,
 "nbformat_minor": 2
}
