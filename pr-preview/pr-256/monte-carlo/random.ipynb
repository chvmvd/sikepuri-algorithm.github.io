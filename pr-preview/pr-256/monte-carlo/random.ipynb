{
 "cells": [
  {
   "cell_type": "code",
   "execution_count": 1,
   "metadata": {
    "execution": {
     "iopub.execute_input": "2023-04-30T06:05:49.612390Z",
     "iopub.status.busy": "2023-04-30T06:05:49.612068Z",
     "iopub.status.idle": "2023-04-30T06:05:49.623253Z",
     "shell.execute_reply": "2023-04-30T06:05:49.622329Z"
    }
   },
   "outputs": [],
   "source": [
    "import random"
   ]
  },
  {
   "cell_type": "code",
   "execution_count": 2,
   "metadata": {
    "execution": {
     "iopub.execute_input": "2023-04-30T06:05:49.627421Z",
     "iopub.status.busy": "2023-04-30T06:05:49.626840Z",
     "iopub.status.idle": "2023-04-30T06:05:49.635244Z",
     "shell.execute_reply": "2023-04-30T06:05:49.634309Z"
    }
   },
   "outputs": [
    {
     "name": "stdout",
     "output_type": "stream",
     "text": [
      "0.3684272093916159\n"
     ]
    }
   ],
   "source": [
    "print(random.random())"
   ]
  }
 ],
 "metadata": {
  "language_info": {
   "codemirror_mode": {
    "name": "ipython",
    "version": 3
   },
   "file_extension": ".py",
   "mimetype": "text/x-python",
   "name": "python",
   "nbconvert_exporter": "python",
   "pygments_lexer": "ipython3",
   "version": "3.10.11"
  }
 },
 "nbformat": 4,
 "nbformat_minor": 2
}
