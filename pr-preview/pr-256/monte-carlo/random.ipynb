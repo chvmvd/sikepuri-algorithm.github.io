{
 "cells": [
  {
   "cell_type": "code",
   "execution_count": 1,
   "metadata": {
    "execution": {
     "iopub.execute_input": "2023-04-30T05:45:41.401447Z",
     "iopub.status.busy": "2023-04-30T05:45:41.401079Z",
     "iopub.status.idle": "2023-04-30T05:45:41.409146Z",
     "shell.execute_reply": "2023-04-30T05:45:41.408574Z"
    }
   },
   "outputs": [],
   "source": [
    "import random"
   ]
  },
  {
   "cell_type": "code",
   "execution_count": 2,
   "metadata": {
    "execution": {
     "iopub.execute_input": "2023-04-30T05:45:41.411916Z",
     "iopub.status.busy": "2023-04-30T05:45:41.411529Z",
     "iopub.status.idle": "2023-04-30T05:45:41.415930Z",
     "shell.execute_reply": "2023-04-30T05:45:41.415355Z"
    }
   },
   "outputs": [
    {
     "name": "stdout",
     "output_type": "stream",
     "text": [
      "0.5168967596506215\n"
     ]
    }
   ],
   "source": [
    "print(random.random())"
   ]
  }
 ],
 "metadata": {
  "language_info": {
   "codemirror_mode": {
    "name": "ipython",
    "version": 3
   },
   "file_extension": ".py",
   "mimetype": "text/x-python",
   "name": "python",
   "nbconvert_exporter": "python",
   "pygments_lexer": "ipython3",
   "version": "3.10.11"
  }
 },
 "nbformat": 4,
 "nbformat_minor": 2
}
