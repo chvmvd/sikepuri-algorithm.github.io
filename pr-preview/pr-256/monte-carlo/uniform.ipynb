{
 "cells": [
  {
   "cell_type": "code",
   "execution_count": 1,
   "metadata": {
    "execution": {
     "iopub.execute_input": "2023-04-30T05:45:44.087210Z",
     "iopub.status.busy": "2023-04-30T05:45:44.086963Z",
     "iopub.status.idle": "2023-04-30T05:45:44.094530Z",
     "shell.execute_reply": "2023-04-30T05:45:44.093927Z"
    }
   },
   "outputs": [],
   "source": [
    "import random"
   ]
  },
  {
   "cell_type": "code",
   "execution_count": 2,
   "metadata": {
    "execution": {
     "iopub.execute_input": "2023-04-30T05:45:44.097010Z",
     "iopub.status.busy": "2023-04-30T05:45:44.096687Z",
     "iopub.status.idle": "2023-04-30T05:45:44.101360Z",
     "shell.execute_reply": "2023-04-30T05:45:44.100775Z"
    }
   },
   "outputs": [
    {
     "name": "stdout",
     "output_type": "stream",
     "text": [
      "3.827897655037531\n"
     ]
    }
   ],
   "source": [
    "print(random.uniform(2, 4))"
   ]
  }
 ],
 "metadata": {
  "language_info": {
   "codemirror_mode": {
    "name": "ipython",
    "version": 3
   },
   "file_extension": ".py",
   "mimetype": "text/x-python",
   "name": "python",
   "nbconvert_exporter": "python",
   "pygments_lexer": "ipython3",
   "version": "3.10.11"
  }
 },
 "nbformat": 4,
 "nbformat_minor": 2
}
