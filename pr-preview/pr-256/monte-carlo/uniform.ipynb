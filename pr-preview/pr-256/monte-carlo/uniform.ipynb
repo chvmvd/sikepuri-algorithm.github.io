{
 "cells": [
  {
   "cell_type": "code",
   "execution_count": 1,
   "metadata": {
    "execution": {
     "iopub.execute_input": "2023-04-30T06:05:53.353699Z",
     "iopub.status.busy": "2023-04-30T06:05:53.353419Z",
     "iopub.status.idle": "2023-04-30T06:05:53.365066Z",
     "shell.execute_reply": "2023-04-30T06:05:53.364177Z"
    }
   },
   "outputs": [],
   "source": [
    "import random"
   ]
  },
  {
   "cell_type": "code",
   "execution_count": 2,
   "metadata": {
    "execution": {
     "iopub.execute_input": "2023-04-30T06:05:53.368241Z",
     "iopub.status.busy": "2023-04-30T06:05:53.367976Z",
     "iopub.status.idle": "2023-04-30T06:05:53.372933Z",
     "shell.execute_reply": "2023-04-30T06:05:53.371991Z"
    }
   },
   "outputs": [
    {
     "name": "stdout",
     "output_type": "stream",
     "text": [
      "3.4066792240775863\n"
     ]
    }
   ],
   "source": [
    "print(random.uniform(2, 4))"
   ]
  }
 ],
 "metadata": {
  "language_info": {
   "codemirror_mode": {
    "name": "ipython",
    "version": 3
   },
   "file_extension": ".py",
   "mimetype": "text/x-python",
   "name": "python",
   "nbconvert_exporter": "python",
   "pygments_lexer": "ipython3",
   "version": "3.10.11"
  }
 },
 "nbformat": 4,
 "nbformat_minor": 2
}
