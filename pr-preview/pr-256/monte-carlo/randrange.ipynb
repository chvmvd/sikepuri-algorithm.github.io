{
 "cells": [
  {
   "cell_type": "code",
   "execution_count": 1,
   "metadata": {
    "execution": {
     "iopub.execute_input": "2023-04-30T05:45:42.638418Z",
     "iopub.status.busy": "2023-04-30T05:45:42.638061Z",
     "iopub.status.idle": "2023-04-30T05:45:42.645315Z",
     "shell.execute_reply": "2023-04-30T05:45:42.644667Z"
    }
   },
   "outputs": [],
   "source": [
    "import random"
   ]
  },
  {
   "cell_type": "code",
   "execution_count": 2,
   "metadata": {
    "execution": {
     "iopub.execute_input": "2023-04-30T05:45:42.648179Z",
     "iopub.status.busy": "2023-04-30T05:45:42.647692Z",
     "iopub.status.idle": "2023-04-30T05:45:42.652233Z",
     "shell.execute_reply": "2023-04-30T05:45:42.651627Z"
    }
   },
   "outputs": [
    {
     "name": "stdout",
     "output_type": "stream",
     "text": [
      "2\n"
     ]
    }
   ],
   "source": [
    "print(random.randrange(2, 4, 1))"
   ]
  }
 ],
 "metadata": {
  "language_info": {
   "codemirror_mode": {
    "name": "ipython",
    "version": 3
   },
   "file_extension": ".py",
   "mimetype": "text/x-python",
   "name": "python",
   "nbconvert_exporter": "python",
   "pygments_lexer": "ipython3",
   "version": "3.10.11"
  }
 },
 "nbformat": 4,
 "nbformat_minor": 2
}
