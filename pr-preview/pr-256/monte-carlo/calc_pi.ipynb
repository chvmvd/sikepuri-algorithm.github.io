{
 "cells": [
  {
   "cell_type": "code",
   "execution_count": 1,
   "metadata": {
    "execution": {
     "iopub.execute_input": "2023-04-30T06:05:41.952245Z",
     "iopub.status.busy": "2023-04-30T06:05:41.951618Z",
     "iopub.status.idle": "2023-04-30T06:05:41.964043Z",
     "shell.execute_reply": "2023-04-30T06:05:41.962919Z"
    }
   },
   "outputs": [],
   "source": [
    "import random"
   ]
  },
  {
   "cell_type": "code",
   "execution_count": 2,
   "metadata": {
    "execution": {
     "iopub.execute_input": "2023-04-30T06:05:41.968406Z",
     "iopub.status.busy": "2023-04-30T06:05:41.967916Z",
     "iopub.status.idle": "2023-04-30T06:05:42.568758Z",
     "shell.execute_reply": "2023-04-30T06:05:42.567765Z"
    }
   },
   "outputs": [
    {
     "name": "stdout",
     "output_type": "stream",
     "text": [
      "3.139684\n"
     ]
    }
   ],
   "source": [
    "def calc_pi(n):\n",
    "    s = 0\n",
    "    for _ in range(n):\n",
    "        x = random.random()\n",
    "        y = random.random()\n",
    "        if x**2 + y**2 < 1:\n",
    "            s += 1\n",
    "    return s / n * 4\n",
    "\n",
    "\n",
    "print(calc_pi(1000000))"
   ]
  }
 ],
 "metadata": {
  "language_info": {
   "codemirror_mode": {
    "name": "ipython",
    "version": 3
   },
   "file_extension": ".py",
   "mimetype": "text/x-python",
   "name": "python",
   "nbconvert_exporter": "python",
   "pygments_lexer": "ipython3",
   "version": "3.10.11"
  }
 },
 "nbformat": 4,
 "nbformat_minor": 2
}
