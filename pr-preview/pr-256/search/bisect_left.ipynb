{
 "cells": [
  {
   "cell_type": "code",
   "execution_count": 1,
   "metadata": {
    "execution": {
     "iopub.execute_input": "2023-04-30T05:46:32.858806Z",
     "iopub.status.busy": "2023-04-30T05:46:32.858179Z",
     "iopub.status.idle": "2023-04-30T05:46:32.865860Z",
     "shell.execute_reply": "2023-04-30T05:46:32.865258Z"
    }
   },
   "outputs": [],
   "source": [
    "import bisect"
   ]
  },
  {
   "cell_type": "code",
   "execution_count": 2,
   "metadata": {
    "execution": {
     "iopub.execute_input": "2023-04-30T05:46:32.868568Z",
     "iopub.status.busy": "2023-04-30T05:46:32.868354Z",
     "iopub.status.idle": "2023-04-30T05:46:32.872135Z",
     "shell.execute_reply": "2023-04-30T05:46:32.871486Z"
    }
   },
   "outputs": [
    {
     "name": "stdout",
     "output_type": "stream",
     "text": [
      "1\n"
     ]
    }
   ],
   "source": [
    "data = [1, 3, 3, 3, 4, 6, 8, 10, 10]\n",
    "\n",
    "print(bisect.bisect_left(data, 3))"
   ]
  }
 ],
 "metadata": {
  "language_info": {
   "codemirror_mode": {
    "name": "ipython",
    "version": 3
   },
   "file_extension": ".py",
   "mimetype": "text/x-python",
   "name": "python",
   "nbconvert_exporter": "python",
   "pygments_lexer": "ipython3",
   "version": "3.10.11"
  }
 },
 "nbformat": 4,
 "nbformat_minor": 2
}
