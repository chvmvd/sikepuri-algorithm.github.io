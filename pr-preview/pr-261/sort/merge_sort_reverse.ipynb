{
 "cells": [
  {
   "cell_type": "code",
   "execution_count": 1,
   "metadata": {
    "execution": {
     "iopub.execute_input": "2023-07-02T10:36:32.027895Z",
     "iopub.status.busy": "2023-07-02T10:36:32.027545Z",
     "iopub.status.idle": "2023-07-02T10:36:32.038380Z",
     "shell.execute_reply": "2023-07-02T10:36:32.037770Z"
    }
   },
   "outputs": [
    {
     "name": "stdout",
     "output_type": "stream",
     "text": [
      "[10, 9, 8, 7, 6, 5, 4, 3, 2, 1]\n"
     ]
    }
   ],
   "source": [
    "def merge(left, right):\n",
    "    if len(left) == 0 or len(right) == 0:\n",
    "        return left + right\n",
    "    # highlight-next-line\n",
    "    if left[0] > right[0]:\n",
    "        return [left[0]] + merge(left[1:], right)\n",
    "    else:\n",
    "        return [right[0]] + merge(left, right[1:])\n",
    "\n",
    "\n",
    "def merge_sort(data):\n",
    "    if len(data) <= 1:\n",
    "        return data\n",
    "    mid = len(data) // 2\n",
    "    left = merge_sort(data[:mid])\n",
    "    right = merge_sort(data[mid:])\n",
    "    return merge(left, right)\n",
    "\n",
    "\n",
    "data = [3, 8, 2, 5, 1, 10, 6, 9, 4, 7]\n",
    "print(merge_sort(data))"
   ]
  }
 ],
 "metadata": {
  "language_info": {
   "codemirror_mode": {
    "name": "ipython",
    "version": 3
   },
   "file_extension": ".py",
   "mimetype": "text/x-python",
   "name": "python",
   "nbconvert_exporter": "python",
   "pygments_lexer": "ipython3",
   "version": "3.10.12"
  }
 },
 "nbformat": 4,
 "nbformat_minor": 2
}
