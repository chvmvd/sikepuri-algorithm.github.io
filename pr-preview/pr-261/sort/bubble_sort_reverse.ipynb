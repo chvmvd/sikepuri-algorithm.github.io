{
 "cells": [
  {
   "cell_type": "code",
   "execution_count": 1,
   "metadata": {
    "execution": {
     "iopub.execute_input": "2023-07-02T10:36:29.049126Z",
     "iopub.status.busy": "2023-07-02T10:36:29.048568Z",
     "iopub.status.idle": "2023-07-02T10:36:29.057969Z",
     "shell.execute_reply": "2023-07-02T10:36:29.057308Z"
    }
   },
   "outputs": [
    {
     "name": "stdout",
     "output_type": "stream",
     "text": [
      "[10, 9, 8, 7, 6, 5, 4, 3, 2, 1]\n"
     ]
    }
   ],
   "source": [
    "def bubble_sort(data):\n",
    "    n = len(data)\n",
    "    for i in range(n):\n",
    "        for j in range(i + 1, n):\n",
    "            # highlight-next-line\n",
    "            if data[i] < data[j]:\n",
    "                data[i], data[j] = data[j], data[i]\n",
    "    return data\n",
    "\n",
    "\n",
    "data = [3, 8, 2, 5, 1, 10, 6, 9, 4, 7]\n",
    "print(bubble_sort(data))"
   ]
  }
 ],
 "metadata": {
  "language_info": {
   "codemirror_mode": {
    "name": "ipython",
    "version": 3
   },
   "file_extension": ".py",
   "mimetype": "text/x-python",
   "name": "python",
   "nbconvert_exporter": "python",
   "pygments_lexer": "ipython3",
   "version": "3.10.12"
  }
 },
 "nbformat": 4,
 "nbformat_minor": 2
}
