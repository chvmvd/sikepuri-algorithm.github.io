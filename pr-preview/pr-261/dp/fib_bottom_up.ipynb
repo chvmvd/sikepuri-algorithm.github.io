{
 "cells": [
  {
   "cell_type": "code",
   "execution_count": 1,
   "metadata": {
    "execution": {
     "iopub.execute_input": "2023-07-02T10:31:40.522820Z",
     "iopub.status.busy": "2023-07-02T10:31:40.522079Z",
     "iopub.status.idle": "2023-07-02T10:31:40.532067Z",
     "shell.execute_reply": "2023-07-02T10:31:40.531074Z"
    }
   },
   "outputs": [
    {
     "name": "stdout",
     "output_type": "stream",
     "text": [
      "354224848179261915075\n"
     ]
    }
   ],
   "source": [
    "def fib(n):\n",
    "    dp = [0, 1]\n",
    "    if n == 0 or n == 1:\n",
    "        return dp[n]\n",
    "    for i in range(2, n + 1):\n",
    "        dp.append(dp[i - 1] + dp[i - 2])\n",
    "    return dp[n]\n",
    "\n",
    "\n",
    "print(fib(100))"
   ]
  }
 ],
 "metadata": {
  "language_info": {
   "codemirror_mode": {
    "name": "ipython",
    "version": 3
   },
   "file_extension": ".py",
   "mimetype": "text/x-python",
   "name": "python",
   "nbconvert_exporter": "python",
   "pygments_lexer": "ipython3",
   "version": "3.10.12"
  }
 },
 "nbformat": 4,
 "nbformat_minor": 2
}
