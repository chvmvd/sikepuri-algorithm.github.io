{
 "cells": [
  {
   "cell_type": "code",
   "execution_count": 1,
   "metadata": {
    "execution": {
     "iopub.execute_input": "2023-07-02T10:34:47.496731Z",
     "iopub.status.busy": "2023-07-02T10:34:47.496095Z",
     "iopub.status.idle": "2023-07-02T10:34:47.503738Z",
     "shell.execute_reply": "2023-07-02T10:34:47.502679Z"
    }
   },
   "outputs": [],
   "source": [
    "import random"
   ]
  },
  {
   "cell_type": "code",
   "execution_count": 2,
   "metadata": {
    "execution": {
     "iopub.execute_input": "2023-07-02T10:34:47.506380Z",
     "iopub.status.busy": "2023-07-02T10:34:47.505962Z",
     "iopub.status.idle": "2023-07-02T10:34:47.509767Z",
     "shell.execute_reply": "2023-07-02T10:34:47.509054Z"
    }
   },
   "outputs": [
    {
     "name": "stdout",
     "output_type": "stream",
     "text": [
      "0.03331611225592257\n"
     ]
    }
   ],
   "source": [
    "print(random.random())"
   ]
  }
 ],
 "metadata": {
  "language_info": {
   "codemirror_mode": {
    "name": "ipython",
    "version": 3
   },
   "file_extension": ".py",
   "mimetype": "text/x-python",
   "name": "python",
   "nbconvert_exporter": "python",
   "pygments_lexer": "ipython3",
   "version": "3.10.12"
  }
 },
 "nbformat": 4,
 "nbformat_minor": 2
}
