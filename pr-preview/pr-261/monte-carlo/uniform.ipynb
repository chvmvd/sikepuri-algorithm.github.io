{
 "cells": [
  {
   "cell_type": "code",
   "execution_count": 1,
   "metadata": {
    "execution": {
     "iopub.execute_input": "2023-07-02T10:34:50.331868Z",
     "iopub.status.busy": "2023-07-02T10:34:50.331521Z",
     "iopub.status.idle": "2023-07-02T10:34:50.338891Z",
     "shell.execute_reply": "2023-07-02T10:34:50.338228Z"
    }
   },
   "outputs": [],
   "source": [
    "import random"
   ]
  },
  {
   "cell_type": "code",
   "execution_count": 2,
   "metadata": {
    "execution": {
     "iopub.execute_input": "2023-07-02T10:34:50.341570Z",
     "iopub.status.busy": "2023-07-02T10:34:50.341062Z",
     "iopub.status.idle": "2023-07-02T10:34:50.345669Z",
     "shell.execute_reply": "2023-07-02T10:34:50.344345Z"
    }
   },
   "outputs": [
    {
     "name": "stdout",
     "output_type": "stream",
     "text": [
      "2.8303275692605427\n"
     ]
    }
   ],
   "source": [
    "print(random.uniform(2, 4))"
   ]
  }
 ],
 "metadata": {
  "language_info": {
   "codemirror_mode": {
    "name": "ipython",
    "version": 3
   },
   "file_extension": ".py",
   "mimetype": "text/x-python",
   "name": "python",
   "nbconvert_exporter": "python",
   "pygments_lexer": "ipython3",
   "version": "3.10.12"
  }
 },
 "nbformat": 4,
 "nbformat_minor": 2
}
