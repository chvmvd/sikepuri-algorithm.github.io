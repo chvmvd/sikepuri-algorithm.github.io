{
 "cells": [
  {
   "cell_type": "code",
   "execution_count": 1,
   "metadata": {
    "execution": {
     "iopub.execute_input": "2023-07-02T10:31:48.607852Z",
     "iopub.status.busy": "2023-07-02T10:31:48.606641Z",
     "iopub.status.idle": "2023-07-02T10:31:48.614711Z",
     "shell.execute_reply": "2023-07-02T10:31:48.614123Z"
    }
   },
   "outputs": [],
   "source": [
    "import math"
   ]
  },
  {
   "cell_type": "code",
   "execution_count": 2,
   "metadata": {
    "execution": {
     "iopub.execute_input": "2023-07-02T10:31:48.617413Z",
     "iopub.status.busy": "2023-07-02T10:31:48.616925Z",
     "iopub.status.idle": "2023-07-02T10:31:48.621753Z",
     "shell.execute_reply": "2023-07-02T10:31:48.621087Z"
    }
   },
   "outputs": [
    {
     "name": "stdout",
     "output_type": "stream",
     "text": [
      "0.0031622776602079072\n"
     ]
    }
   ],
   "source": [
    "print(2 / (math.sqrt(100001) + math.sqrt(99999)))"
   ]
  }
 ],
 "metadata": {
  "language_info": {
   "codemirror_mode": {
    "name": "ipython",
    "version": 3
   },
   "file_extension": ".py",
   "mimetype": "text/x-python",
   "name": "python",
   "nbconvert_exporter": "python",
   "pygments_lexer": "ipython3",
   "version": "3.10.12"
  }
 },
 "nbformat": 4,
 "nbformat_minor": 2
}
