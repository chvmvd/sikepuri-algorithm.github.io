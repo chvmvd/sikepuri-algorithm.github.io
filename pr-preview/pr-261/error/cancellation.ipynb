{
 "cells": [
  {
   "cell_type": "code",
   "execution_count": 1,
   "metadata": {
    "execution": {
     "iopub.execute_input": "2023-07-02T10:31:47.256387Z",
     "iopub.status.busy": "2023-07-02T10:31:47.256150Z",
     "iopub.status.idle": "2023-07-02T10:31:47.263623Z",
     "shell.execute_reply": "2023-07-02T10:31:47.262931Z"
    }
   },
   "outputs": [],
   "source": [
    "import math"
   ]
  },
  {
   "cell_type": "code",
   "execution_count": 2,
   "metadata": {
    "execution": {
     "iopub.execute_input": "2023-07-02T10:31:47.266346Z",
     "iopub.status.busy": "2023-07-02T10:31:47.265941Z",
     "iopub.status.idle": "2023-07-02T10:31:47.273574Z",
     "shell.execute_reply": "2023-07-02T10:31:47.272899Z"
    }
   },
   "outputs": [
    {
     "data": {
      "text/plain": [
       "0.003162277660237578"
      ]
     },
     "execution_count": 2,
     "metadata": {},
     "output_type": "execute_result"
    }
   ],
   "source": [
    "math.sqrt(100001) - math.sqrt(99999)"
   ]
  }
 ],
 "metadata": {
  "language_info": {
   "codemirror_mode": {
    "name": "ipython",
    "version": 3
   },
   "file_extension": ".py",
   "mimetype": "text/x-python",
   "name": "python",
   "nbconvert_exporter": "python",
   "pygments_lexer": "ipython3",
   "version": "3.10.12"
  }
 },
 "nbformat": 4,
 "nbformat_minor": 2
}
