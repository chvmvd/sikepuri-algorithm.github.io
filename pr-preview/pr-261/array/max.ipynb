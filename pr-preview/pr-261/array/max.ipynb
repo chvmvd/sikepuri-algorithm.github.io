{
 "cells": [
  {
   "cell_type": "code",
   "execution_count": 1,
   "metadata": {
    "execution": {
     "iopub.execute_input": "2023-07-02T10:31:29.136024Z",
     "iopub.status.busy": "2023-07-02T10:31:29.135785Z",
     "iopub.status.idle": "2023-07-02T10:31:29.146491Z",
     "shell.execute_reply": "2023-07-02T10:31:29.145599Z"
    }
   },
   "outputs": [
    {
     "name": "stdout",
     "output_type": "stream",
     "text": [
      "95\n"
     ]
    }
   ],
   "source": [
    "def calc_max(scores):\n",
    "    max_val = scores[0]\n",
    "    for i in range(1, len(scores)):\n",
    "        if max_val < scores[i]:\n",
    "            max_val = scores[i]\n",
    "    return max_val\n",
    "\n",
    "\n",
    "scores = [26, 78, 83, 20, 10, 11, 22, 16, 41, 95]\n",
    "print(calc_max(scores))"
   ]
  }
 ],
 "metadata": {
  "language_info": {
   "codemirror_mode": {
    "name": "ipython",
    "version": 3
   },
   "file_extension": ".py",
   "mimetype": "text/x-python",
   "name": "python",
   "nbconvert_exporter": "python",
   "pygments_lexer": "ipython3",
   "version": "3.10.12"
  }
 },
 "nbformat": 4,
 "nbformat_minor": 2
}
