{
 "cells": [
  {
   "cell_type": "code",
   "execution_count": 1,
   "metadata": {
    "execution": {
     "iopub.execute_input": "2023-04-30T03:10:50.597787Z",
     "iopub.status.busy": "2023-04-30T03:10:50.597275Z",
     "iopub.status.idle": "2023-04-30T03:10:50.604615Z",
     "shell.execute_reply": "2023-04-30T03:10:50.604053Z"
    }
   },
   "outputs": [],
   "source": [
    "import random"
   ]
  },
  {
   "cell_type": "code",
   "execution_count": 2,
   "metadata": {
    "execution": {
     "iopub.execute_input": "2023-04-30T03:10:50.607152Z",
     "iopub.status.busy": "2023-04-30T03:10:50.606640Z",
     "iopub.status.idle": "2023-04-30T03:10:50.611158Z",
     "shell.execute_reply": "2023-04-30T03:10:50.610149Z"
    }
   },
   "outputs": [
    {
     "name": "stdout",
     "output_type": "stream",
     "text": [
      "3.1577993740721104\n"
     ]
    }
   ],
   "source": [
    "print(random.uniform(2, 4))"
   ]
  }
 ],
 "metadata": {
  "language_info": {
   "codemirror_mode": {
    "name": "ipython",
    "version": 3
   },
   "file_extension": ".py",
   "mimetype": "text/x-python",
   "name": "python",
   "nbconvert_exporter": "python",
   "pygments_lexer": "ipython3",
   "version": "3.10.11"
  }
 },
 "nbformat": 4,
 "nbformat_minor": 2
}
