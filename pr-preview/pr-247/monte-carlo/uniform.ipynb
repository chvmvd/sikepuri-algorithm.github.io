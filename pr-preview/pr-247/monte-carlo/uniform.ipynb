{
 "cells": [
  {
   "cell_type": "code",
   "execution_count": 1,
   "metadata": {
    "execution": {
     "iopub.execute_input": "2023-04-30T03:18:09.676309Z",
     "iopub.status.busy": "2023-04-30T03:18:09.676102Z",
     "iopub.status.idle": "2023-04-30T03:18:09.683532Z",
     "shell.execute_reply": "2023-04-30T03:18:09.682955Z"
    }
   },
   "outputs": [],
   "source": [
    "import random"
   ]
  },
  {
   "cell_type": "code",
   "execution_count": 2,
   "metadata": {
    "execution": {
     "iopub.execute_input": "2023-04-30T03:18:09.686039Z",
     "iopub.status.busy": "2023-04-30T03:18:09.685545Z",
     "iopub.status.idle": "2023-04-30T03:18:09.689721Z",
     "shell.execute_reply": "2023-04-30T03:18:09.689140Z"
    }
   },
   "outputs": [
    {
     "name": "stdout",
     "output_type": "stream",
     "text": [
      "3.5561816173211724\n"
     ]
    }
   ],
   "source": [
    "print(random.uniform(2, 4))"
   ]
  }
 ],
 "metadata": {
  "language_info": {
   "codemirror_mode": {
    "name": "ipython",
    "version": 3
   },
   "file_extension": ".py",
   "mimetype": "text/x-python",
   "name": "python",
   "nbconvert_exporter": "python",
   "pygments_lexer": "ipython3",
   "version": "3.10.11"
  }
 },
 "nbformat": 4,
 "nbformat_minor": 2
}
