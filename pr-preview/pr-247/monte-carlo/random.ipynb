{
 "cells": [
  {
   "cell_type": "code",
   "execution_count": 1,
   "metadata": {
    "execution": {
     "iopub.execute_input": "2023-04-30T03:10:47.909719Z",
     "iopub.status.busy": "2023-04-30T03:10:47.909514Z",
     "iopub.status.idle": "2023-04-30T03:10:47.916927Z",
     "shell.execute_reply": "2023-04-30T03:10:47.915849Z"
    }
   },
   "outputs": [],
   "source": [
    "import random"
   ]
  },
  {
   "cell_type": "code",
   "execution_count": 2,
   "metadata": {
    "execution": {
     "iopub.execute_input": "2023-04-30T03:10:47.919236Z",
     "iopub.status.busy": "2023-04-30T03:10:47.918930Z",
     "iopub.status.idle": "2023-04-30T03:10:47.923169Z",
     "shell.execute_reply": "2023-04-30T03:10:47.922543Z"
    }
   },
   "outputs": [
    {
     "name": "stdout",
     "output_type": "stream",
     "text": [
      "0.8193372473932989\n"
     ]
    }
   ],
   "source": [
    "print(random.random())"
   ]
  }
 ],
 "metadata": {
  "language_info": {
   "codemirror_mode": {
    "name": "ipython",
    "version": 3
   },
   "file_extension": ".py",
   "mimetype": "text/x-python",
   "name": "python",
   "nbconvert_exporter": "python",
   "pygments_lexer": "ipython3",
   "version": "3.10.11"
  }
 },
 "nbformat": 4,
 "nbformat_minor": 2
}
