{
 "cells": [
  {
   "cell_type": "code",
   "execution_count": 1,
   "metadata": {
    "execution": {
     "iopub.execute_input": "2023-04-30T03:18:07.133771Z",
     "iopub.status.busy": "2023-04-30T03:18:07.133276Z",
     "iopub.status.idle": "2023-04-30T03:18:07.140408Z",
     "shell.execute_reply": "2023-04-30T03:18:07.139522Z"
    }
   },
   "outputs": [],
   "source": [
    "import random"
   ]
  },
  {
   "cell_type": "code",
   "execution_count": 2,
   "metadata": {
    "execution": {
     "iopub.execute_input": "2023-04-30T03:18:07.142609Z",
     "iopub.status.busy": "2023-04-30T03:18:07.142408Z",
     "iopub.status.idle": "2023-04-30T03:18:07.146780Z",
     "shell.execute_reply": "2023-04-30T03:18:07.146160Z"
    }
   },
   "outputs": [
    {
     "name": "stdout",
     "output_type": "stream",
     "text": [
      "0.7373292111938227\n"
     ]
    }
   ],
   "source": [
    "print(random.random())"
   ]
  }
 ],
 "metadata": {
  "language_info": {
   "codemirror_mode": {
    "name": "ipython",
    "version": 3
   },
   "file_extension": ".py",
   "mimetype": "text/x-python",
   "name": "python",
   "nbconvert_exporter": "python",
   "pygments_lexer": "ipython3",
   "version": "3.10.11"
  }
 },
 "nbformat": 4,
 "nbformat_minor": 2
}
