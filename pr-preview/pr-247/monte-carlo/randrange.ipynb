{
 "cells": [
  {
   "cell_type": "code",
   "execution_count": 1,
   "metadata": {
    "execution": {
     "iopub.execute_input": "2023-04-30T03:18:08.499985Z",
     "iopub.status.busy": "2023-04-30T03:18:08.499624Z",
     "iopub.status.idle": "2023-04-30T03:18:08.506972Z",
     "shell.execute_reply": "2023-04-30T03:18:08.506420Z"
    }
   },
   "outputs": [],
   "source": [
    "import random"
   ]
  },
  {
   "cell_type": "code",
   "execution_count": 2,
   "metadata": {
    "execution": {
     "iopub.execute_input": "2023-04-30T03:18:08.509596Z",
     "iopub.status.busy": "2023-04-30T03:18:08.509087Z",
     "iopub.status.idle": "2023-04-30T03:18:08.512779Z",
     "shell.execute_reply": "2023-04-30T03:18:08.512168Z"
    }
   },
   "outputs": [
    {
     "name": "stdout",
     "output_type": "stream",
     "text": [
      "3\n"
     ]
    }
   ],
   "source": [
    "print(random.randrange(2, 4, 1))"
   ]
  }
 ],
 "metadata": {
  "language_info": {
   "codemirror_mode": {
    "name": "ipython",
    "version": 3
   },
   "file_extension": ".py",
   "mimetype": "text/x-python",
   "name": "python",
   "nbconvert_exporter": "python",
   "pygments_lexer": "ipython3",
   "version": "3.10.11"
  }
 },
 "nbformat": 4,
 "nbformat_minor": 2
}
