{
 "cells": [
  {
   "cell_type": "code",
   "execution_count": 1,
   "metadata": {
    "execution": {
     "iopub.execute_input": "2023-04-30T03:10:49.275105Z",
     "iopub.status.busy": "2023-04-30T03:10:49.274909Z",
     "iopub.status.idle": "2023-04-30T03:10:49.282085Z",
     "shell.execute_reply": "2023-04-30T03:10:49.281549Z"
    }
   },
   "outputs": [],
   "source": [
    "import random"
   ]
  },
  {
   "cell_type": "code",
   "execution_count": 2,
   "metadata": {
    "execution": {
     "iopub.execute_input": "2023-04-30T03:10:49.284541Z",
     "iopub.status.busy": "2023-04-30T03:10:49.284221Z",
     "iopub.status.idle": "2023-04-30T03:10:49.288573Z",
     "shell.execute_reply": "2023-04-30T03:10:49.288022Z"
    }
   },
   "outputs": [
    {
     "name": "stdout",
     "output_type": "stream",
     "text": [
      "3\n"
     ]
    }
   ],
   "source": [
    "print(random.randrange(2, 4, 1))"
   ]
  }
 ],
 "metadata": {
  "language_info": {
   "codemirror_mode": {
    "name": "ipython",
    "version": 3
   },
   "file_extension": ".py",
   "mimetype": "text/x-python",
   "name": "python",
   "nbconvert_exporter": "python",
   "pygments_lexer": "ipython3",
   "version": "3.10.11"
  }
 },
 "nbformat": 4,
 "nbformat_minor": 2
}
