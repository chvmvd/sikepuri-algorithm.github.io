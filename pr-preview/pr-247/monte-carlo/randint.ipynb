{
 "cells": [
  {
   "cell_type": "code",
   "execution_count": 1,
   "metadata": {
    "execution": {
     "iopub.execute_input": "2023-04-30T03:10:46.675625Z",
     "iopub.status.busy": "2023-04-30T03:10:46.675091Z",
     "iopub.status.idle": "2023-04-30T03:10:46.683280Z",
     "shell.execute_reply": "2023-04-30T03:10:46.681857Z"
    }
   },
   "outputs": [],
   "source": [
    "import random"
   ]
  },
  {
   "cell_type": "code",
   "execution_count": 2,
   "metadata": {
    "execution": {
     "iopub.execute_input": "2023-04-30T03:10:46.685776Z",
     "iopub.status.busy": "2023-04-30T03:10:46.685371Z",
     "iopub.status.idle": "2023-04-30T03:10:46.690755Z",
     "shell.execute_reply": "2023-04-30T03:10:46.689797Z"
    }
   },
   "outputs": [
    {
     "name": "stdout",
     "output_type": "stream",
     "text": [
      "4\n"
     ]
    }
   ],
   "source": [
    "print(random.randint(2, 4))"
   ]
  }
 ],
 "metadata": {
  "language_info": {
   "codemirror_mode": {
    "name": "ipython",
    "version": 3
   },
   "file_extension": ".py",
   "mimetype": "text/x-python",
   "name": "python",
   "nbconvert_exporter": "python",
   "pygments_lexer": "ipython3",
   "version": "3.10.11"
  }
 },
 "nbformat": 4,
 "nbformat_minor": 2
}
