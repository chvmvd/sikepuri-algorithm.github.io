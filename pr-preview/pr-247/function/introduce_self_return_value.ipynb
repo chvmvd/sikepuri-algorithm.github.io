{
 "cells": [
  {
   "cell_type": "code",
   "execution_count": 1,
   "metadata": {
    "execution": {
     "iopub.execute_input": "2023-04-30T03:08:54.108843Z",
     "iopub.status.busy": "2023-04-30T03:08:54.108640Z",
     "iopub.status.idle": "2023-04-30T03:08:54.116796Z",
     "shell.execute_reply": "2023-04-30T03:08:54.115591Z"
    }
   },
   "outputs": [
    {
     "name": "stdout",
     "output_type": "stream",
     "text": [
      "私の名前は、小林です。\n"
     ]
    }
   ],
   "source": [
    "def introduce_self(name):\n",
    "    return \"私の名前は、\" + name + \"です。\"\n",
    "\n",
    "\n",
    "print(introduce_self(\"小林\"))"
   ]
  }
 ],
 "metadata": {
  "language_info": {
   "codemirror_mode": {
    "name": "ipython",
    "version": 3
   },
   "file_extension": ".py",
   "mimetype": "text/x-python",
   "name": "python",
   "nbconvert_exporter": "python",
   "pygments_lexer": "ipython3",
   "version": "3.10.11"
  }
 },
 "nbformat": 4,
 "nbformat_minor": 2
}
