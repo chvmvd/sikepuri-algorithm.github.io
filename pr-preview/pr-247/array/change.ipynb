{
 "cells": [
  {
   "cell_type": "code",
   "execution_count": 1,
   "metadata": {
    "execution": {
     "iopub.execute_input": "2023-04-30T03:14:58.583974Z",
     "iopub.status.busy": "2023-04-30T03:14:58.583431Z",
     "iopub.status.idle": "2023-04-30T03:14:58.590954Z",
     "shell.execute_reply": "2023-04-30T03:14:58.590373Z"
    }
   },
   "outputs": [],
   "source": [
    "scores = [96, 56, 42, 74, 86]\n",
    "scores[0] = 37"
   ]
  }
 ],
 "metadata": {
  "language_info": {
   "codemirror_mode": {
    "name": "ipython",
    "version": 3
   },
   "file_extension": ".py",
   "mimetype": "text/x-python",
   "name": "python",
   "nbconvert_exporter": "python",
   "pygments_lexer": "ipython3",
   "version": "3.10.11"
  }
 },
 "nbformat": 4,
 "nbformat_minor": 2
}
