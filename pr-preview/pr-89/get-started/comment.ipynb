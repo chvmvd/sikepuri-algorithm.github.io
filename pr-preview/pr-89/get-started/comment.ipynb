{
  "nbformat": 4,
  "nbformat_minor": 2,
  "metadata": {},
  "cells": [
    {
      "metadata": {},
      "source": [
        "# \u3053\u306e\u90e8\u5206\u306f\u30b3\u30e1\u30f3\u30c8\u3067\u3059\u3002\n",
        "print(\"Hello World!\")  # \u3053\u306e\u90e8\u5206\u3082\u30b3\u30e1\u30f3\u30c8\u3067\u3059\u3002"
      ],
      "cell_type": "code",
      "outputs": [
        {
          "output_type": "stream",
          "name": "stdout",
          "text": [
            "Hello World!\n"
          ]
        }
      ],
      "execution_count": null
    }
  ]
}
