{
 "cells": [
  {
   "cell_type": "code",
   "execution_count": 1,
   "metadata": {
    "execution": {
     "iopub.execute_input": "2023-02-19T01:11:16.658915Z",
     "iopub.status.busy": "2023-02-19T01:11:16.658205Z",
     "iopub.status.idle": "2023-02-19T01:11:16.667077Z",
     "shell.execute_reply": "2023-02-19T01:11:16.665931Z"
    }
   },
   "outputs": [],
   "source": [
    "import math"
   ]
  },
  {
   "cell_type": "code",
   "execution_count": 2,
   "metadata": {
    "execution": {
     "iopub.execute_input": "2023-02-19T01:11:16.670190Z",
     "iopub.status.busy": "2023-02-19T01:11:16.669918Z",
     "iopub.status.idle": "2023-02-19T01:11:16.677504Z",
     "shell.execute_reply": "2023-02-19T01:11:16.676718Z"
    }
   },
   "outputs": [
    {
     "data": {
      "text/plain": [
       "0.003162277660237578"
      ]
     },
     "execution_count": 2,
     "metadata": {},
     "output_type": "execute_result"
    }
   ],
   "source": [
    "math.sqrt(100001) - math.sqrt(99999)"
   ]
  }
 ],
 "metadata": {
  "language_info": {
   "codemirror_mode": {
    "name": "ipython",
    "version": 3
   },
   "file_extension": ".py",
   "mimetype": "text/x-python",
   "name": "python",
   "nbconvert_exporter": "python",
   "pygments_lexer": "ipython3",
   "version": "3.10.10"
  }
 },
 "nbformat": 4,
 "nbformat_minor": 2
}
