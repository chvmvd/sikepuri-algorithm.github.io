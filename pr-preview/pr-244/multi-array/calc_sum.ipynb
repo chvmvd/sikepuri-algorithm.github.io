{
 "cells": [
  {
   "cell_type": "code",
   "execution_count": 1,
   "metadata": {
    "execution": {
     "iopub.execute_input": "2023-02-19T01:14:56.706001Z",
     "iopub.status.busy": "2023-02-19T01:14:56.705704Z",
     "iopub.status.idle": "2023-02-19T01:14:56.717660Z",
     "shell.execute_reply": "2023-02-19T01:14:56.716786Z"
    }
   },
   "outputs": [
    {
     "name": "stdout",
     "output_type": "stream",
     "text": [
      "575\n"
     ]
    }
   ],
   "source": [
    "def calc_sum1d(scores):\n",
    "    sum_val = 0\n",
    "    for i in range(len(scores)):\n",
    "        sum_val += scores[i]\n",
    "    return sum_val\n",
    "\n",
    "\n",
    "a_scores = [83, 75, 32]\n",
    "b_scores = [73, 53, 84]\n",
    "c_scores = [63, 48, 64]\n",
    "\n",
    "print(calc_sum1d(a_scores) + calc_sum1d(b_scores) + calc_sum1d(c_scores))"
   ]
  }
 ],
 "metadata": {
  "language_info": {
   "codemirror_mode": {
    "name": "ipython",
    "version": 3
   },
   "file_extension": ".py",
   "mimetype": "text/x-python",
   "name": "python",
   "nbconvert_exporter": "python",
   "pygments_lexer": "ipython3",
   "version": "3.10.10"
  }
 },
 "nbformat": 4,
 "nbformat_minor": 2
}
