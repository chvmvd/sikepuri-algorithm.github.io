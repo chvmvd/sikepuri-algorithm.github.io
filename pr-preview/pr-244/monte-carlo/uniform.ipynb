{
 "cells": [
  {
   "cell_type": "code",
   "execution_count": 1,
   "metadata": {
    "execution": {
     "iopub.execute_input": "2023-02-19T01:14:55.187203Z",
     "iopub.status.busy": "2023-02-19T01:14:55.186640Z",
     "iopub.status.idle": "2023-02-19T01:14:55.195705Z",
     "shell.execute_reply": "2023-02-19T01:14:55.194850Z"
    }
   },
   "outputs": [],
   "source": [
    "import random"
   ]
  },
  {
   "cell_type": "code",
   "execution_count": 2,
   "metadata": {
    "execution": {
     "iopub.execute_input": "2023-02-19T01:14:55.199227Z",
     "iopub.status.busy": "2023-02-19T01:14:55.198963Z",
     "iopub.status.idle": "2023-02-19T01:14:55.204085Z",
     "shell.execute_reply": "2023-02-19T01:14:55.203211Z"
    }
   },
   "outputs": [
    {
     "name": "stdout",
     "output_type": "stream",
     "text": [
      "3.338197065588364\n"
     ]
    }
   ],
   "source": [
    "print(random.uniform(2, 4))"
   ]
  }
 ],
 "metadata": {
  "language_info": {
   "codemirror_mode": {
    "name": "ipython",
    "version": 3
   },
   "file_extension": ".py",
   "mimetype": "text/x-python",
   "name": "python",
   "nbconvert_exporter": "python",
   "pygments_lexer": "ipython3",
   "version": "3.10.10"
  }
 },
 "nbformat": 4,
 "nbformat_minor": 2
}
