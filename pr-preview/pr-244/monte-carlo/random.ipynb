{
 "cells": [
  {
   "cell_type": "code",
   "execution_count": 1,
   "metadata": {
    "execution": {
     "iopub.execute_input": "2023-02-19T01:14:52.035525Z",
     "iopub.status.busy": "2023-02-19T01:14:52.035186Z",
     "iopub.status.idle": "2023-02-19T01:14:52.044925Z",
     "shell.execute_reply": "2023-02-19T01:14:52.043904Z"
    }
   },
   "outputs": [],
   "source": [
    "import random"
   ]
  },
  {
   "cell_type": "code",
   "execution_count": 2,
   "metadata": {
    "execution": {
     "iopub.execute_input": "2023-02-19T01:14:52.048220Z",
     "iopub.status.busy": "2023-02-19T01:14:52.047924Z",
     "iopub.status.idle": "2023-02-19T01:14:52.053190Z",
     "shell.execute_reply": "2023-02-19T01:14:52.052188Z"
    }
   },
   "outputs": [
    {
     "name": "stdout",
     "output_type": "stream",
     "text": [
      "0.9508282271189055\n"
     ]
    }
   ],
   "source": [
    "print(random.random())"
   ]
  }
 ],
 "metadata": {
  "language_info": {
   "codemirror_mode": {
    "name": "ipython",
    "version": 3
   },
   "file_extension": ".py",
   "mimetype": "text/x-python",
   "name": "python",
   "nbconvert_exporter": "python",
   "pygments_lexer": "ipython3",
   "version": "3.10.10"
  }
 },
 "nbformat": 4,
 "nbformat_minor": 2
}
