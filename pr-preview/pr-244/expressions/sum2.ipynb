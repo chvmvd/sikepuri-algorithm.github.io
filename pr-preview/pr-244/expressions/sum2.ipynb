{
 "cells": [
  {
   "cell_type": "code",
   "execution_count": 1,
   "metadata": {
    "execution": {
     "iopub.execute_input": "2023-02-19T01:11:39.427604Z",
     "iopub.status.busy": "2023-02-19T01:11:39.427338Z",
     "iopub.status.idle": "2023-02-19T01:11:39.436613Z",
     "shell.execute_reply": "2023-02-19T01:11:39.435555Z"
    }
   },
   "outputs": [
    {
     "name": "stdout",
     "output_type": "stream",
     "text": [
      "2\n"
     ]
    }
   ],
   "source": [
    "print(1 + 1)"
   ]
  }
 ],
 "metadata": {
  "language_info": {
   "codemirror_mode": {
    "name": "ipython",
    "version": 3
   },
   "file_extension": ".py",
   "mimetype": "text/x-python",
   "name": "python",
   "nbconvert_exporter": "python",
   "pygments_lexer": "ipython3",
   "version": "3.10.10"
  }
 },
 "nbformat": 4,
 "nbformat_minor": 2
}
