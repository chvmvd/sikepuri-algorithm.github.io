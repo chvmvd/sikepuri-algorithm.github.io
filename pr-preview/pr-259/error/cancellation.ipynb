{
 "cells": [
  {
   "cell_type": "code",
   "execution_count": 1,
   "metadata": {
    "execution": {
     "iopub.execute_input": "2023-04-30T07:19:18.191430Z",
     "iopub.status.busy": "2023-04-30T07:19:18.191079Z",
     "iopub.status.idle": "2023-04-30T07:19:18.203619Z",
     "shell.execute_reply": "2023-04-30T07:19:18.202373Z"
    }
   },
   "outputs": [],
   "source": [
    "import math"
   ]
  },
  {
   "cell_type": "code",
   "execution_count": 2,
   "metadata": {
    "execution": {
     "iopub.execute_input": "2023-04-30T07:19:18.207340Z",
     "iopub.status.busy": "2023-04-30T07:19:18.206880Z",
     "iopub.status.idle": "2023-04-30T07:19:18.218334Z",
     "shell.execute_reply": "2023-04-30T07:19:18.217322Z"
    }
   },
   "outputs": [
    {
     "data": {
      "text/plain": [
       "0.003162277660237578"
      ]
     },
     "execution_count": 2,
     "metadata": {},
     "output_type": "execute_result"
    }
   ],
   "source": [
    "math.sqrt(100001) - math.sqrt(99999)"
   ]
  }
 ],
 "metadata": {
  "language_info": {
   "codemirror_mode": {
    "name": "ipython",
    "version": 3
   },
   "file_extension": ".py",
   "mimetype": "text/x-python",
   "name": "python",
   "nbconvert_exporter": "python",
   "pygments_lexer": "ipython3",
   "version": "3.10.11"
  }
 },
 "nbformat": 4,
 "nbformat_minor": 2
}
