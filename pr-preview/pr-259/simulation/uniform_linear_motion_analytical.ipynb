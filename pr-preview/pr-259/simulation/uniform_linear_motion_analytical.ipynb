{
 "cells": [
  {
   "cell_type": "code",
   "execution_count": 1,
   "metadata": {
    "execution": {
     "iopub.execute_input": "2023-04-30T06:51:29.515281Z",
     "iopub.status.busy": "2023-04-30T06:51:29.514957Z",
     "iopub.status.idle": "2023-04-30T06:51:29.528233Z",
     "shell.execute_reply": "2023-04-30T06:51:29.525757Z"
    }
   },
   "outputs": [
    {
     "name": "stdout",
     "output_type": "stream",
     "text": [
      "100\n"
     ]
    }
   ],
   "source": [
    "def uniform_linear_motion(x0, v0, t):\n",
    "    return x0 + v0 * t\n",
    "\n",
    "\n",
    "print(uniform_linear_motion(0, 10, 10))"
   ]
  }
 ],
 "metadata": {
  "language_info": {
   "codemirror_mode": {
    "name": "ipython",
    "version": 3
   },
   "file_extension": ".py",
   "mimetype": "text/x-python",
   "name": "python",
   "nbconvert_exporter": "python",
   "pygments_lexer": "ipython3",
   "version": "3.10.11"
  }
 },
 "nbformat": 4,
 "nbformat_minor": 2
}
