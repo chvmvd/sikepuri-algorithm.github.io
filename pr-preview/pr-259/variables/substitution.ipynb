{
 "cells": [
  {
   "cell_type": "code",
   "execution_count": 1,
   "metadata": {
    "execution": {
     "iopub.execute_input": "2023-04-30T07:25:04.239689Z",
     "iopub.status.busy": "2023-04-30T07:25:04.239346Z",
     "iopub.status.idle": "2023-04-30T07:25:04.252989Z",
     "shell.execute_reply": "2023-04-30T07:25:04.251998Z"
    }
   },
   "outputs": [
    {
     "data": {
      "text/plain": [
       "2"
      ]
     },
     "execution_count": 1,
     "metadata": {},
     "output_type": "execute_result"
    }
   ],
   "source": [
    "x = 1\n",
    "x = x + 1\n",
    "x"
   ]
  }
 ],
 "metadata": {
  "language_info": {
   "codemirror_mode": {
    "name": "ipython",
    "version": 3
   },
   "file_extension": ".py",
   "mimetype": "text/x-python",
   "name": "python",
   "nbconvert_exporter": "python",
   "pygments_lexer": "ipython3",
   "version": "3.10.11"
  }
 },
 "nbformat": 4,
 "nbformat_minor": 2
}
