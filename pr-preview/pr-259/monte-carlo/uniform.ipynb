{
 "cells": [
  {
   "cell_type": "code",
   "execution_count": 1,
   "metadata": {
    "execution": {
     "iopub.execute_input": "2023-04-30T07:22:54.331410Z",
     "iopub.status.busy": "2023-04-30T07:22:54.331147Z",
     "iopub.status.idle": "2023-04-30T07:22:54.339673Z",
     "shell.execute_reply": "2023-04-30T07:22:54.338901Z"
    }
   },
   "outputs": [],
   "source": [
    "import random"
   ]
  },
  {
   "cell_type": "code",
   "execution_count": 2,
   "metadata": {
    "execution": {
     "iopub.execute_input": "2023-04-30T07:22:54.342661Z",
     "iopub.status.busy": "2023-04-30T07:22:54.342321Z",
     "iopub.status.idle": "2023-04-30T07:22:54.348217Z",
     "shell.execute_reply": "2023-04-30T07:22:54.347445Z"
    }
   },
   "outputs": [
    {
     "name": "stdout",
     "output_type": "stream",
     "text": [
      "2.0971560601003967\n"
     ]
    }
   ],
   "source": [
    "print(random.uniform(2, 4))"
   ]
  }
 ],
 "metadata": {
  "language_info": {
   "codemirror_mode": {
    "name": "ipython",
    "version": 3
   },
   "file_extension": ".py",
   "mimetype": "text/x-python",
   "name": "python",
   "nbconvert_exporter": "python",
   "pygments_lexer": "ipython3",
   "version": "3.10.11"
  }
 },
 "nbformat": 4,
 "nbformat_minor": 2
}
