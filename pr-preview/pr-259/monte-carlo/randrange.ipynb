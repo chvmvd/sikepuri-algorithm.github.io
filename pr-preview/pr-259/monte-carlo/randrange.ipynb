{
 "cells": [
  {
   "cell_type": "code",
   "execution_count": 1,
   "metadata": {
    "execution": {
     "iopub.execute_input": "2023-04-30T07:22:52.763066Z",
     "iopub.status.busy": "2023-04-30T07:22:52.762796Z",
     "iopub.status.idle": "2023-04-30T07:22:52.771977Z",
     "shell.execute_reply": "2023-04-30T07:22:52.771049Z"
    }
   },
   "outputs": [],
   "source": [
    "import random"
   ]
  },
  {
   "cell_type": "code",
   "execution_count": 2,
   "metadata": {
    "execution": {
     "iopub.execute_input": "2023-04-30T07:22:52.774720Z",
     "iopub.status.busy": "2023-04-30T07:22:52.774471Z",
     "iopub.status.idle": "2023-04-30T07:22:52.778897Z",
     "shell.execute_reply": "2023-04-30T07:22:52.778066Z"
    }
   },
   "outputs": [
    {
     "name": "stdout",
     "output_type": "stream",
     "text": [
      "2\n"
     ]
    }
   ],
   "source": [
    "print(random.randrange(2, 4, 1))"
   ]
  }
 ],
 "metadata": {
  "language_info": {
   "codemirror_mode": {
    "name": "ipython",
    "version": 3
   },
   "file_extension": ".py",
   "mimetype": "text/x-python",
   "name": "python",
   "nbconvert_exporter": "python",
   "pygments_lexer": "ipython3",
   "version": "3.10.11"
  }
 },
 "nbformat": 4,
 "nbformat_minor": 2
}
