{
 "cells": [
  {
   "cell_type": "code",
   "execution_count": 1,
   "metadata": {
    "execution": {
     "iopub.execute_input": "2023-04-30T06:49:42.097415Z",
     "iopub.status.busy": "2023-04-30T06:49:42.096679Z",
     "iopub.status.idle": "2023-04-30T06:49:42.108705Z",
     "shell.execute_reply": "2023-04-30T06:49:42.107725Z"
    }
   },
   "outputs": [],
   "source": [
    "import random"
   ]
  },
  {
   "cell_type": "code",
   "execution_count": 2,
   "metadata": {
    "execution": {
     "iopub.execute_input": "2023-04-30T06:49:42.112162Z",
     "iopub.status.busy": "2023-04-30T06:49:42.111898Z",
     "iopub.status.idle": "2023-04-30T06:49:42.117005Z",
     "shell.execute_reply": "2023-04-30T06:49:42.116176Z"
    }
   },
   "outputs": [
    {
     "name": "stdout",
     "output_type": "stream",
     "text": [
      "3\n"
     ]
    }
   ],
   "source": [
    "print(random.randrange(2, 4, 1))"
   ]
  }
 ],
 "metadata": {
  "language_info": {
   "codemirror_mode": {
    "name": "ipython",
    "version": 3
   },
   "file_extension": ".py",
   "mimetype": "text/x-python",
   "name": "python",
   "nbconvert_exporter": "python",
   "pygments_lexer": "ipython3",
   "version": "3.10.11"
  }
 },
 "nbformat": 4,
 "nbformat_minor": 2
}
