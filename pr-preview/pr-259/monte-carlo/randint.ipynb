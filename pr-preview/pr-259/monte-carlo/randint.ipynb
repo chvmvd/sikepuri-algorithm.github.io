{
 "cells": [
  {
   "cell_type": "code",
   "execution_count": 1,
   "metadata": {
    "execution": {
     "iopub.execute_input": "2023-04-30T07:22:49.742149Z",
     "iopub.status.busy": "2023-04-30T07:22:49.741869Z",
     "iopub.status.idle": "2023-04-30T07:22:49.751091Z",
     "shell.execute_reply": "2023-04-30T07:22:49.750207Z"
    }
   },
   "outputs": [],
   "source": [
    "import random"
   ]
  },
  {
   "cell_type": "code",
   "execution_count": 2,
   "metadata": {
    "execution": {
     "iopub.execute_input": "2023-04-30T07:22:49.754352Z",
     "iopub.status.busy": "2023-04-30T07:22:49.754101Z",
     "iopub.status.idle": "2023-04-30T07:22:49.760124Z",
     "shell.execute_reply": "2023-04-30T07:22:49.759071Z"
    }
   },
   "outputs": [
    {
     "name": "stdout",
     "output_type": "stream",
     "text": [
      "2\n"
     ]
    }
   ],
   "source": [
    "print(random.randint(2, 4))"
   ]
  }
 ],
 "metadata": {
  "language_info": {
   "codemirror_mode": {
    "name": "ipython",
    "version": 3
   },
   "file_extension": ".py",
   "mimetype": "text/x-python",
   "name": "python",
   "nbconvert_exporter": "python",
   "pygments_lexer": "ipython3",
   "version": "3.10.11"
  }
 },
 "nbformat": 4,
 "nbformat_minor": 2
}
