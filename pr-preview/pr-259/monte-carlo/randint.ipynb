{
 "cells": [
  {
   "cell_type": "code",
   "execution_count": 1,
   "metadata": {
    "execution": {
     "iopub.execute_input": "2023-04-30T06:49:38.637092Z",
     "iopub.status.busy": "2023-04-30T06:49:38.636407Z",
     "iopub.status.idle": "2023-04-30T06:49:38.646058Z",
     "shell.execute_reply": "2023-04-30T06:49:38.645170Z"
    }
   },
   "outputs": [],
   "source": [
    "import random"
   ]
  },
  {
   "cell_type": "code",
   "execution_count": 2,
   "metadata": {
    "execution": {
     "iopub.execute_input": "2023-04-30T06:49:38.649449Z",
     "iopub.status.busy": "2023-04-30T06:49:38.648884Z",
     "iopub.status.idle": "2023-04-30T06:49:38.655134Z",
     "shell.execute_reply": "2023-04-30T06:49:38.654031Z"
    }
   },
   "outputs": [
    {
     "name": "stdout",
     "output_type": "stream",
     "text": [
      "3\n"
     ]
    }
   ],
   "source": [
    "print(random.randint(2, 4))"
   ]
  }
 ],
 "metadata": {
  "language_info": {
   "codemirror_mode": {
    "name": "ipython",
    "version": 3
   },
   "file_extension": ".py",
   "mimetype": "text/x-python",
   "name": "python",
   "nbconvert_exporter": "python",
   "pygments_lexer": "ipython3",
   "version": "3.10.11"
  }
 },
 "nbformat": 4,
 "nbformat_minor": 2
}
