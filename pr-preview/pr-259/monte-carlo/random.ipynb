{
 "cells": [
  {
   "cell_type": "code",
   "execution_count": 1,
   "metadata": {
    "execution": {
     "iopub.execute_input": "2023-04-30T06:49:40.363857Z",
     "iopub.status.busy": "2023-04-30T06:49:40.363512Z",
     "iopub.status.idle": "2023-04-30T06:49:40.373157Z",
     "shell.execute_reply": "2023-04-30T06:49:40.372174Z"
    }
   },
   "outputs": [],
   "source": [
    "import random"
   ]
  },
  {
   "cell_type": "code",
   "execution_count": 2,
   "metadata": {
    "execution": {
     "iopub.execute_input": "2023-04-30T06:49:40.376464Z",
     "iopub.status.busy": "2023-04-30T06:49:40.376176Z",
     "iopub.status.idle": "2023-04-30T06:49:40.383271Z",
     "shell.execute_reply": "2023-04-30T06:49:40.382332Z"
    }
   },
   "outputs": [
    {
     "name": "stdout",
     "output_type": "stream",
     "text": [
      "0.33599198218036685\n"
     ]
    }
   ],
   "source": [
    "print(random.random())"
   ]
  }
 ],
 "metadata": {
  "language_info": {
   "codemirror_mode": {
    "name": "ipython",
    "version": 3
   },
   "file_extension": ".py",
   "mimetype": "text/x-python",
   "name": "python",
   "nbconvert_exporter": "python",
   "pygments_lexer": "ipython3",
   "version": "3.10.11"
  }
 },
 "nbformat": 4,
 "nbformat_minor": 2
}
