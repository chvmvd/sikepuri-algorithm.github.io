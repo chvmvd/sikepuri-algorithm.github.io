{
 "cells": [
  {
   "cell_type": "code",
   "execution_count": 1,
   "metadata": {
    "execution": {
     "iopub.execute_input": "2023-04-30T07:22:51.250560Z",
     "iopub.status.busy": "2023-04-30T07:22:51.250292Z",
     "iopub.status.idle": "2023-04-30T07:22:51.261640Z",
     "shell.execute_reply": "2023-04-30T07:22:51.260561Z"
    }
   },
   "outputs": [],
   "source": [
    "import random"
   ]
  },
  {
   "cell_type": "code",
   "execution_count": 2,
   "metadata": {
    "execution": {
     "iopub.execute_input": "2023-04-30T07:22:51.265764Z",
     "iopub.status.busy": "2023-04-30T07:22:51.265456Z",
     "iopub.status.idle": "2023-04-30T07:22:51.272252Z",
     "shell.execute_reply": "2023-04-30T07:22:51.271413Z"
    }
   },
   "outputs": [
    {
     "name": "stdout",
     "output_type": "stream",
     "text": [
      "0.9735414068517514\n"
     ]
    }
   ],
   "source": [
    "print(random.random())"
   ]
  }
 ],
 "metadata": {
  "language_info": {
   "codemirror_mode": {
    "name": "ipython",
    "version": 3
   },
   "file_extension": ".py",
   "mimetype": "text/x-python",
   "name": "python",
   "nbconvert_exporter": "python",
   "pygments_lexer": "ipython3",
   "version": "3.10.11"
  }
 },
 "nbformat": 4,
 "nbformat_minor": 2
}
