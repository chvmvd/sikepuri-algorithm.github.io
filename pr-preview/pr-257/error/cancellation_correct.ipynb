{
 "cells": [
  {
   "cell_type": "code",
   "execution_count": 1,
   "metadata": {
    "execution": {
     "iopub.execute_input": "2023-04-30T06:02:42.721905Z",
     "iopub.status.busy": "2023-04-30T06:02:42.721588Z",
     "iopub.status.idle": "2023-04-30T06:02:42.728586Z",
     "shell.execute_reply": "2023-04-30T06:02:42.727971Z"
    }
   },
   "outputs": [],
   "source": [
    "import math"
   ]
  },
  {
   "cell_type": "code",
   "execution_count": 2,
   "metadata": {
    "execution": {
     "iopub.execute_input": "2023-04-30T06:02:42.731271Z",
     "iopub.status.busy": "2023-04-30T06:02:42.730951Z",
     "iopub.status.idle": "2023-04-30T06:02:42.735488Z",
     "shell.execute_reply": "2023-04-30T06:02:42.734918Z"
    }
   },
   "outputs": [
    {
     "name": "stdout",
     "output_type": "stream",
     "text": [
      "0.0031622776602079072\n"
     ]
    }
   ],
   "source": [
    "print(2 / (math.sqrt(100001) + math.sqrt(99999)))"
   ]
  }
 ],
 "metadata": {
  "language_info": {
   "codemirror_mode": {
    "name": "ipython",
    "version": 3
   },
   "file_extension": ".py",
   "mimetype": "text/x-python",
   "name": "python",
   "nbconvert_exporter": "python",
   "pygments_lexer": "ipython3",
   "version": "3.10.11"
  }
 },
 "nbformat": 4,
 "nbformat_minor": 2
}
