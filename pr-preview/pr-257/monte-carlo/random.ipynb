{
 "cells": [
  {
   "cell_type": "code",
   "execution_count": 1,
   "metadata": {
    "execution": {
     "iopub.execute_input": "2023-04-30T06:05:29.422880Z",
     "iopub.status.busy": "2023-04-30T06:05:29.422662Z",
     "iopub.status.idle": "2023-04-30T06:05:29.429933Z",
     "shell.execute_reply": "2023-04-30T06:05:29.429343Z"
    }
   },
   "outputs": [],
   "source": [
    "import random"
   ]
  },
  {
   "cell_type": "code",
   "execution_count": 2,
   "metadata": {
    "execution": {
     "iopub.execute_input": "2023-04-30T06:05:29.432642Z",
     "iopub.status.busy": "2023-04-30T06:05:29.432150Z",
     "iopub.status.idle": "2023-04-30T06:05:29.436340Z",
     "shell.execute_reply": "2023-04-30T06:05:29.435764Z"
    }
   },
   "outputs": [
    {
     "name": "stdout",
     "output_type": "stream",
     "text": [
      "0.7404472662814969\n"
     ]
    }
   ],
   "source": [
    "print(random.random())"
   ]
  }
 ],
 "metadata": {
  "language_info": {
   "codemirror_mode": {
    "name": "ipython",
    "version": 3
   },
   "file_extension": ".py",
   "mimetype": "text/x-python",
   "name": "python",
   "nbconvert_exporter": "python",
   "pygments_lexer": "ipython3",
   "version": "3.10.11"
  }
 },
 "nbformat": 4,
 "nbformat_minor": 2
}
