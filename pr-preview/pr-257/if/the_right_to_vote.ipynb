{
 "cells": [
  {
   "cell_type": "code",
   "execution_count": 1,
   "metadata": {
    "execution": {
     "iopub.execute_input": "2023-04-30T06:04:18.028128Z",
     "iopub.status.busy": "2023-04-30T06:04:18.027599Z",
     "iopub.status.idle": "2023-04-30T06:04:18.036098Z",
     "shell.execute_reply": "2023-04-30T06:04:18.034807Z"
    }
   },
   "outputs": [
    {
     "name": "stdout",
     "output_type": "stream",
     "text": [
      "投票することができます。\n"
     ]
    }
   ],
   "source": [
    "age = 18\n",
    "if age < 18:\n",
    "    print(\"選挙権はありません。\")\n",
    "elif age < 25:\n",
    "    print(\"投票することができます。\")\n",
    "else:\n",
    "    print(\"衆議院議員に立候補することができます。\")"
   ]
  }
 ],
 "metadata": {
  "language_info": {
   "codemirror_mode": {
    "name": "ipython",
    "version": 3
   },
   "file_extension": ".py",
   "mimetype": "text/x-python",
   "name": "python",
   "nbconvert_exporter": "python",
   "pygments_lexer": "ipython3",
   "version": "3.10.11"
  }
 },
 "nbformat": 4,
 "nbformat_minor": 2
}
