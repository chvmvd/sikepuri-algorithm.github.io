{
 "cells": [
  {
   "cell_type": "code",
   "execution_count": 1,
   "metadata": {
    "execution": {
     "iopub.execute_input": "2023-04-30T06:25:09.550808Z",
     "iopub.status.busy": "2023-04-30T06:25:09.550478Z",
     "iopub.status.idle": "2023-04-30T06:25:09.560128Z",
     "shell.execute_reply": "2023-04-30T06:25:09.559154Z"
    }
   },
   "outputs": [],
   "source": [
    "import random"
   ]
  },
  {
   "cell_type": "code",
   "execution_count": 2,
   "metadata": {
    "execution": {
     "iopub.execute_input": "2023-04-30T06:25:09.564121Z",
     "iopub.status.busy": "2023-04-30T06:25:09.563849Z",
     "iopub.status.idle": "2023-04-30T06:25:09.568910Z",
     "shell.execute_reply": "2023-04-30T06:25:09.567990Z"
    }
   },
   "outputs": [
    {
     "name": "stdout",
     "output_type": "stream",
     "text": [
      "3.6058434966144683\n"
     ]
    }
   ],
   "source": [
    "print(random.uniform(2, 4))"
   ]
  }
 ],
 "metadata": {
  "language_info": {
   "codemirror_mode": {
    "name": "ipython",
    "version": 3
   },
   "file_extension": ".py",
   "mimetype": "text/x-python",
   "name": "python",
   "nbconvert_exporter": "python",
   "pygments_lexer": "ipython3",
   "version": "3.10.11"
  }
 },
 "nbformat": 4,
 "nbformat_minor": 2
}
