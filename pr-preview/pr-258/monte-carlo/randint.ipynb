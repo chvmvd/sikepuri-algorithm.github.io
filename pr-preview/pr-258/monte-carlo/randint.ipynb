{
 "cells": [
  {
   "cell_type": "code",
   "execution_count": 1,
   "metadata": {
    "execution": {
     "iopub.execute_input": "2023-04-30T06:25:04.665592Z",
     "iopub.status.busy": "2023-04-30T06:25:04.665333Z",
     "iopub.status.idle": "2023-04-30T06:25:04.674006Z",
     "shell.execute_reply": "2023-04-30T06:25:04.673086Z"
    }
   },
   "outputs": [],
   "source": [
    "import random"
   ]
  },
  {
   "cell_type": "code",
   "execution_count": 2,
   "metadata": {
    "execution": {
     "iopub.execute_input": "2023-04-30T06:25:04.677295Z",
     "iopub.status.busy": "2023-04-30T06:25:04.677019Z",
     "iopub.status.idle": "2023-04-30T06:25:04.682166Z",
     "shell.execute_reply": "2023-04-30T06:25:04.681255Z"
    }
   },
   "outputs": [
    {
     "name": "stdout",
     "output_type": "stream",
     "text": [
      "4\n"
     ]
    }
   ],
   "source": [
    "print(random.randint(2, 4))"
   ]
  }
 ],
 "metadata": {
  "language_info": {
   "codemirror_mode": {
    "name": "ipython",
    "version": 3
   },
   "file_extension": ".py",
   "mimetype": "text/x-python",
   "name": "python",
   "nbconvert_exporter": "python",
   "pygments_lexer": "ipython3",
   "version": "3.10.11"
  }
 },
 "nbformat": 4,
 "nbformat_minor": 2
}
