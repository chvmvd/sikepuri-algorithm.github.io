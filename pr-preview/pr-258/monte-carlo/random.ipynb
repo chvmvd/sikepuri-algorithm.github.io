{
 "cells": [
  {
   "cell_type": "code",
   "execution_count": 1,
   "metadata": {
    "execution": {
     "iopub.execute_input": "2023-04-30T06:25:06.339200Z",
     "iopub.status.busy": "2023-04-30T06:25:06.338517Z",
     "iopub.status.idle": "2023-04-30T06:25:06.347355Z",
     "shell.execute_reply": "2023-04-30T06:25:06.346517Z"
    }
   },
   "outputs": [],
   "source": [
    "import random"
   ]
  },
  {
   "cell_type": "code",
   "execution_count": 2,
   "metadata": {
    "execution": {
     "iopub.execute_input": "2023-04-30T06:25:06.350491Z",
     "iopub.status.busy": "2023-04-30T06:25:06.350254Z",
     "iopub.status.idle": "2023-04-30T06:25:06.355680Z",
     "shell.execute_reply": "2023-04-30T06:25:06.354717Z"
    }
   },
   "outputs": [
    {
     "name": "stdout",
     "output_type": "stream",
     "text": [
      "0.5356416196615543\n"
     ]
    }
   ],
   "source": [
    "print(random.random())"
   ]
  }
 ],
 "metadata": {
  "language_info": {
   "codemirror_mode": {
    "name": "ipython",
    "version": 3
   },
   "file_extension": ".py",
   "mimetype": "text/x-python",
   "name": "python",
   "nbconvert_exporter": "python",
   "pygments_lexer": "ipython3",
   "version": "3.10.11"
  }
 },
 "nbformat": 4,
 "nbformat_minor": 2
}
