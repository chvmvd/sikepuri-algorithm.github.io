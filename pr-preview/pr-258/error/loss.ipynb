{
 "cells": [
  {
   "cell_type": "code",
   "execution_count": 1,
   "metadata": {
    "execution": {
     "iopub.execute_input": "2023-04-30T06:21:45.504751Z",
     "iopub.status.busy": "2023-04-30T06:21:45.504539Z",
     "iopub.status.idle": "2023-04-30T06:21:46.396657Z",
     "shell.execute_reply": "2023-04-30T06:21:46.395434Z"
    }
   },
   "outputs": [
    {
     "name": "stdout",
     "output_type": "stream",
     "text": [
      "10000000000.0\n"
     ]
    }
   ],
   "source": [
    "r = 0\n",
    "r += 10000000000\n",
    "for i in range(10000000):\n",
    "    r += 0.0000001\n",
    "print(r)"
   ]
  }
 ],
 "metadata": {
  "language_info": {
   "codemirror_mode": {
    "name": "ipython",
    "version": 3
   },
   "file_extension": ".py",
   "mimetype": "text/x-python",
   "name": "python",
   "nbconvert_exporter": "python",
   "pygments_lexer": "ipython3",
   "version": "3.10.11"
  }
 },
 "nbformat": 4,
 "nbformat_minor": 2
}
