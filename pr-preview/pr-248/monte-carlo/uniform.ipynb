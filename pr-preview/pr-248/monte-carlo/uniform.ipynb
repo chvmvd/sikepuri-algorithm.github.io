{
 "cells": [
  {
   "cell_type": "code",
   "execution_count": 1,
   "metadata": {
    "execution": {
     "iopub.execute_input": "2023-04-30T03:31:44.751254Z",
     "iopub.status.busy": "2023-04-30T03:31:44.750926Z",
     "iopub.status.idle": "2023-04-30T03:31:44.761176Z",
     "shell.execute_reply": "2023-04-30T03:31:44.760272Z"
    }
   },
   "outputs": [],
   "source": [
    "import random"
   ]
  },
  {
   "cell_type": "code",
   "execution_count": 2,
   "metadata": {
    "execution": {
     "iopub.execute_input": "2023-04-30T03:31:44.764482Z",
     "iopub.status.busy": "2023-04-30T03:31:44.764223Z",
     "iopub.status.idle": "2023-04-30T03:31:44.768931Z",
     "shell.execute_reply": "2023-04-30T03:31:44.768028Z"
    }
   },
   "outputs": [
    {
     "name": "stdout",
     "output_type": "stream",
     "text": [
      "3.1295674843614467\n"
     ]
    }
   ],
   "source": [
    "print(random.uniform(2, 4))"
   ]
  }
 ],
 "metadata": {
  "language_info": {
   "codemirror_mode": {
    "name": "ipython",
    "version": 3
   },
   "file_extension": ".py",
   "mimetype": "text/x-python",
   "name": "python",
   "nbconvert_exporter": "python",
   "pygments_lexer": "ipython3",
   "version": "3.10.11"
  }
 },
 "nbformat": 4,
 "nbformat_minor": 2
}
