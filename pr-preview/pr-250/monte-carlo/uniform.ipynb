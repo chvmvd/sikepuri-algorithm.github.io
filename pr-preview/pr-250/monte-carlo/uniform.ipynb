{
 "cells": [
  {
   "cell_type": "code",
   "execution_count": 1,
   "metadata": {
    "execution": {
     "iopub.execute_input": "2023-04-30T03:37:38.094885Z",
     "iopub.status.busy": "2023-04-30T03:37:38.094326Z",
     "iopub.status.idle": "2023-04-30T03:37:38.106573Z",
     "shell.execute_reply": "2023-04-30T03:37:38.104771Z"
    }
   },
   "outputs": [],
   "source": [
    "import random"
   ]
  },
  {
   "cell_type": "code",
   "execution_count": 2,
   "metadata": {
    "execution": {
     "iopub.execute_input": "2023-04-30T03:37:38.110812Z",
     "iopub.status.busy": "2023-04-30T03:37:38.110398Z",
     "iopub.status.idle": "2023-04-30T03:37:38.119008Z",
     "shell.execute_reply": "2023-04-30T03:37:38.117766Z"
    }
   },
   "outputs": [
    {
     "name": "stdout",
     "output_type": "stream",
     "text": [
      "3.1904817541274215\n"
     ]
    }
   ],
   "source": [
    "print(random.uniform(2, 4))"
   ]
  }
 ],
 "metadata": {
  "language_info": {
   "codemirror_mode": {
    "name": "ipython",
    "version": 3
   },
   "file_extension": ".py",
   "mimetype": "text/x-python",
   "name": "python",
   "nbconvert_exporter": "python",
   "pygments_lexer": "ipython3",
   "version": "3.10.11"
  }
 },
 "nbformat": 4,
 "nbformat_minor": 2
}
