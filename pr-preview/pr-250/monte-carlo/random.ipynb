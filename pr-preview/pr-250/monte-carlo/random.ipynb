{
 "cells": [
  {
   "cell_type": "code",
   "execution_count": 1,
   "metadata": {
    "execution": {
     "iopub.execute_input": "2023-04-30T03:37:34.299906Z",
     "iopub.status.busy": "2023-04-30T03:37:34.299551Z",
     "iopub.status.idle": "2023-04-30T03:37:34.310490Z",
     "shell.execute_reply": "2023-04-30T03:37:34.309474Z"
    }
   },
   "outputs": [],
   "source": [
    "import random"
   ]
  },
  {
   "cell_type": "code",
   "execution_count": 2,
   "metadata": {
    "execution": {
     "iopub.execute_input": "2023-04-30T03:37:34.314107Z",
     "iopub.status.busy": "2023-04-30T03:37:34.313711Z",
     "iopub.status.idle": "2023-04-30T03:37:34.318628Z",
     "shell.execute_reply": "2023-04-30T03:37:34.317812Z"
    }
   },
   "outputs": [
    {
     "name": "stdout",
     "output_type": "stream",
     "text": [
      "0.5178215734614431\n"
     ]
    }
   ],
   "source": [
    "print(random.random())"
   ]
  }
 ],
 "metadata": {
  "language_info": {
   "codemirror_mode": {
    "name": "ipython",
    "version": 3
   },
   "file_extension": ".py",
   "mimetype": "text/x-python",
   "name": "python",
   "nbconvert_exporter": "python",
   "pygments_lexer": "ipython3",
   "version": "3.10.11"
  }
 },
 "nbformat": 4,
 "nbformat_minor": 2
}
