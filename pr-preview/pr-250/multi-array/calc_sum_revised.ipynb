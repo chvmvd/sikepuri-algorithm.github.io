{
 "cells": [
  {
   "cell_type": "code",
   "execution_count": 1,
   "metadata": {
    "execution": {
     "iopub.execute_input": "2023-04-30T03:37:43.885821Z",
     "iopub.status.busy": "2023-04-30T03:37:43.885482Z",
     "iopub.status.idle": "2023-04-30T03:37:43.899835Z",
     "shell.execute_reply": "2023-04-30T03:37:43.898070Z"
    }
   },
   "outputs": [
    {
     "name": "stdout",
     "output_type": "stream",
     "text": [
      "575\n"
     ]
    }
   ],
   "source": [
    "def calc_sum2d(scores):\n",
    "    sum_val = 0\n",
    "    for i in range(len(scores)):\n",
    "        for j in range(len(scores[i])):\n",
    "            sum_val += scores[i][j]\n",
    "    return sum_val\n",
    "\n",
    "\n",
    "scores = [[83, 75, 32], [73, 53, 84], [63, 48, 64]]\n",
    "\n",
    "print(calc_sum2d(scores))"
   ]
  }
 ],
 "metadata": {
  "language_info": {
   "codemirror_mode": {
    "name": "ipython",
    "version": 3
   },
   "file_extension": ".py",
   "mimetype": "text/x-python",
   "name": "python",
   "nbconvert_exporter": "python",
   "pygments_lexer": "ipython3",
   "version": "3.10.11"
  }
 },
 "nbformat": 4,
 "nbformat_minor": 2
}
