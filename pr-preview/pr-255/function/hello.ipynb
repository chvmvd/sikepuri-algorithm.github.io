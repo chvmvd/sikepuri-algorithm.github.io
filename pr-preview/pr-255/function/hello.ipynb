{
 "cells": [
  {
   "cell_type": "code",
   "execution_count": 1,
   "metadata": {
    "execution": {
     "iopub.execute_input": "2023-04-30T05:15:43.323898Z",
     "iopub.status.busy": "2023-04-30T05:15:43.322947Z",
     "iopub.status.idle": "2023-04-30T05:15:43.333990Z",
     "shell.execute_reply": "2023-04-30T05:15:43.333209Z"
    }
   },
   "outputs": [
    {
     "name": "stdout",
     "output_type": "stream",
     "text": [
      "Hello!\n",
      "Hello!\n",
      "Hello!\n"
     ]
    }
   ],
   "source": [
    "def hello():\n",
    "    print(\"Hello!\")\n",
    "\n",
    "\n",
    "hello()\n",
    "hello()\n",
    "hello()"
   ]
  }
 ],
 "metadata": {
  "language_info": {
   "codemirror_mode": {
    "name": "ipython",
    "version": 3
   },
   "file_extension": ".py",
   "mimetype": "text/x-python",
   "name": "python",
   "nbconvert_exporter": "python",
   "pygments_lexer": "ipython3",
   "version": "3.10.11"
  }
 },
 "nbformat": 4,
 "nbformat_minor": 2
}
