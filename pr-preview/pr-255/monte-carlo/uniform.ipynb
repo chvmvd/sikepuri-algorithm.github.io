{
 "cells": [
  {
   "cell_type": "code",
   "execution_count": 1,
   "metadata": {
    "execution": {
     "iopub.execute_input": "2023-04-30T05:18:08.763070Z",
     "iopub.status.busy": "2023-04-30T05:18:08.762418Z",
     "iopub.status.idle": "2023-04-30T05:18:08.776611Z",
     "shell.execute_reply": "2023-04-30T05:18:08.774178Z"
    }
   },
   "outputs": [],
   "source": [
    "import random"
   ]
  },
  {
   "cell_type": "code",
   "execution_count": 2,
   "metadata": {
    "execution": {
     "iopub.execute_input": "2023-04-30T05:18:08.780339Z",
     "iopub.status.busy": "2023-04-30T05:18:08.780080Z",
     "iopub.status.idle": "2023-04-30T05:18:08.785851Z",
     "shell.execute_reply": "2023-04-30T05:18:08.784939Z"
    }
   },
   "outputs": [
    {
     "name": "stdout",
     "output_type": "stream",
     "text": [
      "3.026772066923975\n"
     ]
    }
   ],
   "source": [
    "print(random.uniform(2, 4))"
   ]
  }
 ],
 "metadata": {
  "language_info": {
   "codemirror_mode": {
    "name": "ipython",
    "version": 3
   },
   "file_extension": ".py",
   "mimetype": "text/x-python",
   "name": "python",
   "nbconvert_exporter": "python",
   "pygments_lexer": "ipython3",
   "version": "3.10.11"
  }
 },
 "nbformat": 4,
 "nbformat_minor": 2
}
