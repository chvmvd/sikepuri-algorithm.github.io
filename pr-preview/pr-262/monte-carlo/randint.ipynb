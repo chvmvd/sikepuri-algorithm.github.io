{
 "cells": [
  {
   "cell_type": "code",
   "execution_count": 1,
   "metadata": {
    "execution": {
     "iopub.execute_input": "2023-10-21T14:57:20.962266Z",
     "iopub.status.busy": "2023-10-21T14:57:20.961858Z",
     "iopub.status.idle": "2023-10-21T14:57:20.968925Z",
     "shell.execute_reply": "2023-10-21T14:57:20.968310Z"
    }
   },
   "outputs": [],
   "source": [
    "import random"
   ]
  },
  {
   "cell_type": "code",
   "execution_count": 2,
   "metadata": {
    "execution": {
     "iopub.execute_input": "2023-10-21T14:57:20.971656Z",
     "iopub.status.busy": "2023-10-21T14:57:20.971121Z",
     "iopub.status.idle": "2023-10-21T14:57:20.975908Z",
     "shell.execute_reply": "2023-10-21T14:57:20.975295Z"
    }
   },
   "outputs": [
    {
     "name": "stdout",
     "output_type": "stream",
     "text": [
      "4\n"
     ]
    }
   ],
   "source": [
    "print(random.randint(2, 4))"
   ]
  }
 ],
 "metadata": {
  "language_info": {
   "codemirror_mode": {
    "name": "ipython",
    "version": 3
   },
   "file_extension": ".py",
   "mimetype": "text/x-python",
   "name": "python",
   "nbconvert_exporter": "python",
   "pygments_lexer": "ipython3",
   "version": "3.10.13"
  }
 },
 "nbformat": 4,
 "nbformat_minor": 2
}
