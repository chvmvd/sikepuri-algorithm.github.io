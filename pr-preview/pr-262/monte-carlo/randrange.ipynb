{
 "cells": [
  {
   "cell_type": "code",
   "execution_count": 1,
   "metadata": {
    "execution": {
     "iopub.execute_input": "2023-10-21T14:57:23.695286Z",
     "iopub.status.busy": "2023-10-21T14:57:23.695016Z",
     "iopub.status.idle": "2023-10-21T14:57:23.702364Z",
     "shell.execute_reply": "2023-10-21T14:57:23.701727Z"
    }
   },
   "outputs": [],
   "source": [
    "import random"
   ]
  },
  {
   "cell_type": "code",
   "execution_count": 2,
   "metadata": {
    "execution": {
     "iopub.execute_input": "2023-10-21T14:57:23.705261Z",
     "iopub.status.busy": "2023-10-21T14:57:23.704813Z",
     "iopub.status.idle": "2023-10-21T14:57:23.709519Z",
     "shell.execute_reply": "2023-10-21T14:57:23.708852Z"
    }
   },
   "outputs": [
    {
     "name": "stdout",
     "output_type": "stream",
     "text": [
      "3\n"
     ]
    }
   ],
   "source": [
    "print(random.randrange(2, 4, 1))"
   ]
  }
 ],
 "metadata": {
  "language_info": {
   "codemirror_mode": {
    "name": "ipython",
    "version": 3
   },
   "file_extension": ".py",
   "mimetype": "text/x-python",
   "name": "python",
   "nbconvert_exporter": "python",
   "pygments_lexer": "ipython3",
   "version": "3.10.13"
  }
 },
 "nbformat": 4,
 "nbformat_minor": 2
}
