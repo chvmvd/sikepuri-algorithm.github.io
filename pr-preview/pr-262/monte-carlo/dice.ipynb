{
 "cells": [
  {
   "cell_type": "code",
   "execution_count": 1,
   "metadata": {
    "execution": {
     "iopub.execute_input": "2023-10-21T14:57:19.587868Z",
     "iopub.status.busy": "2023-10-21T14:57:19.587595Z",
     "iopub.status.idle": "2023-10-21T14:57:19.596193Z",
     "shell.execute_reply": "2023-10-21T14:57:19.595518Z"
    }
   },
   "outputs": [],
   "source": [
    "import random"
   ]
  },
  {
   "cell_type": "code",
   "execution_count": 2,
   "metadata": {
    "execution": {
     "iopub.execute_input": "2023-10-21T14:57:19.598950Z",
     "iopub.status.busy": "2023-10-21T14:57:19.598433Z",
     "iopub.status.idle": "2023-10-21T14:57:19.696379Z",
     "shell.execute_reply": "2023-10-21T14:57:19.695654Z"
    }
   },
   "outputs": [
    {
     "name": "stdout",
     "output_type": "stream",
     "text": [
      "0.16701\n"
     ]
    }
   ],
   "source": [
    "def calc_dice_probability(n):\n",
    "    one = 0\n",
    "    for _ in range(n):\n",
    "        if random.randint(1, 6) == 1:\n",
    "            one += 1\n",
    "    return one / n\n",
    "\n",
    "\n",
    "print(calc_dice_probability(100000))"
   ]
  }
 ],
 "metadata": {
  "language_info": {
   "codemirror_mode": {
    "name": "ipython",
    "version": 3
   },
   "file_extension": ".py",
   "mimetype": "text/x-python",
   "name": "python",
   "nbconvert_exporter": "python",
   "pygments_lexer": "ipython3",
   "version": "3.10.13"
  }
 },
 "nbformat": 4,
 "nbformat_minor": 2
}
