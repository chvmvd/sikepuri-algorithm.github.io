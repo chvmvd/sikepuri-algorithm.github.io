{
 "cells": [
  {
   "cell_type": "code",
   "execution_count": 1,
   "metadata": {
    "execution": {
     "iopub.execute_input": "2023-10-21T14:57:22.321922Z",
     "iopub.status.busy": "2023-10-21T14:57:22.321358Z",
     "iopub.status.idle": "2023-10-21T14:57:22.328886Z",
     "shell.execute_reply": "2023-10-21T14:57:22.328277Z"
    }
   },
   "outputs": [],
   "source": [
    "import random"
   ]
  },
  {
   "cell_type": "code",
   "execution_count": 2,
   "metadata": {
    "execution": {
     "iopub.execute_input": "2023-10-21T14:57:22.331737Z",
     "iopub.status.busy": "2023-10-21T14:57:22.331302Z",
     "iopub.status.idle": "2023-10-21T14:57:22.335078Z",
     "shell.execute_reply": "2023-10-21T14:57:22.334409Z"
    }
   },
   "outputs": [
    {
     "name": "stdout",
     "output_type": "stream",
     "text": [
      "0.912848107977477\n"
     ]
    }
   ],
   "source": [
    "print(random.random())"
   ]
  }
 ],
 "metadata": {
  "language_info": {
   "codemirror_mode": {
    "name": "ipython",
    "version": 3
   },
   "file_extension": ".py",
   "mimetype": "text/x-python",
   "name": "python",
   "nbconvert_exporter": "python",
   "pygments_lexer": "ipython3",
   "version": "3.10.13"
  }
 },
 "nbformat": 4,
 "nbformat_minor": 2
}
