{
 "cells": [
  {
   "cell_type": "code",
   "execution_count": 1,
   "metadata": {
    "execution": {
     "iopub.execute_input": "2023-10-21T14:53:49.670396Z",
     "iopub.status.busy": "2023-10-21T14:53:49.669961Z",
     "iopub.status.idle": "2023-10-21T14:53:49.679118Z",
     "shell.execute_reply": "2023-10-21T14:53:49.678357Z"
    }
   },
   "outputs": [
    {
     "name": "stdout",
     "output_type": "stream",
     "text": [
      "70.8\n"
     ]
    }
   ],
   "source": [
    "scores = [96, 56, 42, 74, 86]\n",
    "sum_val = 0\n",
    "for i in range(len(scores)):\n",
    "    sum_val += scores[i]\n",
    "print(sum_val / 5)"
   ]
  }
 ],
 "metadata": {
  "language_info": {
   "codemirror_mode": {
    "name": "ipython",
    "version": 3
   },
   "file_extension": ".py",
   "mimetype": "text/x-python",
   "name": "python",
   "nbconvert_exporter": "python",
   "pygments_lexer": "ipython3",
   "version": "3.10.13"
  }
 },
 "nbformat": 4,
 "nbformat_minor": 2
}
