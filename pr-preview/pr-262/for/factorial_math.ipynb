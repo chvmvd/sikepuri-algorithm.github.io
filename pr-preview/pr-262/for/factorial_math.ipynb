{
 "cells": [
  {
   "cell_type": "code",
   "execution_count": 1,
   "metadata": {
    "execution": {
     "iopub.execute_input": "2023-10-21T14:54:42.993047Z",
     "iopub.status.busy": "2023-10-21T14:54:42.992784Z",
     "iopub.status.idle": "2023-10-21T14:54:43.002065Z",
     "shell.execute_reply": "2023-10-21T14:54:43.001324Z"
    }
   },
   "outputs": [
    {
     "name": "stdout",
     "output_type": "stream",
     "text": [
      "3628800\n"
     ]
    }
   ],
   "source": [
    "import math\n",
    "\n",
    "print(math.factorial(10))"
   ]
  }
 ],
 "metadata": {
  "language_info": {
   "codemirror_mode": {
    "name": "ipython",
    "version": 3
   },
   "file_extension": ".py",
   "mimetype": "text/x-python",
   "name": "python",
   "nbconvert_exporter": "python",
   "pygments_lexer": "ipython3",
   "version": "3.10.13"
  }
 },
 "nbformat": 4,
 "nbformat_minor": 2
}
