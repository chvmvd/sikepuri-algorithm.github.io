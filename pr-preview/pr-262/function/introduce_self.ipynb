{
 "cells": [
  {
   "cell_type": "code",
   "execution_count": 1,
   "metadata": {
    "execution": {
     "iopub.execute_input": "2023-10-21T14:55:11.069384Z",
     "iopub.status.busy": "2023-10-21T14:55:11.069132Z",
     "iopub.status.idle": "2023-10-21T14:55:11.078821Z",
     "shell.execute_reply": "2023-10-21T14:55:11.078082Z"
    }
   },
   "outputs": [
    {
     "name": "stdout",
     "output_type": "stream",
     "text": [
      "私の名前は、田中です。\n"
     ]
    }
   ],
   "source": [
    "def introduce_self(name):\n",
    "    print(\"私の名前は、\" + name + \"です。\")\n",
    "\n",
    "\n",
    "introduce_self(\"田中\")"
   ]
  }
 ],
 "metadata": {
  "language_info": {
   "codemirror_mode": {
    "name": "ipython",
    "version": 3
   },
   "file_extension": ".py",
   "mimetype": "text/x-python",
   "name": "python",
   "nbconvert_exporter": "python",
   "pygments_lexer": "ipython3",
   "version": "3.10.13"
  }
 },
 "nbformat": 4,
 "nbformat_minor": 2
}
