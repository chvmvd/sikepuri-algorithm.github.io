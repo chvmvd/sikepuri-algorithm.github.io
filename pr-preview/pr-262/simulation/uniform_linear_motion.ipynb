{
 "cells": [
  {
   "cell_type": "code",
   "execution_count": 1,
   "metadata": {
    "execution": {
     "iopub.execute_input": "2023-10-21T14:58:53.845064Z",
     "iopub.status.busy": "2023-10-21T14:58:53.844771Z",
     "iopub.status.idle": "2023-10-21T14:58:53.855771Z",
     "shell.execute_reply": "2023-10-21T14:58:53.855017Z"
    }
   },
   "outputs": [
    {
     "name": "stdout",
     "output_type": "stream",
     "text": [
      "100.0\n"
     ]
    }
   ],
   "source": [
    "def uniform_linear_motion_step(x, v0, dt):\n",
    "    return x + v0 * dt\n",
    "\n",
    "\n",
    "def uniform_linear_motion(x0, v0, t, dt):\n",
    "    x = x0\n",
    "    n = int(t / dt)\n",
    "    for i in range(n):\n",
    "        x = uniform_linear_motion_step(x, v0, dt)\n",
    "    return x\n",
    "\n",
    "\n",
    "print(uniform_linear_motion(0, 10, 10, 0.1))"
   ]
  }
 ],
 "metadata": {
  "language_info": {
   "codemirror_mode": {
    "name": "ipython",
    "version": 3
   },
   "file_extension": ".py",
   "mimetype": "text/x-python",
   "name": "python",
   "nbconvert_exporter": "python",
   "pygments_lexer": "ipython3",
   "version": "3.10.13"
  }
 },
 "nbformat": 4,
 "nbformat_minor": 2
}
