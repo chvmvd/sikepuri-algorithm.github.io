{
 "cells": [
  {
   "cell_type": "code",
   "execution_count": 1,
   "metadata": {
    "execution": {
     "iopub.execute_input": "2023-10-21T14:54:23.846841Z",
     "iopub.status.busy": "2023-10-21T14:54:23.846483Z",
     "iopub.status.idle": "2023-10-21T14:54:24.800880Z",
     "shell.execute_reply": "2023-10-21T14:54:24.799943Z"
    }
   },
   "outputs": [
    {
     "name": "stdout",
     "output_type": "stream",
     "text": [
      "10000000001.0\n"
     ]
    }
   ],
   "source": [
    "r = 0\n",
    "for i in range(10000000):\n",
    "    r += 0.0000001\n",
    "r += 10000000000\n",
    "print(r)"
   ]
  }
 ],
 "metadata": {
  "language_info": {
   "codemirror_mode": {
    "name": "ipython",
    "version": 3
   },
   "file_extension": ".py",
   "mimetype": "text/x-python",
   "name": "python",
   "nbconvert_exporter": "python",
   "pygments_lexer": "ipython3",
   "version": "3.10.13"
  }
 },
 "nbformat": 4,
 "nbformat_minor": 2
}
