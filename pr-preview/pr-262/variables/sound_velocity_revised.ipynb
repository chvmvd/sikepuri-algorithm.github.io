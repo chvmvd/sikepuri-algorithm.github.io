{
 "cells": [
  {
   "cell_type": "code",
   "execution_count": 1,
   "metadata": {
    "execution": {
     "iopub.execute_input": "2023-10-21T14:59:16.913140Z",
     "iopub.status.busy": "2023-10-21T14:59:16.912877Z",
     "iopub.status.idle": "2023-10-21T14:59:16.924570Z",
     "shell.execute_reply": "2023-10-21T14:59:16.923792Z"
    }
   },
   "outputs": [
    {
     "data": {
      "text/plain": [
       "337.5"
      ]
     },
     "execution_count": 1,
     "metadata": {},
     "output_type": "execute_result"
    }
   ],
   "source": [
    "t = 10\n",
    "331.5 + 0.6 * t"
   ]
  }
 ],
 "metadata": {
  "language_info": {
   "codemirror_mode": {
    "name": "ipython",
    "version": 3
   },
   "file_extension": ".py",
   "mimetype": "text/x-python",
   "name": "python",
   "nbconvert_exporter": "python",
   "pygments_lexer": "ipython3",
   "version": "3.10.13"
  }
 },
 "nbformat": 4,
 "nbformat_minor": 2
}
