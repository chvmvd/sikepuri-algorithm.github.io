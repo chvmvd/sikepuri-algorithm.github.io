{
 "cells": [
  {
   "cell_type": "code",
   "execution_count": 1,
   "metadata": {
    "execution": {
     "iopub.execute_input": "2023-04-30T03:51:49.007494Z",
     "iopub.status.busy": "2023-04-30T03:51:49.007229Z",
     "iopub.status.idle": "2023-04-30T03:51:49.019245Z",
     "shell.execute_reply": "2023-04-30T03:51:49.018659Z"
    }
   },
   "outputs": [
    {
     "data": {
      "text/plain": [
       "1.5574077246549023"
      ]
     },
     "execution_count": 1,
     "metadata": {},
     "output_type": "execute_result"
    }
   ],
   "source": [
    "import math\n",
    "\n",
    "math.tan(1)"
   ]
  }
 ],
 "metadata": {
  "language_info": {
   "codemirror_mode": {
    "name": "ipython",
    "version": 3
   },
   "file_extension": ".py",
   "mimetype": "text/x-python",
   "name": "python",
   "nbconvert_exporter": "python",
   "pygments_lexer": "ipython3",
   "version": "3.10.11"
  }
 },
 "nbformat": 4,
 "nbformat_minor": 2
}
