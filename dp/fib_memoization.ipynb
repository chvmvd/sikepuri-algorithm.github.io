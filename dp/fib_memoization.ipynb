{
 "cells": [
  {
   "cell_type": "code",
   "execution_count": 1,
   "metadata": {
    "execution": {
     "iopub.execute_input": "2023-02-03T08:21:23.206891Z",
     "iopub.status.busy": "2023-02-03T08:21:23.206271Z",
     "iopub.status.idle": "2023-02-03T08:21:23.218357Z",
     "shell.execute_reply": "2023-02-03T08:21:23.217426Z"
    }
   },
   "outputs": [
    {
     "name": "stdout",
     "output_type": "stream",
     "text": [
      "354224848179261915075\n"
     ]
    }
   ],
   "source": [
    "memo = [-1 for _ in range(10000)]\n",
    "\n",
    "\n",
    "def fib(n):\n",
    "    if n == 0:\n",
    "        return 0\n",
    "    elif n == 1:\n",
    "        return 1\n",
    "    elif memo[n] != -1:\n",
    "        return memo[n]\n",
    "    else:\n",
    "        memo[n] = fib(n - 1) + fib(n - 2)\n",
    "        return fib(n - 1) + fib(n - 2)\n",
    "\n",
    "\n",
    "print(fib(100))"
   ]
  }
 ],
 "metadata": {
  "language_info": {
   "codemirror_mode": {
    "name": "ipython",
    "version": 3
   },
   "file_extension": ".py",
   "mimetype": "text/x-python",
   "name": "python",
   "nbconvert_exporter": "python",
   "pygments_lexer": "ipython3",
   "version": "3.10.9"
  }
 },
 "nbformat": 4,
 "nbformat_minor": 2
}
