{
 "cells": [
  {
   "cell_type": "code",
   "execution_count": 1,
   "metadata": {
    "execution": {
     "iopub.execute_input": "2023-02-07T00:41:37.672016Z",
     "iopub.status.busy": "2023-02-07T00:41:37.671803Z",
     "iopub.status.idle": "2023-02-07T00:41:37.973222Z",
     "shell.execute_reply": "2023-02-07T00:41:37.972528Z"
    }
   },
   "outputs": [
    {
     "name": "stdout",
     "output_type": "stream",
     "text": [
      "354224848179261915075\n"
     ]
    }
   ],
   "source": [
    "dp = [0 for _ in range(10000000)]\n",
    "\n",
    "\n",
    "def fib(n):\n",
    "    if n == 0:\n",
    "        return dp[0]\n",
    "    if n == 1:\n",
    "        return dp[1]\n",
    "    dp[0] = 0\n",
    "    dp[1] = 1\n",
    "    for i in range(2, n + 1):\n",
    "        dp[i] = dp[i - 1] + dp[i - 2]\n",
    "    return dp[n]\n",
    "\n",
    "\n",
    "print(fib(100))"
   ]
  }
 ],
 "metadata": {
  "language_info": {
   "codemirror_mode": {
    "name": "ipython",
    "version": 3
   },
   "file_extension": ".py",
   "mimetype": "text/x-python",
   "name": "python",
   "nbconvert_exporter": "python",
   "pygments_lexer": "ipython3",
   "version": "3.10.9"
  }
 },
 "nbformat": 4,
 "nbformat_minor": 2
}
