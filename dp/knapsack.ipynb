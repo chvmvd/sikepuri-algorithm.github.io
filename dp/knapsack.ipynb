{
 "cells": [
  {
   "cell_type": "code",
   "execution_count": 1,
   "metadata": {
    "execution": {
     "iopub.execute_input": "2023-02-19T01:17:47.181301Z",
     "iopub.status.busy": "2023-02-19T01:17:47.181095Z",
     "iopub.status.idle": "2023-02-19T01:17:47.191334Z",
     "shell.execute_reply": "2023-02-19T01:17:47.190751Z"
    }
   },
   "outputs": [
    {
     "name": "stdout",
     "output_type": "stream",
     "text": [
      "11\n"
     ]
    }
   ],
   "source": [
    "def knapsack(v, w, W):\n",
    "    # 初期化\n",
    "    dp = [[0 for _ in range(W + 1)] for _ in range(len(v) + 1)]\n",
    "    # DP\n",
    "    for i in range(1, len(v) + 1):\n",
    "        for j in range(W + 1):\n",
    "            if w[i - 1] > j:\n",
    "                dp[i][j] = dp[i - 1][j]\n",
    "            else:\n",
    "                dp[i][j] = max(dp[i - 1][j], dp[i - 1][j - w[i - 1]] + v[i - 1])\n",
    "    return dp[len(v)][W]\n",
    "\n",
    "\n",
    "print(knapsack([2, 3, 6], [2, 3, 5], 10))"
   ]
  }
 ],
 "metadata": {
  "language_info": {
   "codemirror_mode": {
    "name": "ipython",
    "version": 3
   },
   "file_extension": ".py",
   "mimetype": "text/x-python",
   "name": "python",
   "nbconvert_exporter": "python",
   "pygments_lexer": "ipython3",
   "version": "3.10.10"
  }
 },
 "nbformat": 4,
 "nbformat_minor": 2
}
