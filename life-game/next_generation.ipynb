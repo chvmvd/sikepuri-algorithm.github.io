{
 "cells": [
  {
   "cell_type": "code",
   "execution_count": 1,
   "metadata": {
    "execution": {
     "iopub.execute_input": "2023-02-06T23:43:31.191291Z",
     "iopub.status.busy": "2023-02-06T23:43:31.190838Z",
     "iopub.status.idle": "2023-02-06T23:43:32.598402Z",
     "shell.execute_reply": "2023-02-06T23:43:32.597263Z"
    }
   },
   "outputs": [
    {
     "name": "stdout",
     "output_type": "stream",
     "text": [
      "Requirement already satisfied: ita in /home/runner/.cache/pypoetry/virtualenvs/sikepuri-of-algorithm-327BGRWj-py3.10/lib/python3.10/site-packages (0.2.12)\r\n",
      "Requirement already satisfied: numpy in /home/runner/.cache/pypoetry/virtualenvs/sikepuri-of-algorithm-327BGRWj-py3.10/lib/python3.10/site-packages (from ita) (1.24.1)\r\n",
      "Requirement already satisfied: matplotlib in /home/runner/.cache/pypoetry/virtualenvs/sikepuri-of-algorithm-327BGRWj-py3.10/lib/python3.10/site-packages (from ita) (3.6.3)\r\n",
      "Requirement already satisfied: packaging>=20.0 in /home/runner/.cache/pypoetry/virtualenvs/sikepuri-of-algorithm-327BGRWj-py3.10/lib/python3.10/site-packages (from matplotlib->ita) (23.0)\r\n",
      "Requirement already satisfied: pyparsing>=2.2.1 in /home/runner/.cache/pypoetry/virtualenvs/sikepuri-of-algorithm-327BGRWj-py3.10/lib/python3.10/site-packages (from matplotlib->ita) (3.0.9)\r\n",
      "Requirement already satisfied: pillow>=6.2.0 in /home/runner/.cache/pypoetry/virtualenvs/sikepuri-of-algorithm-327BGRWj-py3.10/lib/python3.10/site-packages (from matplotlib->ita) (9.4.0)\r\n",
      "Requirement already satisfied: cycler>=0.10 in /home/runner/.cache/pypoetry/virtualenvs/sikepuri-of-algorithm-327BGRWj-py3.10/lib/python3.10/site-packages (from matplotlib->ita) (0.11.0)\r\n",
      "Requirement already satisfied: python-dateutil>=2.7 in /home/runner/.cache/pypoetry/virtualenvs/sikepuri-of-algorithm-327BGRWj-py3.10/lib/python3.10/site-packages (from matplotlib->ita) (2.8.2)\r\n",
      "Requirement already satisfied: contourpy>=1.0.1 in /home/runner/.cache/pypoetry/virtualenvs/sikepuri-of-algorithm-327BGRWj-py3.10/lib/python3.10/site-packages (from matplotlib->ita) (1.0.7)\r\n",
      "Requirement already satisfied: fonttools>=4.22.0 in /home/runner/.cache/pypoetry/virtualenvs/sikepuri-of-algorithm-327BGRWj-py3.10/lib/python3.10/site-packages (from matplotlib->ita) (4.38.0)\r\n",
      "Requirement already satisfied: kiwisolver>=1.0.1 in /home/runner/.cache/pypoetry/virtualenvs/sikepuri-of-algorithm-327BGRWj-py3.10/lib/python3.10/site-packages (from matplotlib->ita) (1.4.4)\r\n",
      "Requirement already satisfied: six>=1.5 in /home/runner/.cache/pypoetry/virtualenvs/sikepuri-of-algorithm-327BGRWj-py3.10/lib/python3.10/site-packages (from python-dateutil>=2.7->matplotlib->ita) (1.16.0)\r\n",
      "\r\n",
      "\u001b[1m[\u001b[0m\u001b[34;49mnotice\u001b[0m\u001b[1;39;49m]\u001b[0m\u001b[39;49m A new release of pip available: \u001b[0m\u001b[31;49m22.3.1\u001b[0m\u001b[39;49m -> \u001b[0m\u001b[32;49m23.0\u001b[0m\r\n",
      "\u001b[1m[\u001b[0m\u001b[34;49mnotice\u001b[0m\u001b[1;39;49m]\u001b[0m\u001b[39;49m To update, run: \u001b[0m\u001b[32;49mpip install --upgrade pip\u001b[0m\r\n"
     ]
    }
   ],
   "source": [
    "!pip install ita"
   ]
  },
  {
   "cell_type": "code",
   "execution_count": 2,
   "metadata": {
    "execution": {
     "iopub.execute_input": "2023-02-06T23:43:32.602565Z",
     "iopub.status.busy": "2023-02-06T23:43:32.602159Z",
     "iopub.status.idle": "2023-02-06T23:43:33.050388Z",
     "shell.execute_reply": "2023-02-06T23:43:33.049518Z"
    }
   },
   "outputs": [],
   "source": [
    "import ita"
   ]
  },
  {
   "cell_type": "code",
   "execution_count": 3,
   "metadata": {
    "execution": {
     "iopub.execute_input": "2023-02-06T23:43:33.054629Z",
     "iopub.status.busy": "2023-02-06T23:43:33.053972Z",
     "iopub.status.idle": "2023-02-06T23:43:33.065572Z",
     "shell.execute_reply": "2023-02-06T23:43:33.064798Z"
    }
   },
   "outputs": [
    {
     "name": "stdout",
     "output_type": "stream",
     "text": [
      "[[1, 1, 0], [1, 1, 0], [0, 0, 0]]\n"
     ]
    }
   ],
   "source": [
    "def count_neighbors(board, i, j):\n",
    "    cnt = 0\n",
    "    for k in range(i - 1, i + 2):\n",
    "        for l in range(j - 1, j + 2):\n",
    "            if 0 <= k < len(board) and 0 <= l < len(board[k]):\n",
    "                cnt += board[k][l]\n",
    "    return cnt - board[i][j]\n",
    "\n",
    "\n",
    "def is_alive(board, i, j):\n",
    "    neighbors_cnt = count_neighbors(board, i, j)\n",
    "    if board[i][j] == 0:\n",
    "        if neighbors_cnt == 3:\n",
    "            return 1\n",
    "        else:\n",
    "            return 0\n",
    "    else:\n",
    "        if 2 <= neighbors_cnt <= 3:\n",
    "            return 1\n",
    "        elif neighbors_cnt <= 1:\n",
    "            return 0\n",
    "        elif neighbors_cnt >= 4:\n",
    "            return 0\n",
    "\n",
    "\n",
    "def next_generation(board):\n",
    "    row = len(board)\n",
    "    column = len(board[0])\n",
    "    next_board = [[0 for _ in range(column)] for _ in range(row)]\n",
    "    for i in range(len(board)):\n",
    "        for j in range(len(board[0])):\n",
    "            next_board[i][j] = is_alive(board, i, j)\n",
    "    return next_board\n",
    "\n",
    "\n",
    "board = [[1, 1, 0], [1, 0, 0], [0, 0, 0]]\n",
    "print(next_generation(board))"
   ]
  }
 ],
 "metadata": {
  "language_info": {
   "codemirror_mode": {
    "name": "ipython",
    "version": 3
   },
   "file_extension": ".py",
   "mimetype": "text/x-python",
   "name": "python",
   "nbconvert_exporter": "python",
   "pygments_lexer": "ipython3",
   "version": "3.10.9"
  }
 },
 "nbformat": 4,
 "nbformat_minor": 2
}
