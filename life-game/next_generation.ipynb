{
 "cells": [
  {
   "cell_type": "code",
   "execution_count": 1,
   "metadata": {
    "execution": {
     "iopub.execute_input": "2023-07-02T10:44:51.909870Z",
     "iopub.status.busy": "2023-07-02T10:44:51.909321Z",
     "iopub.status.idle": "2023-07-02T10:44:53.484181Z",
     "shell.execute_reply": "2023-07-02T10:44:53.482340Z"
    }
   },
   "outputs": [
    {
     "name": "stdout",
     "output_type": "stream",
     "text": [
      "Requirement already satisfied: ita in /home/runner/.cache/pypoetry/virtualenvs/sikepuri-of-algorithm-327BGRWj-py3.10/lib/python3.10/site-packages (0.4.1)\r\n",
      "Requirement already satisfied: numpy in /home/runner/.cache/pypoetry/virtualenvs/sikepuri-of-algorithm-327BGRWj-py3.10/lib/python3.10/site-packages (from ita) (1.25.0)\r\n",
      "Requirement already satisfied: matplotlib in /home/runner/.cache/pypoetry/virtualenvs/sikepuri-of-algorithm-327BGRWj-py3.10/lib/python3.10/site-packages (from ita) (3.7.1)\r\n",
      "Requirement already satisfied: contourpy>=1.0.1 in /home/runner/.cache/pypoetry/virtualenvs/sikepuri-of-algorithm-327BGRWj-py3.10/lib/python3.10/site-packages (from matplotlib->ita) (1.1.0)\r\n",
      "Requirement already satisfied: cycler>=0.10 in /home/runner/.cache/pypoetry/virtualenvs/sikepuri-of-algorithm-327BGRWj-py3.10/lib/python3.10/site-packages (from matplotlib->ita) (0.11.0)\r\n",
      "Requirement already satisfied: fonttools>=4.22.0 in /home/runner/.cache/pypoetry/virtualenvs/sikepuri-of-algorithm-327BGRWj-py3.10/lib/python3.10/site-packages (from matplotlib->ita) (4.40.0)\r\n",
      "Requirement already satisfied: kiwisolver>=1.0.1 in /home/runner/.cache/pypoetry/virtualenvs/sikepuri-of-algorithm-327BGRWj-py3.10/lib/python3.10/site-packages (from matplotlib->ita) (1.4.4)\r\n",
      "Requirement already satisfied: packaging>=20.0 in /home/runner/.cache/pypoetry/virtualenvs/sikepuri-of-algorithm-327BGRWj-py3.10/lib/python3.10/site-packages (from matplotlib->ita) (23.0)\r\n",
      "Requirement already satisfied: pillow>=6.2.0 in /home/runner/.cache/pypoetry/virtualenvs/sikepuri-of-algorithm-327BGRWj-py3.10/lib/python3.10/site-packages (from matplotlib->ita) (10.0.0)\r\n",
      "Requirement already satisfied: pyparsing>=2.3.1 in /home/runner/.cache/pypoetry/virtualenvs/sikepuri-of-algorithm-327BGRWj-py3.10/lib/python3.10/site-packages (from matplotlib->ita) (3.1.0)\r\n",
      "Requirement already satisfied: python-dateutil>=2.7 in /home/runner/.cache/pypoetry/virtualenvs/sikepuri-of-algorithm-327BGRWj-py3.10/lib/python3.10/site-packages (from matplotlib->ita) (2.8.2)\r\n",
      "Requirement already satisfied: six>=1.5 in /home/runner/.cache/pypoetry/virtualenvs/sikepuri-of-algorithm-327BGRWj-py3.10/lib/python3.10/site-packages (from python-dateutil>=2.7->matplotlib->ita) (1.16.0)\r\n"
     ]
    }
   ],
   "source": [
    "!pip install ita"
   ]
  },
  {
   "cell_type": "code",
   "execution_count": 2,
   "metadata": {
    "execution": {
     "iopub.execute_input": "2023-07-02T10:44:53.489059Z",
     "iopub.status.busy": "2023-07-02T10:44:53.488321Z",
     "iopub.status.idle": "2023-07-02T10:44:53.997251Z",
     "shell.execute_reply": "2023-07-02T10:44:53.996250Z"
    }
   },
   "outputs": [],
   "source": [
    "import ita"
   ]
  },
  {
   "cell_type": "code",
   "execution_count": 3,
   "metadata": {
    "execution": {
     "iopub.execute_input": "2023-07-02T10:44:54.002268Z",
     "iopub.status.busy": "2023-07-02T10:44:54.001908Z",
     "iopub.status.idle": "2023-07-02T10:44:54.012364Z",
     "shell.execute_reply": "2023-07-02T10:44:54.011518Z"
    }
   },
   "outputs": [
    {
     "name": "stdout",
     "output_type": "stream",
     "text": [
      "[[1, 1, 0], [1, 1, 0], [0, 0, 0]]\n"
     ]
    }
   ],
   "source": [
    "def count_neighbors(board, i, j):\n",
    "    cnt = 0\n",
    "    for k in range(i - 1, i + 2):\n",
    "        for l in range(j - 1, j + 2):\n",
    "            if 0 <= k < len(board) and 0 <= l < len(board[k]):\n",
    "                cnt += board[k][l]\n",
    "    return cnt - board[i][j]\n",
    "\n",
    "\n",
    "def is_alive(board, i, j):\n",
    "    neighbors_cnt = count_neighbors(board, i, j)\n",
    "    if board[i][j] == 0:\n",
    "        if neighbors_cnt == 3:\n",
    "            return 1\n",
    "        else:\n",
    "            return 0\n",
    "    else:\n",
    "        if 2 <= neighbors_cnt <= 3:\n",
    "            return 1\n",
    "        elif neighbors_cnt <= 1:\n",
    "            return 0\n",
    "        elif neighbors_cnt >= 4:\n",
    "            return 0\n",
    "\n",
    "\n",
    "# highlight-start\n",
    "def next_generation(board):\n",
    "    row = len(board)\n",
    "    column = len(board[0])\n",
    "    next_board = [[0 for _ in range(column)] for _ in range(row)]\n",
    "    for i in range(len(board)):\n",
    "        for j in range(len(board[0])):\n",
    "            next_board[i][j] = is_alive(board, i, j)\n",
    "    return next_board\n",
    "\n",
    "\n",
    "# highlight-end\n",
    "\n",
    "\n",
    "board = [[1, 1, 0], [1, 0, 0], [0, 0, 0]]\n",
    "print(next_generation(board))"
   ]
  }
 ],
 "metadata": {
  "language_info": {
   "codemirror_mode": {
    "name": "ipython",
    "version": 3
   },
   "file_extension": ".py",
   "mimetype": "text/x-python",
   "name": "python",
   "nbconvert_exporter": "python",
   "pygments_lexer": "ipython3",
   "version": "3.10.12"
  }
 },
 "nbformat": 4,
 "nbformat_minor": 2
}
