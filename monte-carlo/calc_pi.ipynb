{
 "cells": [
  {
   "cell_type": "code",
   "execution_count": 1,
   "metadata": {
    "execution": {
     "iopub.execute_input": "2023-04-30T12:20:26.406493Z",
     "iopub.status.busy": "2023-04-30T12:20:26.406255Z",
     "iopub.status.idle": "2023-04-30T12:20:26.413873Z",
     "shell.execute_reply": "2023-04-30T12:20:26.413289Z"
    }
   },
   "outputs": [],
   "source": [
    "import random"
   ]
  },
  {
   "cell_type": "code",
   "execution_count": 2,
   "metadata": {
    "execution": {
     "iopub.execute_input": "2023-04-30T12:20:26.416613Z",
     "iopub.status.busy": "2023-04-30T12:20:26.416059Z",
     "iopub.status.idle": "2023-04-30T12:20:26.876573Z",
     "shell.execute_reply": "2023-04-30T12:20:26.875735Z"
    }
   },
   "outputs": [
    {
     "name": "stdout",
     "output_type": "stream",
     "text": [
      "3.14136\n"
     ]
    }
   ],
   "source": [
    "def calc_pi(n):\n",
    "    s = 0\n",
    "    for _ in range(n):\n",
    "        x = random.random()\n",
    "        y = random.random()\n",
    "        if x**2 + y**2 < 1:\n",
    "            s += 1\n",
    "    return s / n * 4\n",
    "\n",
    "\n",
    "print(calc_pi(1000000))"
   ]
  }
 ],
 "metadata": {
  "language_info": {
   "codemirror_mode": {
    "name": "ipython",
    "version": 3
   },
   "file_extension": ".py",
   "mimetype": "text/x-python",
   "name": "python",
   "nbconvert_exporter": "python",
   "pygments_lexer": "ipython3",
   "version": "3.10.11"
  }
 },
 "nbformat": 4,
 "nbformat_minor": 2
}
