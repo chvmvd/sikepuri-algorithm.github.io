{
 "cells": [
  {
   "cell_type": "code",
   "execution_count": 1,
   "metadata": {
    "execution": {
     "iopub.execute_input": "2023-04-30T03:52:06.207894Z",
     "iopub.status.busy": "2023-04-30T03:52:06.207641Z",
     "iopub.status.idle": "2023-04-30T03:52:06.215692Z",
     "shell.execute_reply": "2023-04-30T03:52:06.215114Z"
    }
   },
   "outputs": [],
   "source": [
    "import random"
   ]
  },
  {
   "cell_type": "code",
   "execution_count": 2,
   "metadata": {
    "execution": {
     "iopub.execute_input": "2023-04-30T03:52:06.218116Z",
     "iopub.status.busy": "2023-04-30T03:52:06.217791Z",
     "iopub.status.idle": "2023-04-30T03:52:06.677065Z",
     "shell.execute_reply": "2023-04-30T03:52:06.676141Z"
    }
   },
   "outputs": [
    {
     "name": "stdout",
     "output_type": "stream",
     "text": [
      "3.140552\n"
     ]
    }
   ],
   "source": [
    "def calc_pi(n):\n",
    "    s = 0\n",
    "    for _ in range(n):\n",
    "        x = random.random()\n",
    "        y = random.random()\n",
    "        if x**2 + y**2 < 1:\n",
    "            s += 1\n",
    "    return s / n * 4\n",
    "\n",
    "\n",
    "print(calc_pi(1000000))"
   ]
  }
 ],
 "metadata": {
  "language_info": {
   "codemirror_mode": {
    "name": "ipython",
    "version": 3
   },
   "file_extension": ".py",
   "mimetype": "text/x-python",
   "name": "python",
   "nbconvert_exporter": "python",
   "pygments_lexer": "ipython3",
   "version": "3.10.11"
  }
 },
 "nbformat": 4,
 "nbformat_minor": 2
}
