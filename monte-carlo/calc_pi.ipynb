{
 "cells": [
  {
   "cell_type": "code",
   "execution_count": 1,
   "metadata": {
    "execution": {
     "iopub.execute_input": "2023-02-09T09:04:34.145218Z",
     "iopub.status.busy": "2023-02-09T09:04:34.144806Z",
     "iopub.status.idle": "2023-02-09T09:04:34.154468Z",
     "shell.execute_reply": "2023-02-09T09:04:34.153536Z"
    }
   },
   "outputs": [],
   "source": [
    "import random"
   ]
  },
  {
   "cell_type": "code",
   "execution_count": 2,
   "metadata": {
    "execution": {
     "iopub.execute_input": "2023-02-09T09:04:34.158278Z",
     "iopub.status.busy": "2023-02-09T09:04:34.157662Z",
     "iopub.status.idle": "2023-02-09T09:04:34.653342Z",
     "shell.execute_reply": "2023-02-09T09:04:34.652442Z"
    }
   },
   "outputs": [
    {
     "name": "stdout",
     "output_type": "stream",
     "text": [
      "3.140524\n"
     ]
    }
   ],
   "source": [
    "def calc_pi(n):\n",
    "    s = 0\n",
    "    for _ in range(n):\n",
    "        x = random.random()\n",
    "        y = random.random()\n",
    "        if x**2 + y**2 < 1:\n",
    "            s += 1\n",
    "    return s / n * 4\n",
    "\n",
    "\n",
    "print(calc_pi(1000000))"
   ]
  }
 ],
 "metadata": {
  "language_info": {
   "codemirror_mode": {
    "name": "ipython",
    "version": 3
   },
   "file_extension": ".py",
   "mimetype": "text/x-python",
   "name": "python",
   "nbconvert_exporter": "python",
   "pygments_lexer": "ipython3",
   "version": "3.10.9"
  }
 },
 "nbformat": 4,
 "nbformat_minor": 2
}
