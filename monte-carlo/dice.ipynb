{
 "cells": [
  {
   "cell_type": "code",
   "execution_count": 1,
   "metadata": {
    "execution": {
     "iopub.execute_input": "2023-02-04T04:12:57.131017Z",
     "iopub.status.busy": "2023-02-04T04:12:57.130804Z",
     "iopub.status.idle": "2023-02-04T04:12:57.138115Z",
     "shell.execute_reply": "2023-02-04T04:12:57.137504Z"
    }
   },
   "outputs": [],
   "source": [
    "import random"
   ]
  },
  {
   "cell_type": "code",
   "execution_count": 2,
   "metadata": {
    "execution": {
     "iopub.execute_input": "2023-02-04T04:12:57.140677Z",
     "iopub.status.busy": "2023-02-04T04:12:57.140206Z",
     "iopub.status.idle": "2023-02-04T04:12:57.227833Z",
     "shell.execute_reply": "2023-02-04T04:12:57.227155Z"
    }
   },
   "outputs": [
    {
     "name": "stdout",
     "output_type": "stream",
     "text": [
      "0.16788\n"
     ]
    }
   ],
   "source": [
    "def calc_dice_p(n):\n",
    "    one = 0\n",
    "    for _ in range(n):\n",
    "        if random.randint(1, 6) == 1:\n",
    "            one += 1\n",
    "    return one / n\n",
    "\n",
    "\n",
    "print(calc_dice_p(100000))"
   ]
  }
 ],
 "metadata": {
  "language_info": {
   "codemirror_mode": {
    "name": "ipython",
    "version": 3
   },
   "file_extension": ".py",
   "mimetype": "text/x-python",
   "name": "python",
   "nbconvert_exporter": "python",
   "pygments_lexer": "ipython3",
   "version": "3.10.9"
  }
 },
 "nbformat": 4,
 "nbformat_minor": 2
}
