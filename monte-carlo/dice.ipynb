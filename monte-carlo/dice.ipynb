{
 "cells": [
  {
   "cell_type": "code",
   "execution_count": 1,
   "metadata": {
    "execution": {
     "iopub.execute_input": "2023-02-04T09:42:22.750651Z",
     "iopub.status.busy": "2023-02-04T09:42:22.750053Z",
     "iopub.status.idle": "2023-02-04T09:42:22.757809Z",
     "shell.execute_reply": "2023-02-04T09:42:22.757196Z"
    }
   },
   "outputs": [],
   "source": [
    "import random"
   ]
  },
  {
   "cell_type": "code",
   "execution_count": 2,
   "metadata": {
    "execution": {
     "iopub.execute_input": "2023-02-04T09:42:22.760542Z",
     "iopub.status.busy": "2023-02-04T09:42:22.760114Z",
     "iopub.status.idle": "2023-02-04T09:42:22.846858Z",
     "shell.execute_reply": "2023-02-04T09:42:22.846067Z"
    }
   },
   "outputs": [
    {
     "name": "stdout",
     "output_type": "stream",
     "text": [
      "0.16674\n"
     ]
    }
   ],
   "source": [
    "def calc_dice_p(n):\n",
    "    one = 0\n",
    "    for _ in range(n):\n",
    "        if random.randint(1, 6) == 1:\n",
    "            one += 1\n",
    "    return one / n\n",
    "\n",
    "\n",
    "print(calc_dice_p(100000))"
   ]
  }
 ],
 "metadata": {
  "language_info": {
   "codemirror_mode": {
    "name": "ipython",
    "version": 3
   },
   "file_extension": ".py",
   "mimetype": "text/x-python",
   "name": "python",
   "nbconvert_exporter": "python",
   "pygments_lexer": "ipython3",
   "version": "3.10.9"
  }
 },
 "nbformat": 4,
 "nbformat_minor": 2
}
