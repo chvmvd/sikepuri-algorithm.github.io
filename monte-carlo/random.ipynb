{
 "cells": [
  {
   "cell_type": "code",
   "execution_count": 1,
   "metadata": {
    "execution": {
     "iopub.execute_input": "2023-10-22T04:41:41.657843Z",
     "iopub.status.busy": "2023-10-22T04:41:41.657572Z",
     "iopub.status.idle": "2023-10-22T04:41:41.666928Z",
     "shell.execute_reply": "2023-10-22T04:41:41.665500Z"
    }
   },
   "outputs": [],
   "source": [
    "import random"
   ]
  },
  {
   "cell_type": "code",
   "execution_count": 2,
   "metadata": {
    "execution": {
     "iopub.execute_input": "2023-10-22T04:41:41.669502Z",
     "iopub.status.busy": "2023-10-22T04:41:41.668971Z",
     "iopub.status.idle": "2023-10-22T04:41:41.672777Z",
     "shell.execute_reply": "2023-10-22T04:41:41.672144Z"
    }
   },
   "outputs": [
    {
     "name": "stdout",
     "output_type": "stream",
     "text": [
      "0.7193996493967048\n"
     ]
    }
   ],
   "source": [
    "print(random.random())"
   ]
  }
 ],
 "metadata": {
  "language_info": {
   "codemirror_mode": {
    "name": "ipython",
    "version": 3
   },
   "file_extension": ".py",
   "mimetype": "text/x-python",
   "name": "python",
   "nbconvert_exporter": "python",
   "pygments_lexer": "ipython3",
   "version": "3.10.13"
  }
 },
 "nbformat": 4,
 "nbformat_minor": 2
}
