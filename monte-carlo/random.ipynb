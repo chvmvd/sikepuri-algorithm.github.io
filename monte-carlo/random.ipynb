{
 "cells": [
  {
   "cell_type": "code",
   "execution_count": 1,
   "metadata": {
    "execution": {
     "iopub.execute_input": "2023-02-09T14:02:40.174275Z",
     "iopub.status.busy": "2023-02-09T14:02:40.173816Z",
     "iopub.status.idle": "2023-02-09T14:02:40.182158Z",
     "shell.execute_reply": "2023-02-09T14:02:40.181503Z"
    }
   },
   "outputs": [],
   "source": [
    "import random"
   ]
  },
  {
   "cell_type": "code",
   "execution_count": 2,
   "metadata": {
    "execution": {
     "iopub.execute_input": "2023-02-09T14:02:40.185587Z",
     "iopub.status.busy": "2023-02-09T14:02:40.185046Z",
     "iopub.status.idle": "2023-02-09T14:02:40.189811Z",
     "shell.execute_reply": "2023-02-09T14:02:40.188543Z"
    }
   },
   "outputs": [
    {
     "name": "stdout",
     "output_type": "stream",
     "text": [
      "0.8738176234500353\n"
     ]
    }
   ],
   "source": [
    "print(random.random())"
   ]
  }
 ],
 "metadata": {
  "language_info": {
   "codemirror_mode": {
    "name": "ipython",
    "version": 3
   },
   "file_extension": ".py",
   "mimetype": "text/x-python",
   "name": "python",
   "nbconvert_exporter": "python",
   "pygments_lexer": "ipython3",
   "version": "3.10.9"
  }
 },
 "nbformat": 4,
 "nbformat_minor": 2
}
