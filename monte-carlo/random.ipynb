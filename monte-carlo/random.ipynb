{
 "cells": [
  {
   "cell_type": "code",
   "execution_count": 1,
   "metadata": {
    "execution": {
     "iopub.execute_input": "2023-04-30T03:24:29.546383Z",
     "iopub.status.busy": "2023-04-30T03:24:29.546172Z",
     "iopub.status.idle": "2023-04-30T03:24:29.552847Z",
     "shell.execute_reply": "2023-04-30T03:24:29.552249Z"
    }
   },
   "outputs": [],
   "source": [
    "import random"
   ]
  },
  {
   "cell_type": "code",
   "execution_count": 2,
   "metadata": {
    "execution": {
     "iopub.execute_input": "2023-04-30T03:24:29.555342Z",
     "iopub.status.busy": "2023-04-30T03:24:29.554942Z",
     "iopub.status.idle": "2023-04-30T03:24:29.559229Z",
     "shell.execute_reply": "2023-04-30T03:24:29.557879Z"
    }
   },
   "outputs": [
    {
     "name": "stdout",
     "output_type": "stream",
     "text": [
      "0.7085271739352998\n"
     ]
    }
   ],
   "source": [
    "print(random.random())"
   ]
  }
 ],
 "metadata": {
  "language_info": {
   "codemirror_mode": {
    "name": "ipython",
    "version": 3
   },
   "file_extension": ".py",
   "mimetype": "text/x-python",
   "name": "python",
   "nbconvert_exporter": "python",
   "pygments_lexer": "ipython3",
   "version": "3.10.11"
  }
 },
 "nbformat": 4,
 "nbformat_minor": 2
}
