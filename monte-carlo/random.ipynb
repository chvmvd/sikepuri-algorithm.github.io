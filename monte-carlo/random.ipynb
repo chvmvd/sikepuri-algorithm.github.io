{
 "cells": [
  {
   "cell_type": "code",
   "execution_count": 1,
   "metadata": {
    "execution": {
     "iopub.execute_input": "2023-02-03T08:24:53.285837Z",
     "iopub.status.busy": "2023-02-03T08:24:53.285356Z",
     "iopub.status.idle": "2023-02-03T08:24:53.293504Z",
     "shell.execute_reply": "2023-02-03T08:24:53.292787Z"
    }
   },
   "outputs": [],
   "source": [
    "import random"
   ]
  },
  {
   "cell_type": "code",
   "execution_count": 2,
   "metadata": {
    "execution": {
     "iopub.execute_input": "2023-02-03T08:24:53.297038Z",
     "iopub.status.busy": "2023-02-03T08:24:53.296584Z",
     "iopub.status.idle": "2023-02-03T08:24:53.300839Z",
     "shell.execute_reply": "2023-02-03T08:24:53.300117Z"
    }
   },
   "outputs": [
    {
     "name": "stdout",
     "output_type": "stream",
     "text": [
      "0.5085435077525211\n"
     ]
    }
   ],
   "source": [
    "print(random.random())"
   ]
  }
 ],
 "metadata": {
  "language_info": {
   "codemirror_mode": {
    "name": "ipython",
    "version": 3
   },
   "file_extension": ".py",
   "mimetype": "text/x-python",
   "name": "python",
   "nbconvert_exporter": "python",
   "pygments_lexer": "ipython3",
   "version": "3.10.9"
  }
 },
 "nbformat": 4,
 "nbformat_minor": 2
}
