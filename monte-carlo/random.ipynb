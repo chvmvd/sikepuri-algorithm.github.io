{
 "cells": [
  {
   "cell_type": "code",
   "execution_count": 1,
   "metadata": {
    "execution": {
     "iopub.execute_input": "2023-02-06T14:44:29.182522Z",
     "iopub.status.busy": "2023-02-06T14:44:29.182067Z",
     "iopub.status.idle": "2023-02-06T14:44:29.189127Z",
     "shell.execute_reply": "2023-02-06T14:44:29.188554Z"
    }
   },
   "outputs": [],
   "source": [
    "import random"
   ]
  },
  {
   "cell_type": "code",
   "execution_count": 2,
   "metadata": {
    "execution": {
     "iopub.execute_input": "2023-02-06T14:44:29.191701Z",
     "iopub.status.busy": "2023-02-06T14:44:29.191279Z",
     "iopub.status.idle": "2023-02-06T14:44:29.194976Z",
     "shell.execute_reply": "2023-02-06T14:44:29.194317Z"
    }
   },
   "outputs": [
    {
     "name": "stdout",
     "output_type": "stream",
     "text": [
      "0.4661017781888821\n"
     ]
    }
   ],
   "source": [
    "print(random.random())"
   ]
  }
 ],
 "metadata": {
  "language_info": {
   "codemirror_mode": {
    "name": "ipython",
    "version": 3
   },
   "file_extension": ".py",
   "mimetype": "text/x-python",
   "name": "python",
   "nbconvert_exporter": "python",
   "pygments_lexer": "ipython3",
   "version": "3.10.9"
  }
 },
 "nbformat": 4,
 "nbformat_minor": 2
}
