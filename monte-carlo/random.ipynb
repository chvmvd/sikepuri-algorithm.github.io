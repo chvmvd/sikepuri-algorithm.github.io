{
 "cells": [
  {
   "cell_type": "code",
   "execution_count": 1,
   "metadata": {
    "execution": {
     "iopub.execute_input": "2023-02-07T00:44:32.779849Z",
     "iopub.status.busy": "2023-02-07T00:44:32.779636Z",
     "iopub.status.idle": "2023-02-07T00:44:32.787052Z",
     "shell.execute_reply": "2023-02-07T00:44:32.786476Z"
    }
   },
   "outputs": [],
   "source": [
    "import random"
   ]
  },
  {
   "cell_type": "code",
   "execution_count": 2,
   "metadata": {
    "execution": {
     "iopub.execute_input": "2023-02-07T00:44:32.789563Z",
     "iopub.status.busy": "2023-02-07T00:44:32.789076Z",
     "iopub.status.idle": "2023-02-07T00:44:32.793142Z",
     "shell.execute_reply": "2023-02-07T00:44:32.792570Z"
    }
   },
   "outputs": [
    {
     "name": "stdout",
     "output_type": "stream",
     "text": [
      "0.1279347428018427\n"
     ]
    }
   ],
   "source": [
    "print(random.random())"
   ]
  }
 ],
 "metadata": {
  "language_info": {
   "codemirror_mode": {
    "name": "ipython",
    "version": 3
   },
   "file_extension": ".py",
   "mimetype": "text/x-python",
   "name": "python",
   "nbconvert_exporter": "python",
   "pygments_lexer": "ipython3",
   "version": "3.10.9"
  }
 },
 "nbformat": 4,
 "nbformat_minor": 2
}
