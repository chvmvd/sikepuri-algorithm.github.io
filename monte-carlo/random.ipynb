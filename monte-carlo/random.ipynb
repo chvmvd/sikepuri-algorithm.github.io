{
 "cells": [
  {
   "cell_type": "code",
   "execution_count": 1,
   "metadata": {
    "execution": {
     "iopub.execute_input": "2023-04-30T06:43:01.443139Z",
     "iopub.status.busy": "2023-04-30T06:43:01.442896Z",
     "iopub.status.idle": "2023-04-30T06:43:01.452046Z",
     "shell.execute_reply": "2023-04-30T06:43:01.451144Z"
    }
   },
   "outputs": [],
   "source": [
    "import random"
   ]
  },
  {
   "cell_type": "code",
   "execution_count": 2,
   "metadata": {
    "execution": {
     "iopub.execute_input": "2023-04-30T06:43:01.455290Z",
     "iopub.status.busy": "2023-04-30T06:43:01.455054Z",
     "iopub.status.idle": "2023-04-30T06:43:01.459512Z",
     "shell.execute_reply": "2023-04-30T06:43:01.458562Z"
    }
   },
   "outputs": [
    {
     "name": "stdout",
     "output_type": "stream",
     "text": [
      "0.03710679601196354\n"
     ]
    }
   ],
   "source": [
    "print(random.random())"
   ]
  }
 ],
 "metadata": {
  "language_info": {
   "codemirror_mode": {
    "name": "ipython",
    "version": 3
   },
   "file_extension": ".py",
   "mimetype": "text/x-python",
   "name": "python",
   "nbconvert_exporter": "python",
   "pygments_lexer": "ipython3",
   "version": "3.10.11"
  }
 },
 "nbformat": 4,
 "nbformat_minor": 2
}
