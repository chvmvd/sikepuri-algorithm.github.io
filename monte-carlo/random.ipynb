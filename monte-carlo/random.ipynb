{
 "cells": [
  {
   "cell_type": "code",
   "execution_count": 1,
   "metadata": {
    "execution": {
     "iopub.execute_input": "2023-02-04T07:19:45.511425Z",
     "iopub.status.busy": "2023-02-04T07:19:45.510898Z",
     "iopub.status.idle": "2023-02-04T07:19:45.518393Z",
     "shell.execute_reply": "2023-02-04T07:19:45.517808Z"
    }
   },
   "outputs": [],
   "source": [
    "import random"
   ]
  },
  {
   "cell_type": "code",
   "execution_count": 2,
   "metadata": {
    "execution": {
     "iopub.execute_input": "2023-02-04T07:19:45.521138Z",
     "iopub.status.busy": "2023-02-04T07:19:45.520721Z",
     "iopub.status.idle": "2023-02-04T07:19:45.524448Z",
     "shell.execute_reply": "2023-02-04T07:19:45.523760Z"
    }
   },
   "outputs": [
    {
     "name": "stdout",
     "output_type": "stream",
     "text": [
      "0.6583389841941857\n"
     ]
    }
   ],
   "source": [
    "print(random.random())"
   ]
  }
 ],
 "metadata": {
  "language_info": {
   "codemirror_mode": {
    "name": "ipython",
    "version": 3
   },
   "file_extension": ".py",
   "mimetype": "text/x-python",
   "name": "python",
   "nbconvert_exporter": "python",
   "pygments_lexer": "ipython3",
   "version": "3.10.9"
  }
 },
 "nbformat": 4,
 "nbformat_minor": 2
}
