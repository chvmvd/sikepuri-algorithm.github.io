{
 "cells": [
  {
   "cell_type": "code",
   "execution_count": 1,
   "metadata": {
    "execution": {
     "iopub.execute_input": "2023-04-30T12:20:32.607666Z",
     "iopub.status.busy": "2023-04-30T12:20:32.607072Z",
     "iopub.status.idle": "2023-04-30T12:20:32.614861Z",
     "shell.execute_reply": "2023-04-30T12:20:32.614249Z"
    }
   },
   "outputs": [],
   "source": [
    "import random"
   ]
  },
  {
   "cell_type": "code",
   "execution_count": 2,
   "metadata": {
    "execution": {
     "iopub.execute_input": "2023-04-30T12:20:32.617490Z",
     "iopub.status.busy": "2023-04-30T12:20:32.617074Z",
     "iopub.status.idle": "2023-04-30T12:20:32.621706Z",
     "shell.execute_reply": "2023-04-30T12:20:32.621053Z"
    }
   },
   "outputs": [
    {
     "name": "stdout",
     "output_type": "stream",
     "text": [
      "0.9465051279147858\n"
     ]
    }
   ],
   "source": [
    "print(random.random())"
   ]
  }
 ],
 "metadata": {
  "language_info": {
   "codemirror_mode": {
    "name": "ipython",
    "version": 3
   },
   "file_extension": ".py",
   "mimetype": "text/x-python",
   "name": "python",
   "nbconvert_exporter": "python",
   "pygments_lexer": "ipython3",
   "version": "3.10.11"
  }
 },
 "nbformat": 4,
 "nbformat_minor": 2
}
