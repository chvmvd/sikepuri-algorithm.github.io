{
 "cells": [
  {
   "cell_type": "code",
   "execution_count": 1,
   "metadata": {
    "execution": {
     "iopub.execute_input": "2023-04-30T06:13:11.836784Z",
     "iopub.status.busy": "2023-04-30T06:13:11.836471Z",
     "iopub.status.idle": "2023-04-30T06:13:11.843370Z",
     "shell.execute_reply": "2023-04-30T06:13:11.842733Z"
    }
   },
   "outputs": [],
   "source": [
    "import random"
   ]
  },
  {
   "cell_type": "code",
   "execution_count": 2,
   "metadata": {
    "execution": {
     "iopub.execute_input": "2023-04-30T06:13:11.845955Z",
     "iopub.status.busy": "2023-04-30T06:13:11.845443Z",
     "iopub.status.idle": "2023-04-30T06:13:11.849594Z",
     "shell.execute_reply": "2023-04-30T06:13:11.849025Z"
    }
   },
   "outputs": [
    {
     "name": "stdout",
     "output_type": "stream",
     "text": [
      "0.3746844185457233\n"
     ]
    }
   ],
   "source": [
    "print(random.random())"
   ]
  }
 ],
 "metadata": {
  "language_info": {
   "codemirror_mode": {
    "name": "ipython",
    "version": 3
   },
   "file_extension": ".py",
   "mimetype": "text/x-python",
   "name": "python",
   "nbconvert_exporter": "python",
   "pygments_lexer": "ipython3",
   "version": "3.10.11"
  }
 },
 "nbformat": 4,
 "nbformat_minor": 2
}
