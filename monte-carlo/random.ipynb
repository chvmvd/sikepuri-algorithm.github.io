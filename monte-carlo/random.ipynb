{
 "cells": [
  {
   "cell_type": "code",
   "execution_count": 1,
   "metadata": {
    "execution": {
     "iopub.execute_input": "2023-02-09T09:04:40.883667Z",
     "iopub.status.busy": "2023-02-09T09:04:40.883386Z",
     "iopub.status.idle": "2023-02-09T09:04:40.891072Z",
     "shell.execute_reply": "2023-02-09T09:04:40.890029Z"
    }
   },
   "outputs": [],
   "source": [
    "import random"
   ]
  },
  {
   "cell_type": "code",
   "execution_count": 2,
   "metadata": {
    "execution": {
     "iopub.execute_input": "2023-02-09T09:04:40.894234Z",
     "iopub.status.busy": "2023-02-09T09:04:40.893750Z",
     "iopub.status.idle": "2023-02-09T09:04:40.898909Z",
     "shell.execute_reply": "2023-02-09T09:04:40.898140Z"
    }
   },
   "outputs": [
    {
     "name": "stdout",
     "output_type": "stream",
     "text": [
      "0.48913280651511026\n"
     ]
    }
   ],
   "source": [
    "print(random.random())"
   ]
  }
 ],
 "metadata": {
  "language_info": {
   "codemirror_mode": {
    "name": "ipython",
    "version": 3
   },
   "file_extension": ".py",
   "mimetype": "text/x-python",
   "name": "python",
   "nbconvert_exporter": "python",
   "pygments_lexer": "ipython3",
   "version": "3.10.9"
  }
 },
 "nbformat": 4,
 "nbformat_minor": 2
}
