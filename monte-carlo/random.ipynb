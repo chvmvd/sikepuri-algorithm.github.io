{
 "cells": [
  {
   "cell_type": "code",
   "execution_count": 1,
   "metadata": {
    "execution": {
     "iopub.execute_input": "2023-04-30T03:36:11.247414Z",
     "iopub.status.busy": "2023-04-30T03:36:11.247035Z",
     "iopub.status.idle": "2023-04-30T03:36:11.253555Z",
     "shell.execute_reply": "2023-04-30T03:36:11.253007Z"
    }
   },
   "outputs": [],
   "source": [
    "import random"
   ]
  },
  {
   "cell_type": "code",
   "execution_count": 2,
   "metadata": {
    "execution": {
     "iopub.execute_input": "2023-04-30T03:36:11.255876Z",
     "iopub.status.busy": "2023-04-30T03:36:11.255487Z",
     "iopub.status.idle": "2023-04-30T03:36:11.259841Z",
     "shell.execute_reply": "2023-04-30T03:36:11.259278Z"
    }
   },
   "outputs": [
    {
     "name": "stdout",
     "output_type": "stream",
     "text": [
      "0.11769334993149827\n"
     ]
    }
   ],
   "source": [
    "print(random.random())"
   ]
  }
 ],
 "metadata": {
  "language_info": {
   "codemirror_mode": {
    "name": "ipython",
    "version": 3
   },
   "file_extension": ".py",
   "mimetype": "text/x-python",
   "name": "python",
   "nbconvert_exporter": "python",
   "pygments_lexer": "ipython3",
   "version": "3.10.11"
  }
 },
 "nbformat": 4,
 "nbformat_minor": 2
}
