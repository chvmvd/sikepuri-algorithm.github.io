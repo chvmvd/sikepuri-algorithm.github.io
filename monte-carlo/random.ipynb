{
 "cells": [
  {
   "cell_type": "code",
   "execution_count": 1,
   "metadata": {
    "execution": {
     "iopub.execute_input": "2023-02-06T14:53:01.146885Z",
     "iopub.status.busy": "2023-02-06T14:53:01.146666Z",
     "iopub.status.idle": "2023-02-06T14:53:01.153853Z",
     "shell.execute_reply": "2023-02-06T14:53:01.153289Z"
    }
   },
   "outputs": [],
   "source": [
    "import random"
   ]
  },
  {
   "cell_type": "code",
   "execution_count": 2,
   "metadata": {
    "execution": {
     "iopub.execute_input": "2023-02-06T14:53:01.156224Z",
     "iopub.status.busy": "2023-02-06T14:53:01.155896Z",
     "iopub.status.idle": "2023-02-06T14:53:01.160288Z",
     "shell.execute_reply": "2023-02-06T14:53:01.159665Z"
    }
   },
   "outputs": [
    {
     "name": "stdout",
     "output_type": "stream",
     "text": [
      "0.2945988645314994\n"
     ]
    }
   ],
   "source": [
    "print(random.random())"
   ]
  }
 ],
 "metadata": {
  "language_info": {
   "codemirror_mode": {
    "name": "ipython",
    "version": 3
   },
   "file_extension": ".py",
   "mimetype": "text/x-python",
   "name": "python",
   "nbconvert_exporter": "python",
   "pygments_lexer": "ipython3",
   "version": "3.10.9"
  }
 },
 "nbformat": 4,
 "nbformat_minor": 2
}
