{
 "cells": [
  {
   "cell_type": "code",
   "execution_count": 1,
   "metadata": {
    "execution": {
     "iopub.execute_input": "2023-02-06T13:48:55.837564Z",
     "iopub.status.busy": "2023-02-06T13:48:55.837293Z",
     "iopub.status.idle": "2023-02-06T13:48:55.845898Z",
     "shell.execute_reply": "2023-02-06T13:48:55.844959Z"
    }
   },
   "outputs": [],
   "source": [
    "import random"
   ]
  },
  {
   "cell_type": "code",
   "execution_count": 2,
   "metadata": {
    "execution": {
     "iopub.execute_input": "2023-02-06T13:48:55.849306Z",
     "iopub.status.busy": "2023-02-06T13:48:55.849026Z",
     "iopub.status.idle": "2023-02-06T13:48:55.853821Z",
     "shell.execute_reply": "2023-02-06T13:48:55.852890Z"
    }
   },
   "outputs": [
    {
     "name": "stdout",
     "output_type": "stream",
     "text": [
      "0.1262105839633284\n"
     ]
    }
   ],
   "source": [
    "print(random.random())"
   ]
  }
 ],
 "metadata": {
  "language_info": {
   "codemirror_mode": {
    "name": "ipython",
    "version": 3
   },
   "file_extension": ".py",
   "mimetype": "text/x-python",
   "name": "python",
   "nbconvert_exporter": "python",
   "pygments_lexer": "ipython3",
   "version": "3.10.9"
  }
 },
 "nbformat": 4,
 "nbformat_minor": 2
}
