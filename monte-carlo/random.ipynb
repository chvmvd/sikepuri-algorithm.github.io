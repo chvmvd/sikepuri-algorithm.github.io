{
 "cells": [
  {
   "cell_type": "code",
   "execution_count": 1,
   "metadata": {
    "execution": {
     "iopub.execute_input": "2023-02-03T09:01:09.293118Z",
     "iopub.status.busy": "2023-02-03T09:01:09.292827Z",
     "iopub.status.idle": "2023-02-03T09:01:09.302322Z",
     "shell.execute_reply": "2023-02-03T09:01:09.301413Z"
    }
   },
   "outputs": [],
   "source": [
    "import random"
   ]
  },
  {
   "cell_type": "code",
   "execution_count": 2,
   "metadata": {
    "execution": {
     "iopub.execute_input": "2023-02-03T09:01:09.306380Z",
     "iopub.status.busy": "2023-02-03T09:01:09.305840Z",
     "iopub.status.idle": "2023-02-03T09:01:09.312869Z",
     "shell.execute_reply": "2023-02-03T09:01:09.311947Z"
    }
   },
   "outputs": [
    {
     "name": "stdout",
     "output_type": "stream",
     "text": [
      "0.40088128242794474\n"
     ]
    }
   ],
   "source": [
    "print(random.random())"
   ]
  }
 ],
 "metadata": {
  "language_info": {
   "codemirror_mode": {
    "name": "ipython",
    "version": 3
   },
   "file_extension": ".py",
   "mimetype": "text/x-python",
   "name": "python",
   "nbconvert_exporter": "python",
   "pygments_lexer": "ipython3",
   "version": "3.10.9"
  }
 },
 "nbformat": 4,
 "nbformat_minor": 2
}
