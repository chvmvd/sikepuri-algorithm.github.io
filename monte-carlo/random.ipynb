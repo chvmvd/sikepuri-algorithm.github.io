{
 "cells": [
  {
   "cell_type": "code",
   "execution_count": 1,
   "metadata": {
    "execution": {
     "iopub.execute_input": "2023-02-19T07:03:35.839941Z",
     "iopub.status.busy": "2023-02-19T07:03:35.839702Z",
     "iopub.status.idle": "2023-02-19T07:03:35.847346Z",
     "shell.execute_reply": "2023-02-19T07:03:35.845993Z"
    }
   },
   "outputs": [],
   "source": [
    "import random"
   ]
  },
  {
   "cell_type": "code",
   "execution_count": 2,
   "metadata": {
    "execution": {
     "iopub.execute_input": "2023-02-19T07:03:35.849871Z",
     "iopub.status.busy": "2023-02-19T07:03:35.849449Z",
     "iopub.status.idle": "2023-02-19T07:03:35.854002Z",
     "shell.execute_reply": "2023-02-19T07:03:35.853348Z"
    }
   },
   "outputs": [
    {
     "name": "stdout",
     "output_type": "stream",
     "text": [
      "0.6871761396765192\n"
     ]
    }
   ],
   "source": [
    "print(random.random())"
   ]
  }
 ],
 "metadata": {
  "language_info": {
   "codemirror_mode": {
    "name": "ipython",
    "version": 3
   },
   "file_extension": ".py",
   "mimetype": "text/x-python",
   "name": "python",
   "nbconvert_exporter": "python",
   "pygments_lexer": "ipython3",
   "version": "3.10.10"
  }
 },
 "nbformat": 4,
 "nbformat_minor": 2
}
