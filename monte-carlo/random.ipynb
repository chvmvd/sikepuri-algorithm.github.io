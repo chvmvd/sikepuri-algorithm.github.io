{
 "cells": [
  {
   "cell_type": "code",
   "execution_count": 1,
   "metadata": {
    "execution": {
     "iopub.execute_input": "2023-02-04T04:20:58.940912Z",
     "iopub.status.busy": "2023-02-04T04:20:58.940698Z",
     "iopub.status.idle": "2023-02-04T04:20:58.948092Z",
     "shell.execute_reply": "2023-02-04T04:20:58.947509Z"
    }
   },
   "outputs": [],
   "source": [
    "import random"
   ]
  },
  {
   "cell_type": "code",
   "execution_count": 2,
   "metadata": {
    "execution": {
     "iopub.execute_input": "2023-02-04T04:20:58.950693Z",
     "iopub.status.busy": "2023-02-04T04:20:58.950380Z",
     "iopub.status.idle": "2023-02-04T04:20:58.954702Z",
     "shell.execute_reply": "2023-02-04T04:20:58.954141Z"
    }
   },
   "outputs": [
    {
     "name": "stdout",
     "output_type": "stream",
     "text": [
      "0.5947473804787259\n"
     ]
    }
   ],
   "source": [
    "print(random.random())"
   ]
  }
 ],
 "metadata": {
  "language_info": {
   "codemirror_mode": {
    "name": "ipython",
    "version": 3
   },
   "file_extension": ".py",
   "mimetype": "text/x-python",
   "name": "python",
   "nbconvert_exporter": "python",
   "pygments_lexer": "ipython3",
   "version": "3.10.9"
  }
 },
 "nbformat": 4,
 "nbformat_minor": 2
}
