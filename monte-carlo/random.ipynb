{
 "cells": [
  {
   "cell_type": "code",
   "execution_count": 1,
   "metadata": {
    "execution": {
     "iopub.execute_input": "2023-02-04T04:48:19.607646Z",
     "iopub.status.busy": "2023-02-04T04:48:19.607388Z",
     "iopub.status.idle": "2023-02-04T04:48:19.617423Z",
     "shell.execute_reply": "2023-02-04T04:48:19.616361Z"
    }
   },
   "outputs": [],
   "source": [
    "import random"
   ]
  },
  {
   "cell_type": "code",
   "execution_count": 2,
   "metadata": {
    "execution": {
     "iopub.execute_input": "2023-02-04T04:48:19.621418Z",
     "iopub.status.busy": "2023-02-04T04:48:19.621128Z",
     "iopub.status.idle": "2023-02-04T04:48:19.626459Z",
     "shell.execute_reply": "2023-02-04T04:48:19.625263Z"
    }
   },
   "outputs": [
    {
     "name": "stdout",
     "output_type": "stream",
     "text": [
      "0.9309434512503821\n"
     ]
    }
   ],
   "source": [
    "print(random.random())"
   ]
  }
 ],
 "metadata": {
  "language_info": {
   "codemirror_mode": {
    "name": "ipython",
    "version": 3
   },
   "file_extension": ".py",
   "mimetype": "text/x-python",
   "name": "python",
   "nbconvert_exporter": "python",
   "pygments_lexer": "ipython3",
   "version": "3.10.9"
  }
 },
 "nbformat": 4,
 "nbformat_minor": 2
}
