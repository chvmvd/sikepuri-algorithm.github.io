{
 "cells": [
  {
   "cell_type": "code",
   "execution_count": 1,
   "metadata": {
    "execution": {
     "iopub.execute_input": "2023-04-30T07:33:17.475789Z",
     "iopub.status.busy": "2023-04-30T07:33:17.475384Z",
     "iopub.status.idle": "2023-04-30T07:33:17.483119Z",
     "shell.execute_reply": "2023-04-30T07:33:17.482539Z"
    }
   },
   "outputs": [],
   "source": [
    "import random"
   ]
  },
  {
   "cell_type": "code",
   "execution_count": 2,
   "metadata": {
    "execution": {
     "iopub.execute_input": "2023-04-30T07:33:17.486036Z",
     "iopub.status.busy": "2023-04-30T07:33:17.485621Z",
     "iopub.status.idle": "2023-04-30T07:33:17.490248Z",
     "shell.execute_reply": "2023-04-30T07:33:17.489593Z"
    }
   },
   "outputs": [
    {
     "name": "stdout",
     "output_type": "stream",
     "text": [
      "0.19483804652262515\n"
     ]
    }
   ],
   "source": [
    "print(random.random())"
   ]
  }
 ],
 "metadata": {
  "language_info": {
   "codemirror_mode": {
    "name": "ipython",
    "version": 3
   },
   "file_extension": ".py",
   "mimetype": "text/x-python",
   "name": "python",
   "nbconvert_exporter": "python",
   "pygments_lexer": "ipython3",
   "version": "3.10.11"
  }
 },
 "nbformat": 4,
 "nbformat_minor": 2
}
