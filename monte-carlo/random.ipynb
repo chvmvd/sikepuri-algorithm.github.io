{
 "cells": [
  {
   "cell_type": "code",
   "execution_count": 1,
   "metadata": {
    "execution": {
     "iopub.execute_input": "2023-02-07T03:24:02.312935Z",
     "iopub.status.busy": "2023-02-07T03:24:02.312725Z",
     "iopub.status.idle": "2023-02-07T03:24:02.319844Z",
     "shell.execute_reply": "2023-02-07T03:24:02.319288Z"
    }
   },
   "outputs": [],
   "source": [
    "import random"
   ]
  },
  {
   "cell_type": "code",
   "execution_count": 2,
   "metadata": {
    "execution": {
     "iopub.execute_input": "2023-02-07T03:24:02.322426Z",
     "iopub.status.busy": "2023-02-07T03:24:02.321937Z",
     "iopub.status.idle": "2023-02-07T03:24:02.325586Z",
     "shell.execute_reply": "2023-02-07T03:24:02.324961Z"
    }
   },
   "outputs": [
    {
     "name": "stdout",
     "output_type": "stream",
     "text": [
      "0.04684325729949035\n"
     ]
    }
   ],
   "source": [
    "print(random.random())"
   ]
  }
 ],
 "metadata": {
  "language_info": {
   "codemirror_mode": {
    "name": "ipython",
    "version": 3
   },
   "file_extension": ".py",
   "mimetype": "text/x-python",
   "name": "python",
   "nbconvert_exporter": "python",
   "pygments_lexer": "ipython3",
   "version": "3.10.9"
  }
 },
 "nbformat": 4,
 "nbformat_minor": 2
}
