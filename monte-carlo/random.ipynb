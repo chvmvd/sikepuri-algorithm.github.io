{
 "cells": [
  {
   "cell_type": "code",
   "execution_count": 1,
   "metadata": {
    "execution": {
     "iopub.execute_input": "2023-02-06T23:33:06.208520Z",
     "iopub.status.busy": "2023-02-06T23:33:06.208208Z",
     "iopub.status.idle": "2023-02-06T23:33:06.217582Z",
     "shell.execute_reply": "2023-02-06T23:33:06.216618Z"
    }
   },
   "outputs": [],
   "source": [
    "import random"
   ]
  },
  {
   "cell_type": "code",
   "execution_count": 2,
   "metadata": {
    "execution": {
     "iopub.execute_input": "2023-02-06T23:33:06.220560Z",
     "iopub.status.busy": "2023-02-06T23:33:06.220262Z",
     "iopub.status.idle": "2023-02-06T23:33:06.227792Z",
     "shell.execute_reply": "2023-02-06T23:33:06.227008Z"
    }
   },
   "outputs": [
    {
     "name": "stdout",
     "output_type": "stream",
     "text": [
      "0.17262662642478477\n"
     ]
    }
   ],
   "source": [
    "print(random.random())"
   ]
  }
 ],
 "metadata": {
  "language_info": {
   "codemirror_mode": {
    "name": "ipython",
    "version": 3
   },
   "file_extension": ".py",
   "mimetype": "text/x-python",
   "name": "python",
   "nbconvert_exporter": "python",
   "pygments_lexer": "ipython3",
   "version": "3.10.9"
  }
 },
 "nbformat": 4,
 "nbformat_minor": 2
}
