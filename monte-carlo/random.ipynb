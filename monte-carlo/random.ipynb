{
 "cells": [
  {
   "cell_type": "code",
   "execution_count": 1,
   "metadata": {
    "execution": {
     "iopub.execute_input": "2023-04-30T06:21:48.421933Z",
     "iopub.status.busy": "2023-04-30T06:21:48.421642Z",
     "iopub.status.idle": "2023-04-30T06:21:48.431283Z",
     "shell.execute_reply": "2023-04-30T06:21:48.430171Z"
    }
   },
   "outputs": [],
   "source": [
    "import random"
   ]
  },
  {
   "cell_type": "code",
   "execution_count": 2,
   "metadata": {
    "execution": {
     "iopub.execute_input": "2023-04-30T06:21:48.434472Z",
     "iopub.status.busy": "2023-04-30T06:21:48.434192Z",
     "iopub.status.idle": "2023-04-30T06:21:48.440136Z",
     "shell.execute_reply": "2023-04-30T06:21:48.438063Z"
    }
   },
   "outputs": [
    {
     "name": "stdout",
     "output_type": "stream",
     "text": [
      "0.4377326261896416\n"
     ]
    }
   ],
   "source": [
    "print(random.random())"
   ]
  }
 ],
 "metadata": {
  "language_info": {
   "codemirror_mode": {
    "name": "ipython",
    "version": 3
   },
   "file_extension": ".py",
   "mimetype": "text/x-python",
   "name": "python",
   "nbconvert_exporter": "python",
   "pygments_lexer": "ipython3",
   "version": "3.10.11"
  }
 },
 "nbformat": 4,
 "nbformat_minor": 2
}
