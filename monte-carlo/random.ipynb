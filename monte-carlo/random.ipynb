{
 "cells": [
  {
   "cell_type": "code",
   "execution_count": 1,
   "metadata": {
    "execution": {
     "iopub.execute_input": "2023-04-30T05:03:53.833572Z",
     "iopub.status.busy": "2023-04-30T05:03:53.833300Z",
     "iopub.status.idle": "2023-04-30T05:03:53.839711Z",
     "shell.execute_reply": "2023-04-30T05:03:53.839068Z"
    }
   },
   "outputs": [],
   "source": [
    "import random"
   ]
  },
  {
   "cell_type": "code",
   "execution_count": 2,
   "metadata": {
    "execution": {
     "iopub.execute_input": "2023-04-30T05:03:53.842087Z",
     "iopub.status.busy": "2023-04-30T05:03:53.841708Z",
     "iopub.status.idle": "2023-04-30T05:03:53.845625Z",
     "shell.execute_reply": "2023-04-30T05:03:53.844555Z"
    }
   },
   "outputs": [
    {
     "name": "stdout",
     "output_type": "stream",
     "text": [
      "0.18353836416772207\n"
     ]
    }
   ],
   "source": [
    "print(random.random())"
   ]
  }
 ],
 "metadata": {
  "language_info": {
   "codemirror_mode": {
    "name": "ipython",
    "version": 3
   },
   "file_extension": ".py",
   "mimetype": "text/x-python",
   "name": "python",
   "nbconvert_exporter": "python",
   "pygments_lexer": "ipython3",
   "version": "3.10.11"
  }
 },
 "nbformat": 4,
 "nbformat_minor": 2
}
