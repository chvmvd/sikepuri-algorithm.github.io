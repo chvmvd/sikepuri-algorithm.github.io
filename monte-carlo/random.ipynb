{
 "cells": [
  {
   "cell_type": "code",
   "execution_count": 1,
   "metadata": {
    "execution": {
     "iopub.execute_input": "2023-02-06T06:26:22.963482Z",
     "iopub.status.busy": "2023-02-06T06:26:22.963280Z",
     "iopub.status.idle": "2023-02-06T06:26:22.970238Z",
     "shell.execute_reply": "2023-02-06T06:26:22.969685Z"
    }
   },
   "outputs": [],
   "source": [
    "import random"
   ]
  },
  {
   "cell_type": "code",
   "execution_count": 2,
   "metadata": {
    "execution": {
     "iopub.execute_input": "2023-02-06T06:26:22.972842Z",
     "iopub.status.busy": "2023-02-06T06:26:22.972320Z",
     "iopub.status.idle": "2023-02-06T06:26:22.978172Z",
     "shell.execute_reply": "2023-02-06T06:26:22.977534Z"
    }
   },
   "outputs": [
    {
     "name": "stdout",
     "output_type": "stream",
     "text": [
      "0.8346098496482082\n"
     ]
    }
   ],
   "source": [
    "print(random.random())"
   ]
  }
 ],
 "metadata": {
  "language_info": {
   "codemirror_mode": {
    "name": "ipython",
    "version": 3
   },
   "file_extension": ".py",
   "mimetype": "text/x-python",
   "name": "python",
   "nbconvert_exporter": "python",
   "pygments_lexer": "ipython3",
   "version": "3.10.9"
  }
 },
 "nbformat": 4,
 "nbformat_minor": 2
}
