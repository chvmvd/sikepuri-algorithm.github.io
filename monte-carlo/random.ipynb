{
 "cells": [
  {
   "cell_type": "code",
   "execution_count": 1,
   "metadata": {
    "execution": {
     "iopub.execute_input": "2023-02-04T03:45:25.548686Z",
     "iopub.status.busy": "2023-02-04T03:45:25.548480Z",
     "iopub.status.idle": "2023-02-04T03:45:25.555470Z",
     "shell.execute_reply": "2023-02-04T03:45:25.554848Z"
    }
   },
   "outputs": [],
   "source": [
    "import random"
   ]
  },
  {
   "cell_type": "code",
   "execution_count": 2,
   "metadata": {
    "execution": {
     "iopub.execute_input": "2023-02-04T03:45:25.557939Z",
     "iopub.status.busy": "2023-02-04T03:45:25.557411Z",
     "iopub.status.idle": "2023-02-04T03:45:25.561146Z",
     "shell.execute_reply": "2023-02-04T03:45:25.560506Z"
    }
   },
   "outputs": [
    {
     "name": "stdout",
     "output_type": "stream",
     "text": [
      "0.4430873406343271\n"
     ]
    }
   ],
   "source": [
    "print(random.random())"
   ]
  }
 ],
 "metadata": {
  "language_info": {
   "codemirror_mode": {
    "name": "ipython",
    "version": 3
   },
   "file_extension": ".py",
   "mimetype": "text/x-python",
   "name": "python",
   "nbconvert_exporter": "python",
   "pygments_lexer": "ipython3",
   "version": "3.10.9"
  }
 },
 "nbformat": 4,
 "nbformat_minor": 2
}
