{
 "cells": [
  {
   "cell_type": "code",
   "execution_count": 1,
   "metadata": {
    "execution": {
     "iopub.execute_input": "2023-02-06T07:47:40.829687Z",
     "iopub.status.busy": "2023-02-06T07:47:40.829374Z",
     "iopub.status.idle": "2023-02-06T07:47:40.836693Z",
     "shell.execute_reply": "2023-02-06T07:47:40.836152Z"
    }
   },
   "outputs": [],
   "source": [
    "import random"
   ]
  },
  {
   "cell_type": "code",
   "execution_count": 2,
   "metadata": {
    "execution": {
     "iopub.execute_input": "2023-02-06T07:47:40.839094Z",
     "iopub.status.busy": "2023-02-06T07:47:40.838772Z",
     "iopub.status.idle": "2023-02-06T07:47:40.845445Z",
     "shell.execute_reply": "2023-02-06T07:47:40.841728Z"
    }
   },
   "outputs": [
    {
     "name": "stdout",
     "output_type": "stream",
     "text": [
      "0.12558173220763946\n"
     ]
    }
   ],
   "source": [
    "print(random.random())"
   ]
  }
 ],
 "metadata": {
  "language_info": {
   "codemirror_mode": {
    "name": "ipython",
    "version": 3
   },
   "file_extension": ".py",
   "mimetype": "text/x-python",
   "name": "python",
   "nbconvert_exporter": "python",
   "pygments_lexer": "ipython3",
   "version": "3.10.9"
  }
 },
 "nbformat": 4,
 "nbformat_minor": 2
}
