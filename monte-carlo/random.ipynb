{
 "cells": [
  {
   "cell_type": "code",
   "execution_count": 1,
   "metadata": {
    "execution": {
     "iopub.execute_input": "2023-02-19T01:20:44.090905Z",
     "iopub.status.busy": "2023-02-19T01:20:44.090378Z",
     "iopub.status.idle": "2023-02-19T01:20:44.097207Z",
     "shell.execute_reply": "2023-02-19T01:20:44.096658Z"
    }
   },
   "outputs": [],
   "source": [
    "import random"
   ]
  },
  {
   "cell_type": "code",
   "execution_count": 2,
   "metadata": {
    "execution": {
     "iopub.execute_input": "2023-02-19T01:20:44.099751Z",
     "iopub.status.busy": "2023-02-19T01:20:44.099270Z",
     "iopub.status.idle": "2023-02-19T01:20:44.103902Z",
     "shell.execute_reply": "2023-02-19T01:20:44.103338Z"
    }
   },
   "outputs": [
    {
     "name": "stdout",
     "output_type": "stream",
     "text": [
      "0.1986436059505461\n"
     ]
    }
   ],
   "source": [
    "print(random.random())"
   ]
  }
 ],
 "metadata": {
  "language_info": {
   "codemirror_mode": {
    "name": "ipython",
    "version": 3
   },
   "file_extension": ".py",
   "mimetype": "text/x-python",
   "name": "python",
   "nbconvert_exporter": "python",
   "pygments_lexer": "ipython3",
   "version": "3.10.10"
  }
 },
 "nbformat": 4,
 "nbformat_minor": 2
}
