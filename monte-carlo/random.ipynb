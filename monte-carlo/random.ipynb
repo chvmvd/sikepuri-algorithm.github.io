{
 "cells": [
  {
   "cell_type": "code",
   "execution_count": 1,
   "metadata": {
    "execution": {
     "iopub.execute_input": "2023-02-04T06:17:16.045542Z",
     "iopub.status.busy": "2023-02-04T06:17:16.044707Z",
     "iopub.status.idle": "2023-02-04T06:17:16.051793Z",
     "shell.execute_reply": "2023-02-04T06:17:16.051251Z"
    }
   },
   "outputs": [],
   "source": [
    "import random"
   ]
  },
  {
   "cell_type": "code",
   "execution_count": 2,
   "metadata": {
    "execution": {
     "iopub.execute_input": "2023-02-04T06:17:16.054267Z",
     "iopub.status.busy": "2023-02-04T06:17:16.053749Z",
     "iopub.status.idle": "2023-02-04T06:17:16.058337Z",
     "shell.execute_reply": "2023-02-04T06:17:16.057711Z"
    }
   },
   "outputs": [
    {
     "name": "stdout",
     "output_type": "stream",
     "text": [
      "0.7971037292698415\n"
     ]
    }
   ],
   "source": [
    "print(random.random())"
   ]
  }
 ],
 "metadata": {
  "language_info": {
   "codemirror_mode": {
    "name": "ipython",
    "version": 3
   },
   "file_extension": ".py",
   "mimetype": "text/x-python",
   "name": "python",
   "nbconvert_exporter": "python",
   "pygments_lexer": "ipython3",
   "version": "3.10.9"
  }
 },
 "nbformat": 4,
 "nbformat_minor": 2
}
