{
 "cells": [
  {
   "cell_type": "code",
   "execution_count": 1,
   "metadata": {
    "execution": {
     "iopub.execute_input": "2023-02-04T09:42:25.872060Z",
     "iopub.status.busy": "2023-02-04T09:42:25.871661Z",
     "iopub.status.idle": "2023-02-04T09:42:25.879506Z",
     "shell.execute_reply": "2023-02-04T09:42:25.878774Z"
    }
   },
   "outputs": [],
   "source": [
    "import random"
   ]
  },
  {
   "cell_type": "code",
   "execution_count": 2,
   "metadata": {
    "execution": {
     "iopub.execute_input": "2023-02-04T09:42:25.882226Z",
     "iopub.status.busy": "2023-02-04T09:42:25.881971Z",
     "iopub.status.idle": "2023-02-04T09:42:25.888173Z",
     "shell.execute_reply": "2023-02-04T09:42:25.887510Z"
    }
   },
   "outputs": [
    {
     "name": "stdout",
     "output_type": "stream",
     "text": [
      "0.4750549821497182\n"
     ]
    }
   ],
   "source": [
    "print(random.random())"
   ]
  }
 ],
 "metadata": {
  "language_info": {
   "codemirror_mode": {
    "name": "ipython",
    "version": 3
   },
   "file_extension": ".py",
   "mimetype": "text/x-python",
   "name": "python",
   "nbconvert_exporter": "python",
   "pygments_lexer": "ipython3",
   "version": "3.10.9"
  }
 },
 "nbformat": 4,
 "nbformat_minor": 2
}
