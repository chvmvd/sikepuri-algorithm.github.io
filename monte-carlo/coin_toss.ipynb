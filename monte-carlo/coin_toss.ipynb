{
 "cells": [
  {
   "cell_type": "code",
   "execution_count": 1,
   "metadata": {
    "execution": {
     "iopub.execute_input": "2023-02-04T06:17:11.740566Z",
     "iopub.status.busy": "2023-02-04T06:17:11.740357Z",
     "iopub.status.idle": "2023-02-04T06:17:11.747291Z",
     "shell.execute_reply": "2023-02-04T06:17:11.746682Z"
    }
   },
   "outputs": [],
   "source": [
    "import random"
   ]
  },
  {
   "cell_type": "code",
   "execution_count": 2,
   "metadata": {
    "execution": {
     "iopub.execute_input": "2023-02-04T06:17:11.749839Z",
     "iopub.status.busy": "2023-02-04T06:17:11.749318Z",
     "iopub.status.idle": "2023-02-04T06:17:11.847065Z",
     "shell.execute_reply": "2023-02-04T06:17:11.846420Z"
    }
   },
   "outputs": [
    {
     "name": "stdout",
     "output_type": "stream",
     "text": [
      "0.50317\n"
     ]
    }
   ],
   "source": [
    "def calc_coin_p(n):\n",
    "    head = 0\n",
    "    for _ in range(n):\n",
    "        if random.randint(0, 1) == 1:\n",
    "            head += 1\n",
    "    return head / n\n",
    "\n",
    "\n",
    "print(calc_coin_p(100000))"
   ]
  }
 ],
 "metadata": {
  "language_info": {
   "codemirror_mode": {
    "name": "ipython",
    "version": 3
   },
   "file_extension": ".py",
   "mimetype": "text/x-python",
   "name": "python",
   "nbconvert_exporter": "python",
   "pygments_lexer": "ipython3",
   "version": "3.10.9"
  }
 },
 "nbformat": 4,
 "nbformat_minor": 2
}
