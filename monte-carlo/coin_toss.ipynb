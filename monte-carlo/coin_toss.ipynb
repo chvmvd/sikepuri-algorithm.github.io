{
 "cells": [
  {
   "cell_type": "code",
   "execution_count": 1,
   "metadata": {
    "execution": {
     "iopub.execute_input": "2023-10-22T04:41:37.299969Z",
     "iopub.status.busy": "2023-10-22T04:41:37.299512Z",
     "iopub.status.idle": "2023-10-22T04:41:37.307373Z",
     "shell.execute_reply": "2023-10-22T04:41:37.306783Z"
    }
   },
   "outputs": [],
   "source": [
    "import random"
   ]
  },
  {
   "cell_type": "code",
   "execution_count": 2,
   "metadata": {
    "execution": {
     "iopub.execute_input": "2023-10-22T04:41:37.309835Z",
     "iopub.status.busy": "2023-10-22T04:41:37.309434Z",
     "iopub.status.idle": "2023-10-22T04:41:37.401616Z",
     "shell.execute_reply": "2023-10-22T04:41:37.400867Z"
    }
   },
   "outputs": [
    {
     "name": "stdout",
     "output_type": "stream",
     "text": [
      "0.50133\n"
     ]
    }
   ],
   "source": [
    "def calc_coin_probability(n):\n",
    "    head = 0\n",
    "    for _ in range(n):\n",
    "        if random.randint(0, 1) == 1:\n",
    "            head += 1\n",
    "    return head / n\n",
    "\n",
    "\n",
    "print(calc_coin_probability(100000))"
   ]
  }
 ],
 "metadata": {
  "language_info": {
   "codemirror_mode": {
    "name": "ipython",
    "version": 3
   },
   "file_extension": ".py",
   "mimetype": "text/x-python",
   "name": "python",
   "nbconvert_exporter": "python",
   "pygments_lexer": "ipython3",
   "version": "3.10.13"
  }
 },
 "nbformat": 4,
 "nbformat_minor": 2
}
