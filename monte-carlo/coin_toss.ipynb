{
 "cells": [
  {
   "cell_type": "code",
   "execution_count": 1,
   "metadata": {
    "execution": {
     "iopub.execute_input": "2023-02-06T14:52:56.951171Z",
     "iopub.status.busy": "2023-02-06T14:52:56.950625Z",
     "iopub.status.idle": "2023-02-06T14:52:56.957310Z",
     "shell.execute_reply": "2023-02-06T14:52:56.956770Z"
    }
   },
   "outputs": [],
   "source": [
    "import random"
   ]
  },
  {
   "cell_type": "code",
   "execution_count": 2,
   "metadata": {
    "execution": {
     "iopub.execute_input": "2023-02-06T14:52:56.959918Z",
     "iopub.status.busy": "2023-02-06T14:52:56.959604Z",
     "iopub.status.idle": "2023-02-06T14:52:57.056570Z",
     "shell.execute_reply": "2023-02-06T14:52:57.055907Z"
    }
   },
   "outputs": [
    {
     "name": "stdout",
     "output_type": "stream",
     "text": [
      "0.50004\n"
     ]
    }
   ],
   "source": [
    "def calc_coin_probability(n):\n",
    "    head = 0\n",
    "    for _ in range(n):\n",
    "        if random.randint(0, 1) == 1:\n",
    "            head += 1\n",
    "    return head / n\n",
    "\n",
    "\n",
    "print(calc_coin_probability(100000))"
   ]
  }
 ],
 "metadata": {
  "language_info": {
   "codemirror_mode": {
    "name": "ipython",
    "version": 3
   },
   "file_extension": ".py",
   "mimetype": "text/x-python",
   "name": "python",
   "nbconvert_exporter": "python",
   "pygments_lexer": "ipython3",
   "version": "3.10.9"
  }
 },
 "nbformat": 4,
 "nbformat_minor": 2
}
