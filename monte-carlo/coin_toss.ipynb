{
 "cells": [
  {
   "cell_type": "code",
   "execution_count": 1,
   "metadata": {
    "execution": {
     "iopub.execute_input": "2023-02-03T09:01:04.065426Z",
     "iopub.status.busy": "2023-02-03T09:01:04.064557Z",
     "iopub.status.idle": "2023-02-03T09:01:04.075463Z",
     "shell.execute_reply": "2023-02-03T09:01:04.073756Z"
    }
   },
   "outputs": [],
   "source": [
    "import random"
   ]
  },
  {
   "cell_type": "code",
   "execution_count": 2,
   "metadata": {
    "execution": {
     "iopub.execute_input": "2023-02-03T09:01:04.079247Z",
     "iopub.status.busy": "2023-02-03T09:01:04.078960Z",
     "iopub.status.idle": "2023-02-03T09:01:04.199494Z",
     "shell.execute_reply": "2023-02-03T09:01:04.198495Z"
    }
   },
   "outputs": [
    {
     "name": "stdout",
     "output_type": "stream",
     "text": [
      "0.50212\n"
     ]
    }
   ],
   "source": [
    "def calc_coin_p(n):\n",
    "    head = 0\n",
    "    for _ in range(n):\n",
    "        if random.randint(0, 1) == 1:\n",
    "            head += 1\n",
    "    return head / n\n",
    "\n",
    "\n",
    "print(calc_coin_p(100000))"
   ]
  }
 ],
 "metadata": {
  "language_info": {
   "codemirror_mode": {
    "name": "ipython",
    "version": 3
   },
   "file_extension": ".py",
   "mimetype": "text/x-python",
   "name": "python",
   "nbconvert_exporter": "python",
   "pygments_lexer": "ipython3",
   "version": "3.10.9"
  }
 },
 "nbformat": 4,
 "nbformat_minor": 2
}
