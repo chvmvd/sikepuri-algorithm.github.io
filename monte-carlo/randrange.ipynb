{
 "cells": [
  {
   "cell_type": "code",
   "execution_count": 1,
   "metadata": {
    "execution": {
     "iopub.execute_input": "2023-04-30T06:21:49.861325Z",
     "iopub.status.busy": "2023-04-30T06:21:49.860721Z",
     "iopub.status.idle": "2023-04-30T06:21:49.869662Z",
     "shell.execute_reply": "2023-04-30T06:21:49.868734Z"
    }
   },
   "outputs": [],
   "source": [
    "import random"
   ]
  },
  {
   "cell_type": "code",
   "execution_count": 2,
   "metadata": {
    "execution": {
     "iopub.execute_input": "2023-04-30T06:21:49.873129Z",
     "iopub.status.busy": "2023-04-30T06:21:49.872852Z",
     "iopub.status.idle": "2023-04-30T06:21:49.879524Z",
     "shell.execute_reply": "2023-04-30T06:21:49.878416Z"
    }
   },
   "outputs": [
    {
     "name": "stdout",
     "output_type": "stream",
     "text": [
      "2\n"
     ]
    }
   ],
   "source": [
    "print(random.randrange(2, 4, 1))"
   ]
  }
 ],
 "metadata": {
  "language_info": {
   "codemirror_mode": {
    "name": "ipython",
    "version": 3
   },
   "file_extension": ".py",
   "mimetype": "text/x-python",
   "name": "python",
   "nbconvert_exporter": "python",
   "pygments_lexer": "ipython3",
   "version": "3.10.11"
  }
 },
 "nbformat": 4,
 "nbformat_minor": 2
}
