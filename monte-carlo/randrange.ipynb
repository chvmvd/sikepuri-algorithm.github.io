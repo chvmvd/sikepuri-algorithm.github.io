{
 "cells": [
  {
   "cell_type": "code",
   "execution_count": 1,
   "metadata": {
    "execution": {
     "iopub.execute_input": "2023-02-04T03:45:26.976515Z",
     "iopub.status.busy": "2023-02-04T03:45:26.976302Z",
     "iopub.status.idle": "2023-02-04T03:45:26.983770Z",
     "shell.execute_reply": "2023-02-04T03:45:26.983202Z"
    }
   },
   "outputs": [],
   "source": [
    "import random"
   ]
  },
  {
   "cell_type": "code",
   "execution_count": 2,
   "metadata": {
    "execution": {
     "iopub.execute_input": "2023-02-04T03:45:26.986139Z",
     "iopub.status.busy": "2023-02-04T03:45:26.985740Z",
     "iopub.status.idle": "2023-02-04T03:45:26.990197Z",
     "shell.execute_reply": "2023-02-04T03:45:26.989562Z"
    }
   },
   "outputs": [
    {
     "name": "stdout",
     "output_type": "stream",
     "text": [
      "3\n"
     ]
    }
   ],
   "source": [
    "print(random.randrange(2, 4, 1))"
   ]
  }
 ],
 "metadata": {
  "language_info": {
   "codemirror_mode": {
    "name": "ipython",
    "version": 3
   },
   "file_extension": ".py",
   "mimetype": "text/x-python",
   "name": "python",
   "nbconvert_exporter": "python",
   "pygments_lexer": "ipython3",
   "version": "3.10.9"
  }
 },
 "nbformat": 4,
 "nbformat_minor": 2
}
