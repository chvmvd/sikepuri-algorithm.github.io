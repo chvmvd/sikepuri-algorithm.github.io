{
 "cells": [
  {
   "cell_type": "code",
   "execution_count": 1,
   "metadata": {
    "execution": {
     "iopub.execute_input": "2023-02-04T04:48:21.191334Z",
     "iopub.status.busy": "2023-02-04T04:48:21.190955Z",
     "iopub.status.idle": "2023-02-04T04:48:21.200818Z",
     "shell.execute_reply": "2023-02-04T04:48:21.199955Z"
    }
   },
   "outputs": [],
   "source": [
    "import random"
   ]
  },
  {
   "cell_type": "code",
   "execution_count": 2,
   "metadata": {
    "execution": {
     "iopub.execute_input": "2023-02-04T04:48:21.204004Z",
     "iopub.status.busy": "2023-02-04T04:48:21.203763Z",
     "iopub.status.idle": "2023-02-04T04:48:21.208412Z",
     "shell.execute_reply": "2023-02-04T04:48:21.206933Z"
    }
   },
   "outputs": [
    {
     "name": "stdout",
     "output_type": "stream",
     "text": [
      "2\n"
     ]
    }
   ],
   "source": [
    "print(random.randrange(2, 4, 1))"
   ]
  }
 ],
 "metadata": {
  "language_info": {
   "codemirror_mode": {
    "name": "ipython",
    "version": 3
   },
   "file_extension": ".py",
   "mimetype": "text/x-python",
   "name": "python",
   "nbconvert_exporter": "python",
   "pygments_lexer": "ipython3",
   "version": "3.10.9"
  }
 },
 "nbformat": 4,
 "nbformat_minor": 2
}
