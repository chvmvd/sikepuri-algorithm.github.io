{
 "cells": [
  {
   "cell_type": "code",
   "execution_count": 1,
   "metadata": {
    "execution": {
     "iopub.execute_input": "2023-02-04T09:42:27.263736Z",
     "iopub.status.busy": "2023-02-04T09:42:27.263357Z",
     "iopub.status.idle": "2023-02-04T09:42:27.270783Z",
     "shell.execute_reply": "2023-02-04T09:42:27.270095Z"
    }
   },
   "outputs": [],
   "source": [
    "import random"
   ]
  },
  {
   "cell_type": "code",
   "execution_count": 2,
   "metadata": {
    "execution": {
     "iopub.execute_input": "2023-02-04T09:42:27.273644Z",
     "iopub.status.busy": "2023-02-04T09:42:27.273267Z",
     "iopub.status.idle": "2023-02-04T09:42:27.277119Z",
     "shell.execute_reply": "2023-02-04T09:42:27.276448Z"
    }
   },
   "outputs": [
    {
     "name": "stdout",
     "output_type": "stream",
     "text": [
      "3\n"
     ]
    }
   ],
   "source": [
    "print(random.randrange(2, 4, 1))"
   ]
  }
 ],
 "metadata": {
  "language_info": {
   "codemirror_mode": {
    "name": "ipython",
    "version": 3
   },
   "file_extension": ".py",
   "mimetype": "text/x-python",
   "name": "python",
   "nbconvert_exporter": "python",
   "pygments_lexer": "ipython3",
   "version": "3.10.9"
  }
 },
 "nbformat": 4,
 "nbformat_minor": 2
}
