{
 "cells": [
  {
   "cell_type": "code",
   "execution_count": 1,
   "metadata": {
    "execution": {
     "iopub.execute_input": "2023-04-30T12:20:33.903604Z",
     "iopub.status.busy": "2023-04-30T12:20:33.903314Z",
     "iopub.status.idle": "2023-04-30T12:20:33.911203Z",
     "shell.execute_reply": "2023-04-30T12:20:33.910622Z"
    }
   },
   "outputs": [],
   "source": [
    "import random"
   ]
  },
  {
   "cell_type": "code",
   "execution_count": 2,
   "metadata": {
    "execution": {
     "iopub.execute_input": "2023-04-30T12:20:33.913997Z",
     "iopub.status.busy": "2023-04-30T12:20:33.913645Z",
     "iopub.status.idle": "2023-04-30T12:20:33.918334Z",
     "shell.execute_reply": "2023-04-30T12:20:33.917669Z"
    }
   },
   "outputs": [
    {
     "name": "stdout",
     "output_type": "stream",
     "text": [
      "2\n"
     ]
    }
   ],
   "source": [
    "print(random.randrange(2, 4, 1))"
   ]
  }
 ],
 "metadata": {
  "language_info": {
   "codemirror_mode": {
    "name": "ipython",
    "version": 3
   },
   "file_extension": ".py",
   "mimetype": "text/x-python",
   "name": "python",
   "nbconvert_exporter": "python",
   "pygments_lexer": "ipython3",
   "version": "3.10.11"
  }
 },
 "nbformat": 4,
 "nbformat_minor": 2
}
