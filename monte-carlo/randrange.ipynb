{
 "cells": [
  {
   "cell_type": "code",
   "execution_count": 1,
   "metadata": {
    "execution": {
     "iopub.execute_input": "2023-02-19T01:20:45.388331Z",
     "iopub.status.busy": "2023-02-19T01:20:45.388115Z",
     "iopub.status.idle": "2023-02-19T01:20:45.395209Z",
     "shell.execute_reply": "2023-02-19T01:20:45.394644Z"
    }
   },
   "outputs": [],
   "source": [
    "import random"
   ]
  },
  {
   "cell_type": "code",
   "execution_count": 2,
   "metadata": {
    "execution": {
     "iopub.execute_input": "2023-02-19T01:20:45.397447Z",
     "iopub.status.busy": "2023-02-19T01:20:45.397243Z",
     "iopub.status.idle": "2023-02-19T01:20:45.400766Z",
     "shell.execute_reply": "2023-02-19T01:20:45.400149Z"
    }
   },
   "outputs": [
    {
     "name": "stdout",
     "output_type": "stream",
     "text": [
      "2\n"
     ]
    }
   ],
   "source": [
    "print(random.randrange(2, 4, 1))"
   ]
  }
 ],
 "metadata": {
  "language_info": {
   "codemirror_mode": {
    "name": "ipython",
    "version": 3
   },
   "file_extension": ".py",
   "mimetype": "text/x-python",
   "name": "python",
   "nbconvert_exporter": "python",
   "pygments_lexer": "ipython3",
   "version": "3.10.10"
  }
 },
 "nbformat": 4,
 "nbformat_minor": 2
}
