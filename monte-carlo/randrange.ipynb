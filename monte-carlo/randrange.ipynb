{
 "cells": [
  {
   "cell_type": "code",
   "execution_count": 1,
   "metadata": {
    "execution": {
     "iopub.execute_input": "2023-04-30T03:24:31.025765Z",
     "iopub.status.busy": "2023-04-30T03:24:31.025535Z",
     "iopub.status.idle": "2023-04-30T03:24:31.033693Z",
     "shell.execute_reply": "2023-04-30T03:24:31.033179Z"
    }
   },
   "outputs": [],
   "source": [
    "import random"
   ]
  },
  {
   "cell_type": "code",
   "execution_count": 2,
   "metadata": {
    "execution": {
     "iopub.execute_input": "2023-04-30T03:24:31.036668Z",
     "iopub.status.busy": "2023-04-30T03:24:31.036174Z",
     "iopub.status.idle": "2023-04-30T03:24:31.040359Z",
     "shell.execute_reply": "2023-04-30T03:24:31.039741Z"
    }
   },
   "outputs": [
    {
     "name": "stdout",
     "output_type": "stream",
     "text": [
      "2\n"
     ]
    }
   ],
   "source": [
    "print(random.randrange(2, 4, 1))"
   ]
  }
 ],
 "metadata": {
  "language_info": {
   "codemirror_mode": {
    "name": "ipython",
    "version": 3
   },
   "file_extension": ".py",
   "mimetype": "text/x-python",
   "name": "python",
   "nbconvert_exporter": "python",
   "pygments_lexer": "ipython3",
   "version": "3.10.11"
  }
 },
 "nbformat": 4,
 "nbformat_minor": 2
}
