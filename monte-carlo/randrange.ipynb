{
 "cells": [
  {
   "cell_type": "code",
   "execution_count": 1,
   "metadata": {
    "execution": {
     "iopub.execute_input": "2023-02-04T07:19:46.991412Z",
     "iopub.status.busy": "2023-02-04T07:19:46.991174Z",
     "iopub.status.idle": "2023-02-04T07:19:46.999403Z",
     "shell.execute_reply": "2023-02-04T07:19:46.998800Z"
    }
   },
   "outputs": [],
   "source": [
    "import random"
   ]
  },
  {
   "cell_type": "code",
   "execution_count": 2,
   "metadata": {
    "execution": {
     "iopub.execute_input": "2023-02-04T07:19:47.002122Z",
     "iopub.status.busy": "2023-02-04T07:19:47.001897Z",
     "iopub.status.idle": "2023-02-04T07:19:47.006499Z",
     "shell.execute_reply": "2023-02-04T07:19:47.005900Z"
    }
   },
   "outputs": [
    {
     "name": "stdout",
     "output_type": "stream",
     "text": [
      "2\n"
     ]
    }
   ],
   "source": [
    "print(random.randrange(2, 4, 1))"
   ]
  }
 ],
 "metadata": {
  "language_info": {
   "codemirror_mode": {
    "name": "ipython",
    "version": 3
   },
   "file_extension": ".py",
   "mimetype": "text/x-python",
   "name": "python",
   "nbconvert_exporter": "python",
   "pygments_lexer": "ipython3",
   "version": "3.10.9"
  }
 },
 "nbformat": 4,
 "nbformat_minor": 2
}
