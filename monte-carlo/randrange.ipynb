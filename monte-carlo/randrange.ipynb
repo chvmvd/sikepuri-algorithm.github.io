{
 "cells": [
  {
   "cell_type": "code",
   "execution_count": 1,
   "metadata": {
    "execution": {
     "iopub.execute_input": "2023-02-04T04:21:00.234240Z",
     "iopub.status.busy": "2023-02-04T04:21:00.234032Z",
     "iopub.status.idle": "2023-02-04T04:21:00.241073Z",
     "shell.execute_reply": "2023-02-04T04:21:00.240474Z"
    }
   },
   "outputs": [],
   "source": [
    "import random"
   ]
  },
  {
   "cell_type": "code",
   "execution_count": 2,
   "metadata": {
    "execution": {
     "iopub.execute_input": "2023-02-04T04:21:00.243450Z",
     "iopub.status.busy": "2023-02-04T04:21:00.243139Z",
     "iopub.status.idle": "2023-02-04T04:21:00.247637Z",
     "shell.execute_reply": "2023-02-04T04:21:00.246995Z"
    }
   },
   "outputs": [
    {
     "name": "stdout",
     "output_type": "stream",
     "text": [
      "3\n"
     ]
    }
   ],
   "source": [
    "print(random.randrange(2, 4, 1))"
   ]
  }
 ],
 "metadata": {
  "language_info": {
   "codemirror_mode": {
    "name": "ipython",
    "version": 3
   },
   "file_extension": ".py",
   "mimetype": "text/x-python",
   "name": "python",
   "nbconvert_exporter": "python",
   "pygments_lexer": "ipython3",
   "version": "3.10.9"
  }
 },
 "nbformat": 4,
 "nbformat_minor": 2
}
