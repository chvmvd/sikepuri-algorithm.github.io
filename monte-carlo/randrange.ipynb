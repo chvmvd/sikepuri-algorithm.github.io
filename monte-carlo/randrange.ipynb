{
 "cells": [
  {
   "cell_type": "code",
   "execution_count": 1,
   "metadata": {
    "execution": {
     "iopub.execute_input": "2023-02-04T04:29:00.993541Z",
     "iopub.status.busy": "2023-02-04T04:29:00.992997Z",
     "iopub.status.idle": "2023-02-04T04:29:01.000394Z",
     "shell.execute_reply": "2023-02-04T04:29:00.999838Z"
    }
   },
   "outputs": [],
   "source": [
    "import random"
   ]
  },
  {
   "cell_type": "code",
   "execution_count": 2,
   "metadata": {
    "execution": {
     "iopub.execute_input": "2023-02-04T04:29:01.002716Z",
     "iopub.status.busy": "2023-02-04T04:29:01.002395Z",
     "iopub.status.idle": "2023-02-04T04:29:01.007764Z",
     "shell.execute_reply": "2023-02-04T04:29:01.006738Z"
    }
   },
   "outputs": [
    {
     "name": "stdout",
     "output_type": "stream",
     "text": [
      "2\n"
     ]
    }
   ],
   "source": [
    "print(random.randrange(2, 4, 1))"
   ]
  }
 ],
 "metadata": {
  "language_info": {
   "codemirror_mode": {
    "name": "ipython",
    "version": 3
   },
   "file_extension": ".py",
   "mimetype": "text/x-python",
   "name": "python",
   "nbconvert_exporter": "python",
   "pygments_lexer": "ipython3",
   "version": "3.10.9"
  }
 },
 "nbformat": 4,
 "nbformat_minor": 2
}
