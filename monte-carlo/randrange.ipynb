{
 "cells": [
  {
   "cell_type": "code",
   "execution_count": 1,
   "metadata": {
    "execution": {
     "iopub.execute_input": "2023-04-30T06:13:13.318840Z",
     "iopub.status.busy": "2023-04-30T06:13:13.318613Z",
     "iopub.status.idle": "2023-04-30T06:13:13.325152Z",
     "shell.execute_reply": "2023-04-30T06:13:13.324569Z"
    }
   },
   "outputs": [],
   "source": [
    "import random"
   ]
  },
  {
   "cell_type": "code",
   "execution_count": 2,
   "metadata": {
    "execution": {
     "iopub.execute_input": "2023-04-30T06:13:13.327481Z",
     "iopub.status.busy": "2023-04-30T06:13:13.327172Z",
     "iopub.status.idle": "2023-04-30T06:13:13.331604Z",
     "shell.execute_reply": "2023-04-30T06:13:13.330988Z"
    }
   },
   "outputs": [
    {
     "name": "stdout",
     "output_type": "stream",
     "text": [
      "2\n"
     ]
    }
   ],
   "source": [
    "print(random.randrange(2, 4, 1))"
   ]
  }
 ],
 "metadata": {
  "language_info": {
   "codemirror_mode": {
    "name": "ipython",
    "version": 3
   },
   "file_extension": ".py",
   "mimetype": "text/x-python",
   "name": "python",
   "nbconvert_exporter": "python",
   "pygments_lexer": "ipython3",
   "version": "3.10.11"
  }
 },
 "nbformat": 4,
 "nbformat_minor": 2
}
