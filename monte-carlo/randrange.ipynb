{
 "cells": [
  {
   "cell_type": "code",
   "execution_count": 1,
   "metadata": {
    "execution": {
     "iopub.execute_input": "2023-02-04T09:51:39.062426Z",
     "iopub.status.busy": "2023-02-04T09:51:39.062146Z",
     "iopub.status.idle": "2023-02-04T09:51:39.072603Z",
     "shell.execute_reply": "2023-02-04T09:51:39.071605Z"
    }
   },
   "outputs": [],
   "source": [
    "import random"
   ]
  },
  {
   "cell_type": "code",
   "execution_count": 2,
   "metadata": {
    "execution": {
     "iopub.execute_input": "2023-02-04T09:51:39.076090Z",
     "iopub.status.busy": "2023-02-04T09:51:39.075801Z",
     "iopub.status.idle": "2023-02-04T09:51:39.080978Z",
     "shell.execute_reply": "2023-02-04T09:51:39.080111Z"
    }
   },
   "outputs": [
    {
     "name": "stdout",
     "output_type": "stream",
     "text": [
      "3\n"
     ]
    }
   ],
   "source": [
    "print(random.randrange(2, 4, 1))"
   ]
  }
 ],
 "metadata": {
  "language_info": {
   "codemirror_mode": {
    "name": "ipython",
    "version": 3
   },
   "file_extension": ".py",
   "mimetype": "text/x-python",
   "name": "python",
   "nbconvert_exporter": "python",
   "pygments_lexer": "ipython3",
   "version": "3.10.9"
  }
 },
 "nbformat": 4,
 "nbformat_minor": 2
}
