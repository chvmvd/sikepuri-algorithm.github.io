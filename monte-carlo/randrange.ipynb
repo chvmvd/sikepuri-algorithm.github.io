{
 "cells": [
  {
   "cell_type": "code",
   "execution_count": 1,
   "metadata": {
    "execution": {
     "iopub.execute_input": "2023-04-30T03:44:48.554082Z",
     "iopub.status.busy": "2023-04-30T03:44:48.553874Z",
     "iopub.status.idle": "2023-04-30T03:44:48.560817Z",
     "shell.execute_reply": "2023-04-30T03:44:48.560253Z"
    }
   },
   "outputs": [],
   "source": [
    "import random"
   ]
  },
  {
   "cell_type": "code",
   "execution_count": 2,
   "metadata": {
    "execution": {
     "iopub.execute_input": "2023-04-30T03:44:48.563399Z",
     "iopub.status.busy": "2023-04-30T03:44:48.562996Z",
     "iopub.status.idle": "2023-04-30T03:44:48.567402Z",
     "shell.execute_reply": "2023-04-30T03:44:48.566780Z"
    }
   },
   "outputs": [
    {
     "name": "stdout",
     "output_type": "stream",
     "text": [
      "3\n"
     ]
    }
   ],
   "source": [
    "print(random.randrange(2, 4, 1))"
   ]
  }
 ],
 "metadata": {
  "language_info": {
   "codemirror_mode": {
    "name": "ipython",
    "version": 3
   },
   "file_extension": ".py",
   "mimetype": "text/x-python",
   "name": "python",
   "nbconvert_exporter": "python",
   "pygments_lexer": "ipython3",
   "version": "3.10.11"
  }
 },
 "nbformat": 4,
 "nbformat_minor": 2
}
