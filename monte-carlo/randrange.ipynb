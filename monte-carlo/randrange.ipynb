{
 "cells": [
  {
   "cell_type": "code",
   "execution_count": 1,
   "metadata": {
    "execution": {
     "iopub.execute_input": "2023-02-19T07:03:37.295858Z",
     "iopub.status.busy": "2023-02-19T07:03:37.295587Z",
     "iopub.status.idle": "2023-02-19T07:03:37.303743Z",
     "shell.execute_reply": "2023-02-19T07:03:37.303123Z"
    }
   },
   "outputs": [],
   "source": [
    "import random"
   ]
  },
  {
   "cell_type": "code",
   "execution_count": 2,
   "metadata": {
    "execution": {
     "iopub.execute_input": "2023-02-19T07:03:37.306393Z",
     "iopub.status.busy": "2023-02-19T07:03:37.305962Z",
     "iopub.status.idle": "2023-02-19T07:03:37.310665Z",
     "shell.execute_reply": "2023-02-19T07:03:37.310005Z"
    }
   },
   "outputs": [
    {
     "name": "stdout",
     "output_type": "stream",
     "text": [
      "2\n"
     ]
    }
   ],
   "source": [
    "print(random.randrange(2, 4, 1))"
   ]
  }
 ],
 "metadata": {
  "language_info": {
   "codemirror_mode": {
    "name": "ipython",
    "version": 3
   },
   "file_extension": ".py",
   "mimetype": "text/x-python",
   "name": "python",
   "nbconvert_exporter": "python",
   "pygments_lexer": "ipython3",
   "version": "3.10.10"
  }
 },
 "nbformat": 4,
 "nbformat_minor": 2
}
