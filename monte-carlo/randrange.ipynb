{
 "cells": [
  {
   "cell_type": "code",
   "execution_count": 1,
   "metadata": {
    "execution": {
     "iopub.execute_input": "2023-02-03T08:24:54.705857Z",
     "iopub.status.busy": "2023-02-03T08:24:54.705429Z",
     "iopub.status.idle": "2023-02-03T08:24:54.715168Z",
     "shell.execute_reply": "2023-02-03T08:24:54.713878Z"
    }
   },
   "outputs": [],
   "source": [
    "import random"
   ]
  },
  {
   "cell_type": "code",
   "execution_count": 2,
   "metadata": {
    "execution": {
     "iopub.execute_input": "2023-02-03T08:24:54.720904Z",
     "iopub.status.busy": "2023-02-03T08:24:54.719572Z",
     "iopub.status.idle": "2023-02-03T08:24:54.726911Z",
     "shell.execute_reply": "2023-02-03T08:24:54.725774Z"
    }
   },
   "outputs": [
    {
     "name": "stdout",
     "output_type": "stream",
     "text": [
      "3\n"
     ]
    }
   ],
   "source": [
    "print(random.randrange(2, 4, 1))"
   ]
  }
 ],
 "metadata": {
  "language_info": {
   "codemirror_mode": {
    "name": "ipython",
    "version": 3
   },
   "file_extension": ".py",
   "mimetype": "text/x-python",
   "name": "python",
   "nbconvert_exporter": "python",
   "pygments_lexer": "ipython3",
   "version": "3.10.9"
  }
 },
 "nbformat": 4,
 "nbformat_minor": 2
}
