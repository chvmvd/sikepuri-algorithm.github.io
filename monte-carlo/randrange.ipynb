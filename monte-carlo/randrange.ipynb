{
 "cells": [
  {
   "cell_type": "code",
   "execution_count": 1,
   "metadata": {
    "execution": {
     "iopub.execute_input": "2023-07-02T10:45:04.649280Z",
     "iopub.status.busy": "2023-07-02T10:45:04.649029Z",
     "iopub.status.idle": "2023-07-02T10:45:04.657548Z",
     "shell.execute_reply": "2023-07-02T10:45:04.656671Z"
    }
   },
   "outputs": [],
   "source": [
    "import random"
   ]
  },
  {
   "cell_type": "code",
   "execution_count": 2,
   "metadata": {
    "execution": {
     "iopub.execute_input": "2023-07-02T10:45:04.660963Z",
     "iopub.status.busy": "2023-07-02T10:45:04.660555Z",
     "iopub.status.idle": "2023-07-02T10:45:04.666285Z",
     "shell.execute_reply": "2023-07-02T10:45:04.665460Z"
    }
   },
   "outputs": [
    {
     "name": "stdout",
     "output_type": "stream",
     "text": [
      "2\n"
     ]
    }
   ],
   "source": [
    "print(random.randrange(2, 4, 1))"
   ]
  }
 ],
 "metadata": {
  "language_info": {
   "codemirror_mode": {
    "name": "ipython",
    "version": 3
   },
   "file_extension": ".py",
   "mimetype": "text/x-python",
   "name": "python",
   "nbconvert_exporter": "python",
   "pygments_lexer": "ipython3",
   "version": "3.10.12"
  }
 },
 "nbformat": 4,
 "nbformat_minor": 2
}
