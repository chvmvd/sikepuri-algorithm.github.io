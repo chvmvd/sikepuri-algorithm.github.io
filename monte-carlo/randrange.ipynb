{
 "cells": [
  {
   "cell_type": "code",
   "execution_count": 1,
   "metadata": {
    "execution": {
     "iopub.execute_input": "2023-02-04T04:13:01.284979Z",
     "iopub.status.busy": "2023-02-04T04:13:01.284434Z",
     "iopub.status.idle": "2023-02-04T04:13:01.291875Z",
     "shell.execute_reply": "2023-02-04T04:13:01.291296Z"
    }
   },
   "outputs": [],
   "source": [
    "import random"
   ]
  },
  {
   "cell_type": "code",
   "execution_count": 2,
   "metadata": {
    "execution": {
     "iopub.execute_input": "2023-02-04T04:13:01.294394Z",
     "iopub.status.busy": "2023-02-04T04:13:01.293921Z",
     "iopub.status.idle": "2023-02-04T04:13:01.298406Z",
     "shell.execute_reply": "2023-02-04T04:13:01.297544Z"
    }
   },
   "outputs": [
    {
     "name": "stdout",
     "output_type": "stream",
     "text": [
      "3\n"
     ]
    }
   ],
   "source": [
    "print(random.randrange(2, 4, 1))"
   ]
  }
 ],
 "metadata": {
  "language_info": {
   "codemirror_mode": {
    "name": "ipython",
    "version": 3
   },
   "file_extension": ".py",
   "mimetype": "text/x-python",
   "name": "python",
   "nbconvert_exporter": "python",
   "pygments_lexer": "ipython3",
   "version": "3.10.9"
  }
 },
 "nbformat": 4,
 "nbformat_minor": 2
}
