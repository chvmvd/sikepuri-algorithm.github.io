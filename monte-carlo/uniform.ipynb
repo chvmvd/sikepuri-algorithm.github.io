{
 "cells": [
  {
   "cell_type": "code",
   "execution_count": 1,
   "metadata": {
    "execution": {
     "iopub.execute_input": "2023-02-04T09:51:40.445297Z",
     "iopub.status.busy": "2023-02-04T09:51:40.444565Z",
     "iopub.status.idle": "2023-02-04T09:51:40.453542Z",
     "shell.execute_reply": "2023-02-04T09:51:40.452547Z"
    }
   },
   "outputs": [],
   "source": [
    "import random"
   ]
  },
  {
   "cell_type": "code",
   "execution_count": 2,
   "metadata": {
    "execution": {
     "iopub.execute_input": "2023-02-04T09:51:40.456533Z",
     "iopub.status.busy": "2023-02-04T09:51:40.456302Z",
     "iopub.status.idle": "2023-02-04T09:51:40.462520Z",
     "shell.execute_reply": "2023-02-04T09:51:40.461678Z"
    }
   },
   "outputs": [
    {
     "name": "stdout",
     "output_type": "stream",
     "text": [
      "3.034206835626227\n"
     ]
    }
   ],
   "source": [
    "print(random.uniform(2, 4))"
   ]
  }
 ],
 "metadata": {
  "language_info": {
   "codemirror_mode": {
    "name": "ipython",
    "version": 3
   },
   "file_extension": ".py",
   "mimetype": "text/x-python",
   "name": "python",
   "nbconvert_exporter": "python",
   "pygments_lexer": "ipython3",
   "version": "3.10.9"
  }
 },
 "nbformat": 4,
 "nbformat_minor": 2
}
