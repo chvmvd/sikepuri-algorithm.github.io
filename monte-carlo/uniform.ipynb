{
 "cells": [
  {
   "cell_type": "code",
   "execution_count": 1,
   "metadata": {
    "execution": {
     "iopub.execute_input": "2023-04-30T06:13:14.653790Z",
     "iopub.status.busy": "2023-04-30T06:13:14.653589Z",
     "iopub.status.idle": "2023-04-30T06:13:14.660700Z",
     "shell.execute_reply": "2023-04-30T06:13:14.660133Z"
    }
   },
   "outputs": [],
   "source": [
    "import random"
   ]
  },
  {
   "cell_type": "code",
   "execution_count": 2,
   "metadata": {
    "execution": {
     "iopub.execute_input": "2023-04-30T06:13:14.663110Z",
     "iopub.status.busy": "2023-04-30T06:13:14.662804Z",
     "iopub.status.idle": "2023-04-30T06:13:14.667251Z",
     "shell.execute_reply": "2023-04-30T06:13:14.666617Z"
    }
   },
   "outputs": [
    {
     "name": "stdout",
     "output_type": "stream",
     "text": [
      "2.3006934125771235\n"
     ]
    }
   ],
   "source": [
    "print(random.uniform(2, 4))"
   ]
  }
 ],
 "metadata": {
  "language_info": {
   "codemirror_mode": {
    "name": "ipython",
    "version": 3
   },
   "file_extension": ".py",
   "mimetype": "text/x-python",
   "name": "python",
   "nbconvert_exporter": "python",
   "pygments_lexer": "ipython3",
   "version": "3.10.11"
  }
 },
 "nbformat": 4,
 "nbformat_minor": 2
}
