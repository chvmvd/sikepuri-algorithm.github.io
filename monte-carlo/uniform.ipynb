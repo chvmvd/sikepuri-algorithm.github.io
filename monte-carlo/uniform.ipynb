{
 "cells": [
  {
   "cell_type": "code",
   "execution_count": 1,
   "metadata": {
    "execution": {
     "iopub.execute_input": "2023-02-06T14:36:12.054258Z",
     "iopub.status.busy": "2023-02-06T14:36:12.054028Z",
     "iopub.status.idle": "2023-02-06T14:36:12.064502Z",
     "shell.execute_reply": "2023-02-06T14:36:12.062334Z"
    }
   },
   "outputs": [],
   "source": [
    "import random"
   ]
  },
  {
   "cell_type": "code",
   "execution_count": 2,
   "metadata": {
    "execution": {
     "iopub.execute_input": "2023-02-06T14:36:12.067634Z",
     "iopub.status.busy": "2023-02-06T14:36:12.067107Z",
     "iopub.status.idle": "2023-02-06T14:36:12.072294Z",
     "shell.execute_reply": "2023-02-06T14:36:12.071704Z"
    }
   },
   "outputs": [
    {
     "name": "stdout",
     "output_type": "stream",
     "text": [
      "3.7679553379796036\n"
     ]
    }
   ],
   "source": [
    "print(random.uniform(2, 4))"
   ]
  }
 ],
 "metadata": {
  "language_info": {
   "codemirror_mode": {
    "name": "ipython",
    "version": 3
   },
   "file_extension": ".py",
   "mimetype": "text/x-python",
   "name": "python",
   "nbconvert_exporter": "python",
   "pygments_lexer": "ipython3",
   "version": "3.10.9"
  }
 },
 "nbformat": 4,
 "nbformat_minor": 2
}
