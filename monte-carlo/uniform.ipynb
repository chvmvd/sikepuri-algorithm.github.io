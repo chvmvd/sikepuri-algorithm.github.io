{
 "cells": [
  {
   "cell_type": "code",
   "execution_count": 1,
   "metadata": {
    "execution": {
     "iopub.execute_input": "2023-02-07T03:32:34.998747Z",
     "iopub.status.busy": "2023-02-07T03:32:34.998282Z",
     "iopub.status.idle": "2023-02-07T03:32:35.005297Z",
     "shell.execute_reply": "2023-02-07T03:32:35.004417Z"
    }
   },
   "outputs": [],
   "source": [
    "import random"
   ]
  },
  {
   "cell_type": "code",
   "execution_count": 2,
   "metadata": {
    "execution": {
     "iopub.execute_input": "2023-02-07T03:32:35.007876Z",
     "iopub.status.busy": "2023-02-07T03:32:35.007569Z",
     "iopub.status.idle": "2023-02-07T03:32:35.012113Z",
     "shell.execute_reply": "2023-02-07T03:32:35.011483Z"
    }
   },
   "outputs": [
    {
     "name": "stdout",
     "output_type": "stream",
     "text": [
      "3.756557665799539\n"
     ]
    }
   ],
   "source": [
    "print(random.uniform(2, 4))"
   ]
  }
 ],
 "metadata": {
  "language_info": {
   "codemirror_mode": {
    "name": "ipython",
    "version": 3
   },
   "file_extension": ".py",
   "mimetype": "text/x-python",
   "name": "python",
   "nbconvert_exporter": "python",
   "pygments_lexer": "ipython3",
   "version": "3.10.9"
  }
 },
 "nbformat": 4,
 "nbformat_minor": 2
}
