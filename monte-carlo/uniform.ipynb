{
 "cells": [
  {
   "cell_type": "code",
   "execution_count": 1,
   "metadata": {
    "execution": {
     "iopub.execute_input": "2023-04-30T03:24:32.456913Z",
     "iopub.status.busy": "2023-04-30T03:24:32.456690Z",
     "iopub.status.idle": "2023-04-30T03:24:32.465035Z",
     "shell.execute_reply": "2023-04-30T03:24:32.464477Z"
    }
   },
   "outputs": [],
   "source": [
    "import random"
   ]
  },
  {
   "cell_type": "code",
   "execution_count": 2,
   "metadata": {
    "execution": {
     "iopub.execute_input": "2023-04-30T03:24:32.467903Z",
     "iopub.status.busy": "2023-04-30T03:24:32.467411Z",
     "iopub.status.idle": "2023-04-30T03:24:32.471646Z",
     "shell.execute_reply": "2023-04-30T03:24:32.471002Z"
    }
   },
   "outputs": [
    {
     "name": "stdout",
     "output_type": "stream",
     "text": [
      "2.09121282708469\n"
     ]
    }
   ],
   "source": [
    "print(random.uniform(2, 4))"
   ]
  }
 ],
 "metadata": {
  "language_info": {
   "codemirror_mode": {
    "name": "ipython",
    "version": 3
   },
   "file_extension": ".py",
   "mimetype": "text/x-python",
   "name": "python",
   "nbconvert_exporter": "python",
   "pygments_lexer": "ipython3",
   "version": "3.10.11"
  }
 },
 "nbformat": 4,
 "nbformat_minor": 2
}
