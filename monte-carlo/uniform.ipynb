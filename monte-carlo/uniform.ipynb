{
 "cells": [
  {
   "cell_type": "code",
   "execution_count": 1,
   "metadata": {
    "execution": {
     "iopub.execute_input": "2023-10-22T04:41:44.385897Z",
     "iopub.status.busy": "2023-10-22T04:41:44.385630Z",
     "iopub.status.idle": "2023-10-22T04:41:44.393810Z",
     "shell.execute_reply": "2023-10-22T04:41:44.393248Z"
    }
   },
   "outputs": [],
   "source": [
    "import random"
   ]
  },
  {
   "cell_type": "code",
   "execution_count": 2,
   "metadata": {
    "execution": {
     "iopub.execute_input": "2023-10-22T04:41:44.396292Z",
     "iopub.status.busy": "2023-10-22T04:41:44.395877Z",
     "iopub.status.idle": "2023-10-22T04:41:44.399578Z",
     "shell.execute_reply": "2023-10-22T04:41:44.398927Z"
    }
   },
   "outputs": [
    {
     "name": "stdout",
     "output_type": "stream",
     "text": [
      "2.120675904328005\n"
     ]
    }
   ],
   "source": [
    "print(random.uniform(2, 4))"
   ]
  }
 ],
 "metadata": {
  "language_info": {
   "codemirror_mode": {
    "name": "ipython",
    "version": 3
   },
   "file_extension": ".py",
   "mimetype": "text/x-python",
   "name": "python",
   "nbconvert_exporter": "python",
   "pygments_lexer": "ipython3",
   "version": "3.10.13"
  }
 },
 "nbformat": 4,
 "nbformat_minor": 2
}
