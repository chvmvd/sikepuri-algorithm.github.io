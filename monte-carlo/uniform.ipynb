{
 "cells": [
  {
   "cell_type": "code",
   "execution_count": 1,
   "metadata": {
    "execution": {
     "iopub.execute_input": "2023-02-04T06:17:18.617772Z",
     "iopub.status.busy": "2023-02-04T06:17:18.617555Z",
     "iopub.status.idle": "2023-02-04T06:17:18.624513Z",
     "shell.execute_reply": "2023-02-04T06:17:18.623964Z"
    }
   },
   "outputs": [],
   "source": [
    "import random"
   ]
  },
  {
   "cell_type": "code",
   "execution_count": 2,
   "metadata": {
    "execution": {
     "iopub.execute_input": "2023-02-04T06:17:18.626851Z",
     "iopub.status.busy": "2023-02-04T06:17:18.626532Z",
     "iopub.status.idle": "2023-02-04T06:17:18.630933Z",
     "shell.execute_reply": "2023-02-04T06:17:18.630295Z"
    }
   },
   "outputs": [
    {
     "name": "stdout",
     "output_type": "stream",
     "text": [
      "2.987611749269538\n"
     ]
    }
   ],
   "source": [
    "print(random.uniform(2, 4))"
   ]
  }
 ],
 "metadata": {
  "language_info": {
   "codemirror_mode": {
    "name": "ipython",
    "version": 3
   },
   "file_extension": ".py",
   "mimetype": "text/x-python",
   "name": "python",
   "nbconvert_exporter": "python",
   "pygments_lexer": "ipython3",
   "version": "3.10.9"
  }
 },
 "nbformat": 4,
 "nbformat_minor": 2
}
