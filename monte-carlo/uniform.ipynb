{
 "cells": [
  {
   "cell_type": "code",
   "execution_count": 1,
   "metadata": {
    "execution": {
     "iopub.execute_input": "2023-04-30T06:43:04.637181Z",
     "iopub.status.busy": "2023-04-30T06:43:04.636914Z",
     "iopub.status.idle": "2023-04-30T06:43:04.646890Z",
     "shell.execute_reply": "2023-04-30T06:43:04.645959Z"
    }
   },
   "outputs": [],
   "source": [
    "import random"
   ]
  },
  {
   "cell_type": "code",
   "execution_count": 2,
   "metadata": {
    "execution": {
     "iopub.execute_input": "2023-04-30T06:43:04.650103Z",
     "iopub.status.busy": "2023-04-30T06:43:04.649481Z",
     "iopub.status.idle": "2023-04-30T06:43:04.654322Z",
     "shell.execute_reply": "2023-04-30T06:43:04.653421Z"
    }
   },
   "outputs": [
    {
     "name": "stdout",
     "output_type": "stream",
     "text": [
      "3.946911205088265\n"
     ]
    }
   ],
   "source": [
    "print(random.uniform(2, 4))"
   ]
  }
 ],
 "metadata": {
  "language_info": {
   "codemirror_mode": {
    "name": "ipython",
    "version": 3
   },
   "file_extension": ".py",
   "mimetype": "text/x-python",
   "name": "python",
   "nbconvert_exporter": "python",
   "pygments_lexer": "ipython3",
   "version": "3.10.11"
  }
 },
 "nbformat": 4,
 "nbformat_minor": 2
}
