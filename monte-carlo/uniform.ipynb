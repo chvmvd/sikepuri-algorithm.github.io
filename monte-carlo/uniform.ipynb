{
 "cells": [
  {
   "cell_type": "code",
   "execution_count": 1,
   "metadata": {
    "execution": {
     "iopub.execute_input": "2023-02-04T04:48:22.809628Z",
     "iopub.status.busy": "2023-02-04T04:48:22.809333Z",
     "iopub.status.idle": "2023-02-04T04:48:22.819005Z",
     "shell.execute_reply": "2023-02-04T04:48:22.818142Z"
    }
   },
   "outputs": [],
   "source": [
    "import random"
   ]
  },
  {
   "cell_type": "code",
   "execution_count": 2,
   "metadata": {
    "execution": {
     "iopub.execute_input": "2023-02-04T04:48:22.821874Z",
     "iopub.status.busy": "2023-02-04T04:48:22.821647Z",
     "iopub.status.idle": "2023-02-04T04:48:22.825752Z",
     "shell.execute_reply": "2023-02-04T04:48:22.825002Z"
    }
   },
   "outputs": [
    {
     "name": "stdout",
     "output_type": "stream",
     "text": [
      "2.3703177773749093\n"
     ]
    }
   ],
   "source": [
    "print(random.uniform(2, 4))"
   ]
  }
 ],
 "metadata": {
  "language_info": {
   "codemirror_mode": {
    "name": "ipython",
    "version": 3
   },
   "file_extension": ".py",
   "mimetype": "text/x-python",
   "name": "python",
   "nbconvert_exporter": "python",
   "pygments_lexer": "ipython3",
   "version": "3.10.9"
  }
 },
 "nbformat": 4,
 "nbformat_minor": 2
}
