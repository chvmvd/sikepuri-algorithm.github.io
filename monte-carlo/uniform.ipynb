{
 "cells": [
  {
   "cell_type": "code",
   "execution_count": 1,
   "metadata": {
    "execution": {
     "iopub.execute_input": "2023-02-19T07:03:38.781982Z",
     "iopub.status.busy": "2023-02-19T07:03:38.781752Z",
     "iopub.status.idle": "2023-02-19T07:03:38.788866Z",
     "shell.execute_reply": "2023-02-19T07:03:38.788162Z"
    }
   },
   "outputs": [],
   "source": [
    "import random"
   ]
  },
  {
   "cell_type": "code",
   "execution_count": 2,
   "metadata": {
    "execution": {
     "iopub.execute_input": "2023-02-19T07:03:38.791655Z",
     "iopub.status.busy": "2023-02-19T07:03:38.791309Z",
     "iopub.status.idle": "2023-02-19T07:03:38.795154Z",
     "shell.execute_reply": "2023-02-19T07:03:38.794488Z"
    }
   },
   "outputs": [
    {
     "name": "stdout",
     "output_type": "stream",
     "text": [
      "3.046469298915873\n"
     ]
    }
   ],
   "source": [
    "print(random.uniform(2, 4))"
   ]
  }
 ],
 "metadata": {
  "language_info": {
   "codemirror_mode": {
    "name": "ipython",
    "version": 3
   },
   "file_extension": ".py",
   "mimetype": "text/x-python",
   "name": "python",
   "nbconvert_exporter": "python",
   "pygments_lexer": "ipython3",
   "version": "3.10.10"
  }
 },
 "nbformat": 4,
 "nbformat_minor": 2
}
