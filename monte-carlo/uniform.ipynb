{
 "cells": [
  {
   "cell_type": "code",
   "execution_count": 1,
   "metadata": {
    "execution": {
     "iopub.execute_input": "2023-04-30T05:03:56.385938Z",
     "iopub.status.busy": "2023-04-30T05:03:56.385672Z",
     "iopub.status.idle": "2023-04-30T05:03:56.393169Z",
     "shell.execute_reply": "2023-04-30T05:03:56.392622Z"
    }
   },
   "outputs": [],
   "source": [
    "import random"
   ]
  },
  {
   "cell_type": "code",
   "execution_count": 2,
   "metadata": {
    "execution": {
     "iopub.execute_input": "2023-04-30T05:03:56.395643Z",
     "iopub.status.busy": "2023-04-30T05:03:56.395268Z",
     "iopub.status.idle": "2023-04-30T05:03:56.398831Z",
     "shell.execute_reply": "2023-04-30T05:03:56.398160Z"
    }
   },
   "outputs": [
    {
     "name": "stdout",
     "output_type": "stream",
     "text": [
      "3.53735192400193\n"
     ]
    }
   ],
   "source": [
    "print(random.uniform(2, 4))"
   ]
  }
 ],
 "metadata": {
  "language_info": {
   "codemirror_mode": {
    "name": "ipython",
    "version": 3
   },
   "file_extension": ".py",
   "mimetype": "text/x-python",
   "name": "python",
   "nbconvert_exporter": "python",
   "pygments_lexer": "ipython3",
   "version": "3.10.11"
  }
 },
 "nbformat": 4,
 "nbformat_minor": 2
}
