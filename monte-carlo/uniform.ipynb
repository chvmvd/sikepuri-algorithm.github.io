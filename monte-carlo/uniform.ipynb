{
 "cells": [
  {
   "cell_type": "code",
   "execution_count": 1,
   "metadata": {
    "execution": {
     "iopub.execute_input": "2023-02-09T14:02:45.983303Z",
     "iopub.status.busy": "2023-02-09T14:02:45.982955Z",
     "iopub.status.idle": "2023-02-09T14:02:45.991342Z",
     "shell.execute_reply": "2023-02-09T14:02:45.990649Z"
    }
   },
   "outputs": [],
   "source": [
    "import random"
   ]
  },
  {
   "cell_type": "code",
   "execution_count": 2,
   "metadata": {
    "execution": {
     "iopub.execute_input": "2023-02-09T14:02:45.994586Z",
     "iopub.status.busy": "2023-02-09T14:02:45.993959Z",
     "iopub.status.idle": "2023-02-09T14:02:45.999463Z",
     "shell.execute_reply": "2023-02-09T14:02:45.998781Z"
    }
   },
   "outputs": [
    {
     "name": "stdout",
     "output_type": "stream",
     "text": [
      "2.072132231692019\n"
     ]
    }
   ],
   "source": [
    "print(random.uniform(2, 4))"
   ]
  }
 ],
 "metadata": {
  "language_info": {
   "codemirror_mode": {
    "name": "ipython",
    "version": 3
   },
   "file_extension": ".py",
   "mimetype": "text/x-python",
   "name": "python",
   "nbconvert_exporter": "python",
   "pygments_lexer": "ipython3",
   "version": "3.10.9"
  }
 },
 "nbformat": 4,
 "nbformat_minor": 2
}
