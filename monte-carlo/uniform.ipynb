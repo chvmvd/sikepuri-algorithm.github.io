{
 "cells": [
  {
   "cell_type": "code",
   "execution_count": 1,
   "metadata": {
    "execution": {
     "iopub.execute_input": "2023-02-06T14:53:03.759580Z",
     "iopub.status.busy": "2023-02-06T14:53:03.759366Z",
     "iopub.status.idle": "2023-02-06T14:53:03.766740Z",
     "shell.execute_reply": "2023-02-06T14:53:03.766195Z"
    }
   },
   "outputs": [],
   "source": [
    "import random"
   ]
  },
  {
   "cell_type": "code",
   "execution_count": 2,
   "metadata": {
    "execution": {
     "iopub.execute_input": "2023-02-06T14:53:03.769182Z",
     "iopub.status.busy": "2023-02-06T14:53:03.768683Z",
     "iopub.status.idle": "2023-02-06T14:53:03.773109Z",
     "shell.execute_reply": "2023-02-06T14:53:03.772550Z"
    }
   },
   "outputs": [
    {
     "name": "stdout",
     "output_type": "stream",
     "text": [
      "2.4193502037468795\n"
     ]
    }
   ],
   "source": [
    "print(random.uniform(2, 4))"
   ]
  }
 ],
 "metadata": {
  "language_info": {
   "codemirror_mode": {
    "name": "ipython",
    "version": 3
   },
   "file_extension": ".py",
   "mimetype": "text/x-python",
   "name": "python",
   "nbconvert_exporter": "python",
   "pygments_lexer": "ipython3",
   "version": "3.10.9"
  }
 },
 "nbformat": 4,
 "nbformat_minor": 2
}
