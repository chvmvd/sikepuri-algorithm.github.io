{
 "cells": [
  {
   "cell_type": "code",
   "execution_count": 1,
   "metadata": {
    "execution": {
     "iopub.execute_input": "2023-04-30T06:21:51.342881Z",
     "iopub.status.busy": "2023-04-30T06:21:51.342048Z",
     "iopub.status.idle": "2023-04-30T06:21:51.350943Z",
     "shell.execute_reply": "2023-04-30T06:21:51.349958Z"
    }
   },
   "outputs": [],
   "source": [
    "import random"
   ]
  },
  {
   "cell_type": "code",
   "execution_count": 2,
   "metadata": {
    "execution": {
     "iopub.execute_input": "2023-04-30T06:21:51.354500Z",
     "iopub.status.busy": "2023-04-30T06:21:51.354228Z",
     "iopub.status.idle": "2023-04-30T06:21:51.360906Z",
     "shell.execute_reply": "2023-04-30T06:21:51.359924Z"
    }
   },
   "outputs": [
    {
     "name": "stdout",
     "output_type": "stream",
     "text": [
      "2.481914326090817\n"
     ]
    }
   ],
   "source": [
    "print(random.uniform(2, 4))"
   ]
  }
 ],
 "metadata": {
  "language_info": {
   "codemirror_mode": {
    "name": "ipython",
    "version": 3
   },
   "file_extension": ".py",
   "mimetype": "text/x-python",
   "name": "python",
   "nbconvert_exporter": "python",
   "pygments_lexer": "ipython3",
   "version": "3.10.11"
  }
 },
 "nbformat": 4,
 "nbformat_minor": 2
}
