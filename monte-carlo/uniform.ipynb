{
 "cells": [
  {
   "cell_type": "code",
   "execution_count": 1,
   "metadata": {
    "execution": {
     "iopub.execute_input": "2023-02-06T23:43:44.205677Z",
     "iopub.status.busy": "2023-02-06T23:43:44.205181Z",
     "iopub.status.idle": "2023-02-06T23:43:44.213314Z",
     "shell.execute_reply": "2023-02-06T23:43:44.212678Z"
    }
   },
   "outputs": [],
   "source": [
    "import random"
   ]
  },
  {
   "cell_type": "code",
   "execution_count": 2,
   "metadata": {
    "execution": {
     "iopub.execute_input": "2023-02-06T23:43:44.216326Z",
     "iopub.status.busy": "2023-02-06T23:43:44.215931Z",
     "iopub.status.idle": "2023-02-06T23:43:44.221077Z",
     "shell.execute_reply": "2023-02-06T23:43:44.220426Z"
    }
   },
   "outputs": [
    {
     "name": "stdout",
     "output_type": "stream",
     "text": [
      "2.8399696210231804\n"
     ]
    }
   ],
   "source": [
    "print(random.uniform(2, 4))"
   ]
  }
 ],
 "metadata": {
  "language_info": {
   "codemirror_mode": {
    "name": "ipython",
    "version": 3
   },
   "file_extension": ".py",
   "mimetype": "text/x-python",
   "name": "python",
   "nbconvert_exporter": "python",
   "pygments_lexer": "ipython3",
   "version": "3.10.9"
  }
 },
 "nbformat": 4,
 "nbformat_minor": 2
}
