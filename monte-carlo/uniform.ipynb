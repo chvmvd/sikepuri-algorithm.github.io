{
 "cells": [
  {
   "cell_type": "code",
   "execution_count": 1,
   "metadata": {
    "execution": {
     "iopub.execute_input": "2023-07-02T10:45:06.207548Z",
     "iopub.status.busy": "2023-07-02T10:45:06.206876Z",
     "iopub.status.idle": "2023-07-02T10:45:06.215972Z",
     "shell.execute_reply": "2023-07-02T10:45:06.214729Z"
    }
   },
   "outputs": [],
   "source": [
    "import random"
   ]
  },
  {
   "cell_type": "code",
   "execution_count": 2,
   "metadata": {
    "execution": {
     "iopub.execute_input": "2023-07-02T10:45:06.218829Z",
     "iopub.status.busy": "2023-07-02T10:45:06.218359Z",
     "iopub.status.idle": "2023-07-02T10:45:06.224052Z",
     "shell.execute_reply": "2023-07-02T10:45:06.223135Z"
    }
   },
   "outputs": [
    {
     "name": "stdout",
     "output_type": "stream",
     "text": [
      "2.2110787700175702\n"
     ]
    }
   ],
   "source": [
    "print(random.uniform(2, 4))"
   ]
  }
 ],
 "metadata": {
  "language_info": {
   "codemirror_mode": {
    "name": "ipython",
    "version": 3
   },
   "file_extension": ".py",
   "mimetype": "text/x-python",
   "name": "python",
   "nbconvert_exporter": "python",
   "pygments_lexer": "ipython3",
   "version": "3.10.12"
  }
 },
 "nbformat": 4,
 "nbformat_minor": 2
}
