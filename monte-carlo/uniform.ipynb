{
 "cells": [
  {
   "cell_type": "code",
   "execution_count": 1,
   "metadata": {
    "execution": {
     "iopub.execute_input": "2023-02-04T04:21:01.659136Z",
     "iopub.status.busy": "2023-02-04T04:21:01.658924Z",
     "iopub.status.idle": "2023-02-04T04:21:01.665931Z",
     "shell.execute_reply": "2023-02-04T04:21:01.665386Z"
    }
   },
   "outputs": [],
   "source": [
    "import random"
   ]
  },
  {
   "cell_type": "code",
   "execution_count": 2,
   "metadata": {
    "execution": {
     "iopub.execute_input": "2023-02-04T04:21:01.668457Z",
     "iopub.status.busy": "2023-02-04T04:21:01.667976Z",
     "iopub.status.idle": "2023-02-04T04:21:01.672624Z",
     "shell.execute_reply": "2023-02-04T04:21:01.671766Z"
    }
   },
   "outputs": [
    {
     "name": "stdout",
     "output_type": "stream",
     "text": [
      "3.7241890950251424\n"
     ]
    }
   ],
   "source": [
    "print(random.uniform(2, 4))"
   ]
  }
 ],
 "metadata": {
  "language_info": {
   "codemirror_mode": {
    "name": "ipython",
    "version": 3
   },
   "file_extension": ".py",
   "mimetype": "text/x-python",
   "name": "python",
   "nbconvert_exporter": "python",
   "pygments_lexer": "ipython3",
   "version": "3.10.9"
  }
 },
 "nbformat": 4,
 "nbformat_minor": 2
}
