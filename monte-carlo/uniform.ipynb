{
 "cells": [
  {
   "cell_type": "code",
   "execution_count": 1,
   "metadata": {
    "execution": {
     "iopub.execute_input": "2023-02-07T03:24:04.909422Z",
     "iopub.status.busy": "2023-02-07T03:24:04.908843Z",
     "iopub.status.idle": "2023-02-07T03:24:04.915745Z",
     "shell.execute_reply": "2023-02-07T03:24:04.915174Z"
    }
   },
   "outputs": [],
   "source": [
    "import random"
   ]
  },
  {
   "cell_type": "code",
   "execution_count": 2,
   "metadata": {
    "execution": {
     "iopub.execute_input": "2023-02-07T03:24:04.918264Z",
     "iopub.status.busy": "2023-02-07T03:24:04.917763Z",
     "iopub.status.idle": "2023-02-07T03:24:04.922279Z",
     "shell.execute_reply": "2023-02-07T03:24:04.921635Z"
    }
   },
   "outputs": [
    {
     "name": "stdout",
     "output_type": "stream",
     "text": [
      "3.0244303776440935\n"
     ]
    }
   ],
   "source": [
    "print(random.uniform(2, 4))"
   ]
  }
 ],
 "metadata": {
  "language_info": {
   "codemirror_mode": {
    "name": "ipython",
    "version": 3
   },
   "file_extension": ".py",
   "mimetype": "text/x-python",
   "name": "python",
   "nbconvert_exporter": "python",
   "pygments_lexer": "ipython3",
   "version": "3.10.9"
  }
 },
 "nbformat": 4,
 "nbformat_minor": 2
}
