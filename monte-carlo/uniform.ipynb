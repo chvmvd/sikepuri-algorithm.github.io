{
 "cells": [
  {
   "cell_type": "code",
   "execution_count": 1,
   "metadata": {
    "execution": {
     "iopub.execute_input": "2023-02-06T06:26:25.845154Z",
     "iopub.status.busy": "2023-02-06T06:26:25.844929Z",
     "iopub.status.idle": "2023-02-06T06:26:25.851859Z",
     "shell.execute_reply": "2023-02-06T06:26:25.851250Z"
    }
   },
   "outputs": [],
   "source": [
    "import random"
   ]
  },
  {
   "cell_type": "code",
   "execution_count": 2,
   "metadata": {
    "execution": {
     "iopub.execute_input": "2023-02-06T06:26:25.854528Z",
     "iopub.status.busy": "2023-02-06T06:26:25.853970Z",
     "iopub.status.idle": "2023-02-06T06:26:25.858229Z",
     "shell.execute_reply": "2023-02-06T06:26:25.857591Z"
    }
   },
   "outputs": [
    {
     "name": "stdout",
     "output_type": "stream",
     "text": [
      "2.9062025998677283\n"
     ]
    }
   ],
   "source": [
    "print(random.uniform(2, 4))"
   ]
  }
 ],
 "metadata": {
  "language_info": {
   "codemirror_mode": {
    "name": "ipython",
    "version": 3
   },
   "file_extension": ".py",
   "mimetype": "text/x-python",
   "name": "python",
   "nbconvert_exporter": "python",
   "pygments_lexer": "ipython3",
   "version": "3.10.9"
  }
 },
 "nbformat": 4,
 "nbformat_minor": 2
}
