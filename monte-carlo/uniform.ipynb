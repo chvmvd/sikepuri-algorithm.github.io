{
 "cells": [
  {
   "cell_type": "code",
   "execution_count": 1,
   "metadata": {
    "execution": {
     "iopub.execute_input": "2023-04-30T03:52:15.044935Z",
     "iopub.status.busy": "2023-04-30T03:52:15.044660Z",
     "iopub.status.idle": "2023-04-30T03:52:15.052355Z",
     "shell.execute_reply": "2023-04-30T03:52:15.051761Z"
    }
   },
   "outputs": [],
   "source": [
    "import random"
   ]
  },
  {
   "cell_type": "code",
   "execution_count": 2,
   "metadata": {
    "execution": {
     "iopub.execute_input": "2023-04-30T03:52:15.055191Z",
     "iopub.status.busy": "2023-04-30T03:52:15.054768Z",
     "iopub.status.idle": "2023-04-30T03:52:15.059363Z",
     "shell.execute_reply": "2023-04-30T03:52:15.058705Z"
    }
   },
   "outputs": [
    {
     "name": "stdout",
     "output_type": "stream",
     "text": [
      "2.7928682305202326\n"
     ]
    }
   ],
   "source": [
    "print(random.uniform(2, 4))"
   ]
  }
 ],
 "metadata": {
  "language_info": {
   "codemirror_mode": {
    "name": "ipython",
    "version": 3
   },
   "file_extension": ".py",
   "mimetype": "text/x-python",
   "name": "python",
   "nbconvert_exporter": "python",
   "pygments_lexer": "ipython3",
   "version": "3.10.11"
  }
 },
 "nbformat": 4,
 "nbformat_minor": 2
}
