{
 "cells": [
  {
   "cell_type": "code",
   "execution_count": 1,
   "metadata": {
    "execution": {
     "iopub.execute_input": "2023-02-04T03:45:28.180813Z",
     "iopub.status.busy": "2023-02-04T03:45:28.180390Z",
     "iopub.status.idle": "2023-02-04T03:45:28.187534Z",
     "shell.execute_reply": "2023-02-04T03:45:28.186980Z"
    }
   },
   "outputs": [],
   "source": [
    "import random"
   ]
  },
  {
   "cell_type": "code",
   "execution_count": 2,
   "metadata": {
    "execution": {
     "iopub.execute_input": "2023-02-04T03:45:28.190058Z",
     "iopub.status.busy": "2023-02-04T03:45:28.189744Z",
     "iopub.status.idle": "2023-02-04T03:45:28.194036Z",
     "shell.execute_reply": "2023-02-04T03:45:28.193472Z"
    }
   },
   "outputs": [
    {
     "name": "stdout",
     "output_type": "stream",
     "text": [
      "2.7959556886992987\n"
     ]
    }
   ],
   "source": [
    "print(random.uniform(2, 4))"
   ]
  }
 ],
 "metadata": {
  "language_info": {
   "codemirror_mode": {
    "name": "ipython",
    "version": 3
   },
   "file_extension": ".py",
   "mimetype": "text/x-python",
   "name": "python",
   "nbconvert_exporter": "python",
   "pygments_lexer": "ipython3",
   "version": "3.10.9"
  }
 },
 "nbformat": 4,
 "nbformat_minor": 2
}
