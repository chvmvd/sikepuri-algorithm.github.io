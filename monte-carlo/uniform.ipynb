{
 "cells": [
  {
   "cell_type": "code",
   "execution_count": 1,
   "metadata": {
    "execution": {
     "iopub.execute_input": "2023-02-06T14:44:32.004360Z",
     "iopub.status.busy": "2023-02-06T14:44:32.004095Z",
     "iopub.status.idle": "2023-02-06T14:44:32.012441Z",
     "shell.execute_reply": "2023-02-06T14:44:32.011754Z"
    }
   },
   "outputs": [],
   "source": [
    "import random"
   ]
  },
  {
   "cell_type": "code",
   "execution_count": 2,
   "metadata": {
    "execution": {
     "iopub.execute_input": "2023-02-06T14:44:32.015617Z",
     "iopub.status.busy": "2023-02-06T14:44:32.015067Z",
     "iopub.status.idle": "2023-02-06T14:44:32.020449Z",
     "shell.execute_reply": "2023-02-06T14:44:32.019837Z"
    }
   },
   "outputs": [
    {
     "name": "stdout",
     "output_type": "stream",
     "text": [
      "3.6325037545381114\n"
     ]
    }
   ],
   "source": [
    "print(random.uniform(2, 4))"
   ]
  }
 ],
 "metadata": {
  "language_info": {
   "codemirror_mode": {
    "name": "ipython",
    "version": 3
   },
   "file_extension": ".py",
   "mimetype": "text/x-python",
   "name": "python",
   "nbconvert_exporter": "python",
   "pygments_lexer": "ipython3",
   "version": "3.10.9"
  }
 },
 "nbformat": 4,
 "nbformat_minor": 2
}
