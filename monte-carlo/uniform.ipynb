{
 "cells": [
  {
   "cell_type": "code",
   "execution_count": 1,
   "metadata": {
    "execution": {
     "iopub.execute_input": "2023-02-07T00:44:35.422756Z",
     "iopub.status.busy": "2023-02-07T00:44:35.422538Z",
     "iopub.status.idle": "2023-02-07T00:44:35.429550Z",
     "shell.execute_reply": "2023-02-07T00:44:35.428995Z"
    }
   },
   "outputs": [],
   "source": [
    "import random"
   ]
  },
  {
   "cell_type": "code",
   "execution_count": 2,
   "metadata": {
    "execution": {
     "iopub.execute_input": "2023-02-07T00:44:35.431827Z",
     "iopub.status.busy": "2023-02-07T00:44:35.431498Z",
     "iopub.status.idle": "2023-02-07T00:44:35.435656Z",
     "shell.execute_reply": "2023-02-07T00:44:35.435031Z"
    }
   },
   "outputs": [
    {
     "name": "stdout",
     "output_type": "stream",
     "text": [
      "3.959981727539885\n"
     ]
    }
   ],
   "source": [
    "print(random.uniform(2, 4))"
   ]
  }
 ],
 "metadata": {
  "language_info": {
   "codemirror_mode": {
    "name": "ipython",
    "version": 3
   },
   "file_extension": ".py",
   "mimetype": "text/x-python",
   "name": "python",
   "nbconvert_exporter": "python",
   "pygments_lexer": "ipython3",
   "version": "3.10.9"
  }
 },
 "nbformat": 4,
 "nbformat_minor": 2
}
