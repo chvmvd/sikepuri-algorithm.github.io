{
 "cells": [
  {
   "cell_type": "code",
   "execution_count": 1,
   "metadata": {
    "execution": {
     "iopub.execute_input": "2023-02-06T07:47:43.231968Z",
     "iopub.status.busy": "2023-02-06T07:47:43.231476Z",
     "iopub.status.idle": "2023-02-06T07:47:43.239663Z",
     "shell.execute_reply": "2023-02-06T07:47:43.238973Z"
    }
   },
   "outputs": [],
   "source": [
    "import random"
   ]
  },
  {
   "cell_type": "code",
   "execution_count": 2,
   "metadata": {
    "execution": {
     "iopub.execute_input": "2023-02-06T07:47:43.242367Z",
     "iopub.status.busy": "2023-02-06T07:47:43.241883Z",
     "iopub.status.idle": "2023-02-06T07:47:43.245739Z",
     "shell.execute_reply": "2023-02-06T07:47:43.245015Z"
    }
   },
   "outputs": [
    {
     "name": "stdout",
     "output_type": "stream",
     "text": [
      "3.491588772705697\n"
     ]
    }
   ],
   "source": [
    "print(random.uniform(2, 4))"
   ]
  }
 ],
 "metadata": {
  "language_info": {
   "codemirror_mode": {
    "name": "ipython",
    "version": 3
   },
   "file_extension": ".py",
   "mimetype": "text/x-python",
   "name": "python",
   "nbconvert_exporter": "python",
   "pygments_lexer": "ipython3",
   "version": "3.10.9"
  }
 },
 "nbformat": 4,
 "nbformat_minor": 2
}
