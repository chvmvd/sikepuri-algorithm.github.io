{
 "cells": [
  {
   "cell_type": "code",
   "execution_count": 1,
   "metadata": {
    "execution": {
     "iopub.execute_input": "2023-04-30T12:20:35.350348Z",
     "iopub.status.busy": "2023-04-30T12:20:35.349944Z",
     "iopub.status.idle": "2023-04-30T12:20:35.358398Z",
     "shell.execute_reply": "2023-04-30T12:20:35.357776Z"
    }
   },
   "outputs": [],
   "source": [
    "import random"
   ]
  },
  {
   "cell_type": "code",
   "execution_count": 2,
   "metadata": {
    "execution": {
     "iopub.execute_input": "2023-04-30T12:20:35.361138Z",
     "iopub.status.busy": "2023-04-30T12:20:35.360721Z",
     "iopub.status.idle": "2023-04-30T12:20:35.365420Z",
     "shell.execute_reply": "2023-04-30T12:20:35.364754Z"
    }
   },
   "outputs": [
    {
     "name": "stdout",
     "output_type": "stream",
     "text": [
      "2.5780265834744553\n"
     ]
    }
   ],
   "source": [
    "print(random.uniform(2, 4))"
   ]
  }
 ],
 "metadata": {
  "language_info": {
   "codemirror_mode": {
    "name": "ipython",
    "version": 3
   },
   "file_extension": ".py",
   "mimetype": "text/x-python",
   "name": "python",
   "nbconvert_exporter": "python",
   "pygments_lexer": "ipython3",
   "version": "3.10.11"
  }
 },
 "nbformat": 4,
 "nbformat_minor": 2
}
