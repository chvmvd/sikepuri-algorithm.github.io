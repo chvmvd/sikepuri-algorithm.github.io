{
 "cells": [
  {
   "cell_type": "code",
   "execution_count": 1,
   "metadata": {
    "execution": {
     "iopub.execute_input": "2023-02-07T03:24:00.888781Z",
     "iopub.status.busy": "2023-02-07T03:24:00.888402Z",
     "iopub.status.idle": "2023-02-07T03:24:00.894950Z",
     "shell.execute_reply": "2023-02-07T03:24:00.894402Z"
    }
   },
   "outputs": [],
   "source": [
    "import random"
   ]
  },
  {
   "cell_type": "code",
   "execution_count": 2,
   "metadata": {
    "execution": {
     "iopub.execute_input": "2023-02-07T03:24:00.897381Z",
     "iopub.status.busy": "2023-02-07T03:24:00.896987Z",
     "iopub.status.idle": "2023-02-07T03:24:00.900538Z",
     "shell.execute_reply": "2023-02-07T03:24:00.899989Z"
    }
   },
   "outputs": [
    {
     "name": "stdout",
     "output_type": "stream",
     "text": [
      "4\n"
     ]
    }
   ],
   "source": [
    "print(random.randint(2, 4))"
   ]
  }
 ],
 "metadata": {
  "language_info": {
   "codemirror_mode": {
    "name": "ipython",
    "version": 3
   },
   "file_extension": ".py",
   "mimetype": "text/x-python",
   "name": "python",
   "nbconvert_exporter": "python",
   "pygments_lexer": "ipython3",
   "version": "3.10.9"
  }
 },
 "nbformat": 4,
 "nbformat_minor": 2
}
