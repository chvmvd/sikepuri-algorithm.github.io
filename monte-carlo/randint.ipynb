{
 "cells": [
  {
   "cell_type": "code",
   "execution_count": 1,
   "metadata": {
    "execution": {
     "iopub.execute_input": "2023-02-06T07:47:39.599900Z",
     "iopub.status.busy": "2023-02-06T07:47:39.599255Z",
     "iopub.status.idle": "2023-02-06T07:47:39.606514Z",
     "shell.execute_reply": "2023-02-06T07:47:39.605970Z"
    }
   },
   "outputs": [],
   "source": [
    "import random"
   ]
  },
  {
   "cell_type": "code",
   "execution_count": 2,
   "metadata": {
    "execution": {
     "iopub.execute_input": "2023-02-06T07:47:39.609019Z",
     "iopub.status.busy": "2023-02-06T07:47:39.608561Z",
     "iopub.status.idle": "2023-02-06T07:47:39.613494Z",
     "shell.execute_reply": "2023-02-06T07:47:39.612927Z"
    }
   },
   "outputs": [
    {
     "name": "stdout",
     "output_type": "stream",
     "text": [
      "3\n"
     ]
    }
   ],
   "source": [
    "print(random.randint(2, 4))"
   ]
  }
 ],
 "metadata": {
  "language_info": {
   "codemirror_mode": {
    "name": "ipython",
    "version": 3
   },
   "file_extension": ".py",
   "mimetype": "text/x-python",
   "name": "python",
   "nbconvert_exporter": "python",
   "pygments_lexer": "ipython3",
   "version": "3.10.9"
  }
 },
 "nbformat": 4,
 "nbformat_minor": 2
}
