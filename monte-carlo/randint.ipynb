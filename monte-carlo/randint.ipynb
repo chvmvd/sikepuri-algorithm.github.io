{
 "cells": [
  {
   "cell_type": "code",
   "execution_count": 1,
   "metadata": {
    "execution": {
     "iopub.execute_input": "2023-04-30T12:20:31.268846Z",
     "iopub.status.busy": "2023-04-30T12:20:31.268575Z",
     "iopub.status.idle": "2023-04-30T12:20:31.276245Z",
     "shell.execute_reply": "2023-04-30T12:20:31.275630Z"
    }
   },
   "outputs": [],
   "source": [
    "import random"
   ]
  },
  {
   "cell_type": "code",
   "execution_count": 2,
   "metadata": {
    "execution": {
     "iopub.execute_input": "2023-04-30T12:20:31.279066Z",
     "iopub.status.busy": "2023-04-30T12:20:31.278736Z",
     "iopub.status.idle": "2023-04-30T12:20:31.283482Z",
     "shell.execute_reply": "2023-04-30T12:20:31.282082Z"
    }
   },
   "outputs": [
    {
     "name": "stdout",
     "output_type": "stream",
     "text": [
      "2\n"
     ]
    }
   ],
   "source": [
    "print(random.randint(2, 4))"
   ]
  }
 ],
 "metadata": {
  "language_info": {
   "codemirror_mode": {
    "name": "ipython",
    "version": 3
   },
   "file_extension": ".py",
   "mimetype": "text/x-python",
   "name": "python",
   "nbconvert_exporter": "python",
   "pygments_lexer": "ipython3",
   "version": "3.10.11"
  }
 },
 "nbformat": 4,
 "nbformat_minor": 2
}
