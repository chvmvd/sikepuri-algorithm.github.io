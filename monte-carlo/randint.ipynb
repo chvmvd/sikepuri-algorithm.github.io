{
 "cells": [
  {
   "cell_type": "code",
   "execution_count": 1,
   "metadata": {
    "execution": {
     "iopub.execute_input": "2023-02-09T14:02:38.647564Z",
     "iopub.status.busy": "2023-02-09T14:02:38.647255Z",
     "iopub.status.idle": "2023-02-09T14:02:38.656586Z",
     "shell.execute_reply": "2023-02-09T14:02:38.655750Z"
    }
   },
   "outputs": [],
   "source": [
    "import random"
   ]
  },
  {
   "cell_type": "code",
   "execution_count": 2,
   "metadata": {
    "execution": {
     "iopub.execute_input": "2023-02-09T14:02:38.660316Z",
     "iopub.status.busy": "2023-02-09T14:02:38.659872Z",
     "iopub.status.idle": "2023-02-09T14:02:38.664964Z",
     "shell.execute_reply": "2023-02-09T14:02:38.664127Z"
    }
   },
   "outputs": [
    {
     "name": "stdout",
     "output_type": "stream",
     "text": [
      "3\n"
     ]
    }
   ],
   "source": [
    "print(random.randint(2, 4))"
   ]
  }
 ],
 "metadata": {
  "language_info": {
   "codemirror_mode": {
    "name": "ipython",
    "version": 3
   },
   "file_extension": ".py",
   "mimetype": "text/x-python",
   "name": "python",
   "nbconvert_exporter": "python",
   "pygments_lexer": "ipython3",
   "version": "3.10.9"
  }
 },
 "nbformat": 4,
 "nbformat_minor": 2
}
