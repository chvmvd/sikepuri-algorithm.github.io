{
 "cells": [
  {
   "cell_type": "code",
   "execution_count": 1,
   "metadata": {
    "execution": {
     "iopub.execute_input": "2023-02-04T06:17:14.612811Z",
     "iopub.status.busy": "2023-02-04T06:17:14.612597Z",
     "iopub.status.idle": "2023-02-04T06:17:14.620144Z",
     "shell.execute_reply": "2023-02-04T06:17:14.619601Z"
    }
   },
   "outputs": [],
   "source": [
    "import random"
   ]
  },
  {
   "cell_type": "code",
   "execution_count": 2,
   "metadata": {
    "execution": {
     "iopub.execute_input": "2023-02-04T06:17:14.622685Z",
     "iopub.status.busy": "2023-02-04T06:17:14.622195Z",
     "iopub.status.idle": "2023-02-04T06:17:14.626345Z",
     "shell.execute_reply": "2023-02-04T06:17:14.625779Z"
    }
   },
   "outputs": [
    {
     "name": "stdout",
     "output_type": "stream",
     "text": [
      "4\n"
     ]
    }
   ],
   "source": [
    "print(random.randint(2, 4))"
   ]
  }
 ],
 "metadata": {
  "language_info": {
   "codemirror_mode": {
    "name": "ipython",
    "version": 3
   },
   "file_extension": ".py",
   "mimetype": "text/x-python",
   "name": "python",
   "nbconvert_exporter": "python",
   "pygments_lexer": "ipython3",
   "version": "3.10.9"
  }
 },
 "nbformat": 4,
 "nbformat_minor": 2
}
