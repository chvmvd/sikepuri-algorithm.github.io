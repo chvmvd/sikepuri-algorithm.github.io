{
 "cells": [
  {
   "cell_type": "code",
   "execution_count": 1,
   "metadata": {
    "execution": {
     "iopub.execute_input": "2023-02-04T04:48:17.958327Z",
     "iopub.status.busy": "2023-02-04T04:48:17.958003Z",
     "iopub.status.idle": "2023-02-04T04:48:17.968073Z",
     "shell.execute_reply": "2023-02-04T04:48:17.966919Z"
    }
   },
   "outputs": [],
   "source": [
    "import random"
   ]
  },
  {
   "cell_type": "code",
   "execution_count": 2,
   "metadata": {
    "execution": {
     "iopub.execute_input": "2023-02-04T04:48:17.971591Z",
     "iopub.status.busy": "2023-02-04T04:48:17.971241Z",
     "iopub.status.idle": "2023-02-04T04:48:17.977546Z",
     "shell.execute_reply": "2023-02-04T04:48:17.976668Z"
    }
   },
   "outputs": [
    {
     "name": "stdout",
     "output_type": "stream",
     "text": [
      "2\n"
     ]
    }
   ],
   "source": [
    "print(random.randint(2, 4))"
   ]
  }
 ],
 "metadata": {
  "language_info": {
   "codemirror_mode": {
    "name": "ipython",
    "version": 3
   },
   "file_extension": ".py",
   "mimetype": "text/x-python",
   "name": "python",
   "nbconvert_exporter": "python",
   "pygments_lexer": "ipython3",
   "version": "3.10.9"
  }
 },
 "nbformat": 4,
 "nbformat_minor": 2
}
