{
 "cells": [
  {
   "cell_type": "code",
   "execution_count": 1,
   "metadata": {
    "execution": {
     "iopub.execute_input": "2023-02-04T09:51:36.130331Z",
     "iopub.status.busy": "2023-02-04T09:51:36.129927Z",
     "iopub.status.idle": "2023-02-04T09:51:36.139382Z",
     "shell.execute_reply": "2023-02-04T09:51:36.138439Z"
    }
   },
   "outputs": [],
   "source": [
    "import random"
   ]
  },
  {
   "cell_type": "code",
   "execution_count": 2,
   "metadata": {
    "execution": {
     "iopub.execute_input": "2023-02-04T09:51:36.143784Z",
     "iopub.status.busy": "2023-02-04T09:51:36.143512Z",
     "iopub.status.idle": "2023-02-04T09:51:36.149076Z",
     "shell.execute_reply": "2023-02-04T09:51:36.148155Z"
    }
   },
   "outputs": [
    {
     "name": "stdout",
     "output_type": "stream",
     "text": [
      "3\n"
     ]
    }
   ],
   "source": [
    "print(random.randint(2, 4))"
   ]
  }
 ],
 "metadata": {
  "language_info": {
   "codemirror_mode": {
    "name": "ipython",
    "version": 3
   },
   "file_extension": ".py",
   "mimetype": "text/x-python",
   "name": "python",
   "nbconvert_exporter": "python",
   "pygments_lexer": "ipython3",
   "version": "3.10.9"
  }
 },
 "nbformat": 4,
 "nbformat_minor": 2
}
