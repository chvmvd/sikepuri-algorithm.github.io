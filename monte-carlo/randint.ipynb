{
 "cells": [
  {
   "cell_type": "code",
   "execution_count": 1,
   "metadata": {
    "execution": {
     "iopub.execute_input": "2023-02-03T09:01:07.777203Z",
     "iopub.status.busy": "2023-02-03T09:01:07.776925Z",
     "iopub.status.idle": "2023-02-03T09:01:07.786611Z",
     "shell.execute_reply": "2023-02-03T09:01:07.785701Z"
    }
   },
   "outputs": [],
   "source": [
    "import random"
   ]
  },
  {
   "cell_type": "code",
   "execution_count": 2,
   "metadata": {
    "execution": {
     "iopub.execute_input": "2023-02-03T09:01:07.789825Z",
     "iopub.status.busy": "2023-02-03T09:01:07.789543Z",
     "iopub.status.idle": "2023-02-03T09:01:07.794588Z",
     "shell.execute_reply": "2023-02-03T09:01:07.793621Z"
    }
   },
   "outputs": [
    {
     "name": "stdout",
     "output_type": "stream",
     "text": [
      "3\n"
     ]
    }
   ],
   "source": [
    "print(random.randint(2, 4))"
   ]
  }
 ],
 "metadata": {
  "language_info": {
   "codemirror_mode": {
    "name": "ipython",
    "version": 3
   },
   "file_extension": ".py",
   "mimetype": "text/x-python",
   "name": "python",
   "nbconvert_exporter": "python",
   "pygments_lexer": "ipython3",
   "version": "3.10.9"
  }
 },
 "nbformat": 4,
 "nbformat_minor": 2
}
