{
 "cells": [
  {
   "cell_type": "code",
   "execution_count": 1,
   "metadata": {
    "execution": {
     "iopub.execute_input": "2023-02-06T06:26:21.414149Z",
     "iopub.status.busy": "2023-02-06T06:26:21.413913Z",
     "iopub.status.idle": "2023-02-06T06:26:21.421156Z",
     "shell.execute_reply": "2023-02-06T06:26:21.420550Z"
    }
   },
   "outputs": [],
   "source": [
    "import random"
   ]
  },
  {
   "cell_type": "code",
   "execution_count": 2,
   "metadata": {
    "execution": {
     "iopub.execute_input": "2023-02-06T06:26:21.423880Z",
     "iopub.status.busy": "2023-02-06T06:26:21.423382Z",
     "iopub.status.idle": "2023-02-06T06:26:21.427958Z",
     "shell.execute_reply": "2023-02-06T06:26:21.427323Z"
    }
   },
   "outputs": [
    {
     "name": "stdout",
     "output_type": "stream",
     "text": [
      "4\n"
     ]
    }
   ],
   "source": [
    "print(random.randint(2, 4))"
   ]
  }
 ],
 "metadata": {
  "language_info": {
   "codemirror_mode": {
    "name": "ipython",
    "version": 3
   },
   "file_extension": ".py",
   "mimetype": "text/x-python",
   "name": "python",
   "nbconvert_exporter": "python",
   "pygments_lexer": "ipython3",
   "version": "3.10.9"
  }
 },
 "nbformat": 4,
 "nbformat_minor": 2
}
