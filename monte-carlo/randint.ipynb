{
 "cells": [
  {
   "cell_type": "code",
   "execution_count": 1,
   "metadata": {
    "execution": {
     "iopub.execute_input": "2023-02-04T04:12:58.669037Z",
     "iopub.status.busy": "2023-02-04T04:12:58.668647Z",
     "iopub.status.idle": "2023-02-04T04:12:58.675192Z",
     "shell.execute_reply": "2023-02-04T04:12:58.674634Z"
    }
   },
   "outputs": [],
   "source": [
    "import random"
   ]
  },
  {
   "cell_type": "code",
   "execution_count": 2,
   "metadata": {
    "execution": {
     "iopub.execute_input": "2023-02-04T04:12:58.677680Z",
     "iopub.status.busy": "2023-02-04T04:12:58.677136Z",
     "iopub.status.idle": "2023-02-04T04:12:58.681423Z",
     "shell.execute_reply": "2023-02-04T04:12:58.680842Z"
    }
   },
   "outputs": [
    {
     "name": "stdout",
     "output_type": "stream",
     "text": [
      "2\n"
     ]
    }
   ],
   "source": [
    "print(random.randint(2, 4))"
   ]
  }
 ],
 "metadata": {
  "language_info": {
   "codemirror_mode": {
    "name": "ipython",
    "version": 3
   },
   "file_extension": ".py",
   "mimetype": "text/x-python",
   "name": "python",
   "nbconvert_exporter": "python",
   "pygments_lexer": "ipython3",
   "version": "3.10.9"
  }
 },
 "nbformat": 4,
 "nbformat_minor": 2
}
