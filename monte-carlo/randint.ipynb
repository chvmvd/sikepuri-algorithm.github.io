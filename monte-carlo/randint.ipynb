{
 "cells": [
  {
   "cell_type": "code",
   "execution_count": 1,
   "metadata": {
    "execution": {
     "iopub.execute_input": "2023-04-30T06:21:46.947260Z",
     "iopub.status.busy": "2023-04-30T06:21:46.946970Z",
     "iopub.status.idle": "2023-04-30T06:21:46.956652Z",
     "shell.execute_reply": "2023-04-30T06:21:46.955605Z"
    }
   },
   "outputs": [],
   "source": [
    "import random"
   ]
  },
  {
   "cell_type": "code",
   "execution_count": 2,
   "metadata": {
    "execution": {
     "iopub.execute_input": "2023-04-30T06:21:46.960327Z",
     "iopub.status.busy": "2023-04-30T06:21:46.959774Z",
     "iopub.status.idle": "2023-04-30T06:21:46.965908Z",
     "shell.execute_reply": "2023-04-30T06:21:46.965094Z"
    }
   },
   "outputs": [
    {
     "name": "stdout",
     "output_type": "stream",
     "text": [
      "4\n"
     ]
    }
   ],
   "source": [
    "print(random.randint(2, 4))"
   ]
  }
 ],
 "metadata": {
  "language_info": {
   "codemirror_mode": {
    "name": "ipython",
    "version": 3
   },
   "file_extension": ".py",
   "mimetype": "text/x-python",
   "name": "python",
   "nbconvert_exporter": "python",
   "pygments_lexer": "ipython3",
   "version": "3.10.11"
  }
 },
 "nbformat": 4,
 "nbformat_minor": 2
}
