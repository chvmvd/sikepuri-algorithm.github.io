{
 "cells": [
  {
   "cell_type": "code",
   "execution_count": 1,
   "metadata": {
    "execution": {
     "iopub.execute_input": "2023-04-30T03:52:10.693109Z",
     "iopub.status.busy": "2023-04-30T03:52:10.692821Z",
     "iopub.status.idle": "2023-04-30T03:52:10.700918Z",
     "shell.execute_reply": "2023-04-30T03:52:10.700306Z"
    }
   },
   "outputs": [],
   "source": [
    "import random"
   ]
  },
  {
   "cell_type": "code",
   "execution_count": 2,
   "metadata": {
    "execution": {
     "iopub.execute_input": "2023-04-30T03:52:10.703488Z",
     "iopub.status.busy": "2023-04-30T03:52:10.703094Z",
     "iopub.status.idle": "2023-04-30T03:52:10.708213Z",
     "shell.execute_reply": "2023-04-30T03:52:10.707434Z"
    }
   },
   "outputs": [
    {
     "name": "stdout",
     "output_type": "stream",
     "text": [
      "2\n"
     ]
    }
   ],
   "source": [
    "print(random.randint(2, 4))"
   ]
  }
 ],
 "metadata": {
  "language_info": {
   "codemirror_mode": {
    "name": "ipython",
    "version": 3
   },
   "file_extension": ".py",
   "mimetype": "text/x-python",
   "name": "python",
   "nbconvert_exporter": "python",
   "pygments_lexer": "ipython3",
   "version": "3.10.11"
  }
 },
 "nbformat": 4,
 "nbformat_minor": 2
}
