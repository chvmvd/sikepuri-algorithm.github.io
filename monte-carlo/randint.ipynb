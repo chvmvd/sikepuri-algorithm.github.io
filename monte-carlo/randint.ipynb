{
 "cells": [
  {
   "cell_type": "code",
   "execution_count": 1,
   "metadata": {
    "execution": {
     "iopub.execute_input": "2023-04-30T06:13:10.406494Z",
     "iopub.status.busy": "2023-04-30T06:13:10.406287Z",
     "iopub.status.idle": "2023-04-30T06:13:10.413191Z",
     "shell.execute_reply": "2023-04-30T06:13:10.412643Z"
    }
   },
   "outputs": [],
   "source": [
    "import random"
   ]
  },
  {
   "cell_type": "code",
   "execution_count": 2,
   "metadata": {
    "execution": {
     "iopub.execute_input": "2023-04-30T06:13:10.415889Z",
     "iopub.status.busy": "2023-04-30T06:13:10.415576Z",
     "iopub.status.idle": "2023-04-30T06:13:10.419884Z",
     "shell.execute_reply": "2023-04-30T06:13:10.419326Z"
    }
   },
   "outputs": [
    {
     "name": "stdout",
     "output_type": "stream",
     "text": [
      "3\n"
     ]
    }
   ],
   "source": [
    "print(random.randint(2, 4))"
   ]
  }
 ],
 "metadata": {
  "language_info": {
   "codemirror_mode": {
    "name": "ipython",
    "version": 3
   },
   "file_extension": ".py",
   "mimetype": "text/x-python",
   "name": "python",
   "nbconvert_exporter": "python",
   "pygments_lexer": "ipython3",
   "version": "3.10.11"
  }
 },
 "nbformat": 4,
 "nbformat_minor": 2
}
