{
 "cells": [
  {
   "cell_type": "code",
   "execution_count": 1,
   "metadata": {
    "execution": {
     "iopub.execute_input": "2023-02-06T14:52:59.796093Z",
     "iopub.status.busy": "2023-02-06T14:52:59.795556Z",
     "iopub.status.idle": "2023-02-06T14:52:59.803142Z",
     "shell.execute_reply": "2023-02-06T14:52:59.802582Z"
    }
   },
   "outputs": [],
   "source": [
    "import random"
   ]
  },
  {
   "cell_type": "code",
   "execution_count": 2,
   "metadata": {
    "execution": {
     "iopub.execute_input": "2023-02-06T14:52:59.805668Z",
     "iopub.status.busy": "2023-02-06T14:52:59.805349Z",
     "iopub.status.idle": "2023-02-06T14:52:59.809593Z",
     "shell.execute_reply": "2023-02-06T14:52:59.809004Z"
    }
   },
   "outputs": [
    {
     "name": "stdout",
     "output_type": "stream",
     "text": [
      "4\n"
     ]
    }
   ],
   "source": [
    "print(random.randint(2, 4))"
   ]
  }
 ],
 "metadata": {
  "language_info": {
   "codemirror_mode": {
    "name": "ipython",
    "version": 3
   },
   "file_extension": ".py",
   "mimetype": "text/x-python",
   "name": "python",
   "nbconvert_exporter": "python",
   "pygments_lexer": "ipython3",
   "version": "3.10.9"
  }
 },
 "nbformat": 4,
 "nbformat_minor": 2
}
