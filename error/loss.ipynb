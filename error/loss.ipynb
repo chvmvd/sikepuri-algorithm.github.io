{
 "cells": [
  {
   "cell_type": "code",
   "execution_count": 1,
   "metadata": {
    "execution": {
     "iopub.execute_input": "2023-02-04T09:39:34.617250Z",
     "iopub.status.busy": "2023-02-04T09:39:34.616987Z",
     "iopub.status.idle": "2023-02-04T09:39:35.496233Z",
     "shell.execute_reply": "2023-02-04T09:39:35.495378Z"
    }
   },
   "outputs": [
    {
     "name": "stdout",
     "output_type": "stream",
     "text": [
      "10000000000.0\n"
     ]
    }
   ],
   "source": [
    "r = 0\n",
    "r += 10000000000\n",
    "for i in range(10000000):\n",
    "    r += 0.0000001\n",
    "print(r)"
   ]
  }
 ],
 "metadata": {
  "language_info": {
   "codemirror_mode": {
    "name": "ipython",
    "version": 3
   },
   "file_extension": ".py",
   "mimetype": "text/x-python",
   "name": "python",
   "nbconvert_exporter": "python",
   "pygments_lexer": "ipython3",
   "version": "3.10.9"
  }
 },
 "nbformat": 4,
 "nbformat_minor": 2
}
