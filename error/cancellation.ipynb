{
 "cells": [
  {
   "cell_type": "code",
   "execution_count": 1,
   "metadata": {
    "execution": {
     "iopub.execute_input": "2023-02-06T23:29:23.842611Z",
     "iopub.status.busy": "2023-02-06T23:29:23.842353Z",
     "iopub.status.idle": "2023-02-06T23:29:23.851947Z",
     "shell.execute_reply": "2023-02-06T23:29:23.851044Z"
    }
   },
   "outputs": [],
   "source": [
    "import math"
   ]
  },
  {
   "cell_type": "code",
   "execution_count": 2,
   "metadata": {
    "execution": {
     "iopub.execute_input": "2023-02-06T23:29:23.855433Z",
     "iopub.status.busy": "2023-02-06T23:29:23.855132Z",
     "iopub.status.idle": "2023-02-06T23:29:23.865826Z",
     "shell.execute_reply": "2023-02-06T23:29:23.864827Z"
    }
   },
   "outputs": [
    {
     "data": {
      "text/plain": [
       "0.003162277660237578"
      ]
     },
     "execution_count": 2,
     "metadata": {},
     "output_type": "execute_result"
    }
   ],
   "source": [
    "math.sqrt(100001) - math.sqrt(99999)"
   ]
  }
 ],
 "metadata": {
  "language_info": {
   "codemirror_mode": {
    "name": "ipython",
    "version": 3
   },
   "file_extension": ".py",
   "mimetype": "text/x-python",
   "name": "python",
   "nbconvert_exporter": "python",
   "pygments_lexer": "ipython3",
   "version": "3.10.9"
  }
 },
 "nbformat": 4,
 "nbformat_minor": 2
}
