{
 "cells": [
  {
   "cell_type": "code",
   "execution_count": 1,
   "metadata": {
    "execution": {
     "iopub.execute_input": "2023-02-06T07:44:59.689038Z",
     "iopub.status.busy": "2023-02-06T07:44:59.688837Z",
     "iopub.status.idle": "2023-02-06T07:44:59.695822Z",
     "shell.execute_reply": "2023-02-06T07:44:59.695289Z"
    }
   },
   "outputs": [],
   "source": [
    "import math"
   ]
  },
  {
   "cell_type": "code",
   "execution_count": 2,
   "metadata": {
    "execution": {
     "iopub.execute_input": "2023-02-06T07:44:59.698069Z",
     "iopub.status.busy": "2023-02-06T07:44:59.697742Z",
     "iopub.status.idle": "2023-02-06T07:44:59.702266Z",
     "shell.execute_reply": "2023-02-06T07:44:59.701637Z"
    }
   },
   "outputs": [
    {
     "name": "stdout",
     "output_type": "stream",
     "text": [
      "0.0031622776602079072\n"
     ]
    }
   ],
   "source": [
    "print(2 / (math.sqrt(100001) + math.sqrt(99999)))"
   ]
  }
 ],
 "metadata": {
  "language_info": {
   "codemirror_mode": {
    "name": "ipython",
    "version": 3
   },
   "file_extension": ".py",
   "mimetype": "text/x-python",
   "name": "python",
   "nbconvert_exporter": "python",
   "pygments_lexer": "ipython3",
   "version": "3.10.9"
  }
 },
 "nbformat": 4,
 "nbformat_minor": 2
}
