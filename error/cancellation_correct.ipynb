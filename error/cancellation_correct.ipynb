{
 "cells": [
  {
   "cell_type": "code",
   "execution_count": 1,
   "metadata": {
    "execution": {
     "iopub.execute_input": "2023-10-22T04:38:47.705297Z",
     "iopub.status.busy": "2023-10-22T04:38:47.704943Z",
     "iopub.status.idle": "2023-10-22T04:38:47.712035Z",
     "shell.execute_reply": "2023-10-22T04:38:47.711340Z"
    }
   },
   "outputs": [],
   "source": [
    "import math"
   ]
  },
  {
   "cell_type": "code",
   "execution_count": 2,
   "metadata": {
    "execution": {
     "iopub.execute_input": "2023-10-22T04:38:47.714587Z",
     "iopub.status.busy": "2023-10-22T04:38:47.714180Z",
     "iopub.status.idle": "2023-10-22T04:38:47.718067Z",
     "shell.execute_reply": "2023-10-22T04:38:47.717450Z"
    }
   },
   "outputs": [
    {
     "name": "stdout",
     "output_type": "stream",
     "text": [
      "0.0031622776602079072\n"
     ]
    }
   ],
   "source": [
    "print(2 / (math.sqrt(100001) + math.sqrt(99999)))"
   ]
  }
 ],
 "metadata": {
  "language_info": {
   "codemirror_mode": {
    "name": "ipython",
    "version": 3
   },
   "file_extension": ".py",
   "mimetype": "text/x-python",
   "name": "python",
   "nbconvert_exporter": "python",
   "pygments_lexer": "ipython3",
   "version": "3.10.13"
  }
 },
 "nbformat": 4,
 "nbformat_minor": 2
}
