{
 "cells": [
  {
   "cell_type": "code",
   "execution_count": 1,
   "metadata": {
    "execution": {
     "iopub.execute_input": "2023-02-07T00:41:46.249536Z",
     "iopub.status.busy": "2023-02-07T00:41:46.249315Z",
     "iopub.status.idle": "2023-02-07T00:41:46.256390Z",
     "shell.execute_reply": "2023-02-07T00:41:46.255806Z"
    }
   },
   "outputs": [],
   "source": [
    "import math"
   ]
  },
  {
   "cell_type": "code",
   "execution_count": 2,
   "metadata": {
    "execution": {
     "iopub.execute_input": "2023-02-07T00:41:46.258997Z",
     "iopub.status.busy": "2023-02-07T00:41:46.258502Z",
     "iopub.status.idle": "2023-02-07T00:41:46.262310Z",
     "shell.execute_reply": "2023-02-07T00:41:46.261686Z"
    }
   },
   "outputs": [
    {
     "name": "stdout",
     "output_type": "stream",
     "text": [
      "0.0031622776602079072\n"
     ]
    }
   ],
   "source": [
    "print(2 / (math.sqrt(100001) + math.sqrt(99999)))"
   ]
  }
 ],
 "metadata": {
  "language_info": {
   "codemirror_mode": {
    "name": "ipython",
    "version": 3
   },
   "file_extension": ".py",
   "mimetype": "text/x-python",
   "name": "python",
   "nbconvert_exporter": "python",
   "pygments_lexer": "ipython3",
   "version": "3.10.9"
  }
 },
 "nbformat": 4,
 "nbformat_minor": 2
}
