{
 "cells": [
  {
   "cell_type": "code",
   "execution_count": 1,
   "metadata": {
    "execution": {
     "iopub.execute_input": "2023-02-04T04:18:09.910878Z",
     "iopub.status.busy": "2023-02-04T04:18:09.910462Z",
     "iopub.status.idle": "2023-02-04T04:18:09.917298Z",
     "shell.execute_reply": "2023-02-04T04:18:09.916737Z"
    }
   },
   "outputs": [],
   "source": [
    "import math"
   ]
  },
  {
   "cell_type": "code",
   "execution_count": 2,
   "metadata": {
    "execution": {
     "iopub.execute_input": "2023-02-04T04:18:09.919624Z",
     "iopub.status.busy": "2023-02-04T04:18:09.919301Z",
     "iopub.status.idle": "2023-02-04T04:18:09.923095Z",
     "shell.execute_reply": "2023-02-04T04:18:09.922475Z"
    }
   },
   "outputs": [
    {
     "name": "stdout",
     "output_type": "stream",
     "text": [
      "0.0031622776602079072\n"
     ]
    }
   ],
   "source": [
    "print(2 / (math.sqrt(100001) + math.sqrt(99999)))"
   ]
  }
 ],
 "metadata": {
  "language_info": {
   "codemirror_mode": {
    "name": "ipython",
    "version": 3
   },
   "file_extension": ".py",
   "mimetype": "text/x-python",
   "name": "python",
   "nbconvert_exporter": "python",
   "pygments_lexer": "ipython3",
   "version": "3.10.9"
  }
 },
 "nbformat": 4,
 "nbformat_minor": 2
}
