{
 "cells": [
  {
   "cell_type": "code",
   "execution_count": 1,
   "metadata": {
    "execution": {
     "iopub.execute_input": "2023-02-04T04:26:15.487907Z",
     "iopub.status.busy": "2023-02-04T04:26:15.487678Z",
     "iopub.status.idle": "2023-02-04T04:26:15.494730Z",
     "shell.execute_reply": "2023-02-04T04:26:15.494162Z"
    }
   },
   "outputs": [],
   "source": [
    "import math"
   ]
  },
  {
   "cell_type": "code",
   "execution_count": 2,
   "metadata": {
    "execution": {
     "iopub.execute_input": "2023-02-04T04:26:15.497280Z",
     "iopub.status.busy": "2023-02-04T04:26:15.496775Z",
     "iopub.status.idle": "2023-02-04T04:26:15.501162Z",
     "shell.execute_reply": "2023-02-04T04:26:15.500594Z"
    }
   },
   "outputs": [
    {
     "name": "stdout",
     "output_type": "stream",
     "text": [
      "0.0031622776602079072\n"
     ]
    }
   ],
   "source": [
    "print(2 / (math.sqrt(100001) + math.sqrt(99999)))"
   ]
  }
 ],
 "metadata": {
  "language_info": {
   "codemirror_mode": {
    "name": "ipython",
    "version": 3
   },
   "file_extension": ".py",
   "mimetype": "text/x-python",
   "name": "python",
   "nbconvert_exporter": "python",
   "pygments_lexer": "ipython3",
   "version": "3.10.9"
  }
 },
 "nbformat": 4,
 "nbformat_minor": 2
}
