{
 "cells": [
  {
   "cell_type": "code",
   "execution_count": 1,
   "metadata": {
    "execution": {
     "iopub.execute_input": "2023-02-09T09:01:29.403030Z",
     "iopub.status.busy": "2023-02-09T09:01:29.402762Z",
     "iopub.status.idle": "2023-02-09T09:01:29.410999Z",
     "shell.execute_reply": "2023-02-09T09:01:29.410115Z"
    }
   },
   "outputs": [],
   "source": [
    "import math"
   ]
  },
  {
   "cell_type": "code",
   "execution_count": 2,
   "metadata": {
    "execution": {
     "iopub.execute_input": "2023-02-09T09:01:29.414090Z",
     "iopub.status.busy": "2023-02-09T09:01:29.413616Z",
     "iopub.status.idle": "2023-02-09T09:01:29.419142Z",
     "shell.execute_reply": "2023-02-09T09:01:29.418354Z"
    }
   },
   "outputs": [
    {
     "name": "stdout",
     "output_type": "stream",
     "text": [
      "0.0031622776602079072\n"
     ]
    }
   ],
   "source": [
    "print(2 / (math.sqrt(100001) + math.sqrt(99999)))"
   ]
  }
 ],
 "metadata": {
  "language_info": {
   "codemirror_mode": {
    "name": "ipython",
    "version": 3
   },
   "file_extension": ".py",
   "mimetype": "text/x-python",
   "name": "python",
   "nbconvert_exporter": "python",
   "pygments_lexer": "ipython3",
   "version": "3.10.9"
  }
 },
 "nbformat": 4,
 "nbformat_minor": 2
}
