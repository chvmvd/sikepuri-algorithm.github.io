{
 "cells": [
  {
   "cell_type": "code",
   "execution_count": 1,
   "metadata": {
    "execution": {
     "iopub.execute_input": "2023-07-02T10:41:30.866226Z",
     "iopub.status.busy": "2023-07-02T10:41:30.865207Z",
     "iopub.status.idle": "2023-07-02T10:41:30.874032Z",
     "shell.execute_reply": "2023-07-02T10:41:30.873164Z"
    }
   },
   "outputs": [],
   "source": [
    "import math"
   ]
  },
  {
   "cell_type": "code",
   "execution_count": 2,
   "metadata": {
    "execution": {
     "iopub.execute_input": "2023-07-02T10:41:30.877167Z",
     "iopub.status.busy": "2023-07-02T10:41:30.876661Z",
     "iopub.status.idle": "2023-07-02T10:41:30.882315Z",
     "shell.execute_reply": "2023-07-02T10:41:30.881615Z"
    }
   },
   "outputs": [
    {
     "name": "stdout",
     "output_type": "stream",
     "text": [
      "0.0031622776602079072\n"
     ]
    }
   ],
   "source": [
    "print(2 / (math.sqrt(100001) + math.sqrt(99999)))"
   ]
  }
 ],
 "metadata": {
  "language_info": {
   "codemirror_mode": {
    "name": "ipython",
    "version": 3
   },
   "file_extension": ".py",
   "mimetype": "text/x-python",
   "name": "python",
   "nbconvert_exporter": "python",
   "pygments_lexer": "ipython3",
   "version": "3.10.12"
  }
 },
 "nbformat": 4,
 "nbformat_minor": 2
}
