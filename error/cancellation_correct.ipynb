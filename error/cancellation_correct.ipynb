{
 "cells": [
  {
   "cell_type": "code",
   "execution_count": 1,
   "metadata": {
    "execution": {
     "iopub.execute_input": "2023-04-30T06:18:18.338499Z",
     "iopub.status.busy": "2023-04-30T06:18:18.337886Z",
     "iopub.status.idle": "2023-04-30T06:18:18.346560Z",
     "shell.execute_reply": "2023-04-30T06:18:18.345539Z"
    }
   },
   "outputs": [],
   "source": [
    "import math"
   ]
  },
  {
   "cell_type": "code",
   "execution_count": 2,
   "metadata": {
    "execution": {
     "iopub.execute_input": "2023-04-30T06:18:18.350501Z",
     "iopub.status.busy": "2023-04-30T06:18:18.349618Z",
     "iopub.status.idle": "2023-04-30T06:18:18.355384Z",
     "shell.execute_reply": "2023-04-30T06:18:18.354557Z"
    }
   },
   "outputs": [
    {
     "name": "stdout",
     "output_type": "stream",
     "text": [
      "0.0031622776602079072\n"
     ]
    }
   ],
   "source": [
    "print(2 / (math.sqrt(100001) + math.sqrt(99999)))"
   ]
  }
 ],
 "metadata": {
  "language_info": {
   "codemirror_mode": {
    "name": "ipython",
    "version": 3
   },
   "file_extension": ".py",
   "mimetype": "text/x-python",
   "name": "python",
   "nbconvert_exporter": "python",
   "pygments_lexer": "ipython3",
   "version": "3.10.11"
  }
 },
 "nbformat": 4,
 "nbformat_minor": 2
}
