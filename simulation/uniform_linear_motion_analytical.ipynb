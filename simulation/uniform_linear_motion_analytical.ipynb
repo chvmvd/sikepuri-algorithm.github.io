{
 "cells": [
  {
   "cell_type": "code",
   "execution_count": 1,
   "metadata": {
    "execution": {
     "iopub.execute_input": "2023-02-04T03:46:41.092316Z",
     "iopub.status.busy": "2023-02-04T03:46:41.092030Z",
     "iopub.status.idle": "2023-02-04T03:46:41.101078Z",
     "shell.execute_reply": "2023-02-04T03:46:41.100354Z"
    }
   },
   "outputs": [
    {
     "name": "stdout",
     "output_type": "stream",
     "text": [
      "100\n"
     ]
    }
   ],
   "source": [
    "def uniform_linear_motion(x0, v0, t):\n",
    "    return x0 + v0 * t\n",
    "\n",
    "\n",
    "print(uniform_linear_motion(0, 10, 10))"
   ]
  }
 ],
 "metadata": {
  "language_info": {
   "codemirror_mode": {
    "name": "ipython",
    "version": 3
   },
   "file_extension": ".py",
   "mimetype": "text/x-python",
   "name": "python",
   "nbconvert_exporter": "python",
   "pygments_lexer": "ipython3",
   "version": "3.10.9"
  }
 },
 "nbformat": 4,
 "nbformat_minor": 2
}
