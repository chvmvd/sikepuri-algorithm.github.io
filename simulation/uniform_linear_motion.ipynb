{
 "cells": [
  {
   "cell_type": "code",
   "execution_count": 1,
   "metadata": {
    "execution": {
     "iopub.execute_input": "2023-02-04T06:18:32.870525Z",
     "iopub.status.busy": "2023-02-04T06:18:32.869999Z",
     "iopub.status.idle": "2023-02-04T06:18:32.879368Z",
     "shell.execute_reply": "2023-02-04T06:18:32.878799Z"
    }
   },
   "outputs": [
    {
     "name": "stdout",
     "output_type": "stream",
     "text": [
      "100.0\n"
     ]
    }
   ],
   "source": [
    "def uniform_linear_motion_step(x, v0, dt):\n",
    "    return x + v0 * dt\n",
    "\n",
    "\n",
    "def uniform_linear_motion(x0, v0, t, dt):\n",
    "    x = x0\n",
    "    n = int(t / dt)\n",
    "    for i in range(n):\n",
    "        x = uniform_linear_motion_step(x, v0, dt)\n",
    "    return x\n",
    "\n",
    "\n",
    "print(uniform_linear_motion(0, 10, 10, 0.1))"
   ]
  }
 ],
 "metadata": {
  "language_info": {
   "codemirror_mode": {
    "name": "ipython",
    "version": 3
   },
   "file_extension": ".py",
   "mimetype": "text/x-python",
   "name": "python",
   "nbconvert_exporter": "python",
   "pygments_lexer": "ipython3",
   "version": "3.10.9"
  }
 },
 "nbformat": 4,
 "nbformat_minor": 2
}
