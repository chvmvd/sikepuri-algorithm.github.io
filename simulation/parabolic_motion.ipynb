{
 "cells": [
  {
   "cell_type": "code",
   "execution_count": 1,
   "metadata": {
    "execution": {
     "iopub.execute_input": "2023-02-04T04:29:56.794357Z",
     "iopub.status.busy": "2023-02-04T04:29:56.794143Z",
     "iopub.status.idle": "2023-02-04T04:29:56.801121Z",
     "shell.execute_reply": "2023-02-04T04:29:56.800567Z"
    }
   },
   "outputs": [],
   "source": [
    "import math"
   ]
  },
  {
   "cell_type": "code",
   "execution_count": 2,
   "metadata": {
    "execution": {
     "iopub.execute_input": "2023-02-04T04:29:56.803729Z",
     "iopub.status.busy": "2023-02-04T04:29:56.803237Z",
     "iopub.status.idle": "2023-02-04T04:29:56.809728Z",
     "shell.execute_reply": "2023-02-04T04:29:56.809150Z"
    }
   },
   "outputs": [
    {
     "name": "stdout",
     "output_type": "stream",
     "text": [
      "[84.85281374238573, 6.648813742385697]\n"
     ]
    }
   ],
   "source": [
    "g = 9.8\n",
    "\n",
    "\n",
    "def parabolic_motion_step(x, y, u, v, dt):\n",
    "    x = x + u * dt\n",
    "    y = y + v * dt\n",
    "    u = u\n",
    "    v = v - g * dt\n",
    "    return [x, y, u, v]\n",
    "\n",
    "\n",
    "def parabolic_motion(v0, theta, t, dt):\n",
    "    x = 0\n",
    "    y = 0\n",
    "    u = v0 * math.cos(theta)\n",
    "    v = v0 * math.sin(theta)\n",
    "    n = int(t / dt)\n",
    "    for i in range(n):\n",
    "        x, y, u, v = parabolic_motion_step(x, y, u, v, dt)\n",
    "    return [x, y]\n",
    "\n",
    "\n",
    "print(parabolic_motion(30, math.pi / 4, 4, 0.01))"
   ]
  }
 ],
 "metadata": {
  "language_info": {
   "codemirror_mode": {
    "name": "ipython",
    "version": 3
   },
   "file_extension": ".py",
   "mimetype": "text/x-python",
   "name": "python",
   "nbconvert_exporter": "python",
   "pygments_lexer": "ipython3",
   "version": "3.10.9"
  }
 },
 "nbformat": 4,
 "nbformat_minor": 2
}
