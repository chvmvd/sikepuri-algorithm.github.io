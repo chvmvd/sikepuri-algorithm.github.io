{
 "cells": [
  {
   "cell_type": "code",
   "execution_count": 1,
   "metadata": {
    "execution": {
     "iopub.execute_input": "2023-04-30T05:04:50.086808Z",
     "iopub.status.busy": "2023-04-30T05:04:50.086089Z",
     "iopub.status.idle": "2023-04-30T05:04:50.093485Z",
     "shell.execute_reply": "2023-04-30T05:04:50.092955Z"
    }
   },
   "outputs": [],
   "source": [
    "import math"
   ]
  },
  {
   "cell_type": "code",
   "execution_count": 2,
   "metadata": {
    "execution": {
     "iopub.execute_input": "2023-04-30T05:04:50.095768Z",
     "iopub.status.busy": "2023-04-30T05:04:50.095453Z",
     "iopub.status.idle": "2023-04-30T05:04:50.101150Z",
     "shell.execute_reply": "2023-04-30T05:04:50.100548Z"
    }
   },
   "outputs": [
    {
     "name": "stdout",
     "output_type": "stream",
     "text": [
      "[84.85281374238573, 6.648813742385697]\n"
     ]
    }
   ],
   "source": [
    "g = 9.8\n",
    "\n",
    "\n",
    "def parabolic_motion_step(x, y, u, v, dt):\n",
    "    x = x + u * dt\n",
    "    y = y + v * dt\n",
    "    u = u\n",
    "    v = v - g * dt\n",
    "    return [x, y, u, v]\n",
    "\n",
    "\n",
    "def parabolic_motion(v0, theta, t, dt):\n",
    "    x = 0\n",
    "    y = 0\n",
    "    u = v0 * math.cos(theta)\n",
    "    v = v0 * math.sin(theta)\n",
    "    n = int(t / dt)\n",
    "    for i in range(n):\n",
    "        x, y, u, v = parabolic_motion_step(x, y, u, v, dt)\n",
    "    return [x, y]\n",
    "\n",
    "\n",
    "print(parabolic_motion(30, math.pi / 4, 4, 0.01))"
   ]
  }
 ],
 "metadata": {
  "language_info": {
   "codemirror_mode": {
    "name": "ipython",
    "version": 3
   },
   "file_extension": ".py",
   "mimetype": "text/x-python",
   "name": "python",
   "nbconvert_exporter": "python",
   "pygments_lexer": "ipython3",
   "version": "3.10.11"
  }
 },
 "nbformat": 4,
 "nbformat_minor": 2
}
