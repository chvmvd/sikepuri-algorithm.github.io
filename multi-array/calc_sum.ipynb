{
 "cells": [
  {
   "cell_type": "code",
   "execution_count": 1,
   "metadata": {
    "execution": {
     "iopub.execute_input": "2023-04-30T03:24:33.926446Z",
     "iopub.status.busy": "2023-04-30T03:24:33.925871Z",
     "iopub.status.idle": "2023-04-30T03:24:33.935317Z",
     "shell.execute_reply": "2023-04-30T03:24:33.934666Z"
    }
   },
   "outputs": [
    {
     "name": "stdout",
     "output_type": "stream",
     "text": [
      "575\n"
     ]
    }
   ],
   "source": [
    "def calc_sum1d(scores):\n",
    "    sum_val = 0\n",
    "    for i in range(len(scores)):\n",
    "        sum_val += scores[i]\n",
    "    return sum_val\n",
    "\n",
    "\n",
    "a_scores = [83, 75, 32]\n",
    "b_scores = [73, 53, 84]\n",
    "c_scores = [63, 48, 64]\n",
    "\n",
    "print(calc_sum1d(a_scores) + calc_sum1d(b_scores) + calc_sum1d(c_scores))"
   ]
  }
 ],
 "metadata": {
  "language_info": {
   "codemirror_mode": {
    "name": "ipython",
    "version": 3
   },
   "file_extension": ".py",
   "mimetype": "text/x-python",
   "name": "python",
   "nbconvert_exporter": "python",
   "pygments_lexer": "ipython3",
   "version": "3.10.11"
  }
 },
 "nbformat": 4,
 "nbformat_minor": 2
}
