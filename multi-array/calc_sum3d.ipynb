{
 "cells": [
  {
   "cell_type": "code",
   "execution_count": 1,
   "metadata": {
    "execution": {
     "iopub.execute_input": "2023-02-04T04:48:25.895266Z",
     "iopub.status.busy": "2023-02-04T04:48:25.894678Z",
     "iopub.status.idle": "2023-02-04T04:48:25.905626Z",
     "shell.execute_reply": "2023-02-04T04:48:25.904603Z"
    }
   },
   "outputs": [
    {
     "name": "stdout",
     "output_type": "stream",
     "text": [
      "515\n"
     ]
    }
   ],
   "source": [
    "def calc_sum3d(scores):\n",
    "    sum_val = 0\n",
    "    for i in range(len(scores)):\n",
    "        for j in range(len(scores[i])):\n",
    "            for k in range(len(scores[i][j])):\n",
    "                sum_val += scores[i][j][k]\n",
    "    return sum_val\n",
    "\n",
    "\n",
    "scores = [[[51, 56, 10], [47, 52, 58]], [[24, 92, 34], [28, 44, 19]]]\n",
    "\n",
    "print(calc_sum3d(scores))"
   ]
  }
 ],
 "metadata": {
  "language_info": {
   "codemirror_mode": {
    "name": "ipython",
    "version": 3
   },
   "file_extension": ".py",
   "mimetype": "text/x-python",
   "name": "python",
   "nbconvert_exporter": "python",
   "pygments_lexer": "ipython3",
   "version": "3.10.9"
  }
 },
 "nbformat": 4,
 "nbformat_minor": 2
}
