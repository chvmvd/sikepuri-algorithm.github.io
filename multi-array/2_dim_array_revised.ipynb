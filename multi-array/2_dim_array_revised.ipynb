{
 "cells": [
  {
   "cell_type": "code",
   "execution_count": 1,
   "metadata": {
    "execution": {
     "iopub.execute_input": "2023-02-03T09:01:14.389102Z",
     "iopub.status.busy": "2023-02-03T09:01:14.388775Z",
     "iopub.status.idle": "2023-02-03T09:01:14.400338Z",
     "shell.execute_reply": "2023-02-03T09:01:14.399327Z"
    }
   },
   "outputs": [
    {
     "name": "stdout",
     "output_type": "stream",
     "text": [
      "575\n"
     ]
    }
   ],
   "source": [
    "def sum_2d(scores):\n",
    "    s = 0\n",
    "    for i in range(len(scores)):\n",
    "        for j in range(len(scores[i])):\n",
    "            s += scores[i][j]\n",
    "    return s\n",
    "\n",
    "\n",
    "SCORES = [[83, 75, 32], [73, 53, 84], [63, 48, 64]]\n",
    "\n",
    "print(sum_2d(SCORES))"
   ]
  }
 ],
 "metadata": {
  "language_info": {
   "codemirror_mode": {
    "name": "ipython",
    "version": 3
   },
   "file_extension": ".py",
   "mimetype": "text/x-python",
   "name": "python",
   "nbconvert_exporter": "python",
   "pygments_lexer": "ipython3",
   "version": "3.10.9"
  }
 },
 "nbformat": 4,
 "nbformat_minor": 2
}
