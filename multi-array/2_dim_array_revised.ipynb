{
  "nbformat": 4,
  "nbformat_minor": 2,
  "metadata": {},
  "cells": [
    {
      "metadata": {},
      "source": [
        "def sum_2d(scores):\n",
        "    s = 0\n",
        "    for i in range(len(scores)):\n",
        "        for j in range(len(scores[i])):\n",
        "            s += scores[i][j]\n",
        "    return s\n",
        "\n",
        "\n",
        "SCORES = [[83, 75, 32], [73, 53, 84], [63, 48, 64]]\n",
        "\n",
        "print(sum_2d(SCORES))"
      ],
      "cell_type": "code",
      "outputs": [
        {
          "output_type": "stream",
          "name": "stdout",
          "text": [
            "575\n"
          ]
        }
      ],
      "execution_count": null
    }
  ]
}
