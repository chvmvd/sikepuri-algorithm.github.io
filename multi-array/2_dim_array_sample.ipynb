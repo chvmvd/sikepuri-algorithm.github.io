{
 "cells": [
  {
   "cell_type": "code",
   "execution_count": 1,
   "metadata": {
    "execution": {
     "iopub.execute_input": "2023-02-03T09:01:16.065285Z",
     "iopub.status.busy": "2023-02-03T09:01:16.065001Z",
     "iopub.status.idle": "2023-02-03T09:01:16.080257Z",
     "shell.execute_reply": "2023-02-03T09:01:16.078363Z"
    }
   },
   "outputs": [
    {
     "name": "stdout",
     "output_type": "stream",
     "text": [
      "575\n"
     ]
    }
   ],
   "source": [
    "def sum_val(scores):\n",
    "    s = 0\n",
    "    for i in range(len(scores)):\n",
    "        s += scores[i]\n",
    "    return s\n",
    "\n",
    "\n",
    "A_SCORES = [83, 75, 32]\n",
    "B_SCORES = [73, 53, 84]\n",
    "C_SCORES = [63, 48, 64]\n",
    "\n",
    "print(sum_val(A_SCORES) + sum_val(B_SCORES) + sum_val(C_SCORES))"
   ]
  }
 ],
 "metadata": {
  "language_info": {
   "codemirror_mode": {
    "name": "ipython",
    "version": 3
   },
   "file_extension": ".py",
   "mimetype": "text/x-python",
   "name": "python",
   "nbconvert_exporter": "python",
   "pygments_lexer": "ipython3",
   "version": "3.10.9"
  }
 },
 "nbformat": 4,
 "nbformat_minor": 2
}
