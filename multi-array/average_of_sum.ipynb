{
 "cells": [
  {
   "cell_type": "code",
   "execution_count": 1,
   "metadata": {
    "execution": {
     "iopub.execute_input": "2023-02-03T09:01:21.910168Z",
     "iopub.status.busy": "2023-02-03T09:01:21.909852Z",
     "iopub.status.idle": "2023-02-03T09:01:21.934504Z",
     "shell.execute_reply": "2023-02-03T09:01:21.933398Z"
    }
   },
   "outputs": [
    {
     "name": "stdout",
     "output_type": "stream",
     "text": [
      "191.66666666666666\n"
     ]
    }
   ],
   "source": [
    "def sum_1d(scores):\n",
    "    s = 0\n",
    "    for i in range(len(scores)):\n",
    "        s += scores[i]\n",
    "    return s\n",
    "\n",
    "\n",
    "def sum_2d_average(scores):\n",
    "    s = 0\n",
    "    for i in range(len(scores)):\n",
    "        s += sum_1d(scores[i])\n",
    "    return s / len(scores)\n",
    "\n",
    "\n",
    "SCORES = [[83, 75, 32], [73, 53, 84], [63, 48, 64]]\n",
    "\n",
    "print(sum_2d_average(SCORES))"
   ]
  }
 ],
 "metadata": {
  "language_info": {
   "codemirror_mode": {
    "name": "ipython",
    "version": 3
   },
   "file_extension": ".py",
   "mimetype": "text/x-python",
   "name": "python",
   "nbconvert_exporter": "python",
   "pygments_lexer": "ipython3",
   "version": "3.10.9"
  }
 },
 "nbformat": 4,
 "nbformat_minor": 2
}
