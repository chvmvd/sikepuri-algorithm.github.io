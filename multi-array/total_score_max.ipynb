{
 "cells": [
  {
   "cell_type": "code",
   "execution_count": 1,
   "metadata": {
    "execution": {
     "iopub.execute_input": "2023-04-30T06:13:20.389971Z",
     "iopub.status.busy": "2023-04-30T06:13:20.389436Z",
     "iopub.status.idle": "2023-04-30T06:13:20.399241Z",
     "shell.execute_reply": "2023-04-30T06:13:20.398667Z"
    }
   },
   "outputs": [
    {
     "name": "stdout",
     "output_type": "stream",
     "text": [
      "210\n"
     ]
    }
   ],
   "source": [
    "def calc_sum1d(scores):\n",
    "    sum_val = 0\n",
    "    for i in range(len(scores)):\n",
    "        sum_val += scores[i]\n",
    "    return sum_val\n",
    "\n",
    "\n",
    "# highlight-start\n",
    "def calc_total_score_max(scores):\n",
    "    max_score = 0\n",
    "    for i in range(len(scores)):\n",
    "        total_score = calc_sum1d(scores[i])\n",
    "        if max_score < total_score:\n",
    "            max_score = total_score\n",
    "    return max_score\n",
    "\n",
    "\n",
    "# highlight-end\n",
    "\n",
    "\n",
    "scores = [[83, 75, 32], [73, 53, 84], [63, 48, 64]]\n",
    "\n",
    "print(calc_total_score_max(scores))"
   ]
  }
 ],
 "metadata": {
  "language_info": {
   "codemirror_mode": {
    "name": "ipython",
    "version": 3
   },
   "file_extension": ".py",
   "mimetype": "text/x-python",
   "name": "python",
   "nbconvert_exporter": "python",
   "pygments_lexer": "ipython3",
   "version": "3.10.11"
  }
 },
 "nbformat": 4,
 "nbformat_minor": 2
}
