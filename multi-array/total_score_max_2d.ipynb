{
 "cells": [
  {
   "cell_type": "code",
   "execution_count": 1,
   "metadata": {
    "execution": {
     "iopub.execute_input": "2023-02-07T03:32:41.198616Z",
     "iopub.status.busy": "2023-02-07T03:32:41.198413Z",
     "iopub.status.idle": "2023-02-07T03:32:41.207459Z",
     "shell.execute_reply": "2023-02-07T03:32:41.206823Z"
    }
   },
   "outputs": [
    {
     "name": "stdout",
     "output_type": "stream",
     "text": [
      "157\n"
     ]
    }
   ],
   "source": [
    "def calc_sum1d(scores):\n",
    "    sum_val = 0\n",
    "    for i in range(len(scores)):\n",
    "        sum_val += scores[i]\n",
    "    return sum_val\n",
    "\n",
    "\n",
    "def calc_total_score_max_2d(scores):\n",
    "    max_score = 0\n",
    "    for i in range(len(scores)):\n",
    "        for j in range(len(scores[i])):\n",
    "            total_score = calc_sum1d(scores[i][j])\n",
    "            if max_score < total_score:\n",
    "                max_score = total_score\n",
    "    return max_score\n",
    "\n",
    "\n",
    "scores = [[[51, 56, 10], [47, 52, 58]], [[24, 92, 34], [28, 44, 19]]]\n",
    "\n",
    "print(calc_total_score_max_2d(scores))"
   ]
  }
 ],
 "metadata": {
  "language_info": {
   "codemirror_mode": {
    "name": "ipython",
    "version": 3
   },
   "file_extension": ".py",
   "mimetype": "text/x-python",
   "name": "python",
   "nbconvert_exporter": "python",
   "pygments_lexer": "ipython3",
   "version": "3.10.9"
  }
 },
 "nbformat": 4,
 "nbformat_minor": 2
}
