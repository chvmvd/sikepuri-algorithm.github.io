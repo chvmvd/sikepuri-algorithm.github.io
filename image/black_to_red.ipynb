{
 "cells": [
  {
   "cell_type": "code",
   "execution_count": 1,
   "metadata": {
    "execution": {
     "iopub.execute_input": "2023-02-03T08:59:56.819254Z",
     "iopub.status.busy": "2023-02-03T08:59:56.818589Z",
     "iopub.status.idle": "2023-02-03T08:59:58.463184Z",
     "shell.execute_reply": "2023-02-03T08:59:58.461848Z"
    }
   },
   "outputs": [
    {
     "name": "stdout",
     "output_type": "stream",
     "text": [
      "Requirement already satisfied: ita in /home/runner/.cache/pypoetry/virtualenvs/sikepuri-of-algorithm-327BGRWj-py3.10/lib/python3.10/site-packages (0.2.12)\r\n",
      "Requirement already satisfied: matplotlib in /home/runner/.cache/pypoetry/virtualenvs/sikepuri-of-algorithm-327BGRWj-py3.10/lib/python3.10/site-packages (from ita) (3.6.3)\r\n",
      "Requirement already satisfied: numpy in /home/runner/.cache/pypoetry/virtualenvs/sikepuri-of-algorithm-327BGRWj-py3.10/lib/python3.10/site-packages (from ita) (1.24.1)\r\n",
      "Requirement already satisfied: packaging>=20.0 in /home/runner/.cache/pypoetry/virtualenvs/sikepuri-of-algorithm-327BGRWj-py3.10/lib/python3.10/site-packages (from matplotlib->ita) (23.0)\r\n",
      "Requirement already satisfied: kiwisolver>=1.0.1 in /home/runner/.cache/pypoetry/virtualenvs/sikepuri-of-algorithm-327BGRWj-py3.10/lib/python3.10/site-packages (from matplotlib->ita) (1.4.4)\r\n",
      "Requirement already satisfied: pyparsing>=2.2.1 in /home/runner/.cache/pypoetry/virtualenvs/sikepuri-of-algorithm-327BGRWj-py3.10/lib/python3.10/site-packages (from matplotlib->ita) (3.0.9)\r\n",
      "Requirement already satisfied: cycler>=0.10 in /home/runner/.cache/pypoetry/virtualenvs/sikepuri-of-algorithm-327BGRWj-py3.10/lib/python3.10/site-packages (from matplotlib->ita) (0.11.0)\r\n",
      "Requirement already satisfied: fonttools>=4.22.0 in /home/runner/.cache/pypoetry/virtualenvs/sikepuri-of-algorithm-327BGRWj-py3.10/lib/python3.10/site-packages (from matplotlib->ita) (4.38.0)\r\n",
      "Requirement already satisfied: pillow>=6.2.0 in /home/runner/.cache/pypoetry/virtualenvs/sikepuri-of-algorithm-327BGRWj-py3.10/lib/python3.10/site-packages (from matplotlib->ita) (9.4.0)\r\n",
      "Requirement already satisfied: python-dateutil>=2.7 in /home/runner/.cache/pypoetry/virtualenvs/sikepuri-of-algorithm-327BGRWj-py3.10/lib/python3.10/site-packages (from matplotlib->ita) (2.8.2)\r\n",
      "Requirement already satisfied: contourpy>=1.0.1 in /home/runner/.cache/pypoetry/virtualenvs/sikepuri-of-algorithm-327BGRWj-py3.10/lib/python3.10/site-packages (from matplotlib->ita) (1.0.7)\r\n",
      "Requirement already satisfied: six>=1.5 in /home/runner/.cache/pypoetry/virtualenvs/sikepuri-of-algorithm-327BGRWj-py3.10/lib/python3.10/site-packages (from python-dateutil>=2.7->matplotlib->ita) (1.16.0)\r\n",
      "\r\n",
      "\u001b[1m[\u001b[0m\u001b[34;49mnotice\u001b[0m\u001b[1;39;49m]\u001b[0m\u001b[39;49m A new release of pip available: \u001b[0m\u001b[31;49m22.3.1\u001b[0m\u001b[39;49m -> \u001b[0m\u001b[32;49m23.0\u001b[0m\r\n",
      "\u001b[1m[\u001b[0m\u001b[34;49mnotice\u001b[0m\u001b[1;39;49m]\u001b[0m\u001b[39;49m To update, run: \u001b[0m\u001b[32;49mpip install --upgrade pip\u001b[0m\r\n"
     ]
    }
   ],
   "source": [
    "!pip install ita"
   ]
  },
  {
   "cell_type": "code",
   "execution_count": 2,
   "metadata": {
    "execution": {
     "iopub.execute_input": "2023-02-03T08:59:58.467403Z",
     "iopub.status.busy": "2023-02-03T08:59:58.467075Z",
     "iopub.status.idle": "2023-02-03T08:59:58.999703Z",
     "shell.execute_reply": "2023-02-03T08:59:58.998714Z"
    }
   },
   "outputs": [],
   "source": [
    "import ita\n",
    "\n",
    "%matplotlib inline"
   ]
  },
  {
   "cell_type": "code",
   "execution_count": 3,
   "metadata": {
    "execution": {
     "iopub.execute_input": "2023-02-03T08:59:59.003590Z",
     "iopub.status.busy": "2023-02-03T08:59:59.003230Z",
     "iopub.status.idle": "2023-02-03T08:59:59.137534Z",
     "shell.execute_reply": "2023-02-03T08:59:59.136737Z"
    }
   },
   "outputs": [
    {
     "data": {
      "image/png": "[encoded data removed]",
      "text/plain": [
       "<Figure size 640x480 with 1 Axes>"
      ]
     },
     "metadata": {},
     "output_type": "display_data"
    },
    {
     "data": {
      "text/plain": [
       "<matplotlib.image.AxesImage at 0x7f2874c3e1d0>"
      ]
     },
     "execution_count": 3,
     "metadata": {},
     "output_type": "execute_result"
    }
   ],
   "source": [
    "image = [[[0, 0, 0], [0.25, 0, 0], [0.5, 0, 0], [0.75, 0, 0], [1, 0, 0]]]\n",
    "ita.plot.image_show(image)"
   ]
  }
 ],
 "metadata": {
  "language_info": {
   "codemirror_mode": {
    "name": "ipython",
    "version": 3
   },
   "file_extension": ".py",
   "mimetype": "text/x-python",
   "name": "python",
   "nbconvert_exporter": "python",
   "pygments_lexer": "ipython3",
   "version": "3.10.9"
  }
 },
 "nbformat": 4,
 "nbformat_minor": 2
}
