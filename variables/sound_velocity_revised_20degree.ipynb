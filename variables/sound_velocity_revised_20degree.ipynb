{
 "cells": [
  {
   "cell_type": "code",
   "execution_count": 1,
   "metadata": {
    "execution": {
     "iopub.execute_input": "2023-02-06T13:51:10.412649Z",
     "iopub.status.busy": "2023-02-06T13:51:10.410602Z",
     "iopub.status.idle": "2023-02-06T13:51:10.429612Z",
     "shell.execute_reply": "2023-02-06T13:51:10.428648Z"
    }
   },
   "outputs": [
    {
     "data": {
      "text/plain": [
       "343.5"
      ]
     },
     "execution_count": 1,
     "metadata": {},
     "output_type": "execute_result"
    }
   ],
   "source": [
    "t = 20\n",
    "331.5 + 0.6 * t"
   ]
  }
 ],
 "metadata": {
  "language_info": {
   "codemirror_mode": {
    "name": "ipython",
    "version": 3
   },
   "file_extension": ".py",
   "mimetype": "text/x-python",
   "name": "python",
   "nbconvert_exporter": "python",
   "pygments_lexer": "ipython3",
   "version": "3.10.9"
  }
 },
 "nbformat": 4,
 "nbformat_minor": 2
}
