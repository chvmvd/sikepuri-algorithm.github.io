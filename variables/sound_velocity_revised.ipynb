{
 "cells": [
  {
   "cell_type": "code",
   "execution_count": 1,
   "metadata": {
    "execution": {
     "iopub.execute_input": "2023-02-04T09:53:35.420515Z",
     "iopub.status.busy": "2023-02-04T09:53:35.420261Z",
     "iopub.status.idle": "2023-02-04T09:53:35.434302Z",
     "shell.execute_reply": "2023-02-04T09:53:35.433389Z"
    }
   },
   "outputs": [
    {
     "data": {
      "text/plain": [
       "337.5"
      ]
     },
     "execution_count": 1,
     "metadata": {},
     "output_type": "execute_result"
    }
   ],
   "source": [
    "t = 10\n",
    "331.5 + 0.6 * t"
   ]
  }
 ],
 "metadata": {
  "language_info": {
   "codemirror_mode": {
    "name": "ipython",
    "version": 3
   },
   "file_extension": ".py",
   "mimetype": "text/x-python",
   "name": "python",
   "nbconvert_exporter": "python",
   "pygments_lexer": "ipython3",
   "version": "3.10.9"
  }
 },
 "nbformat": 4,
 "nbformat_minor": 2
}
