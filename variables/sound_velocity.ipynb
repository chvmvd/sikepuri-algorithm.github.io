{
 "cells": [
  {
   "cell_type": "code",
   "execution_count": 1,
   "metadata": {
    "execution": {
     "iopub.execute_input": "2023-02-06T23:35:19.385215Z",
     "iopub.status.busy": "2023-02-06T23:35:19.384923Z",
     "iopub.status.idle": "2023-02-06T23:35:19.398619Z",
     "shell.execute_reply": "2023-02-06T23:35:19.397677Z"
    }
   },
   "outputs": [
    {
     "data": {
      "text/plain": [
       "337.5"
      ]
     },
     "execution_count": 1,
     "metadata": {},
     "output_type": "execute_result"
    }
   ],
   "source": [
    "331.5 + 0.6 * 10"
   ]
  }
 ],
 "metadata": {
  "language_info": {
   "codemirror_mode": {
    "name": "ipython",
    "version": 3
   },
   "file_extension": ".py",
   "mimetype": "text/x-python",
   "name": "python",
   "nbconvert_exporter": "python",
   "pygments_lexer": "ipython3",
   "version": "3.10.9"
  }
 },
 "nbformat": 4,
 "nbformat_minor": 2
}
