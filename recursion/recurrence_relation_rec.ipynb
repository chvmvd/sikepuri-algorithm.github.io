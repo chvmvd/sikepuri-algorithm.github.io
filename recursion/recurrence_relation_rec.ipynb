{
 "cells": [
  {
   "cell_type": "code",
   "execution_count": 1,
   "metadata": {
    "execution": {
     "iopub.execute_input": "2023-02-07T03:24:44.819598Z",
     "iopub.status.busy": "2023-02-07T03:24:44.819385Z",
     "iopub.status.idle": "2023-02-07T03:24:44.827822Z",
     "shell.execute_reply": "2023-02-07T03:24:44.827237Z"
    }
   },
   "outputs": [
    {
     "name": "stdout",
     "output_type": "stream",
     "text": [
      "10\n"
     ]
    }
   ],
   "source": [
    "def a(n):\n",
    "    if n == 1:\n",
    "        return 1\n",
    "    else:\n",
    "        return a(n - 1) + 1\n",
    "\n",
    "\n",
    "print(a(10))"
   ]
  }
 ],
 "metadata": {
  "language_info": {
   "codemirror_mode": {
    "name": "ipython",
    "version": 3
   },
   "file_extension": ".py",
   "mimetype": "text/x-python",
   "name": "python",
   "nbconvert_exporter": "python",
   "pygments_lexer": "ipython3",
   "version": "3.10.9"
  }
 },
 "nbformat": 4,
 "nbformat_minor": 2
}
