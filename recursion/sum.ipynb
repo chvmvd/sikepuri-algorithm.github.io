{
 "cells": [
  {
   "cell_type": "code",
   "execution_count": 1,
   "metadata": {
    "execution": {
     "iopub.execute_input": "2023-02-04T04:21:43.156502Z",
     "iopub.status.busy": "2023-02-04T04:21:43.156198Z",
     "iopub.status.idle": "2023-02-04T04:21:43.164526Z",
     "shell.execute_reply": "2023-02-04T04:21:43.163895Z"
    }
   },
   "outputs": [
    {
     "name": "stdout",
     "output_type": "stream",
     "text": [
      "55\n"
     ]
    }
   ],
   "source": [
    "def sum_val(n):\n",
    "    if n == 1:\n",
    "        return 1\n",
    "    else:\n",
    "        return sum_val(n - 1) + n\n",
    "\n",
    "\n",
    "print(sum_val(10))"
   ]
  }
 ],
 "metadata": {
  "language_info": {
   "codemirror_mode": {
    "name": "ipython",
    "version": 3
   },
   "file_extension": ".py",
   "mimetype": "text/x-python",
   "name": "python",
   "nbconvert_exporter": "python",
   "pygments_lexer": "ipython3",
   "version": "3.10.9"
  }
 },
 "nbformat": 4,
 "nbformat_minor": 2
}
