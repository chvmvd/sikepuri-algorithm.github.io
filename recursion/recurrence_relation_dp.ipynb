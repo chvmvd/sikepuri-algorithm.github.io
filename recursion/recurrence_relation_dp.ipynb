{
  "nbformat": 4,
  "nbformat_minor": 2,
  "metadata": {},
  "cells": [
    {
      "metadata": {},
      "source": [
        "def a(n):\n",
        "    s = 1\n",
        "    for i in range(n - 1):\n",
        "        s += 1\n",
        "    return s\n",
        "\n",
        "\n",
        "print(a(10))"
      ],
      "cell_type": "code",
      "outputs": [
        {
          "output_type": "stream",
          "name": "stdout",
          "text": [
            "10\n"
          ]
        }
      ],
      "execution_count": null
    }
  ]
}
