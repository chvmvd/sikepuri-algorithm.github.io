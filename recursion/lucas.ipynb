{
  "nbformat": 4,
  "nbformat_minor": 2,
  "metadata": {},
  "cells": [
    {
      "metadata": {},
      "source": [
        "def lucas(n):\n",
        "    if n == 0:\n",
        "        return 2\n",
        "    elif n == 1:\n",
        "        return 1\n",
        "    else:\n",
        "        return lucas(n - 1) + lucas(n - 2)\n",
        "\n",
        "\n",
        "print(lucas(10))"
      ],
      "cell_type": "code",
      "outputs": [
        {
          "output_type": "stream",
          "name": "stdout",
          "text": [
            "123\n"
          ]
        }
      ],
      "execution_count": null
    }
  ]
}
