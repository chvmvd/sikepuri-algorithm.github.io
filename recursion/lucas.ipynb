{
 "cells": [
  {
   "cell_type": "code",
   "execution_count": 1,
   "metadata": {
    "execution": {
     "iopub.execute_input": "2023-02-03T09:02:02.048258Z",
     "iopub.status.busy": "2023-02-03T09:02:02.047813Z",
     "iopub.status.idle": "2023-02-03T09:02:02.059880Z",
     "shell.execute_reply": "2023-02-03T09:02:02.059044Z"
    }
   },
   "outputs": [
    {
     "name": "stdout",
     "output_type": "stream",
     "text": [
      "123\n"
     ]
    }
   ],
   "source": [
    "def lucas(n):\n",
    "    if n == 0:\n",
    "        return 2\n",
    "    elif n == 1:\n",
    "        return 1\n",
    "    else:\n",
    "        return lucas(n - 1) + lucas(n - 2)\n",
    "\n",
    "\n",
    "print(lucas(10))"
   ]
  }
 ],
 "metadata": {
  "language_info": {
   "codemirror_mode": {
    "name": "ipython",
    "version": 3
   },
   "file_extension": ".py",
   "mimetype": "text/x-python",
   "name": "python",
   "nbconvert_exporter": "python",
   "pygments_lexer": "ipython3",
   "version": "3.10.9"
  }
 },
 "nbformat": 4,
 "nbformat_minor": 2
}
