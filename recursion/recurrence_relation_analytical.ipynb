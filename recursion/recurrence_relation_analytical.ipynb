{
 "cells": [
  {
   "cell_type": "code",
   "execution_count": 1,
   "metadata": {
    "execution": {
     "iopub.execute_input": "2023-02-04T04:29:38.346877Z",
     "iopub.status.busy": "2023-02-04T04:29:38.346414Z",
     "iopub.status.idle": "2023-02-04T04:29:38.354404Z",
     "shell.execute_reply": "2023-02-04T04:29:38.353766Z"
    }
   },
   "outputs": [
    {
     "name": "stdout",
     "output_type": "stream",
     "text": [
      "10\n"
     ]
    }
   ],
   "source": [
    "def a(n):\n",
    "    return n\n",
    "\n",
    "\n",
    "print(a(10))"
   ]
  }
 ],
 "metadata": {
  "language_info": {
   "codemirror_mode": {
    "name": "ipython",
    "version": 3
   },
   "file_extension": ".py",
   "mimetype": "text/x-python",
   "name": "python",
   "nbconvert_exporter": "python",
   "pygments_lexer": "ipython3",
   "version": "3.10.9"
  }
 },
 "nbformat": 4,
 "nbformat_minor": 2
}
