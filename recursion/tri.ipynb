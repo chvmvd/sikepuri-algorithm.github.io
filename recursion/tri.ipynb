{
 "cells": [
  {
   "cell_type": "code",
   "execution_count": 1,
   "metadata": {
    "execution": {
     "iopub.execute_input": "2023-02-06T06:27:09.087606Z",
     "iopub.status.busy": "2023-02-06T06:27:09.087392Z",
     "iopub.status.idle": "2023-02-06T06:27:09.096587Z",
     "shell.execute_reply": "2023-02-06T06:27:09.095971Z"
    }
   },
   "outputs": [
    {
     "name": "stdout",
     "output_type": "stream",
     "text": [
      "81\n"
     ]
    }
   ],
   "source": [
    "def tri(n):\n",
    "    if n == 0:\n",
    "        return 0\n",
    "    elif n == 1:\n",
    "        return 0\n",
    "    elif n == 2:\n",
    "        return 1\n",
    "    else:\n",
    "        return tri(n - 1) + tri(n - 2) + tri(n - 3)\n",
    "\n",
    "\n",
    "print(tri(10))"
   ]
  }
 ],
 "metadata": {
  "language_info": {
   "codemirror_mode": {
    "name": "ipython",
    "version": 3
   },
   "file_extension": ".py",
   "mimetype": "text/x-python",
   "name": "python",
   "nbconvert_exporter": "python",
   "pygments_lexer": "ipython3",
   "version": "3.10.9"
  }
 },
 "nbformat": 4,
 "nbformat_minor": 2
}
