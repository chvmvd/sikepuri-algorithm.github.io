{
 "nbformat": 4,
 "nbformat_minor": 2,
 "metadata": {},
 "cells": [
  {
   "metadata": {},
   "source": [
    "def max(scores):\n",
    "    m = scores[0]\n",
    "    for i in range(len(scores) - 1):\n",
    "        if scores[i] > scores[i + 1]:\n",
    "            m = scores[i]\n",
    "        else:\n",
    "            m = scores[i + 1]\n",
    "    return m\n",
    "\n",
    "\n",
    "SCORES = [55, 32, 16, 51, 80, 19]\n",
    "print(max(SCORES))"
   ],
   "cell_type": "code",
   "outputs": [
    {
     "output_type": "stream",
     "name": "stdout",
     "text": [
      "80\n"
     ]
    }
   ],
   "execution_count": null
  }
 ]
}
