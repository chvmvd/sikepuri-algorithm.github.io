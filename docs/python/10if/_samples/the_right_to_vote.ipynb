{
 "nbformat": 4,
 "nbformat_minor": 2,
 "metadata": {},
 "cells": [
  {
   "metadata": {},
   "source": [
    "age = 18\n",
    "if age < 18:\n",
    "    print(\"選挙権はありません。\")\n",
    "elif age < 25:\n",
    "    print(\"投票することができます。\")\n",
    "else:\n",
    "    print(\"衆議院議員に立候補することができます。\")"
   ],
   "cell_type": "code",
   "outputs": [],
   "execution_count": null
  }
 ]
}
