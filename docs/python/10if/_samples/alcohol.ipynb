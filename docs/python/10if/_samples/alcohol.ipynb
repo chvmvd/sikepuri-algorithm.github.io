{
 "nbformat": 4,
 "nbformat_minor": 2,
 "metadata": {},
 "cells": [
  {
   "metadata": {},
   "source": [
    "def can_drink(age):\n",
    "    if age < 20:\n",
    "        print(\"お酒は二十歳になってから！\")\n",
    "\n",
    "\n",
    "age = 19\n",
    "can_drink(age)"
   ],
   "cell_type": "code",
   "outputs": [
    {
     "output_type": "stream",
     "name": "stdout",
     "text": [
      "お酒は二十歳になってから！\n"
     ]
    }
   ],
   "execution_count": null
  }
 ]
}
