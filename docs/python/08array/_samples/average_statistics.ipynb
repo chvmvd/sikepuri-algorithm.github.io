{
  "nbformat": 4,
  "nbformat_minor": 2,
  "metadata": {},
  "cells": [
    {
      "metadata": {},
      "source": [
        "import statistics\n",
        "\n",
        "scores = [26, 78, 83, 20, 10, 11, 22, 16, 41, 95]\n",
        "statistics.mean(scores)"
      ],
      "cell_type": "code",
      "outputs": [
        {
          "output_type": "execute_result",
          "data": {
            "text/plain": [
              "40.2"
            ]
          },
          "metadata": {},
          "execution_count": 1
        }
      ],
      "execution_count": null
    }
  ]
}
