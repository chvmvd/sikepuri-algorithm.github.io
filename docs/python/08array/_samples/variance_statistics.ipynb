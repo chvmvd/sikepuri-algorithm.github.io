{
  "nbformat": 4,
  "nbformat_minor": 2,
  "metadata": {},
  "cells": [
    {
      "metadata": {},
      "source": [
        "import statistics\n",
        "\n",
        "scores = [26, 78, 83, 20, 10, 11, 22, 16, 41, 95]\n",
        "print(statistics.pvariance(scores))"
      ],
      "cell_type": "code",
      "outputs": [
        {
          "output_type": "stream",
          "name": "stdout",
          "text": [
            "955.56\n"
          ]
        }
      ],
      "execution_count": null
    }
  ]
}
