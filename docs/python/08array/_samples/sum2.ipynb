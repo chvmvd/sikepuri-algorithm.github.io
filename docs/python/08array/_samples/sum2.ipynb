{
 "nbformat": 4,
 "nbformat_minor": 2,
 "metadata": {},
 "cells": [
  {
   "metadata": {},
   "source": [
    "sum([2, 5, 7])"
   ],
   "cell_type": "code",
   "outputs": [
    {
     "output_type": "execute_result",
     "data": {
      "text/plain": [
       "14"
      ]
     },
     "metadata": {},
     "execution_count": 1
    }
   ],
   "execution_count": null
  }
 ]
}
