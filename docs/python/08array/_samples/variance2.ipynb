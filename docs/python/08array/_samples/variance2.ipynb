{
 "nbformat": 4,
 "nbformat_minor": 2,
 "metadata": {},
 "cells": [
  {
   "metadata": {},
   "source": [
    "def average(scores):\n",
    "    sum = 0\n",
    "    for i in range(len(scores)):\n",
    "        sum += scores[i]\n",
    "    return sum / len(scores)\n",
    "\n",
    "\n",
    "def variance(scores):\n",
    "    sum = 0\n",
    "    for i in range(len(scores)):\n",
    "        sum += (scores[i] - average(scores)) ** 2\n",
    "    return sum / len(scores)\n",
    "\n",
    "\n",
    "scores = [26, 78, 83, 20, 10, 11, 22, 16, 41, 95]\n",
    "variance(scores)"
   ],
   "cell_type": "code",
   "outputs": [
    {
     "output_type": "execute_result",
     "data": {
      "text/plain": [
       "955.5600000000001"
      ]
     },
     "metadata": {},
     "execution_count": 1
    }
   ],
   "execution_count": null
  }
 ]
}
