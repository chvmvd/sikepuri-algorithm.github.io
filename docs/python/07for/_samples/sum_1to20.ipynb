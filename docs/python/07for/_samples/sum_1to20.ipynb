{
 "nbformat": 4,
 "nbformat_minor": 2,
 "metadata": {},
 "cells": [
  {
   "metadata": {},
   "cell_type": "code",
   "outputs": [
    {
     "output_type": "execute_result",
     "data": {
      "text/plain": [
       "210"
      ]
     },
     "metadata": {},
     "execution_count": 1
    }
   ],
   "execution_count": null
   "source": [
    "1 + 2 + 3 + 4 + 5 + 6 + 7 + 8 + 9 + 10 + 11 +  12 + 13 + 14 + 15 + 16 + 17 + 18 + 19 + 20"
   ]
  }
 ]
}
