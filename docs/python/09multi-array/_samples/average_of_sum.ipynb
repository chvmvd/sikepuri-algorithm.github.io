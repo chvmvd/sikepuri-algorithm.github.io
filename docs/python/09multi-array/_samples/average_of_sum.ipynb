{
  "nbformat": 4,
  "nbformat_minor": 2,
  "metadata": {},
  "cells": [
    {
      "metadata": {},
      "source": [
        "def sum(scores):\n",
        "    s = 0\n",
        "    for i in range(len(scores)):\n",
        "        s += scores[i]\n",
        "    return s\n",
        "\n",
        "\n",
        "def average_sum(scores):\n",
        "    s = 0\n",
        "    for i in range(len(scores)):\n",
        "        s += sum(scores[i])\n",
        "    return s / len(scores)\n",
        "\n",
        "\n",
        "SCORES = [[83, 75, 32], [73, 53, 84], [63, 48, 64]]\n",
        "\n",
        "print(average_sum(SCORES))"
      ],
      "cell_type": "code",
      "outputs": [
        {
          "output_type": "stream",
          "name": "stdout",
          "text": [
            "191.66666666666666\n"
          ]
        }
      ],
      "execution_count": null
    }
  ]
}
