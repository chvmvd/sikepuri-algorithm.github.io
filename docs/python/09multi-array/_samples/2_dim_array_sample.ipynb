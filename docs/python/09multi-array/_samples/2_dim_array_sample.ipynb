{
  "nbformat": 4,
  "nbformat_minor": 2,
  "metadata": {},
  "cells": [
    {
      "metadata": {},
      "source": [
        "def sum(scores):\n",
        "    s = 0\n",
        "    for i in range(len(scores)):\n",
        "        s += scores[i]\n",
        "    return s\n",
        "\n",
        "\n",
        "A_SCORES = [83, 75, 32]\n",
        "B_SCORES = [73, 53, 84]\n",
        "C_SCORES = [63, 48, 64]\n",
        "\n",
        "print(sum(A_SCORES) + sum(B_SCORES) + sum(C_SCORES))"
      ],
      "cell_type": "code",
      "outputs": [
        {
          "output_type": "stream",
          "name": "stdout",
          "text": [
            "575\n"
          ]
        }
      ],
      "execution_count": null
    }
  ]
}
