{
  "nbformat": 4,
  "nbformat_minor": 2,
  "metadata": {},
  "cells": [
    {
      "metadata": {},
      "source": [
        "def sum(scores):\n",
        "    s = 0\n",
        "    for i in range(len(scores)):\n",
        "        for j in range(len(scores[i])):\n",
        "            s += scores[i][j]\n",
        "    return s\n",
        "\n",
        "\n",
        "SCORES = [[83, 75, 32], [73, 53, 84], [63, 48, 64]]\n",
        "\n",
        "sum(SCORES)"
      ],
      "cell_type": "code",
      "outputs": [
        {
          "output_type": "execute_result",
          "data": {
            "text/plain": [
              "575"
            ]
          },
          "metadata": {},
          "execution_count": 1
        }
      ],
      "execution_count": null
    }
  ]
}
