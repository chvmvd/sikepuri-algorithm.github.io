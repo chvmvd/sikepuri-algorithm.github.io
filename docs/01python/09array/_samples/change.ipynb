{
 "nbformat": 4,
 "nbformat_minor": 2,
 "metadata": {},
 "cells": [
  {
   "metadata": {},
   "source": [
    "scores = [96, 56, 42, 74, 86]\n",
    "scores[0] = 37"
   ],
   "cell_type": "code",
   "outputs": [],
   "execution_count": null
  }
 ]
}
