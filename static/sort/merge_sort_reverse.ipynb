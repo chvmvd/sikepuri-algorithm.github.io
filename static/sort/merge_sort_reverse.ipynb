{
  "nbformat": 4,
  "nbformat_minor": 2,
  "metadata": {},
  "cells": [
    {
      "metadata": {},
      "source": [
        "def merge(left, right):\n",
        "    if len(left) == 0 or len(right) == 0:\n",
        "        return left + right\n",
        "    # highlight-next-line\n",
        "    if left[0] > right[0]:\n",
        "        return [left[0]] + merge(left[1:], right)\n",
        "    else:\n",
        "        return [right[0]] + merge(left, right[1:])\n",
        "\n",
        "\n",
        "def merge_sort(data):\n",
        "    if len(data) <= 1:\n",
        "        return data\n",
        "    mid = len(data) // 2\n",
        "    left = merge_sort(data[:mid])\n",
        "    right = merge_sort(data[mid:])\n",
        "    return merge(left, right)\n",
        "\n",
        "\n",
        "data = [3, 8, 2, 5, 1, 10, 6, 9, 4, 7]\n",
        "print(merge_sort(data))"
      ],
      "cell_type": "code",
      "outputs": [],
      "execution_count": null
    }
  ]
}
