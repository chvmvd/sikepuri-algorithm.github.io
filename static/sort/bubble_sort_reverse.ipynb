{
  "nbformat": 4,
  "nbformat_minor": 2,
  "metadata": {},
  "cells": [
    {
      "metadata": {},
      "source": [
        "def bubble_sort(data):\n",
        "    n = len(data)\n",
        "    for i in range(n):\n",
        "        for j in range(i + 1, n):\n",
        "            # highlight-next-line\n",
        "            if data[i] < data[j]:\n",
        "                data[i], data[j] = data[j], data[i]\n",
        "    return data\n",
        "\n",
        "\n",
        "data = [3, 8, 2, 5, 1, 10, 6, 9, 4, 7]\n",
        "print(bubble_sort(data))"
      ],
      "cell_type": "code",
      "outputs": [],
      "execution_count": null
    }
  ]
}
