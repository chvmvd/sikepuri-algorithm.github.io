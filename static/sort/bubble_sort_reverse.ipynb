{
 "nbformat": 4,
 "nbformat_minor": 2,
 "metadata": {},
 "cells": [
  {
   "metadata": {},
   "source": [
    "def bubble_sort(data):\n",
    "    n = len(data)\n",
    "    for i in range(n):\n",
    "        for j in range(i + 1, n):\n",
    "            if data[i] < data[j]:\n",
    "                data[i], data[j] = data[j], data[i]\n",
    "    return data\n",
    "\n",
    "\n",
    "data = [3, 8, 2, 5, 1, 10, 6, 9, 4, 7]\n",
    "print(bubble_sort(data))"
   ],
   "cell_type": "code",
   "outputs": [
    {
     "output_type": "stream",
     "name": "stdout",
     "text": [
      "[10, 9, 8, 7, 6, 5, 4, 3, 2, 1]\n"
     ]
    }
   ],
   "execution_count": null
  }
 ]
}
