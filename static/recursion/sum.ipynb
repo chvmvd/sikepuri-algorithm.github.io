{
  "nbformat": 4,
  "nbformat_minor": 2,
  "metadata": {},
  "cells": [
    {
      "metadata": {},
      "source": [
        "def calc_sum(n):\n",
        "    if n == 1:\n",
        "        return 1\n",
        "    else:\n",
        "        return calc_sum(n - 1) + n\n",
        "\n",
        "\n",
        "print(calc_sum(10))"
      ],
      "cell_type": "code",
      "outputs": [],
      "execution_count": null
    }
  ]
}
