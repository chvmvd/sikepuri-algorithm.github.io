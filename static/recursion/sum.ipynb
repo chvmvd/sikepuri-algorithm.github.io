{
  "nbformat": 4,
  "nbformat_minor": 2,
  "metadata": {},
  "cells": [
    {
      "metadata": {},
      "source": [
        "def sum_val(n):\n",
        "    if n == 1:\n",
        "        return 1\n",
        "    else:\n",
        "        return sum_val(n - 1) + n\n",
        "\n",
        "\n",
        "print(sum_val(10))"
      ],
      "cell_type": "code",
      "outputs": [
        {
          "output_type": "stream",
          "name": "stdout",
          "text": [
            "55\n"
          ]
        }
      ],
      "execution_count": null
    }
  ]
}
