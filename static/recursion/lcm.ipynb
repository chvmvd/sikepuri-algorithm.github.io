{
  "nbformat": 4,
  "nbformat_minor": 2,
  "metadata": {},
  "cells": [
    {
      "metadata": {},
      "source": [
        "def gcd(m, n):\n",
        "    if m < n:\n",
        "        m, n = n, m\n",
        "    if n == 0:\n",
        "        return m\n",
        "    else:\n",
        "        return gcd(n, m % n)\n",
        "\n",
        "\n",
        "def lcm(m, n):\n",
        "    return m * n / gcd(m, n)\n",
        "\n",
        "\n",
        "print(lcm(30, 18))"
      ],
      "cell_type": "code",
      "outputs": [
        {
          "output_type": "stream",
          "name": "stdout",
          "text": [
            "90.0\n"
          ]
        }
      ],
      "execution_count": null
    }
  ]
}
