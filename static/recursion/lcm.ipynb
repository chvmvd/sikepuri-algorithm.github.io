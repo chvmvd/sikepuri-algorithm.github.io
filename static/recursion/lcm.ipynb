{
  "nbformat": 4,
  "nbformat_minor": 2,
  "metadata": {},
  "cells": [
    {
      "metadata": {},
      "source": [
        "def gcd(a, b):\n",
        "    if b == 0:\n",
        "        return a\n",
        "    else:\n",
        "        return gcd(b, a % b)\n",
        "\n",
        "\n",
        "def lcm(a, b):\n",
        "    return a * b / gcd(a, b)\n",
        "\n",
        "\n",
        "print(lcm(30, 18))"
      ],
      "cell_type": "code",
      "outputs": [
        {
          "output_type": "stream",
          "name": "stdout",
          "text": [
            "90.0\n"
          ]
        }
      ],
      "execution_count": null
    }
  ]
}
