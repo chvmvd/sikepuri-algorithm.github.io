{
 "cells": [
  {
   "cell_type": "code",
   "execution_count": null,
   "metadata": {},
   "outputs": [],
   "source": [
    "def lucas(n):\n",
    "    if n == 0:\n",
    "        return 2\n",
    "    elif n == 1:\n",
    "        return 1\n",
    "    else:\n",
    "        return lucas(n - 1) + lucas(n - 2)\n",
    "\n",
    "\n",
    "print(lucas(10))"
   ]
  }
 ],
 "metadata": {},
 "nbformat": 4,
 "nbformat_minor": 2
}
