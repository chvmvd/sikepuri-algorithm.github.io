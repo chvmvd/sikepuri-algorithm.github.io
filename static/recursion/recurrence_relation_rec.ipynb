{
  "nbformat": 4,
  "nbformat_minor": 2,
  "metadata": {},
  "cells": [
    {
      "metadata": {},
      "source": [
        "def a(n):\n",
        "    if n == 1:\n",
        "        return 1\n",
        "    else:\n",
        "        return a(n - 1) + 1\n",
        "\n",
        "\n",
        "print(a(10))"
      ],
      "cell_type": "code",
      "outputs": [
        {
          "output_type": "stream",
          "name": "stdout",
          "text": [
            "10\n"
          ]
        }
      ],
      "execution_count": null
    }
  ]
}
