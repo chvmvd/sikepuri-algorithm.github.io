{
 "cells": [
  {
   "cell_type": "code",
   "execution_count": null,
   "metadata": {},
   "outputs": [],
   "source": [
    "!pip install ita"
   ]
  },
  {
   "cell_type": "code",
   "execution_count": null,
   "metadata": {},
   "outputs": [],
   "source": [
    "import ita"
   ]
  },
  {
   "cell_type": "code",
   "execution_count": null,
   "metadata": {},
   "outputs": [],
   "source": [
    "def count_neighbors(board, i, j):\n",
    "    cnt = 0\n",
    "    for k in range(i - 1, i + 2):\n",
    "        for l in range(j - 1, j + 2):\n",
    "            if 0 <= k < len(board) and 0 <= l < len(board[k]):\n",
    "                cnt += board[k][l]\n",
    "    return cnt - board[i][j]\n",
    "\n",
    "\n",
    "def is_alive(board, i, j):\n",
    "    neighbors_cnt = count_neighbors(board, i, j)\n",
    "    if board[i][j] == 0:\n",
    "        if neighbors_cnt == 3:\n",
    "            return 1\n",
    "        else:\n",
    "            return 0\n",
    "    else:\n",
    "        if neighbors_cnt in [2, 3]:\n",
    "            return 1\n",
    "        elif neighbors_cnt <= 1:\n",
    "            return 0\n",
    "        elif neighbors_cnt >= 4:\n",
    "            return 0\n",
    "\n",
    "\n",
    "def next_generation(board):\n",
    "    row = len(board)\n",
    "    column = len(board[0])\n",
    "    next_board = ita.array.make2d(row, column)\n",
    "    for i in range(len(board)):\n",
    "        for j in range(len(board[0])):\n",
    "            next_board[i][j] = is_alive(board, i, j)\n",
    "    return next_board\n",
    "\n",
    "\n",
    "def life_game(board, n):\n",
    "    results = ita.array.make1d(n)\n",
    "    results[0] = board\n",
    "    for i in range(1, n):\n",
    "        results[i] = next_generation(results[i - 1])\n",
    "    return results\n",
    "\n",
    "\n",
    "board = [[1, 1, 0], [1, 0, 0], [0, 0, 0]]\n",
    "n = 20\n",
    "print(life_game(board, n))"
   ]
  }
 ],
 "metadata": {},
 "nbformat": 4,
 "nbformat_minor": 2
}
