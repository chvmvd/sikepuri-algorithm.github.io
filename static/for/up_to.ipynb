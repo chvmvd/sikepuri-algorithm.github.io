{
  "nbformat": 4,
  "nbformat_minor": 2,
  "metadata": {},
  "cells": [
    {
      "metadata": {},
      "source": [
        "def up_to(n):\n",
        "    sum_val = 0\n",
        "    for i in range(1, n + 1):\n",
        "        sum_val += i\n",
        "    return sum_val\n",
        "\n",
        "\n",
        "print(up_to(10))"
      ],
      "cell_type": "code",
      "outputs": [],
      "execution_count": null
    }
  ]
}
