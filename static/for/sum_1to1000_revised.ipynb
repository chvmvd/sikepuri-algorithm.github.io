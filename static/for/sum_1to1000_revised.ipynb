{
  "nbformat": 4,
  "nbformat_minor": 2,
  "metadata": {},
  "cells": [
    {
      "metadata": {},
      "source": [
        "sum_val = 0\n",
        "for i in range(1, 1001):\n",
        "    sum_val += i\n",
        "print(sum_val)"
      ],
      "cell_type": "code",
      "outputs": [],
      "execution_count": null
    }
  ]
}
