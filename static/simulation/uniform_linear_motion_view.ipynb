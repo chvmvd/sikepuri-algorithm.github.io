{
 "cells": [
  {
   "cell_type": "code",
   "execution_count": null,
   "metadata": {},
   "outputs": [],
   "source": [
    "!pip install ita"
   ]
  },
  {
   "cell_type": "code",
   "execution_count": null,
   "metadata": {},
   "outputs": [],
   "source": [
    "import ita\n",
    "\n",
    "%matplotlib inline"
   ]
  },
  {
   "cell_type": "code",
   "execution_count": null,
   "metadata": {},
   "outputs": [],
   "source": [
    "def draw_cell(x, y):\n",
    "    image = ita.array.make2d(100, 100)\n",
    "    y = len(image) - 1 - y\n",
    "    image[y][x] = 1\n",
    "    return image\n",
    "\n",
    "\n",
    "def uniform_linear_motion_step(x, v0, dt):\n",
    "    return x + v0 * dt\n",
    "\n",
    "\n",
    "def uniform_linear_motion(x0, v0, t, dt):\n",
    "    x = []\n",
    "    x.append(x0)\n",
    "    n = int(t / dt)\n",
    "    for i in range(n):\n",
    "        x.append(uniform_linear_motion_step(x[i], v0, dt))\n",
    "    return x\n",
    "\n",
    "\n",
    "x = uniform_linear_motion(0, 10, 10, 0.1)\n",
    "images = []\n",
    "for i in range(10):\n",
    "    images.append(draw_cell(int(x[i * int(len(x) / 10)]), 50))\n",
    "ita.plot.animation_show(images)"
   ]
  }
 ],
 "metadata": {},
 "nbformat": 4,
 "nbformat_minor": 2
}
