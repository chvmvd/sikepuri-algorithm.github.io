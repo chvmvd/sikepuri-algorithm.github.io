{
  "nbformat": 4,
  "nbformat_minor": 2,
  "metadata": {},
  "cells": [
    {
      "metadata": {},
      "source": [
        "!pip install ita"
      ],
      "cell_type": "code",
      "outputs": [],
      "execution_count": null
    },
    {
      "metadata": {},
      "source": [
        "import math\n",
        "\n",
        "import ita\n",
        "\n",
        "%matplotlib inline"
      ],
      "cell_type": "code",
      "outputs": [],
      "execution_count": null
    },
    {
      "metadata": {},
      "source": [
        "def draw_cell(x, y):\n",
        "    image = [[0 for _ in range(100)] for _ in range(100)]\n",
        "    image[len(image) - 1 - y][x] = 1\n",
        "    return image\n",
        "\n",
        "\n",
        "g = 9.8\n",
        "\n",
        "\n",
        "def parabolic_motion_step(y, v, K, dt):\n",
        "    y = y + v * dt\n",
        "    v = v - g * dt - K * v * dt\n",
        "    return [y, v]\n",
        "\n",
        "\n",
        "def parabolic_motion(K, t, dt):\n",
        "    y = 100\n",
        "    v = 0\n",
        "    result = []\n",
        "    result.append([y, v])\n",
        "    n = int(t / dt)\n",
        "    for i in range(n):\n",
        "        result.append(parabolic_motion_step(result[i][0], result[i][1], K, dt))\n",
        "    return result\n",
        "\n",
        "\n",
        "result = parabolic_motion(6, 60, 0.01)\n",
        "images = []\n",
        "for i in range(10):\n",
        "    images.append(draw_cell(50, int(result[i * int(len(result) / 10)][0])))\n",
        "ita.plot.animation_show(images)"
      ],
      "cell_type": "code",
      "outputs": [],
      "execution_count": null
    }
  ]
}
