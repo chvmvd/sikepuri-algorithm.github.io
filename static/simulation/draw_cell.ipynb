{
 "nbformat": 4,
 "nbformat_minor": 2,
 "metadata": {},
 "cells": [
  {
   "metadata": {},
   "source": [
    "!pip install ita"
   ],
   "cell_type": "code",
   "outputs": [],
   "execution_count": null
  },
  {
   "metadata": {},
   "source": [
    "import ita\n",
    "\n",
    "%matplotlib inline"
   ],
   "cell_type": "code",
   "outputs": [],
   "execution_count": null
  },
  {
   "metadata": {},
   "source": [
    "def draw_cell(x, y):\n",
    "    image = [[0 for _ in range(100)] for _ in range(100)]\n",
    "    image[len(image) - 1 - y][x] = 1\n",
    "    return image\n",
    "\n",
    "\n",
    "image = draw_cell(10, 10)\n",
    "ita.plot.image_show(image)"
   ],
   "cell_type": "code",
   "outputs": [],
   "execution_count": null
  }
 ]
}
