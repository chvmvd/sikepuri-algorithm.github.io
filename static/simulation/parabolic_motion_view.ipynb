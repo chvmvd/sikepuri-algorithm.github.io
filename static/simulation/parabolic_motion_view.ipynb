{
 "cells": [
  {
   "cell_type": "code",
   "execution_count": null,
   "metadata": {},
   "outputs": [],
   "source": [
    "!pip install ita"
   ]
  },
  {
   "cell_type": "code",
   "execution_count": null,
   "metadata": {},
   "outputs": [],
   "source": [
    "import math\n",
    "\n",
    "import ita\n",
    "\n",
    "%matplotlib inline"
   ]
  },
  {
   "cell_type": "code",
   "execution_count": null,
   "metadata": {},
   "outputs": [],
   "source": [
    "def draw_cell(x, y):\n",
    "    image = [[0 for _ in range(100)] for _ in range(100)]\n",
    "    image[len(image) - 1 - y][x] = 1\n",
    "    return image\n",
    "\n",
    "\n",
    "g = 9.8\n",
    "\n",
    "\n",
    "def parabolic_motion_step(x, y, u, v, dt):\n",
    "    x = x + u * dt\n",
    "    y = y + v * dt\n",
    "    u = u\n",
    "    v = v - g * dt\n",
    "    return [x, y, u, v]\n",
    "\n",
    "\n",
    "def parabolic_motion(v0, theta, t, dt):\n",
    "    x = 0\n",
    "    y = 0\n",
    "    u = v0 * math.cos(theta)\n",
    "    v = v0 * math.sin(theta)\n",
    "    result = []\n",
    "    result.append([x, y, u, v])\n",
    "    n = int(t / dt)\n",
    "    for i in range(n):\n",
    "        result.append(\n",
    "            parabolic_motion_step(\n",
    "                result[i][0], result[i][1], result[i][2], result[i][3], dt\n",
    "            )\n",
    "        )\n",
    "    return result\n",
    "\n",
    "\n",
    "result = parabolic_motion(30, math.pi / 4, 4, 0.01)\n",
    "images = []\n",
    "for i in range(10):\n",
    "    images.append(\n",
    "        draw_cell(\n",
    "            int(result[i * int(len(result) / 10)][0]),\n",
    "            int(result[i * int(len(result) / 10)][1]),\n",
    "        )\n",
    "    )\n",
    "ita.plot.animation_show(images)"
   ]
  }
 ],
 "metadata": {},
 "nbformat": 4,
 "nbformat_minor": 2
}
