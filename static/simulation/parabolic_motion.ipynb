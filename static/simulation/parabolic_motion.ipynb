{
 "nbformat": 4,
 "nbformat_minor": 2,
 "metadata": {},
 "cells": [
  {
   "metadata": {},
   "source": [
    "import math"
   ],
   "cell_type": "code",
   "outputs": [],
   "execution_count": null
  },
  {
   "metadata": {},
   "source": [
    "g = 9.8\n",
    "\n",
    "\n",
    "def parabolic_motion_step(x, y, vx, vy, dt):\n",
    "    x = x + vx * dt\n",
    "    y = y + vy * dt\n",
    "    vx = vx\n",
    "    vy = vy - g * dt\n",
    "    return [x, y, vx, vy]\n",
    "\n",
    "\n",
    "def parabolic_motion(v0, theta, t, dt):\n",
    "    x = 0\n",
    "    y = 0\n",
    "    vx = v0 * math.cos(theta)\n",
    "    vy = v0 * math.sin(theta)\n",
    "    n = int(t / dt)\n",
    "    for i in range(n):\n",
    "        x, y, vx, vy = parabolic_motion_step(x, y, vx, vy, dt)\n",
    "    return [x, y]\n",
    "\n",
    "\n",
    "print(parabolic_motion(30, math.pi / 4, 4, 0.01))"
   ],
   "cell_type": "code",
   "outputs": [
    {
     "output_type": "stream",
     "name": "stdout",
     "text": [
      "[84.85281374238573, 6.648813742385697]\n"
     ]
    }
   ],
   "execution_count": null
  }
 ]
}
