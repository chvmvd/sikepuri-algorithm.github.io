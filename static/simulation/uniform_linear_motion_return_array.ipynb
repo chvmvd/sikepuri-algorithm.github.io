{
 "cells": [
  {
   "cell_type": "code",
   "execution_count": null,
   "metadata": {},
   "outputs": [],
   "source": [
    "def uniform_linear_motion_step(x, v0, dt):\n",
    "    return x + v0 * dt\n",
    "\n",
    "\n",
    "def uniform_linear_motion(x0, v0, t, dt):\n",
    "    x = []\n",
    "    x.append(x0)\n",
    "    n = int(t / dt)\n",
    "    for i in range(n):\n",
    "        x.append(uniform_linear_motion_step(x[i], v0, dt))\n",
    "    return x\n",
    "\n",
    "\n",
    "print(uniform_linear_motion(0, 10, 10, 0.1))"
   ]
  }
 ],
 "metadata": {},
 "nbformat": 4,
 "nbformat_minor": 2
}
