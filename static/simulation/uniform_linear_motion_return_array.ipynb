{
  "nbformat": 4,
  "nbformat_minor": 2,
  "metadata": {},
  "cells": [
    {
      "metadata": {},
      "source": [
        "def uniform_linear_motion_step(x, v0, dt):\n",
        "    return x + v0 * dt\n",
        "\n",
        "\n",
        "def uniform_linear_motion(x0, v0, t, dt):\n",
        "    # highlight-start\n",
        "    x = []\n",
        "    x.append(x0)\n",
        "    n = int(t / dt)\n",
        "    for i in range(n):\n",
        "        x.append(uniform_linear_motion_step(x[i], v0, dt))\n",
        "    return x\n",
        "    # highlight-end\n",
        "\n",
        "\n",
        "print(uniform_linear_motion(0, 10, 10, 0.1))"
      ],
      "cell_type": "code",
      "outputs": [],
      "execution_count": null
    }
  ]
}
