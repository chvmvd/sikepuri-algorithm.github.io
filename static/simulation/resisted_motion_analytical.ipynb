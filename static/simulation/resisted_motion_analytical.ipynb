{
  "nbformat": 4,
  "nbformat_minor": 2,
  "metadata": {},
  "cells": [
    {
      "metadata": {},
      "source": [
        "!pip install ita"
      ],
      "cell_type": "code",
      "outputs": [],
      "execution_count": null
    },
    {
      "metadata": {},
      "source": [
        "import math\n",
        "\n",
        "import ita\n",
        "\n",
        "%matplotlib inline"
      ],
      "cell_type": "code",
      "outputs": [],
      "execution_count": null
    },
    {
      "metadata": {},
      "source": [
        "def draw_cell(x, y):\n",
        "    image = [[0 for _ in range(100)] for _ in range(100)]\n",
        "    image[len(image) - 1 - y][x] = 1\n",
        "    return image\n",
        "\n",
        "\n",
        "g = 9.8\n",
        "\n",
        "\n",
        "def parabolic_motion(K, t, dt):\n",
        "    result = []\n",
        "    n = int(t / dt)\n",
        "    for i in range(n):\n",
        "        t = dt * i\n",
        "        result.append((1 / K) ** 2 * g * (1 - math.exp(-K * t)) - (1 / K) * g * t + 100)\n",
        "    return result\n",
        "\n",
        "\n",
        "result = parabolic_motion(6, 60, 0.01)\n",
        "images = []\n",
        "for i in range(10):\n",
        "    images.append(draw_cell(50, int(result[i * int(len(result) / 10)])))\n",
        "ita.plot.animation_show(images)"
      ],
      "cell_type": "code",
      "outputs": [],
      "execution_count": null
    }
  ]
}
