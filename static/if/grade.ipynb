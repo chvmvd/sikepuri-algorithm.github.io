{
 "nbformat": 4,
 "nbformat_minor": 2,
 "metadata": {},
 "cells": [
  {
   "metadata": {},
   "source": [
    "def evaluate_grade(point):\n",
    "    if point >= 90:\n",
    "        print(\"優上です。非常に素晴らしい成績です！\")\n",
    "    elif point >= 80:\n",
    "        print(\"優です。素晴らしい成績です！\")\n",
    "    elif point >= 65:\n",
    "        print(\"良です。よく理解できています！\")\n",
    "    elif point >= 50:\n",
    "        print(\"可です。よく勉強しています。\")\n",
    "    else:\n",
    "        print(\"不可です。もう少し頑張りましょう。\")\n",
    "\n",
    "\n",
    "evaluate_grade(79)"
   ],
   "cell_type": "code",
   "outputs": [
    {
     "output_type": "stream",
     "name": "stdout",
     "text": [
      "良です。よく理解できています！\n"
     ]
    }
   ],
   "execution_count": null
  }
 ]
}
