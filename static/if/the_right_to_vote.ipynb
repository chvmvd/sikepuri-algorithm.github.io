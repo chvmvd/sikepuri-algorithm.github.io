{
 "cells": [
  {
   "cell_type": "code",
   "execution_count": null,
   "metadata": {},
   "outputs": [],
   "source": [
    "age = 18\n",
    "if age < 18:\n",
    "    print(\"選挙権はありません。\")\n",
    "elif age < 25:\n",
    "    print(\"投票することができます。\")\n",
    "else:\n",
    "    print(\"衆議院議員に立候補することができます。\")"
   ]
  }
 ],
 "metadata": {},
 "nbformat": 4,
 "nbformat_minor": 2
}
