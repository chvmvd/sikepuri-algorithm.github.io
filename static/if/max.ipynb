{
 "cells": [
  {
   "cell_type": "code",
   "execution_count": null,
   "metadata": {},
   "outputs": [],
   "source": [
    "def max_val(scores):\n",
    "    m = scores[0]\n",
    "    for i in range(1, len(scores)):\n",
    "        if m < scores[i]:\n",
    "            m = scores[i]\n",
    "    return m\n",
    "\n",
    "\n",
    "SCORES = [55, 32, 16, 51, 80, 19]\n",
    "print(max_val(SCORES))"
   ]
  }
 ],
 "metadata": {},
 "nbformat": 4,
 "nbformat_minor": 2
}
