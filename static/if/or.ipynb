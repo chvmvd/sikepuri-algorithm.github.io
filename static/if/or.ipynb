{
 "nbformat": 4,
 "nbformat_minor": 2,
 "metadata": {},
 "cells": [
  {
   "metadata": {},
   "source": [
    "age = 18\n",
    "\n",
    "print(age < 20 or age > 70)"
   ],
   "cell_type": "code",
   "outputs": [
    {
     "output_type": "stream",
     "name": "stdout",
     "text": [
      "True\n"
     ]
    }
   ],
   "execution_count": null
  }
 ]
}
