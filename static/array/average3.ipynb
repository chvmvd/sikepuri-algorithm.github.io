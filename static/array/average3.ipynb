{
 "cells": [
  {
   "cell_type": "code",
   "execution_count": null,
   "metadata": {},
   "outputs": [],
   "source": [
    "scores = [96, 56, 42, 74, 86]\n",
    "sum = 0\n",
    "for i in range(len(scores)):\n",
    "    sum += scores[i]\n",
    "print(sum / 5)"
   ]
  }
 ],
 "metadata": {},
 "nbformat": 4,
 "nbformat_minor": 2
}
