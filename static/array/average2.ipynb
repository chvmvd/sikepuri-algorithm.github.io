{
 "cells": [
  {
   "cell_type": "code",
   "execution_count": null,
   "metadata": {},
   "outputs": [],
   "source": [
    "scores = [96, 56, 42, 74, 86]\n",
    "print((scores[0] + scores[1] + scores[2] + scores[3] + scores[4]) / 5)"
   ]
  }
 ],
 "metadata": {},
 "nbformat": 4,
 "nbformat_minor": 2
}
