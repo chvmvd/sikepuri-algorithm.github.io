{
  "nbformat": 4,
  "nbformat_minor": 2,
  "metadata": {},
  "cells": [
    {
      "metadata": {},
      "source": [
        "def calc_max(scores):\n",
        "    max_val = scores[0]\n",
        "    for i in range(1, len(scores)):\n",
        "        if max_val < scores[i]:\n",
        "            max_val = scores[i]\n",
        "    return max_val\n",
        "\n",
        "\n",
        "scores = [26, 78, 83, 20, 10, 11, 22, 16, 41, 95]\n",
        "print(calc_max(scores))"
      ],
      "cell_type": "code",
      "outputs": [],
      "execution_count": null
    }
  ]
}
