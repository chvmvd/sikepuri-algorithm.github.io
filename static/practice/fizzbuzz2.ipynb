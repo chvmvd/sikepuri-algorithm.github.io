{
 "cells": [
  {
   "cell_type": "code",
   "execution_count": null,
   "metadata": {},
   "outputs": [],
   "source": [
    "def fizzbuzz(n):\n",
    "    for i in range(1, n + 1):\n",
    "        s = \"\"\n",
    "        if i % 3 == 0:\n",
    "            s += \"Fizz\"\n",
    "        if i % 5 == 0:\n",
    "            s += \"Buzz\"\n",
    "        if s == \"\":\n",
    "            s = i\n",
    "        print(s)\n",
    "\n",
    "\n",
    "fizzbuzz(30)"
   ]
  }
 ],
 "metadata": {},
 "nbformat": 4,
 "nbformat_minor": 2
}
