{
  "nbformat": 4,
  "nbformat_minor": 2,
  "metadata": {},
  "cells": [
    {
      "metadata": {},
      "source": [
        "def gaussian_elimination(a):\n",
        "    # \u524d\u9032\u6d88\u53bb\n",
        "    for i in range(len(a)):\n",
        "        # pivot\u500d\u3067\u884c\u3092\u5272\u308b\n",
        "        pivot = a[i][i]\n",
        "        for j in range(i, len(a[i])):\n",
        "            a[i][j] /= pivot\n",
        "\n",
        "        # i+1\u884c\u76ee\u4ee5\u964d\u3092\u6383\u304d\u51fa\u3059\n",
        "        for j in range(i + 1, len(a)):\n",
        "            factor = a[j][i]\n",
        "            for k in range(i, len(a[i])):\n",
        "                a[j][k] -= factor * a[i][k]\n",
        "    # \u5f8c\u9000\u4ee3\u5165\n",
        "    x = [0 for _ in range(len(a[0]) - 1)]\n",
        "    for i in reversed(range(len(a))):\n",
        "        x[i] = a[i][len(a[i]) - 1]\n",
        "        for j in range(i):\n",
        "            a[j][len(a[i]) - 1] -= a[j][i] * x[i]\n",
        "    return x\n",
        "\n",
        "\n",
        "print(gaussian_elimination([[1, -2, 3, 3], [-1, 3, -2, 1], [1, -1, 6, 11]]))"
      ],
      "cell_type": "code",
      "outputs": [
        {
          "output_type": "stream",
          "name": "stdout",
          "text": [
            "[1.0, 2.0, 2.0]\n"
          ]
        }
      ],
      "execution_count": null
    }
  ]
}
