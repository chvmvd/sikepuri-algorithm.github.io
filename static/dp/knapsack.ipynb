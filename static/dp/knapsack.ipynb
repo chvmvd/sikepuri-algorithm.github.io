{
 "nbformat": 4,
 "nbformat_minor": 2,
 "metadata": {},
 "cells": [
  {
   "metadata": {},
   "source": [
    "def knapsack(v, w, W):\n",
    "    # 初期化\n",
    "    dp = [[0 for _ in range(W + 1)] for _ in range(len(v) + 1)]\n",
    "    # DP\n",
    "    for i in range(1, len(v) + 1):\n",
    "        for j in range(W + 1):\n",
    "            if w[i - 1] > j:\n",
    "                dp[i][j] = dp[i - 1][j]\n",
    "            else:\n",
    "                dp[i][j] = max(dp[i - 1][j], dp[i - 1][j - w[i - 1]] + v[i - 1])\n",
    "    return dp[len(v)][W]\n",
    "\n",
    "\n",
    "print(knapsack([2, 3, 6], [2, 3, 5], 10))"
   ],
   "cell_type": "code",
   "outputs": [
    {
     "output_type": "stream",
     "name": "stdout",
     "text": [
      "11\n"
     ]
    }
   ],
   "execution_count": null
  }
 ]
}
