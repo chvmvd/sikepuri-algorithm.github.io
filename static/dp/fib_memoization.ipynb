{
 "nbformat": 4,
 "nbformat_minor": 2,
 "metadata": {},
 "cells": [
  {
   "metadata": {},
   "source": [
    "memo = [-1 for _ in range(10000)]\n",
    "\n",
    "\n",
    "def fib(n):\n",
    "    if n == 0:\n",
    "        return 0\n",
    "    elif n == 1:\n",
    "        return 1\n",
    "    elif memo[n] != -1:\n",
    "        return memo[n]\n",
    "    else:\n",
    "        memo[n] = fib(n - 1) + fib(n - 2)\n",
    "        return fib(n - 1) + fib(n - 2)\n",
    "\n",
    "\n",
    "print(fib(100))"
   ],
   "cell_type": "code",
   "outputs": [
    {
     "output_type": "stream",
     "name": "stdout",
     "text": [
      "354224848179261915075\n"
     ]
    }
   ],
   "execution_count": null
  }
 ]
}
