{
  "nbformat": 4,
  "nbformat_minor": 2,
  "metadata": {},
  "cells": [
    {
      "metadata": {},
      "source": [
        "import random"
      ],
      "cell_type": "code",
      "outputs": [],
      "execution_count": null
    },
    {
      "metadata": {},
      "source": [
        "def calc_coin_probability(n):\n",
        "    head = 0\n",
        "    for _ in range(n):\n",
        "        if random.randint(0, 1) == 1:\n",
        "            head += 1\n",
        "    return head / n\n",
        "\n",
        "\n",
        "print(calc_coin_probability(100000))"
      ],
      "cell_type": "code",
      "outputs": [],
      "execution_count": null
    }
  ]
}
