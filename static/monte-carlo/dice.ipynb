{
  "nbformat": 4,
  "nbformat_minor": 2,
  "metadata": {},
  "cells": [
    {
      "metadata": {},
      "source": [
        "import random"
      ],
      "cell_type": "code",
      "outputs": [],
      "execution_count": null
    },
    {
      "metadata": {},
      "source": [
        "def calc_dice_probability(n):\n",
        "    one = 0\n",
        "    for _ in range(n):\n",
        "        if random.randint(1, 6) == 1:\n",
        "            one += 1\n",
        "    return one / n\n",
        "\n",
        "\n",
        "print(calc_dice_probability(100000))"
      ],
      "cell_type": "code",
      "outputs": [],
      "execution_count": null
    }
  ]
}
