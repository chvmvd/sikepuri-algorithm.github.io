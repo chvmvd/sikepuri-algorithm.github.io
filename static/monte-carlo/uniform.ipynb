{
 "nbformat": 4,
 "nbformat_minor": 2,
 "metadata": {},
 "cells": [
  {
   "metadata": {},
   "source": [
    "import random"
   ],
   "cell_type": "code",
   "outputs": [],
   "execution_count": null
  },
  {
   "metadata": {},
   "source": [
    "print(random.uniform(2, 4))"
   ],
   "cell_type": "code",
   "outputs": [
    {
     "output_type": "stream",
     "name": "stdout",
     "text": [
      "3.8650468552312107\n"
     ]
    }
   ],
   "execution_count": null
  }
 ]
}
