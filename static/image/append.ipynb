{
 "nbformat": 4,
 "nbformat_minor": 2,
 "metadata": {},
 "cells": [
  {
   "metadata": {},
   "source": [
    "a = [1, 2]\n",
    "a.append(3)\n",
    "print(a)"
   ],
   "cell_type": "code",
   "outputs": [],
   "execution_count": null
  }
 ]
}
