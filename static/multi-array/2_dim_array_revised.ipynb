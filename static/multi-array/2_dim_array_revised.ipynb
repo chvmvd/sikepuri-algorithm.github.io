{
 "cells": [
  {
   "cell_type": "code",
   "execution_count": null,
   "metadata": {},
   "outputs": [],
   "source": [
    "def sum_2d(scores):\n",
    "    s = 0\n",
    "    for i in range(len(scores)):\n",
    "        for j in range(len(scores[i])):\n",
    "            s += scores[i][j]\n",
    "    return s\n",
    "\n",
    "\n",
    "SCORES = [[83, 75, 32], [73, 53, 84], [63, 48, 64]]\n",
    "\n",
    "print(sum_2d(SCORES))"
   ]
  }
 ],
 "metadata": {},
 "nbformat": 4,
 "nbformat_minor": 2
}
