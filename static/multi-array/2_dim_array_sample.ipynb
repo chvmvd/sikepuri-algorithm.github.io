{
 "cells": [
  {
   "cell_type": "code",
   "execution_count": null,
   "metadata": {},
   "outputs": [],
   "source": [
    "def sum_val(scores):\n",
    "    s = 0\n",
    "    for i in range(len(scores)):\n",
    "        s += scores[i]\n",
    "    return s\n",
    "\n",
    "\n",
    "A_SCORES = [83, 75, 32]\n",
    "B_SCORES = [73, 53, 84]\n",
    "C_SCORES = [63, 48, 64]\n",
    "\n",
    "print(sum_val(A_SCORES) + sum_val(B_SCORES) + sum_val(C_SCORES))"
   ]
  }
 ],
 "metadata": {},
 "nbformat": 4,
 "nbformat_minor": 2
}
