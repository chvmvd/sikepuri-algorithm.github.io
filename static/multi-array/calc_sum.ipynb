{
  "nbformat": 4,
  "nbformat_minor": 2,
  "metadata": {},
  "cells": [
    {
      "metadata": {},
      "source": [
        "def calc_sum1d(scores):\n",
        "    sum_val = 0\n",
        "    for i in range(len(scores)):\n",
        "        sum_val += scores[i]\n",
        "    return sum_val\n",
        "\n",
        "\n",
        "a_scores = [83, 75, 32]\n",
        "b_scores = [73, 53, 84]\n",
        "c_scores = [63, 48, 64]\n",
        "\n",
        "print(calc_sum1d(a_scores) + calc_sum1d(b_scores) + calc_sum1d(c_scores))"
      ],
      "cell_type": "code",
      "outputs": [],
      "execution_count": null
    }
  ]
}
