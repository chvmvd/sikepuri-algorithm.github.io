{
 "nbformat": 4,
 "nbformat_minor": 2,
 "metadata": {},
 "cells": [
  {
   "metadata": {},
   "source": [
    "def calc_sum1d(scores):\n",
    "    sum_val = 0\n",
    "    for i in range(len(scores)):\n",
    "        sum_val += scores[i]\n",
    "    return sum_val\n",
    "\n",
    "\n",
    "# highlight-start\n",
    "def calc_total_score_max_2d(scores):\n",
    "    max_score = 0\n",
    "    for i in range(len(scores)):\n",
    "        for j in range(len(scores[i])):\n",
    "            total_score = calc_sum1d(scores[i][j])\n",
    "            if max_score < total_score:\n",
    "                max_score = total_score\n",
    "    return max_score\n",
    "\n",
    "\n",
    "# highlight-end\n",
    "\n",
    "\n",
    "scores = [[[51, 56, 10], [47, 52, 58]], [[24, 92, 34], [28, 44, 19]]]\n",
    "\n",
    "print(calc_total_score_max_2d(scores))"
   ],
   "cell_type": "code",
   "outputs": [],
   "execution_count": null
  }
 ]
}
