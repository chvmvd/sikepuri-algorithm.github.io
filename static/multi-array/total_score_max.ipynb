{
 "nbformat": 4,
 "nbformat_minor": 2,
 "metadata": {},
 "cells": [
  {
   "metadata": {},
   "source": [
    "def calc_sum1d(scores):\n",
    "    sum_val = 0\n",
    "    for i in range(len(scores)):\n",
    "        sum_val += scores[i]\n",
    "    return sum_val\n",
    "\n",
    "\n",
    "def calc_total_score_max(scores):\n",
    "    max_score = 0\n",
    "    for i in range(len(scores)):\n",
    "        total_score = calc_sum1d(scores[i])\n",
    "        if max_score < total_score:\n",
    "            max_score = total_score\n",
    "    return max_score\n",
    "\n",
    "\n",
    "scores = [[83, 75, 32], [73, 53, 84], [63, 48, 64]]\n",
    "\n",
    "print(calc_total_score_max(scores))"
   ],
   "cell_type": "code",
   "outputs": [
    {
     "output_type": "stream",
     "name": "stdout",
     "text": [
      "210\n"
     ]
    }
   ],
   "execution_count": null
  }
 ]
}
