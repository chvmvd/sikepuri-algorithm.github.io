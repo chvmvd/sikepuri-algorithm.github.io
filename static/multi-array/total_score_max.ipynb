{
 "nbformat": 4,
 "nbformat_minor": 2,
 "metadata": {},
 "cells": [
  {
   "metadata": {},
   "source": [
    "def calc_sum1d(scores):\n",
    "    sum_val = 0\n",
    "    for i in range(len(scores)):\n",
    "        sum_val += scores[i]\n",
    "    return sum_val\n",
    "\n",
    "\n",
    "# highlight-start\n",
    "def calc_total_score_max(scores):\n",
    "    max_score = 0\n",
    "    for i in range(len(scores)):\n",
    "        total_score = calc_sum1d(scores[i])\n",
    "        if max_score < total_score:\n",
    "            max_score = total_score\n",
    "    return max_score\n",
    "\n",
    "\n",
    "# highlight-end\n",
    "\n",
    "\n",
    "scores = [[83, 75, 32], [73, 53, 84], [63, 48, 64]]\n",
    "\n",
    "print(calc_total_score_max(scores))"
   ],
   "cell_type": "code",
   "outputs": [],
   "execution_count": null
  }
 ]
}
