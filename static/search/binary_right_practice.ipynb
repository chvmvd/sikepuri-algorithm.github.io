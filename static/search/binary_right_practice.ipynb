{
 "cells": [
  {
   "cell_type": "code",
   "execution_count": null,
   "metadata": {},
   "outputs": [],
   "source": [
    "def binary_search(data, number):\n",
    "    start, end = -1, len(data)\n",
    "    while end - start > 1:\n",
    "        center = (start + end) // 2\n",
    "        if data[center] <= number:\n",
    "            start = center\n",
    "        else:\n",
    "            end = center\n",
    "    return start\n",
    "\n",
    "\n",
    "data = [1, 2, 3, 4, 5, 5, 7, 8, 10]\n",
    "print(binary_search(data, 5))"
   ]
  }
 ],
 "metadata": {},
 "nbformat": 4,
 "nbformat_minor": 2
}
