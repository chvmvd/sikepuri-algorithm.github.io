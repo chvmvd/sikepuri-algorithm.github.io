{
 "cells": [
  {
   "cell_type": "code",
   "execution_count": null,
   "metadata": {},
   "outputs": [],
   "source": [
    "def linear_search(data, name):\n",
    "    for i in range(len(data)):\n",
    "        if data[i] == name:\n",
    "            return i\n",
    "\n",
    "\n",
    "students = [\n",
    "    \"伊藤\",\n",
    "    \"井上\",\n",
    "    \"加藤\",\n",
    "    \"木村\",\n",
    "    \"小林\",\n",
    "    \"斎藤\",\n",
    "    \"佐々木\",\n",
    "    \"佐藤\",\n",
    "    \"清水\",\n",
    "    \"鈴木\",\n",
    "    \"高橋\",\n",
    "    \"田中\",\n",
    "    \"中村\",\n",
    "    \"林\",\n",
    "    \"松本\",\n",
    "    \"山田\",\n",
    "    \"山口\",\n",
    "    \"山本\",\n",
    "    \"吉田\",\n",
    "    \"渡辺\",\n",
    "]\n",
    "\n",
    "print(linear_search(students, \"佐藤\") + 1)"
   ]
  }
 ],
 "metadata": {},
 "nbformat": 4,
 "nbformat_minor": 2
}
