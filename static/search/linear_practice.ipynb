{
  "nbformat": 4,
  "nbformat_minor": 2,
  "metadata": {},
  "cells": [
    {
      "metadata": {},
      "source": [
        "def linear_search(data, number):\n",
        "    for i in range(len(data)):\n",
        "        # highlight-next-line\n",
        "        if number <= data[i]:\n",
        "            return i\n",
        "\n",
        "\n",
        "data = [1, 2, 3, 4, 5, 5, 7, 8, 10]\n",
        "print(linear_search(data, 5))"
      ],
      "cell_type": "code",
      "outputs": [],
      "execution_count": null
    }
  ]
}
