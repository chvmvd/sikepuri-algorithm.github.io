{
  "nbformat": 4,
  "nbformat_minor": 2,
  "metadata": {},
  "cells": [
    {
      "metadata": {},
      "source": [
        "def hello():\n",
        "    print(\"Hello!\")\n",
        "\n",
        "\n",
        "hello()\n",
        "hello()\n",
        "hello()"
      ],
      "cell_type": "code",
      "outputs": [
        {
          "output_type": "stream",
          "name": "stdout",
          "text": [
            "Hello!\n",
            "Hello!\n",
            "Hello!\n"
          ]
        }
      ],
      "execution_count": null
    }
  ]
}
