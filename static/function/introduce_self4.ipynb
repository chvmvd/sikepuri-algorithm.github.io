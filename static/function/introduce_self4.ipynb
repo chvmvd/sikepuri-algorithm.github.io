{
 "cells": [
  {
   "cell_type": "code",
   "execution_count": null,
   "metadata": {},
   "outputs": [],
   "source": [
    "def introduce_self(name):\n",
    "    return f\"私の名前は、{name}です。\"\n",
    "\n",
    "\n",
    "print(introduce_self(\"小林\"))"
   ]
  }
 ],
 "metadata": {},
 "nbformat": 4,
 "nbformat_minor": 2
}
