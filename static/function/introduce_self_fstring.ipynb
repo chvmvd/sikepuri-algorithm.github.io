{
  "nbformat": 4,
  "nbformat_minor": 2,
  "metadata": {},
  "cells": [
    {
      "metadata": {},
      "source": [
        "def introduce_self(name):\n",
        "    # highlight-next-line\n",
        "    print(f\"\u79c1\u306e\u540d\u524d\u306f\u3001{name}\u3067\u3059\u3002\")\n",
        "\n",
        "\n",
        "introduce_self(\"\u7530\u4e2d\")"
      ],
      "cell_type": "code",
      "outputs": [],
      "execution_count": null
    }
  ]
}
