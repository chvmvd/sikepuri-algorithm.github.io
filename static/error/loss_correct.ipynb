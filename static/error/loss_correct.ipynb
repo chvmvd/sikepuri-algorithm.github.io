{
 "nbformat": 4,
 "nbformat_minor": 2,
 "metadata": {},
 "cells": [
  {
   "metadata": {},
   "source": [
    "r = 0\n",
    "for i in range(10000000):\n",
    "    r += 0.0000001\n",
    "r += 10000000000\n",
    "print(r)"
   ],
   "cell_type": "code",
   "outputs": [
    {
     "output_type": "stream",
     "name": "stdout",
     "text": [
      "10000000001.0\n"
     ]
    }
   ],
   "execution_count": null
  }
 ]
}
