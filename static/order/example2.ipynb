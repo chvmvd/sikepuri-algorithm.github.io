{
 "nbformat": 4,
 "nbformat_minor": 2,
 "metadata": {},
 "cells": [
  {
   "metadata": {},
   "source": [
    "def calc_sum_square(n):\n",
    "    s = 0\n",
    "    for i in range(1, n + 1):\n",
    "        for j in range(1, n + 1):\n",
    "            s += i * j\n",
    "    return s\n",
    "\n",
    "\n",
    "print(calc_sum_square(10))"
   ],
   "cell_type": "code",
   "outputs": [
    {
     "output_type": "stream",
     "name": "stdout",
     "text": [
      "3025\n"
     ]
    }
   ],
   "execution_count": null
  }
 ]
}
