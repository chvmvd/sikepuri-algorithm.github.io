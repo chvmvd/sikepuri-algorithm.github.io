{
  "nbformat": 4,
  "nbformat_minor": 2,
  "metadata": {},
  "cells": [
    {
      "metadata": {},
      "source": [
        "t = 20\n",
        "331.5 + 0.6 * t"
      ],
      "cell_type": "code",
      "outputs": [],
      "execution_count": null
    }
  ]
}
