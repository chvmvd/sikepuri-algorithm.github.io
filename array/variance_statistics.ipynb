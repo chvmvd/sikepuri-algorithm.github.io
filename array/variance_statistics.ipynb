{
 "cells": [
  {
   "cell_type": "code",
   "execution_count": 1,
   "metadata": {
    "execution": {
     "iopub.execute_input": "2023-02-07T03:21:07.629459Z",
     "iopub.status.busy": "2023-02-07T03:21:07.629250Z",
     "iopub.status.idle": "2023-02-07T03:21:07.639172Z",
     "shell.execute_reply": "2023-02-07T03:21:07.638514Z"
    }
   },
   "outputs": [
    {
     "name": "stdout",
     "output_type": "stream",
     "text": [
      "955.56\n"
     ]
    }
   ],
   "source": [
    "import statistics\n",
    "\n",
    "scores = [26, 78, 83, 20, 10, 11, 22, 16, 41, 95]\n",
    "print(statistics.pvariance(scores))"
   ]
  }
 ],
 "metadata": {
  "language_info": {
   "codemirror_mode": {
    "name": "ipython",
    "version": 3
   },
   "file_extension": ".py",
   "mimetype": "text/x-python",
   "name": "python",
   "nbconvert_exporter": "python",
   "pygments_lexer": "ipython3",
   "version": "3.10.9"
  }
 },
 "nbformat": 4,
 "nbformat_minor": 2
}
