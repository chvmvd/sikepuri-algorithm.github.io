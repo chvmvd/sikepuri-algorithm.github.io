{
 "cells": [
  {
   "cell_type": "code",
   "execution_count": 1,
   "metadata": {
    "execution": {
     "iopub.execute_input": "2023-02-19T07:00:12.344230Z",
     "iopub.status.busy": "2023-02-19T07:00:12.344006Z",
     "iopub.status.idle": "2023-02-19T07:00:12.351115Z",
     "shell.execute_reply": "2023-02-19T07:00:12.350489Z"
    }
   },
   "outputs": [],
   "source": [
    "scores = [96, 56, 42, 74, 86]\n",
    "scores[0] = 37"
   ]
  }
 ],
 "metadata": {
  "language_info": {
   "codemirror_mode": {
    "name": "ipython",
    "version": 3
   },
   "file_extension": ".py",
   "mimetype": "text/x-python",
   "name": "python",
   "nbconvert_exporter": "python",
   "pygments_lexer": "ipython3",
   "version": "3.10.10"
  }
 },
 "nbformat": 4,
 "nbformat_minor": 2
}
