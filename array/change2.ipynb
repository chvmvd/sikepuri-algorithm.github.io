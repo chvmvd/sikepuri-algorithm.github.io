{
 "cells": [
  {
   "cell_type": "code",
   "execution_count": 1,
   "metadata": {
    "execution": {
     "iopub.execute_input": "2023-02-09T13:58:50.375985Z",
     "iopub.status.busy": "2023-02-09T13:58:50.375281Z",
     "iopub.status.idle": "2023-02-09T13:58:50.384405Z",
     "shell.execute_reply": "2023-02-09T13:58:50.383645Z"
    }
   },
   "outputs": [
    {
     "name": "stdout",
     "output_type": "stream",
     "text": [
      "[37, 56, 42, 74, 86]\n"
     ]
    }
   ],
   "source": [
    "scores = [96, 56, 42, 74, 86]\n",
    "scores[0] = 37\n",
    "print(scores)"
   ]
  }
 ],
 "metadata": {
  "language_info": {
   "codemirror_mode": {
    "name": "ipython",
    "version": 3
   },
   "file_extension": ".py",
   "mimetype": "text/x-python",
   "name": "python",
   "nbconvert_exporter": "python",
   "pygments_lexer": "ipython3",
   "version": "3.10.9"
  }
 },
 "nbformat": 4,
 "nbformat_minor": 2
}
