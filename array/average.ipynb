{
 "cells": [
  {
   "cell_type": "code",
   "execution_count": 1,
   "metadata": {
    "execution": {
     "iopub.execute_input": "2023-07-02T10:40:54.358711Z",
     "iopub.status.busy": "2023-07-02T10:40:54.358436Z",
     "iopub.status.idle": "2023-07-02T10:40:54.371265Z",
     "shell.execute_reply": "2023-07-02T10:40:54.370642Z"
    }
   },
   "outputs": [
    {
     "name": "stdout",
     "output_type": "stream",
     "text": [
      "70.8\n"
     ]
    }
   ],
   "source": [
    "score1 = 96\n",
    "score2 = 56\n",
    "score3 = 42\n",
    "score4 = 74\n",
    "score5 = 86\n",
    "print((score1 + score2 + score3 + score4 + score5) / 5)"
   ]
  }
 ],
 "metadata": {
  "language_info": {
   "codemirror_mode": {
    "name": "ipython",
    "version": 3
   },
   "file_extension": ".py",
   "mimetype": "text/x-python",
   "name": "python",
   "nbconvert_exporter": "python",
   "pygments_lexer": "ipython3",
   "version": "3.10.12"
  }
 },
 "nbformat": 4,
 "nbformat_minor": 2
}
