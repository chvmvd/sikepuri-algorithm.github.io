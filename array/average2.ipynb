{
 "cells": [
  {
   "cell_type": "code",
   "execution_count": 1,
   "metadata": {
    "execution": {
     "iopub.execute_input": "2023-10-22T04:38:17.510832Z",
     "iopub.status.busy": "2023-10-22T04:38:17.510424Z",
     "iopub.status.idle": "2023-10-22T04:38:17.522195Z",
     "shell.execute_reply": "2023-10-22T04:38:17.521457Z"
    }
   },
   "outputs": [
    {
     "name": "stdout",
     "output_type": "stream",
     "text": [
      "70.8\n"
     ]
    }
   ],
   "source": [
    "scores = [96, 56, 42, 74, 86]\n",
    "print((scores[0] + scores[1] + scores[2] + scores[3] + scores[4]) / 5)"
   ]
  }
 ],
 "metadata": {
  "language_info": {
   "codemirror_mode": {
    "name": "ipython",
    "version": 3
   },
   "file_extension": ".py",
   "mimetype": "text/x-python",
   "name": "python",
   "nbconvert_exporter": "python",
   "pygments_lexer": "ipython3",
   "version": "3.10.13"
  }
 },
 "nbformat": 4,
 "nbformat_minor": 2
}
