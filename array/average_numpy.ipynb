{
 "cells": [
  {
   "cell_type": "code",
   "execution_count": 1,
   "metadata": {
    "execution": {
     "iopub.execute_input": "2023-02-04T04:09:51.353294Z",
     "iopub.status.busy": "2023-02-04T04:09:51.353080Z",
     "iopub.status.idle": "2023-02-04T04:09:51.411126Z",
     "shell.execute_reply": "2023-02-04T04:09:51.410487Z"
    }
   },
   "outputs": [
    {
     "name": "stdout",
     "output_type": "stream",
     "text": [
      "40.2\n"
     ]
    }
   ],
   "source": [
    "import numpy\n",
    "\n",
    "scores = [26, 78, 83, 20, 10, 11, 22, 16, 41, 95]\n",
    "print(numpy.mean(scores))"
   ]
  }
 ],
 "metadata": {
  "language_info": {
   "codemirror_mode": {
    "name": "ipython",
    "version": 3
   },
   "file_extension": ".py",
   "mimetype": "text/x-python",
   "name": "python",
   "nbconvert_exporter": "python",
   "pygments_lexer": "ipython3",
   "version": "3.10.9"
  }
 },
 "nbformat": 4,
 "nbformat_minor": 2
}
