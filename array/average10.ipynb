{
 "cells": [
  {
   "cell_type": "code",
   "execution_count": 1,
   "metadata": {
    "execution": {
     "iopub.execute_input": "2023-02-03T08:20:58.312739Z",
     "iopub.status.busy": "2023-02-03T08:20:58.312319Z",
     "iopub.status.idle": "2023-02-03T08:20:58.322526Z",
     "shell.execute_reply": "2023-02-03T08:20:58.321816Z"
    }
   },
   "outputs": [
    {
     "name": "stdout",
     "output_type": "stream",
     "text": [
      "40.2\n"
     ]
    }
   ],
   "source": [
    "def average(scores):\n",
    "    sum = 0\n",
    "    for i in range(len(scores)):\n",
    "        sum += scores[i]\n",
    "    return sum / len(scores)\n",
    "\n",
    "\n",
    "scores = [26, 78, 83, 20, 10, 11, 22, 16, 41, 95]\n",
    "print(average(scores))"
   ]
  }
 ],
 "metadata": {
  "language_info": {
   "codemirror_mode": {
    "name": "ipython",
    "version": 3
   },
   "file_extension": ".py",
   "mimetype": "text/x-python",
   "name": "python",
   "nbconvert_exporter": "python",
   "pygments_lexer": "ipython3",
   "version": "3.10.9"
  }
 },
 "nbformat": 4,
 "nbformat_minor": 2
}
