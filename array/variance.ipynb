{
 "cells": [
  {
   "cell_type": "code",
   "execution_count": 1,
   "metadata": {
    "execution": {
     "iopub.execute_input": "2023-02-03T08:21:15.039023Z",
     "iopub.status.busy": "2023-02-03T08:21:15.038448Z",
     "iopub.status.idle": "2023-02-03T08:21:15.049326Z",
     "shell.execute_reply": "2023-02-03T08:21:15.048417Z"
    }
   },
   "outputs": [
    {
     "name": "stdout",
     "output_type": "stream",
     "text": [
      "955.5600000000001\n"
     ]
    }
   ],
   "source": [
    "def average(scores):\n",
    "    sum = 0\n",
    "    for i in range(len(scores)):\n",
    "        sum += scores[i]\n",
    "    return sum / len(scores)\n",
    "\n",
    "\n",
    "def variance(scores):\n",
    "    sum = 0\n",
    "    calculated_average = average(scores)\n",
    "    for i in range(len(scores)):\n",
    "        sum += (scores[i] - calculated_average) ** 2\n",
    "    return sum / len(scores)\n",
    "\n",
    "\n",
    "scores = [26, 78, 83, 20, 10, 11, 22, 16, 41, 95]\n",
    "print(variance(scores))"
   ]
  }
 ],
 "metadata": {
  "language_info": {
   "codemirror_mode": {
    "name": "ipython",
    "version": 3
   },
   "file_extension": ".py",
   "mimetype": "text/x-python",
   "name": "python",
   "nbconvert_exporter": "python",
   "pygments_lexer": "ipython3",
   "version": "3.10.9"
  }
 },
 "nbformat": 4,
 "nbformat_minor": 2
}
