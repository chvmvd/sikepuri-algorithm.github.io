{
 "cells": [
  {
   "cell_type": "code",
   "execution_count": 1,
   "metadata": {
    "execution": {
     "iopub.execute_input": "2023-04-30T05:23:39.822088Z",
     "iopub.status.busy": "2023-04-30T05:23:39.821828Z",
     "iopub.status.idle": "2023-04-30T05:23:39.832609Z",
     "shell.execute_reply": "2023-04-30T05:23:39.831872Z"
    }
   },
   "outputs": [
    {
     "name": "stdout",
     "output_type": "stream",
     "text": [
      "955.5600000000001\n"
     ]
    }
   ],
   "source": [
    "def average(scores):\n",
    "    sum_val = 0\n",
    "    for i in range(len(scores)):\n",
    "        sum_val += scores[i]\n",
    "    return sum_val / len(scores)\n",
    "\n",
    "\n",
    "def variance(scores):\n",
    "    sum_val = 0\n",
    "    calculated_average = average(scores)\n",
    "    for i in range(len(scores)):\n",
    "        sum_val += (scores[i] - calculated_average) ** 2\n",
    "    return sum_val / len(scores)\n",
    "\n",
    "\n",
    "scores = [26, 78, 83, 20, 10, 11, 22, 16, 41, 95]\n",
    "print(variance(scores))"
   ]
  }
 ],
 "metadata": {
  "language_info": {
   "codemirror_mode": {
    "name": "ipython",
    "version": 3
   },
   "file_extension": ".py",
   "mimetype": "text/x-python",
   "name": "python",
   "nbconvert_exporter": "python",
   "pygments_lexer": "ipython3",
   "version": "3.10.11"
  }
 },
 "nbformat": 4,
 "nbformat_minor": 2
}
