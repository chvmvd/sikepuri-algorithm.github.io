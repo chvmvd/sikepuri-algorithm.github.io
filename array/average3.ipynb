{
 "cells": [
  {
   "cell_type": "code",
   "execution_count": 1,
   "metadata": {
    "execution": {
     "iopub.execute_input": "2023-02-06T23:28:47.576819Z",
     "iopub.status.busy": "2023-02-06T23:28:47.576561Z",
     "iopub.status.idle": "2023-02-06T23:28:47.587588Z",
     "shell.execute_reply": "2023-02-06T23:28:47.586740Z"
    }
   },
   "outputs": [
    {
     "name": "stdout",
     "output_type": "stream",
     "text": [
      "70.8\n"
     ]
    }
   ],
   "source": [
    "scores = [96, 56, 42, 74, 86]\n",
    "sum_val = 0\n",
    "for i in range(len(scores)):\n",
    "    sum_val += scores[i]\n",
    "print(sum_val / 5)"
   ]
  }
 ],
 "metadata": {
  "language_info": {
   "codemirror_mode": {
    "name": "ipython",
    "version": 3
   },
   "file_extension": ".py",
   "mimetype": "text/x-python",
   "name": "python",
   "nbconvert_exporter": "python",
   "pygments_lexer": "ipython3",
   "version": "3.10.9"
  }
 },
 "nbformat": 4,
 "nbformat_minor": 2
}
