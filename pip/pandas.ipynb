{
 "cells": [
  {
   "cell_type": "code",
   "execution_count": 1,
   "metadata": {
    "execution": {
     "iopub.execute_input": "2023-02-07T03:32:51.389473Z",
     "iopub.status.busy": "2023-02-07T03:32:51.389270Z",
     "iopub.status.idle": "2023-02-07T03:32:52.617397Z",
     "shell.execute_reply": "2023-02-07T03:32:52.616603Z"
    }
   },
   "outputs": [
    {
     "name": "stdout",
     "output_type": "stream",
     "text": [
      "Requirement already satisfied: pandas in /home/runner/.cache/pypoetry/virtualenvs/sikepuri-of-algorithm-327BGRWj-py3.10/lib/python3.10/site-packages (1.5.3)\r\n",
      "Requirement already satisfied: pytz>=2020.1 in /home/runner/.cache/pypoetry/virtualenvs/sikepuri-of-algorithm-327BGRWj-py3.10/lib/python3.10/site-packages (from pandas) (2022.7.1)\r\n",
      "Requirement already satisfied: python-dateutil>=2.8.1 in /home/runner/.cache/pypoetry/virtualenvs/sikepuri-of-algorithm-327BGRWj-py3.10/lib/python3.10/site-packages (from pandas) (2.8.2)\r\n",
      "Requirement already satisfied: numpy>=1.21.0 in /home/runner/.cache/pypoetry/virtualenvs/sikepuri-of-algorithm-327BGRWj-py3.10/lib/python3.10/site-packages (from pandas) (1.24.1)\r\n",
      "Requirement already satisfied: six>=1.5 in /home/runner/.cache/pypoetry/virtualenvs/sikepuri-of-algorithm-327BGRWj-py3.10/lib/python3.10/site-packages (from python-dateutil>=2.8.1->pandas) (1.16.0)\r\n",
      "\r\n",
      "\u001b[1m[\u001b[0m\u001b[34;49mnotice\u001b[0m\u001b[1;39;49m]\u001b[0m\u001b[39;49m A new release of pip available: \u001b[0m\u001b[31;49m22.3.1\u001b[0m\u001b[39;49m -> \u001b[0m\u001b[32;49m23.0\u001b[0m\r\n",
      "\u001b[1m[\u001b[0m\u001b[34;49mnotice\u001b[0m\u001b[1;39;49m]\u001b[0m\u001b[39;49m To update, run: \u001b[0m\u001b[32;49mpip install --upgrade pip\u001b[0m\r\n"
     ]
    }
   ],
   "source": [
    "!pip install pandas"
   ]
  },
  {
   "cell_type": "code",
   "execution_count": 2,
   "metadata": {
    "execution": {
     "iopub.execute_input": "2023-02-07T03:32:52.621115Z",
     "iopub.status.busy": "2023-02-07T03:32:52.620587Z",
     "iopub.status.idle": "2023-02-07T03:32:52.872808Z",
     "shell.execute_reply": "2023-02-07T03:32:52.872162Z"
    }
   },
   "outputs": [],
   "source": [
    "import pandas as pd"
   ]
  },
  {
   "cell_type": "code",
   "execution_count": 3,
   "metadata": {
    "execution": {
     "iopub.execute_input": "2023-02-07T03:32:52.876019Z",
     "iopub.status.busy": "2023-02-07T03:32:52.875607Z",
     "iopub.status.idle": "2023-02-07T03:32:52.880531Z",
     "shell.execute_reply": "2023-02-07T03:32:52.879884Z"
    }
   },
   "outputs": [
    {
     "name": "stdout",
     "output_type": "stream",
     "text": [
      "0    0\n",
      "1    1\n",
      "2    2\n",
      "dtype: int64\n"
     ]
    }
   ],
   "source": [
    "s1 = pd.Series([0, 1, 2])\n",
    "print(s1)"
   ]
  }
 ],
 "metadata": {
  "language_info": {
   "codemirror_mode": {
    "name": "ipython",
    "version": 3
   },
   "file_extension": ".py",
   "mimetype": "text/x-python",
   "name": "python",
   "nbconvert_exporter": "python",
   "pygments_lexer": "ipython3",
   "version": "3.10.9"
  }
 },
 "nbformat": 4,
 "nbformat_minor": 2
}
