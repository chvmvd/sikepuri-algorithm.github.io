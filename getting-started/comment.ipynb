{
 "cells": [
  {
   "cell_type": "code",
   "execution_count": 1,
   "metadata": {
    "execution": {
     "iopub.execute_input": "2023-02-04T04:27:12.380199Z",
     "iopub.status.busy": "2023-02-04T04:27:12.379985Z",
     "iopub.status.idle": "2023-02-04T04:27:12.387146Z",
     "shell.execute_reply": "2023-02-04T04:27:12.386626Z"
    }
   },
   "outputs": [
    {
     "name": "stdout",
     "output_type": "stream",
     "text": [
      "Hello World!\n"
     ]
    }
   ],
   "source": [
    "# この部分はコメントです。\n",
    "print(\"Hello World!\")  # この部分もコメントです。"
   ]
  }
 ],
 "metadata": {
  "language_info": {
   "codemirror_mode": {
    "name": "ipython",
    "version": 3
   },
   "file_extension": ".py",
   "mimetype": "text/x-python",
   "name": "python",
   "nbconvert_exporter": "python",
   "pygments_lexer": "ipython3",
   "version": "3.10.9"
  }
 },
 "nbformat": 4,
 "nbformat_minor": 2
}
