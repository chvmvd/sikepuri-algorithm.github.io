{
 "cells": [
  {
   "cell_type": "code",
   "execution_count": 1,
   "metadata": {
    "execution": {
     "iopub.execute_input": "2023-02-06T07:47:54.060476Z",
     "iopub.status.busy": "2023-02-06T07:47:54.060226Z",
     "iopub.status.idle": "2023-02-06T07:47:54.069493Z",
     "shell.execute_reply": "2023-02-06T07:47:54.068911Z"
    }
   },
   "outputs": [
    {
     "name": "stdout",
     "output_type": "stream",
     "text": [
      "10000\n"
     ]
    }
   ],
   "source": [
    "def g(cnt, n):\n",
    "    for _ in range(n):\n",
    "        cnt += 1\n",
    "    return cnt\n",
    "\n",
    "\n",
    "def f(n):\n",
    "    cnt = 0\n",
    "    for _ in range(n):\n",
    "        cnt = g(cnt, n)\n",
    "    return cnt\n",
    "\n",
    "\n",
    "print(f(100))"
   ]
  }
 ],
 "metadata": {
  "language_info": {
   "codemirror_mode": {
    "name": "ipython",
    "version": 3
   },
   "file_extension": ".py",
   "mimetype": "text/x-python",
   "name": "python",
   "nbconvert_exporter": "python",
   "pygments_lexer": "ipython3",
   "version": "3.10.9"
  }
 },
 "nbformat": 4,
 "nbformat_minor": 2
}
