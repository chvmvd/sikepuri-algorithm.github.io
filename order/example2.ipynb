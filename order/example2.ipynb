{
 "cells": [
  {
   "cell_type": "code",
   "execution_count": 1,
   "metadata": {
    "execution": {
     "iopub.execute_input": "2023-10-22T04:41:53.990784Z",
     "iopub.status.busy": "2023-10-22T04:41:53.990217Z",
     "iopub.status.idle": "2023-10-22T04:41:53.999740Z",
     "shell.execute_reply": "2023-10-22T04:41:53.998554Z"
    }
   },
   "outputs": [
    {
     "name": "stdout",
     "output_type": "stream",
     "text": [
      "10000\n"
     ]
    }
   ],
   "source": [
    "def f(n):\n",
    "    cnt = 0\n",
    "    for _ in range(n):\n",
    "        for _ in range(n):\n",
    "            cnt += 1\n",
    "    return cnt\n",
    "\n",
    "\n",
    "print(f(100))"
   ]
  }
 ],
 "metadata": {
  "language_info": {
   "codemirror_mode": {
    "name": "ipython",
    "version": 3
   },
   "file_extension": ".py",
   "mimetype": "text/x-python",
   "name": "python",
   "nbconvert_exporter": "python",
   "pygments_lexer": "ipython3",
   "version": "3.10.13"
  }
 },
 "nbformat": 4,
 "nbformat_minor": 2
}
