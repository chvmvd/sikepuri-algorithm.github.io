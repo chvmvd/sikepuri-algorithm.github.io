{
 "cells": [
  {
   "cell_type": "code",
   "execution_count": 1,
   "metadata": {
    "execution": {
     "iopub.execute_input": "2023-04-30T06:13:24.243401Z",
     "iopub.status.busy": "2023-04-30T06:13:24.243192Z",
     "iopub.status.idle": "2023-04-30T06:13:24.252568Z",
     "shell.execute_reply": "2023-04-30T06:13:24.251992Z"
    }
   },
   "outputs": [
    {
     "name": "stdout",
     "output_type": "stream",
     "text": [
      "10000\n"
     ]
    }
   ],
   "source": [
    "def f(n):\n",
    "    cnt = 0\n",
    "    for _ in range(n):\n",
    "        for _ in range(n):\n",
    "            cnt += 1\n",
    "    return cnt\n",
    "\n",
    "\n",
    "print(f(100))"
   ]
  }
 ],
 "metadata": {
  "language_info": {
   "codemirror_mode": {
    "name": "ipython",
    "version": 3
   },
   "file_extension": ".py",
   "mimetype": "text/x-python",
   "name": "python",
   "nbconvert_exporter": "python",
   "pygments_lexer": "ipython3",
   "version": "3.10.11"
  }
 },
 "nbformat": 4,
 "nbformat_minor": 2
}
