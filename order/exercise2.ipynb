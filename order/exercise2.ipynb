{
 "cells": [
  {
   "cell_type": "code",
   "execution_count": 1,
   "metadata": {
    "execution": {
     "iopub.execute_input": "2023-02-04T07:20:03.373552Z",
     "iopub.status.busy": "2023-02-04T07:20:03.373292Z",
     "iopub.status.idle": "2023-02-04T07:20:03.382005Z",
     "shell.execute_reply": "2023-02-04T07:20:03.381327Z"
    }
   },
   "outputs": [
    {
     "name": "stdout",
     "output_type": "stream",
     "text": [
      "5\n"
     ]
    }
   ],
   "source": [
    "def calc_max(data):\n",
    "    max_val = data[0]\n",
    "    for i in range(1, len(data)):\n",
    "        if max_val < data[i]:\n",
    "            max_val = data[i]\n",
    "    return max_val\n",
    "\n",
    "\n",
    "print(calc_max([1, 4, 3, 5, 2]))"
   ]
  }
 ],
 "metadata": {
  "language_info": {
   "codemirror_mode": {
    "name": "ipython",
    "version": 3
   },
   "file_extension": ".py",
   "mimetype": "text/x-python",
   "name": "python",
   "nbconvert_exporter": "python",
   "pygments_lexer": "ipython3",
   "version": "3.10.9"
  }
 },
 "nbformat": 4,
 "nbformat_minor": 2
}
