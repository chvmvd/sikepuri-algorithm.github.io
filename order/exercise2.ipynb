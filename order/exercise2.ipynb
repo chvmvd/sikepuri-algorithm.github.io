{
 "cells": [
  {
   "cell_type": "code",
   "execution_count": 1,
   "metadata": {
    "execution": {
     "iopub.execute_input": "2023-04-30T12:20:50.582132Z",
     "iopub.status.busy": "2023-04-30T12:20:50.581507Z",
     "iopub.status.idle": "2023-04-30T12:20:50.591640Z",
     "shell.execute_reply": "2023-04-30T12:20:50.590846Z"
    }
   },
   "outputs": [
    {
     "name": "stdout",
     "output_type": "stream",
     "text": [
      "5\n"
     ]
    }
   ],
   "source": [
    "def calc_max(data):\n",
    "    max_val = data[0]\n",
    "    for i in range(1, len(data)):\n",
    "        if max_val < data[i]:\n",
    "            max_val = data[i]\n",
    "    return max_val\n",
    "\n",
    "\n",
    "print(calc_max([1, 4, 3, 5, 2]))"
   ]
  }
 ],
 "metadata": {
  "language_info": {
   "codemirror_mode": {
    "name": "ipython",
    "version": 3
   },
   "file_extension": ".py",
   "mimetype": "text/x-python",
   "name": "python",
   "nbconvert_exporter": "python",
   "pygments_lexer": "ipython3",
   "version": "3.10.11"
  }
 },
 "nbformat": 4,
 "nbformat_minor": 2
}
