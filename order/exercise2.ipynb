{
 "cells": [
  {
   "cell_type": "code",
   "execution_count": 1,
   "metadata": {
    "execution": {
     "iopub.execute_input": "2023-02-07T03:24:20.102033Z",
     "iopub.status.busy": "2023-02-07T03:24:20.101776Z",
     "iopub.status.idle": "2023-02-07T03:24:20.111635Z",
     "shell.execute_reply": "2023-02-07T03:24:20.111066Z"
    }
   },
   "outputs": [
    {
     "name": "stdout",
     "output_type": "stream",
     "text": [
      "5\n"
     ]
    }
   ],
   "source": [
    "def calc_max(data):\n",
    "    max_val = data[0]\n",
    "    for i in range(1, len(data)):\n",
    "        if max_val < data[i]:\n",
    "            max_val = data[i]\n",
    "    return max_val\n",
    "\n",
    "\n",
    "print(calc_max([1, 4, 3, 5, 2]))"
   ]
  }
 ],
 "metadata": {
  "language_info": {
   "codemirror_mode": {
    "name": "ipython",
    "version": 3
   },
   "file_extension": ".py",
   "mimetype": "text/x-python",
   "name": "python",
   "nbconvert_exporter": "python",
   "pygments_lexer": "ipython3",
   "version": "3.10.9"
  }
 },
 "nbformat": 4,
 "nbformat_minor": 2
}
