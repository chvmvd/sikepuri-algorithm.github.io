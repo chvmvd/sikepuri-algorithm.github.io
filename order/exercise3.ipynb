{
 "cells": [
  {
   "cell_type": "code",
   "execution_count": 1,
   "metadata": {
    "execution": {
     "iopub.execute_input": "2023-02-03T09:01:35.832518Z",
     "iopub.status.busy": "2023-02-03T09:01:35.832224Z",
     "iopub.status.idle": "2023-02-03T09:01:35.845803Z",
     "shell.execute_reply": "2023-02-03T09:01:35.844767Z"
    }
   },
   "outputs": [
    {
     "name": "stdout",
     "output_type": "stream",
     "text": [
      "81\n"
     ]
    }
   ],
   "source": [
    "def calc_square(n):\n",
    "    return n**2\n",
    "\n",
    "\n",
    "print(calc_square(9))"
   ]
  }
 ],
 "metadata": {
  "language_info": {
   "codemirror_mode": {
    "name": "ipython",
    "version": 3
   },
   "file_extension": ".py",
   "mimetype": "text/x-python",
   "name": "python",
   "nbconvert_exporter": "python",
   "pygments_lexer": "ipython3",
   "version": "3.10.9"
  }
 },
 "nbformat": 4,
 "nbformat_minor": 2
}
