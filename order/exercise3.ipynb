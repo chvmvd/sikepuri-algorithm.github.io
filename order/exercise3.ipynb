{
 "cells": [
  {
   "cell_type": "code",
   "execution_count": 1,
   "metadata": {
    "execution": {
     "iopub.execute_input": "2023-02-06T06:26:42.253292Z",
     "iopub.status.busy": "2023-02-06T06:26:42.253087Z",
     "iopub.status.idle": "2023-02-06T06:26:42.261994Z",
     "shell.execute_reply": "2023-02-06T06:26:42.261414Z"
    }
   },
   "outputs": [
    {
     "name": "stdout",
     "output_type": "stream",
     "text": [
      "81\n"
     ]
    }
   ],
   "source": [
    "def calc_square(n):\n",
    "    return n**2\n",
    "\n",
    "\n",
    "print(calc_square(9))"
   ]
  }
 ],
 "metadata": {
  "language_info": {
   "codemirror_mode": {
    "name": "ipython",
    "version": 3
   },
   "file_extension": ".py",
   "mimetype": "text/x-python",
   "name": "python",
   "nbconvert_exporter": "python",
   "pygments_lexer": "ipython3",
   "version": "3.10.9"
  }
 },
 "nbformat": 4,
 "nbformat_minor": 2
}
